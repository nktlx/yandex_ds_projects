{
 "cells": [
  {
   "cell_type": "markdown",
   "id": "fa059616",
   "metadata": {
    "deletable": false,
    "id": "c81daeeb"
   },
   "source": [
    "# Проект 2. Исследование надежности заемщиков\n"
   ]
  },
  {
   "cell_type": "markdown",
   "id": "28ae775c",
   "metadata": {},
   "source": [
    "**Описание проекта** \n",
    "\n",
    "Заказчик — кредитный отдел банка. Нужно разобраться, влияет ли семейное положение и количество детей клиента на факт погашения кредита в срок. Входные данные от банка — статистика о платёжеспособности клиентов.\n",
    "Результаты исследования будут учтены при построении модели кредитного скоринга — специальной системы, которая оценивает способность потенциального заёмщика вернуть кредит банку."
   ]
  },
  {
   "cell_type": "markdown",
   "id": "1081b341",
   "metadata": {},
   "source": [
    "**Цель исследования** — выяснить:\n",
    "1. Есть ли зависимость между количеством детей и возвратом кредита в срок?\n",
    "2. Есть ли зависимость между семейным положением и возвратом кредита в срок?\n",
    "3. Есть ли зависимость между уровнем дохода и возвратом кредита в срок? \n",
    "4. Как разные цели кредита влияют на его возврат в срок?"
   ]
  },
  {
   "cell_type": "markdown",
   "id": "85a04e86",
   "metadata": {},
   "source": [
    "**Описание данных:**\n",
    "- `children` — количество детей в семье\n",
    "- `days_employed` — общий трудовой стаж в днях\n",
    "- `dob_years` — возраст клиента в годах\n",
    "- `education` — уровень образования клиента\n",
    "- `education_id` — идентификатор уровня образования\n",
    "- `family_status` — семейное положение\n",
    "- `family_status_id` — идентификатор семейного положения\n",
    "- `gender` — пол клиента\n",
    "- `income_type` — тип занятости\n",
    "- `debt` — имел ли задолженность по возврату кредитов\n",
    "- `total_income` — ежемесячный доход\n",
    "- `purpose` — цель получения кредита"
   ]
  },
  {
   "cell_type": "markdown",
   "id": "3ad4f5c9",
   "metadata": {},
   "source": [
    "**Ход исследования**\n",
    "\n",
    "Данные о с информацией о клиентах получены из файла `data.csv`. О качестве данных ничего не известно. Поэтому перед проверкой зависимостей понадобится обзор данных. \n",
    "\n",
    "Необходимо проверить данные на ошибки и оцените их влияние на исследование. Затем, на этапе предобработки исправить самые критичные ошибки данных.\n",
    " \n",
    "Таким образом, исследование пройдёт в три этапа:\n",
    " 1. Обзор данных.\n",
    " 2. Предобработка данных.\n",
    " 3. Выявление зависимостей."
   ]
  },
  {
   "cell_type": "markdown",
   "id": "5cd4ee08",
   "metadata": {
    "id": "744d7639"
   },
   "source": [
    "## Откроем таблицу и изучим общую информацию о данных"
   ]
  },
  {
   "cell_type": "code",
   "execution_count": 1,
   "id": "c729a3cb",
   "metadata": {
    "deletable": false,
    "id": "7bcf75c9"
   },
   "outputs": [],
   "source": [
    "import pandas as pd"
   ]
  },
  {
   "cell_type": "code",
   "execution_count": 2,
   "id": "319dc364",
   "metadata": {},
   "outputs": [],
   "source": [
    "data = pd.read_csv('data.csv')"
   ]
  },
  {
   "cell_type": "code",
   "execution_count": 3,
   "id": "c03baab1",
   "metadata": {
    "deletable": false,
    "id": "2a7cab99",
    "outputId": "1a8f3ef2-d323-4ec2-ddf7-89670b5944c4"
   },
   "outputs": [
    {
     "data": {
      "text/html": [
       "<div>\n",
       "<style scoped>\n",
       "    .dataframe tbody tr th:only-of-type {\n",
       "        vertical-align: middle;\n",
       "    }\n",
       "\n",
       "    .dataframe tbody tr th {\n",
       "        vertical-align: top;\n",
       "    }\n",
       "\n",
       "    .dataframe thead th {\n",
       "        text-align: right;\n",
       "    }\n",
       "</style>\n",
       "<table border=\"1\" class=\"dataframe\">\n",
       "  <thead>\n",
       "    <tr style=\"text-align: right;\">\n",
       "      <th></th>\n",
       "      <th>children</th>\n",
       "      <th>days_employed</th>\n",
       "      <th>dob_years</th>\n",
       "      <th>education</th>\n",
       "      <th>education_id</th>\n",
       "      <th>family_status</th>\n",
       "      <th>family_status_id</th>\n",
       "      <th>gender</th>\n",
       "      <th>income_type</th>\n",
       "      <th>debt</th>\n",
       "      <th>total_income</th>\n",
       "      <th>purpose</th>\n",
       "    </tr>\n",
       "  </thead>\n",
       "  <tbody>\n",
       "    <tr>\n",
       "      <th>0</th>\n",
       "      <td>1</td>\n",
       "      <td>-8437.673028</td>\n",
       "      <td>42</td>\n",
       "      <td>высшее</td>\n",
       "      <td>0</td>\n",
       "      <td>женат / замужем</td>\n",
       "      <td>0</td>\n",
       "      <td>F</td>\n",
       "      <td>сотрудник</td>\n",
       "      <td>0</td>\n",
       "      <td>253875.639453</td>\n",
       "      <td>покупка жилья</td>\n",
       "    </tr>\n",
       "    <tr>\n",
       "      <th>1</th>\n",
       "      <td>1</td>\n",
       "      <td>-4024.803754</td>\n",
       "      <td>36</td>\n",
       "      <td>среднее</td>\n",
       "      <td>1</td>\n",
       "      <td>женат / замужем</td>\n",
       "      <td>0</td>\n",
       "      <td>F</td>\n",
       "      <td>сотрудник</td>\n",
       "      <td>0</td>\n",
       "      <td>112080.014102</td>\n",
       "      <td>приобретение автомобиля</td>\n",
       "    </tr>\n",
       "    <tr>\n",
       "      <th>2</th>\n",
       "      <td>0</td>\n",
       "      <td>-5623.422610</td>\n",
       "      <td>33</td>\n",
       "      <td>Среднее</td>\n",
       "      <td>1</td>\n",
       "      <td>женат / замужем</td>\n",
       "      <td>0</td>\n",
       "      <td>M</td>\n",
       "      <td>сотрудник</td>\n",
       "      <td>0</td>\n",
       "      <td>145885.952297</td>\n",
       "      <td>покупка жилья</td>\n",
       "    </tr>\n",
       "    <tr>\n",
       "      <th>3</th>\n",
       "      <td>3</td>\n",
       "      <td>-4124.747207</td>\n",
       "      <td>32</td>\n",
       "      <td>среднее</td>\n",
       "      <td>1</td>\n",
       "      <td>женат / замужем</td>\n",
       "      <td>0</td>\n",
       "      <td>M</td>\n",
       "      <td>сотрудник</td>\n",
       "      <td>0</td>\n",
       "      <td>267628.550329</td>\n",
       "      <td>дополнительное образование</td>\n",
       "    </tr>\n",
       "    <tr>\n",
       "      <th>4</th>\n",
       "      <td>0</td>\n",
       "      <td>340266.072047</td>\n",
       "      <td>53</td>\n",
       "      <td>среднее</td>\n",
       "      <td>1</td>\n",
       "      <td>гражданский брак</td>\n",
       "      <td>1</td>\n",
       "      <td>F</td>\n",
       "      <td>пенсионер</td>\n",
       "      <td>0</td>\n",
       "      <td>158616.077870</td>\n",
       "      <td>сыграть свадьбу</td>\n",
       "    </tr>\n",
       "    <tr>\n",
       "      <th>5</th>\n",
       "      <td>0</td>\n",
       "      <td>-926.185831</td>\n",
       "      <td>27</td>\n",
       "      <td>высшее</td>\n",
       "      <td>0</td>\n",
       "      <td>гражданский брак</td>\n",
       "      <td>1</td>\n",
       "      <td>M</td>\n",
       "      <td>компаньон</td>\n",
       "      <td>0</td>\n",
       "      <td>255763.565419</td>\n",
       "      <td>покупка жилья</td>\n",
       "    </tr>\n",
       "    <tr>\n",
       "      <th>6</th>\n",
       "      <td>0</td>\n",
       "      <td>-2879.202052</td>\n",
       "      <td>43</td>\n",
       "      <td>высшее</td>\n",
       "      <td>0</td>\n",
       "      <td>женат / замужем</td>\n",
       "      <td>0</td>\n",
       "      <td>F</td>\n",
       "      <td>компаньон</td>\n",
       "      <td>0</td>\n",
       "      <td>240525.971920</td>\n",
       "      <td>операции с жильем</td>\n",
       "    </tr>\n",
       "    <tr>\n",
       "      <th>7</th>\n",
       "      <td>0</td>\n",
       "      <td>-152.779569</td>\n",
       "      <td>50</td>\n",
       "      <td>СРЕДНЕЕ</td>\n",
       "      <td>1</td>\n",
       "      <td>женат / замужем</td>\n",
       "      <td>0</td>\n",
       "      <td>M</td>\n",
       "      <td>сотрудник</td>\n",
       "      <td>0</td>\n",
       "      <td>135823.934197</td>\n",
       "      <td>образование</td>\n",
       "    </tr>\n",
       "    <tr>\n",
       "      <th>8</th>\n",
       "      <td>2</td>\n",
       "      <td>-6929.865299</td>\n",
       "      <td>35</td>\n",
       "      <td>ВЫСШЕЕ</td>\n",
       "      <td>0</td>\n",
       "      <td>гражданский брак</td>\n",
       "      <td>1</td>\n",
       "      <td>F</td>\n",
       "      <td>сотрудник</td>\n",
       "      <td>0</td>\n",
       "      <td>95856.832424</td>\n",
       "      <td>на проведение свадьбы</td>\n",
       "    </tr>\n",
       "    <tr>\n",
       "      <th>9</th>\n",
       "      <td>0</td>\n",
       "      <td>-2188.756445</td>\n",
       "      <td>41</td>\n",
       "      <td>среднее</td>\n",
       "      <td>1</td>\n",
       "      <td>женат / замужем</td>\n",
       "      <td>0</td>\n",
       "      <td>M</td>\n",
       "      <td>сотрудник</td>\n",
       "      <td>0</td>\n",
       "      <td>144425.938277</td>\n",
       "      <td>покупка жилья для семьи</td>\n",
       "    </tr>\n",
       "    <tr>\n",
       "      <th>10</th>\n",
       "      <td>2</td>\n",
       "      <td>-4171.483647</td>\n",
       "      <td>36</td>\n",
       "      <td>высшее</td>\n",
       "      <td>0</td>\n",
       "      <td>женат / замужем</td>\n",
       "      <td>0</td>\n",
       "      <td>M</td>\n",
       "      <td>компаньон</td>\n",
       "      <td>0</td>\n",
       "      <td>113943.491460</td>\n",
       "      <td>покупка недвижимости</td>\n",
       "    </tr>\n",
       "    <tr>\n",
       "      <th>11</th>\n",
       "      <td>0</td>\n",
       "      <td>-792.701887</td>\n",
       "      <td>40</td>\n",
       "      <td>среднее</td>\n",
       "      <td>1</td>\n",
       "      <td>женат / замужем</td>\n",
       "      <td>0</td>\n",
       "      <td>F</td>\n",
       "      <td>сотрудник</td>\n",
       "      <td>0</td>\n",
       "      <td>77069.234271</td>\n",
       "      <td>покупка коммерческой недвижимости</td>\n",
       "    </tr>\n",
       "    <tr>\n",
       "      <th>12</th>\n",
       "      <td>0</td>\n",
       "      <td>NaN</td>\n",
       "      <td>65</td>\n",
       "      <td>среднее</td>\n",
       "      <td>1</td>\n",
       "      <td>гражданский брак</td>\n",
       "      <td>1</td>\n",
       "      <td>M</td>\n",
       "      <td>пенсионер</td>\n",
       "      <td>0</td>\n",
       "      <td>NaN</td>\n",
       "      <td>сыграть свадьбу</td>\n",
       "    </tr>\n",
       "    <tr>\n",
       "      <th>13</th>\n",
       "      <td>0</td>\n",
       "      <td>-1846.641941</td>\n",
       "      <td>54</td>\n",
       "      <td>неоконченное высшее</td>\n",
       "      <td>2</td>\n",
       "      <td>женат / замужем</td>\n",
       "      <td>0</td>\n",
       "      <td>F</td>\n",
       "      <td>сотрудник</td>\n",
       "      <td>0</td>\n",
       "      <td>130458.228857</td>\n",
       "      <td>приобретение автомобиля</td>\n",
       "    </tr>\n",
       "    <tr>\n",
       "      <th>14</th>\n",
       "      <td>0</td>\n",
       "      <td>-1844.956182</td>\n",
       "      <td>56</td>\n",
       "      <td>высшее</td>\n",
       "      <td>0</td>\n",
       "      <td>гражданский брак</td>\n",
       "      <td>1</td>\n",
       "      <td>F</td>\n",
       "      <td>компаньон</td>\n",
       "      <td>1</td>\n",
       "      <td>165127.911772</td>\n",
       "      <td>покупка жилой недвижимости</td>\n",
       "    </tr>\n",
       "    <tr>\n",
       "      <th>15</th>\n",
       "      <td>1</td>\n",
       "      <td>-972.364419</td>\n",
       "      <td>26</td>\n",
       "      <td>среднее</td>\n",
       "      <td>1</td>\n",
       "      <td>женат / замужем</td>\n",
       "      <td>0</td>\n",
       "      <td>F</td>\n",
       "      <td>сотрудник</td>\n",
       "      <td>0</td>\n",
       "      <td>116820.904450</td>\n",
       "      <td>строительство собственной недвижимости</td>\n",
       "    </tr>\n",
       "    <tr>\n",
       "      <th>16</th>\n",
       "      <td>0</td>\n",
       "      <td>-1719.934226</td>\n",
       "      <td>35</td>\n",
       "      <td>среднее</td>\n",
       "      <td>1</td>\n",
       "      <td>женат / замужем</td>\n",
       "      <td>0</td>\n",
       "      <td>F</td>\n",
       "      <td>сотрудник</td>\n",
       "      <td>0</td>\n",
       "      <td>289202.704229</td>\n",
       "      <td>недвижимость</td>\n",
       "    </tr>\n",
       "    <tr>\n",
       "      <th>17</th>\n",
       "      <td>0</td>\n",
       "      <td>-2369.999720</td>\n",
       "      <td>33</td>\n",
       "      <td>высшее</td>\n",
       "      <td>0</td>\n",
       "      <td>гражданский брак</td>\n",
       "      <td>1</td>\n",
       "      <td>M</td>\n",
       "      <td>сотрудник</td>\n",
       "      <td>0</td>\n",
       "      <td>90410.586745</td>\n",
       "      <td>строительство недвижимости</td>\n",
       "    </tr>\n",
       "    <tr>\n",
       "      <th>18</th>\n",
       "      <td>0</td>\n",
       "      <td>400281.136913</td>\n",
       "      <td>53</td>\n",
       "      <td>среднее</td>\n",
       "      <td>1</td>\n",
       "      <td>вдовец / вдова</td>\n",
       "      <td>2</td>\n",
       "      <td>F</td>\n",
       "      <td>пенсионер</td>\n",
       "      <td>0</td>\n",
       "      <td>56823.777243</td>\n",
       "      <td>на покупку подержанного автомобиля</td>\n",
       "    </tr>\n",
       "    <tr>\n",
       "      <th>19</th>\n",
       "      <td>0</td>\n",
       "      <td>-10038.818549</td>\n",
       "      <td>48</td>\n",
       "      <td>СРЕДНЕЕ</td>\n",
       "      <td>1</td>\n",
       "      <td>в разводе</td>\n",
       "      <td>3</td>\n",
       "      <td>F</td>\n",
       "      <td>сотрудник</td>\n",
       "      <td>0</td>\n",
       "      <td>242831.107982</td>\n",
       "      <td>на покупку своего автомобиля</td>\n",
       "    </tr>\n",
       "  </tbody>\n",
       "</table>\n",
       "</div>"
      ],
      "text/plain": [
       "    children  days_employed  dob_years            education  education_id  \\\n",
       "0          1   -8437.673028         42               высшее             0   \n",
       "1          1   -4024.803754         36              среднее             1   \n",
       "2          0   -5623.422610         33              Среднее             1   \n",
       "3          3   -4124.747207         32              среднее             1   \n",
       "4          0  340266.072047         53              среднее             1   \n",
       "5          0    -926.185831         27               высшее             0   \n",
       "6          0   -2879.202052         43               высшее             0   \n",
       "7          0    -152.779569         50              СРЕДНЕЕ             1   \n",
       "8          2   -6929.865299         35               ВЫСШЕЕ             0   \n",
       "9          0   -2188.756445         41              среднее             1   \n",
       "10         2   -4171.483647         36               высшее             0   \n",
       "11         0    -792.701887         40              среднее             1   \n",
       "12         0            NaN         65              среднее             1   \n",
       "13         0   -1846.641941         54  неоконченное высшее             2   \n",
       "14         0   -1844.956182         56               высшее             0   \n",
       "15         1    -972.364419         26              среднее             1   \n",
       "16         0   -1719.934226         35              среднее             1   \n",
       "17         0   -2369.999720         33               высшее             0   \n",
       "18         0  400281.136913         53              среднее             1   \n",
       "19         0  -10038.818549         48              СРЕДНЕЕ             1   \n",
       "\n",
       "       family_status  family_status_id gender income_type  debt  \\\n",
       "0    женат / замужем                 0      F   сотрудник     0   \n",
       "1    женат / замужем                 0      F   сотрудник     0   \n",
       "2    женат / замужем                 0      M   сотрудник     0   \n",
       "3    женат / замужем                 0      M   сотрудник     0   \n",
       "4   гражданский брак                 1      F   пенсионер     0   \n",
       "5   гражданский брак                 1      M   компаньон     0   \n",
       "6    женат / замужем                 0      F   компаньон     0   \n",
       "7    женат / замужем                 0      M   сотрудник     0   \n",
       "8   гражданский брак                 1      F   сотрудник     0   \n",
       "9    женат / замужем                 0      M   сотрудник     0   \n",
       "10   женат / замужем                 0      M   компаньон     0   \n",
       "11   женат / замужем                 0      F   сотрудник     0   \n",
       "12  гражданский брак                 1      M   пенсионер     0   \n",
       "13   женат / замужем                 0      F   сотрудник     0   \n",
       "14  гражданский брак                 1      F   компаньон     1   \n",
       "15   женат / замужем                 0      F   сотрудник     0   \n",
       "16   женат / замужем                 0      F   сотрудник     0   \n",
       "17  гражданский брак                 1      M   сотрудник     0   \n",
       "18    вдовец / вдова                 2      F   пенсионер     0   \n",
       "19         в разводе                 3      F   сотрудник     0   \n",
       "\n",
       "     total_income                                 purpose  \n",
       "0   253875.639453                           покупка жилья  \n",
       "1   112080.014102                 приобретение автомобиля  \n",
       "2   145885.952297                           покупка жилья  \n",
       "3   267628.550329              дополнительное образование  \n",
       "4   158616.077870                         сыграть свадьбу  \n",
       "5   255763.565419                           покупка жилья  \n",
       "6   240525.971920                       операции с жильем  \n",
       "7   135823.934197                             образование  \n",
       "8    95856.832424                   на проведение свадьбы  \n",
       "9   144425.938277                 покупка жилья для семьи  \n",
       "10  113943.491460                    покупка недвижимости  \n",
       "11   77069.234271       покупка коммерческой недвижимости  \n",
       "12            NaN                         сыграть свадьбу  \n",
       "13  130458.228857                 приобретение автомобиля  \n",
       "14  165127.911772              покупка жилой недвижимости  \n",
       "15  116820.904450  строительство собственной недвижимости  \n",
       "16  289202.704229                            недвижимость  \n",
       "17   90410.586745              строительство недвижимости  \n",
       "18   56823.777243      на покупку подержанного автомобиля  \n",
       "19  242831.107982            на покупку своего автомобиля  "
      ]
     },
     "execution_count": 3,
     "metadata": {},
     "output_type": "execute_result"
    }
   ],
   "source": [
    "data.head(20)"
   ]
  },
  {
   "cell_type": "code",
   "execution_count": 4,
   "id": "76de044c",
   "metadata": {
    "deletable": false,
    "id": "2b757bca",
    "outputId": "15376089-8dad-46c9-b520-c05248d43158"
   },
   "outputs": [
    {
     "name": "stdout",
     "output_type": "stream",
     "text": [
      "<class 'pandas.core.frame.DataFrame'>\n",
      "RangeIndex: 21525 entries, 0 to 21524\n",
      "Data columns (total 12 columns):\n",
      " #   Column            Non-Null Count  Dtype  \n",
      "---  ------            --------------  -----  \n",
      " 0   children          21525 non-null  int64  \n",
      " 1   days_employed     19351 non-null  float64\n",
      " 2   dob_years         21525 non-null  int64  \n",
      " 3   education         21525 non-null  object \n",
      " 4   education_id      21525 non-null  int64  \n",
      " 5   family_status     21525 non-null  object \n",
      " 6   family_status_id  21525 non-null  int64  \n",
      " 7   gender            21525 non-null  object \n",
      " 8   income_type       21525 non-null  object \n",
      " 9   debt              21525 non-null  int64  \n",
      " 10  total_income      19351 non-null  float64\n",
      " 11  purpose           21525 non-null  object \n",
      "dtypes: float64(2), int64(5), object(5)\n",
      "memory usage: 2.0+ MB\n"
     ]
    }
   ],
   "source": [
    "data.info()"
   ]
  },
  {
   "cell_type": "markdown",
   "id": "c14fdeca",
   "metadata": {
    "deletable": false,
    "editable": false,
    "id": "333ec665"
   },
   "source": [
    "## Предобработка данных"
   ]
  },
  {
   "cell_type": "markdown",
   "id": "9ebed2f4",
   "metadata": {
    "deletable": false,
    "editable": false,
    "id": "02d92d53"
   },
   "source": [
    "### Удаление пропусков"
   ]
  },
  {
   "cell_type": "markdown",
   "id": "010d32e3",
   "metadata": {
    "id": "cd84967c"
   },
   "source": [
    "Выведем количество пропущенных значений для каждого столбца."
   ]
  },
  {
   "cell_type": "code",
   "execution_count": 5,
   "id": "cfe5e17b",
   "metadata": {
    "deletable": false,
    "id": "7f9b2309",
    "outputId": "81f4d817-781c-465c-ed15-91ce4446810d"
   },
   "outputs": [
    {
     "data": {
      "text/plain": [
       "children               0\n",
       "days_employed       2174\n",
       "dob_years              0\n",
       "education              0\n",
       "education_id           0\n",
       "family_status          0\n",
       "family_status_id       0\n",
       "gender                 0\n",
       "income_type            0\n",
       "debt                   0\n",
       "total_income        2174\n",
       "purpose                0\n",
       "dtype: int64"
      ]
     },
     "execution_count": 5,
     "metadata": {},
     "output_type": "execute_result"
    }
   ],
   "source": [
    "data.isna().sum()"
   ]
  },
  {
   "cell_type": "markdown",
   "id": "6544c5d3",
   "metadata": {
    "id": "db86e27b"
   },
   "source": [
    "В двух столбцах есть пропущенные значения. Один из них — `days_employed`. Пропуски в этом столбце мы обработаем на следующем этапе. Другой столбец с пропущенными значениями — `total_income` — хранит данные о доходах. На сумму дохода сильнее всего влияет тип занятости, поэтому заполнить пропуски в этом столбце нужно медианным значением по каждому типу из столбца `income_type`. Например, у человека с типом занятости `сотрудник` пропуск в столбце `total_income` должен быть заполнен медианным доходом среди всех записей с тем же типом."
   ]
  },
  {
   "cell_type": "code",
   "execution_count": 6,
   "id": "c935224e",
   "metadata": {
    "deletable": false,
    "id": "42006a93"
   },
   "outputs": [],
   "source": [
    "for t in data['income_type'].unique():\n",
    "    data.loc[(data['income_type'] == t) & (data['total_income'].isna()), 'total_income'] = \\\n",
    "    data.loc[(data['income_type'] == t), 'total_income'].median()"
   ]
  },
  {
   "cell_type": "markdown",
   "id": "0d901c8a",
   "metadata": {
    "deletable": false,
    "editable": false,
    "id": "89da5ece"
   },
   "source": [
    "### Обработка аномальных значений"
   ]
  },
  {
   "cell_type": "markdown",
   "id": "e20641a8",
   "metadata": {
    "id": "57964554"
   },
   "source": [
    "В данных могут встречаться артефакты (аномалии) — значения, которые не отражают действительность и появились по какой-то ошибке. Таким артефактом будет отрицательное количество дней трудового стажа в столбце `days_employed`. Для реальных данных это нормально. Обработаем значения в этом столбце: замените все отрицательные значения положительными с помощью метода `abs()`."
   ]
  },
  {
   "cell_type": "code",
   "execution_count": 7,
   "id": "877c4dae",
   "metadata": {
    "deletable": false,
    "id": "f6f055bf"
   },
   "outputs": [],
   "source": [
    "data['days_employed'] = data['days_employed'].abs()"
   ]
  },
  {
   "cell_type": "markdown",
   "id": "24f607c6",
   "metadata": {
    "id": "6107dd2f"
   },
   "source": [
    "Для каждого типа занятости выведем медианное значение трудового стажа `days_employed` в днях."
   ]
  },
  {
   "cell_type": "code",
   "execution_count": 8,
   "id": "8bb3aa5c",
   "metadata": {
    "deletable": false,
    "id": "85a5faf6",
    "outputId": "801ef80e-522b-4668-f34e-565af7432bcf"
   },
   "outputs": [
    {
     "data": {
      "text/plain": [
       "income_type\n",
       "безработный        366413.652744\n",
       "в декрете            3296.759962\n",
       "госслужащий          2689.368353\n",
       "компаньон            1547.382223\n",
       "пенсионер          365213.306266\n",
       "предприниматель       520.848083\n",
       "сотрудник            1574.202821\n",
       "студент               578.751554\n",
       "Name: days_employed, dtype: float64"
      ]
     },
     "execution_count": 8,
     "metadata": {},
     "output_type": "execute_result"
    }
   ],
   "source": [
    "data.groupby('income_type')['days_employed'].agg('median')"
   ]
  },
  {
   "cell_type": "markdown",
   "id": "0b2b0b60",
   "metadata": {
    "id": "38d1a030"
   },
   "source": [
    "У двух типов (безработные и пенсионеры) получатся аномально большие значения. Исправить такие значения сложно, поэтому оставим их как есть. Тем более этот столбец не понадобится нам для исследования."
   ]
  },
  {
   "cell_type": "markdown",
   "id": "d29e918d",
   "metadata": {
    "id": "d8a9f147"
   },
   "source": [
    "Выведем перечень уникальных значений столбца `children`."
   ]
  },
  {
   "cell_type": "code",
   "execution_count": 9,
   "id": "929ba6e4",
   "metadata": {
    "deletable": false,
    "id": "ef5056eb",
    "outputId": "6975b15c-7f95-4697-d16d-a0c79b657b03"
   },
   "outputs": [
    {
     "data": {
      "text/plain": [
       "array([ 1,  0,  3,  2, -1,  4, 20,  5], dtype=int64)"
      ]
     },
     "execution_count": 9,
     "metadata": {},
     "output_type": "execute_result"
    }
   ],
   "source": [
    "data['children'].unique()"
   ]
  },
  {
   "cell_type": "markdown",
   "id": "40a4fe71",
   "metadata": {
    "id": "40b9ebf2"
   },
   "source": [
    "В столбце `children` есть два аномальных значения. Удалим строки, в которых встречаются такие аномальные значения из датафрейма `data`."
   ]
  },
  {
   "cell_type": "code",
   "execution_count": 10,
   "id": "b76666ec",
   "metadata": {
    "deletable": false,
    "id": "3ff9801d"
   },
   "outputs": [],
   "source": [
    "data = data[(data['children'] != -1) & (data['children'] != 20)]"
   ]
  },
  {
   "cell_type": "markdown",
   "id": "f8bbb40e",
   "metadata": {
    "id": "bbc4d0ce"
   },
   "source": [
    "Ещё раз выведем перечень уникальных значений столбца `children`, чтобы убедиться, что артефакты удалены."
   ]
  },
  {
   "cell_type": "code",
   "execution_count": 11,
   "id": "5bb2383a",
   "metadata": {
    "deletable": false,
    "id": "ad4fa8b7",
    "outputId": "b2097101-d49d-44d9-901b-32a65c9463d1"
   },
   "outputs": [
    {
     "data": {
      "text/plain": [
       "array([1, 0, 3, 2, 4, 5], dtype=int64)"
      ]
     },
     "execution_count": 11,
     "metadata": {},
     "output_type": "execute_result"
    }
   ],
   "source": [
    "data['children'].unique()"
   ]
  },
  {
   "cell_type": "markdown",
   "id": "4bf09448",
   "metadata": {
    "deletable": false,
    "editable": false,
    "id": "75440b63"
   },
   "source": [
    "### Удаление пропусков (продолжение)"
   ]
  },
  {
   "cell_type": "markdown",
   "id": "a6557e95",
   "metadata": {
    "id": "f4ea573f"
   },
   "source": [
    "Заполним пропуски в столбце `days_employed` медианными значениями по каждого типа занятости `income_type`."
   ]
  },
  {
   "cell_type": "code",
   "execution_count": 12,
   "id": "554e718e",
   "metadata": {
    "deletable": false,
    "id": "af6b1a7e"
   },
   "outputs": [],
   "source": [
    "for t in data['income_type'].unique():\n",
    "    data.loc[(data['income_type'] == t) & (data['days_employed'].isna()), 'days_employed'] = \\\n",
    "    data.loc[(data['income_type'] == t), 'days_employed'].median()"
   ]
  },
  {
   "cell_type": "markdown",
   "id": "1613c29f",
   "metadata": {
    "id": "2753f40d"
   },
   "source": [
    "Убедимся, что все пропуски заполнены. Ещё раз выведем количество пропущенных значений для каждого столбца с помощью двух методов."
   ]
  },
  {
   "cell_type": "code",
   "execution_count": 13,
   "id": "c997a4db",
   "metadata": {
    "deletable": false,
    "id": "55f78bc2",
    "outputId": "8da1e4e1-358e-4e87-98c9-f261bce0a7b2"
   },
   "outputs": [
    {
     "data": {
      "text/plain": [
       "children            0\n",
       "days_employed       0\n",
       "dob_years           0\n",
       "education           0\n",
       "education_id        0\n",
       "family_status       0\n",
       "family_status_id    0\n",
       "gender              0\n",
       "income_type         0\n",
       "debt                0\n",
       "total_income        0\n",
       "purpose             0\n",
       "dtype: int64"
      ]
     },
     "execution_count": 13,
     "metadata": {},
     "output_type": "execute_result"
    }
   ],
   "source": [
    "data.isna().sum()"
   ]
  },
  {
   "cell_type": "markdown",
   "id": "6c1d10e3",
   "metadata": {
    "deletable": false,
    "editable": false,
    "id": "ddc81e43"
   },
   "source": [
    "### Изменение типов данных"
   ]
  },
  {
   "cell_type": "markdown",
   "id": "8ce509ce",
   "metadata": {
    "id": "42d19d24"
   },
   "source": [
    "Заменим вещественный тип данных в столбце `total_income` на целочисленный с помощью метода `astype()`."
   ]
  },
  {
   "cell_type": "code",
   "execution_count": 14,
   "id": "bb68d756",
   "metadata": {
    "deletable": false,
    "id": "920b65ad"
   },
   "outputs": [],
   "source": [
    "data['total_income'] = data['total_income'].astype(int)"
   ]
  },
  {
   "cell_type": "markdown",
   "id": "4487aa08",
   "metadata": {
    "deletable": false,
    "editable": false,
    "id": "80c420ba"
   },
   "source": [
    "### Обработка дубликатов"
   ]
  },
  {
   "cell_type": "markdown",
   "id": "3ce1f6b4",
   "metadata": {},
   "source": [
    "Обработаем неявные дубликаты в столбце `education`. В этом столбце есть одни и те же значения, но записанные по-разному: с использованием заглавных и строчных букв. Приведите их к нижнему регистру. Проверим остальные столбцы."
   ]
  },
  {
   "cell_type": "code",
   "execution_count": 15,
   "id": "549da5af",
   "metadata": {
    "deletable": false
   },
   "outputs": [],
   "source": [
    "data['education'] = data['education'].str.lower()"
   ]
  },
  {
   "cell_type": "markdown",
   "id": "dc032c01",
   "metadata": {
    "id": "dc587695"
   },
   "source": [
    "Выведем на экран количество строк-дубликатов в данных. Если такие строки присутствуют, удалим их."
   ]
  },
  {
   "cell_type": "code",
   "execution_count": 16,
   "id": "142db723",
   "metadata": {
    "deletable": false,
    "id": "3ee445e4",
    "outputId": "9684deba-1934-42d1-99e1-cda61740f822"
   },
   "outputs": [
    {
     "data": {
      "text/plain": [
       "71"
      ]
     },
     "execution_count": 16,
     "metadata": {},
     "output_type": "execute_result"
    }
   ],
   "source": [
    "data.duplicated().sum()"
   ]
  },
  {
   "cell_type": "code",
   "execution_count": 17,
   "id": "1b3da6ff",
   "metadata": {
    "deletable": false,
    "id": "8575fe05"
   },
   "outputs": [],
   "source": [
    "data = data.drop_duplicates()"
   ]
  },
  {
   "cell_type": "markdown",
   "id": "928c11c9",
   "metadata": {
    "deletable": false,
    "editable": false,
    "id": "9904cf55"
   },
   "source": [
    "### Категоризация данных"
   ]
  },
  {
   "cell_type": "markdown",
   "id": "71521fa8",
   "metadata": {
    "id": "72fcc8a2"
   },
   "source": [
    "На основании диапазонов, указанных ниже, создадим в датафрейме `data` столбец `total_income_category` с категориями:\n",
    "\n",
    "- 0–30000 — `'E'`;\n",
    "- 30001–50000 — `'D'`;\n",
    "- 50001–200000 — `'C'`;\n",
    "- 200001–1000000 — `'B'`;\n",
    "- 1000001 и выше — `'A'`.\n",
    "\n",
    "\n",
    "Например, кредитополучателю с доходом 25000 нужно назначить категорию `'E'`, а клиенту, получающему 235000, — `'B'`. Используем собственную функцию с именем `categorize_income()` и метод `apply()`."
   ]
  },
  {
   "cell_type": "code",
   "execution_count": 18,
   "id": "e879484a",
   "metadata": {
    "deletable": false,
    "id": "e1771346"
   },
   "outputs": [],
   "source": [
    "def categorize_income(income):\n",
    "    try:\n",
    "        if 0 <= income <= 30000:\n",
    "            return 'E'\n",
    "        elif 30001 <= income <= 50000:\n",
    "            return 'D'\n",
    "        elif 50001 <= income <= 200000:\n",
    "            return 'C'\n",
    "        elif 200001 <= income <= 1000000:\n",
    "            return 'B'\n",
    "        elif income >= 1000001:\n",
    "            return 'A'\n",
    "    except:\n",
    "        pass"
   ]
  },
  {
   "cell_type": "code",
   "execution_count": 19,
   "id": "8a7a7360",
   "metadata": {
    "deletable": false,
    "id": "d5f3586d"
   },
   "outputs": [],
   "source": [
    "data['total_income_category'] = data['total_income'].apply(categorize_income)"
   ]
  },
  {
   "cell_type": "markdown",
   "id": "980ca688",
   "metadata": {
    "id": "dde49b5c"
   },
   "source": [
    "Выведем на экран перечень уникальных целей взятия кредита из столбца `purpose`."
   ]
  },
  {
   "cell_type": "code",
   "execution_count": 20,
   "id": "bec9688d",
   "metadata": {
    "deletable": false,
    "id": "f67ce9b3",
    "outputId": "673c12d9-7d7e-4ae0-9812-c622c89dd244"
   },
   "outputs": [
    {
     "data": {
      "text/plain": [
       "array(['покупка жилья', 'приобретение автомобиля',\n",
       "       'дополнительное образование', 'сыграть свадьбу',\n",
       "       'операции с жильем', 'образование', 'на проведение свадьбы',\n",
       "       'покупка жилья для семьи', 'покупка недвижимости',\n",
       "       'покупка коммерческой недвижимости', 'покупка жилой недвижимости',\n",
       "       'строительство собственной недвижимости', 'недвижимость',\n",
       "       'строительство недвижимости', 'на покупку подержанного автомобиля',\n",
       "       'на покупку своего автомобиля',\n",
       "       'операции с коммерческой недвижимостью',\n",
       "       'строительство жилой недвижимости', 'жилье',\n",
       "       'операции со своей недвижимостью', 'автомобили',\n",
       "       'заняться образованием', 'сделка с подержанным автомобилем',\n",
       "       'получение образования', 'автомобиль', 'свадьба',\n",
       "       'получение дополнительного образования', 'покупка своего жилья',\n",
       "       'операции с недвижимостью', 'получение высшего образования',\n",
       "       'свой автомобиль', 'сделка с автомобилем',\n",
       "       'профильное образование', 'высшее образование',\n",
       "       'покупка жилья для сдачи', 'на покупку автомобиля', 'ремонт жилью',\n",
       "       'заняться высшим образованием'], dtype=object)"
      ]
     },
     "execution_count": 20,
     "metadata": {},
     "output_type": "execute_result"
    }
   ],
   "source": [
    "data['purpose'].unique()"
   ]
  },
  {
   "cell_type": "markdown",
   "id": "64f4974d",
   "metadata": {
    "id": "85d0aef0"
   },
   "source": [
    "Создадим функцию, которая на основании данных из столбца `purpose` сформирует новый столбец `purpose_category`, в который войдут следующие категории:\n",
    "\n",
    "- `'операции с автомобилем'`,\n",
    "- `'операции с недвижимостью'`,\n",
    "- `'проведение свадьбы'`,\n",
    "- `'получение образования'`.\n",
    "\n",
    "Например, если в столбце `purpose` находится подстрока `'на покупку автомобиля'`, то в столбце `purpose_category` должна появиться строка `'операции с автомобилем'`.\n",
    "\n",
    "Используем собственную функцию с именем `categorize_purpose()` и метод `apply()`. Изучим данные в столбце `purpose` и определим, какие подстроки помогут нам правильно определить категорию."
   ]
  },
  {
   "cell_type": "code",
   "execution_count": 21,
   "id": "4ac6429a",
   "metadata": {
    "deletable": false,
    "id": "e149fab4"
   },
   "outputs": [],
   "source": [
    "def categorize_purpose(row):\n",
    "    try:\n",
    "        if 'автом' in row:\n",
    "            return 'операции с автомобилем'\n",
    "        elif 'жил' in row or 'недвиж' in row:\n",
    "            return 'операции с недвижимостью'\n",
    "        elif 'свад' in row:\n",
    "            return 'проведение свадьбы'\n",
    "        elif 'образов' in row:\n",
    "            return 'получение образования'\n",
    "    except:\n",
    "        return 'нет категории'"
   ]
  },
  {
   "cell_type": "code",
   "execution_count": 22,
   "id": "669d1d54",
   "metadata": {
    "deletable": false,
    "id": "bf36e69b"
   },
   "outputs": [],
   "source": [
    "data['purpose_category'] = data['purpose'].apply(categorize_purpose)"
   ]
  },
  {
   "cell_type": "markdown",
   "id": "b88a53d6",
   "metadata": {
    "id": "09b242bf"
   },
   "source": [
    "## Исследуем данные и ответим на вопросы"
   ]
  },
  {
   "cell_type": "markdown",
   "id": "4f61610d",
   "metadata": {
    "id": "c5d66278"
   },
   "source": [
    "### Есть ли зависимость между количеством детей и возвратом кредита в срок?"
   ]
  },
  {
   "cell_type": "markdown",
   "id": "deafb277",
   "metadata": {},
   "source": [
    "Следует проверить количество клиентов в каждой из пресдтавленных групп. Возможно, что данных недостаточно для формулировки каких-либо выводов о зависимости между кол-вом детей и возвратом кредита в срок."
   ]
  },
  {
   "cell_type": "code",
   "execution_count": 23,
   "id": "15473e6e",
   "metadata": {},
   "outputs": [
    {
     "data": {
      "text/plain": [
       "children\n",
       "0    14091\n",
       "1     4808\n",
       "2     2052\n",
       "3      330\n",
       "4       41\n",
       "5        9\n",
       "Name: debt, dtype: int64"
      ]
     },
     "execution_count": 23,
     "metadata": {},
     "output_type": "execute_result"
    }
   ],
   "source": [
    "data.groupby('children')['debt'].count()"
   ]
  },
  {
   "cell_type": "markdown",
   "id": "51c0a8cb",
   "metadata": {},
   "source": [
    "Данная выборка говорит о том, что количество людей в каждой группе слишком сильно отличается. Можно утверждать, что банк имеет гораздо больше клиентов, которые совсем не имеют детей, чем остальных. Клиентов, имеющих 0 детей `14091`, а клиентов имеющих 5 детей всего `9`."
   ]
  },
  {
   "cell_type": "markdown",
   "id": "02876349",
   "metadata": {},
   "source": [
    "Рассмотрим самые многочисленные выборки с 0, 1 и 2-мя детьми. Создадим сводную таблицу, содержащую:\n",
    "* название категории (в зависимости от количества детей)\n",
    "* количество заемщиков (кредитов)\n",
    "* количество должников \n",
    "* средний процент просрочки по категории "
   ]
  },
  {
   "cell_type": "code",
   "execution_count": 24,
   "id": "ce097ef0",
   "metadata": {},
   "outputs": [
    {
     "data": {
      "text/html": [
       "<div>\n",
       "<style scoped>\n",
       "    .dataframe tbody tr th:only-of-type {\n",
       "        vertical-align: middle;\n",
       "    }\n",
       "\n",
       "    .dataframe tbody tr th {\n",
       "        vertical-align: top;\n",
       "    }\n",
       "\n",
       "    .dataframe thead tr th {\n",
       "        text-align: left;\n",
       "    }\n",
       "\n",
       "    .dataframe thead tr:last-of-type th {\n",
       "        text-align: right;\n",
       "    }\n",
       "</style>\n",
       "<table border=\"1\" class=\"dataframe\">\n",
       "  <thead>\n",
       "    <tr>\n",
       "      <th></th>\n",
       "      <th>count</th>\n",
       "      <th>sum</th>\n",
       "      <th>mean</th>\n",
       "    </tr>\n",
       "    <tr>\n",
       "      <th></th>\n",
       "      <th>debt</th>\n",
       "      <th>debt</th>\n",
       "      <th>debt</th>\n",
       "    </tr>\n",
       "    <tr>\n",
       "      <th>children</th>\n",
       "      <th></th>\n",
       "      <th></th>\n",
       "      <th></th>\n",
       "    </tr>\n",
       "  </thead>\n",
       "  <tbody>\n",
       "    <tr>\n",
       "      <th>0</th>\n",
       "      <td>14091</td>\n",
       "      <td>1063</td>\n",
       "      <td>0.075438</td>\n",
       "    </tr>\n",
       "    <tr>\n",
       "      <th>1</th>\n",
       "      <td>4808</td>\n",
       "      <td>444</td>\n",
       "      <td>0.092346</td>\n",
       "    </tr>\n",
       "    <tr>\n",
       "      <th>2</th>\n",
       "      <td>2052</td>\n",
       "      <td>194</td>\n",
       "      <td>0.094542</td>\n",
       "    </tr>\n",
       "  </tbody>\n",
       "</table>\n",
       "</div>"
      ],
      "text/plain": [
       "          count   sum      mean\n",
       "           debt  debt      debt\n",
       "children                       \n",
       "0         14091  1063  0.075438\n",
       "1          4808   444  0.092346\n",
       "2          2052   194  0.094542"
      ]
     },
     "execution_count": 24,
     "metadata": {},
     "output_type": "execute_result"
    }
   ],
   "source": [
    "data_pivot_childrens = data[data['children'] < 3].pivot_table(index='children', \n",
    "                                                              values = 'debt', \n",
    "                                                              aggfunc = ['count', 'sum', 'mean'])\n",
    "data_pivot_childrens"
   ]
  },
  {
   "cell_type": "markdown",
   "id": "fbd93ed6",
   "metadata": {},
   "source": [
    "В данной таблице мы наблюдаем, что с ростом количества детей растет и процент просроченных платежей. Так среди людей, которые не имеют детей просроченных кредитов всего `7.5%` от общего числа кредитов в данной категории, у людей с одним ребенком этот параметр равняется `9.2%`, а у людей с двумя детьми - `9.5%`.\n",
    "\n",
    "Рассмотрим полученные показатели более подробно. Разобьем категории по количеству детей на подкатегории по цели кредита и сравним средний процент просрочки в зависимости от подкатегории. Если в каждой отдельно взятой подкатегории рост невыплат сохраняется, то наши преположения верны."
   ]
  },
  {
   "cell_type": "code",
   "execution_count": 25,
   "id": "0c946bd0",
   "metadata": {},
   "outputs": [
    {
     "data": {
      "text/html": [
       "<div>\n",
       "<style scoped>\n",
       "    .dataframe tbody tr th:only-of-type {\n",
       "        vertical-align: middle;\n",
       "    }\n",
       "\n",
       "    .dataframe tbody tr th {\n",
       "        vertical-align: top;\n",
       "    }\n",
       "\n",
       "    .dataframe thead tr th {\n",
       "        text-align: left;\n",
       "    }\n",
       "\n",
       "    .dataframe thead tr:last-of-type th {\n",
       "        text-align: right;\n",
       "    }\n",
       "</style>\n",
       "<table border=\"1\" class=\"dataframe\">\n",
       "  <thead>\n",
       "    <tr>\n",
       "      <th></th>\n",
       "      <th></th>\n",
       "      <th>count</th>\n",
       "      <th>sum</th>\n",
       "      <th>mean</th>\n",
       "    </tr>\n",
       "    <tr>\n",
       "      <th></th>\n",
       "      <th></th>\n",
       "      <th>debt</th>\n",
       "      <th>debt</th>\n",
       "      <th>debt</th>\n",
       "    </tr>\n",
       "    <tr>\n",
       "      <th>children</th>\n",
       "      <th>purpose_category</th>\n",
       "      <th></th>\n",
       "      <th></th>\n",
       "      <th></th>\n",
       "    </tr>\n",
       "  </thead>\n",
       "  <tbody>\n",
       "    <tr>\n",
       "      <th rowspan=\"4\" valign=\"top\">0</th>\n",
       "      <th>операции с автомобилем</th>\n",
       "      <td>2845</td>\n",
       "      <td>243</td>\n",
       "      <td>0.085413</td>\n",
       "    </tr>\n",
       "    <tr>\n",
       "      <th>операции с недвижимостью</th>\n",
       "      <td>7074</td>\n",
       "      <td>476</td>\n",
       "      <td>0.067289</td>\n",
       "    </tr>\n",
       "    <tr>\n",
       "      <th>получение образования</th>\n",
       "      <td>2642</td>\n",
       "      <td>229</td>\n",
       "      <td>0.086677</td>\n",
       "    </tr>\n",
       "    <tr>\n",
       "      <th>проведение свадьбы</th>\n",
       "      <td>1530</td>\n",
       "      <td>115</td>\n",
       "      <td>0.075163</td>\n",
       "    </tr>\n",
       "    <tr>\n",
       "      <th rowspan=\"4\" valign=\"top\">1</th>\n",
       "      <th>операции с автомобилем</th>\n",
       "      <td>963</td>\n",
       "      <td>103</td>\n",
       "      <td>0.106957</td>\n",
       "    </tr>\n",
       "    <tr>\n",
       "      <th>операции с недвижимостью</th>\n",
       "      <td>2447</td>\n",
       "      <td>200</td>\n",
       "      <td>0.081733</td>\n",
       "    </tr>\n",
       "    <tr>\n",
       "      <th>получение образования</th>\n",
       "      <td>866</td>\n",
       "      <td>90</td>\n",
       "      <td>0.103926</td>\n",
       "    </tr>\n",
       "    <tr>\n",
       "      <th>проведение свадьбы</th>\n",
       "      <td>532</td>\n",
       "      <td>51</td>\n",
       "      <td>0.095865</td>\n",
       "    </tr>\n",
       "    <tr>\n",
       "      <th rowspan=\"4\" valign=\"top\">2</th>\n",
       "      <th>операции с автомобилем</th>\n",
       "      <td>399</td>\n",
       "      <td>48</td>\n",
       "      <td>0.120301</td>\n",
       "    </tr>\n",
       "    <tr>\n",
       "      <th>операции с недвижимостью</th>\n",
       "      <td>1035</td>\n",
       "      <td>88</td>\n",
       "      <td>0.085024</td>\n",
       "    </tr>\n",
       "    <tr>\n",
       "      <th>получение образования</th>\n",
       "      <td>403</td>\n",
       "      <td>46</td>\n",
       "      <td>0.114144</td>\n",
       "    </tr>\n",
       "    <tr>\n",
       "      <th>проведение свадьбы</th>\n",
       "      <td>215</td>\n",
       "      <td>12</td>\n",
       "      <td>0.055814</td>\n",
       "    </tr>\n",
       "  </tbody>\n",
       "</table>\n",
       "</div>"
      ],
      "text/plain": [
       "                                  count  sum      mean\n",
       "                                   debt debt      debt\n",
       "children purpose_category                             \n",
       "0        операции с автомобилем    2845  243  0.085413\n",
       "         операции с недвижимостью  7074  476  0.067289\n",
       "         получение образования     2642  229  0.086677\n",
       "         проведение свадьбы        1530  115  0.075163\n",
       "1        операции с автомобилем     963  103  0.106957\n",
       "         операции с недвижимостью  2447  200  0.081733\n",
       "         получение образования      866   90  0.103926\n",
       "         проведение свадьбы         532   51  0.095865\n",
       "2        операции с автомобилем     399   48  0.120301\n",
       "         операции с недвижимостью  1035   88  0.085024\n",
       "         получение образования      403   46  0.114144\n",
       "         проведение свадьбы         215   12  0.055814"
      ]
     },
     "execution_count": 25,
     "metadata": {},
     "output_type": "execute_result"
    }
   ],
   "source": [
    "data_pivot_childrens = data[data['children'] < 3].pivot_table(index=['children', 'purpose_category'], \n",
    "                                                              values = 'debt', \n",
    "                                                              aggfunc = ['count', 'sum', 'mean'])\n",
    "data_pivot_childrens"
   ]
  },
  {
   "cell_type": "markdown",
   "id": "979113f2",
   "metadata": {},
   "source": [
    "Данная таблица содержит наглядную разницу в паказателях. С ростом количества детей растет и процент просроченных кредитов в каждой из подкатегорий. Например, возьмем цель кредита \"операции с автомобилем\". Клиенты без детей просрачивают в среднем не выплачивают кредит вовремя в `8.5%` случаев, у клиентов с одним ребенком этот показатель равен `10.7%`, а с двумя детьми - `12%`. \n",
    "\n",
    "Однако стоит заметить, что в данных имеется выброс. Для цели кредита \"проведение свадьбы\", среди людей, имеющийх 2 ребенка, средний процент просрочки по кредиту равен `5.6%`, что выбивается из общей логики. Возможно, выброс повился из-за того, что при наличии двух детей кредит на проведение свадьбы берут реже всего.\n",
    "Данный выброс также влияет на общие показатели возврата кредита в срок в зависимости от колиичествава детей. По этой причине разница в категориях людей с одинм и двумя детьми была не такая явная на прошлом этапе аналитики. Посчитаем общие показатели, исключив подкатегорию \"проведение свадьбы\"."
   ]
  },
  {
   "cell_type": "code",
   "execution_count": 26,
   "id": "ded818b1",
   "metadata": {},
   "outputs": [
    {
     "data": {
      "text/html": [
       "<div>\n",
       "<style scoped>\n",
       "    .dataframe tbody tr th:only-of-type {\n",
       "        vertical-align: middle;\n",
       "    }\n",
       "\n",
       "    .dataframe tbody tr th {\n",
       "        vertical-align: top;\n",
       "    }\n",
       "\n",
       "    .dataframe thead tr th {\n",
       "        text-align: left;\n",
       "    }\n",
       "\n",
       "    .dataframe thead tr:last-of-type th {\n",
       "        text-align: right;\n",
       "    }\n",
       "</style>\n",
       "<table border=\"1\" class=\"dataframe\">\n",
       "  <thead>\n",
       "    <tr>\n",
       "      <th></th>\n",
       "      <th>count</th>\n",
       "      <th>sum</th>\n",
       "      <th>mean</th>\n",
       "    </tr>\n",
       "    <tr>\n",
       "      <th></th>\n",
       "      <th>debt</th>\n",
       "      <th>debt</th>\n",
       "      <th>debt</th>\n",
       "    </tr>\n",
       "    <tr>\n",
       "      <th>children</th>\n",
       "      <th></th>\n",
       "      <th></th>\n",
       "      <th></th>\n",
       "    </tr>\n",
       "  </thead>\n",
       "  <tbody>\n",
       "    <tr>\n",
       "      <th>0</th>\n",
       "      <td>12561</td>\n",
       "      <td>948</td>\n",
       "      <td>0.075472</td>\n",
       "    </tr>\n",
       "    <tr>\n",
       "      <th>1</th>\n",
       "      <td>4276</td>\n",
       "      <td>393</td>\n",
       "      <td>0.091908</td>\n",
       "    </tr>\n",
       "    <tr>\n",
       "      <th>2</th>\n",
       "      <td>1837</td>\n",
       "      <td>182</td>\n",
       "      <td>0.099075</td>\n",
       "    </tr>\n",
       "  </tbody>\n",
       "</table>\n",
       "</div>"
      ],
      "text/plain": [
       "          count  sum      mean\n",
       "           debt debt      debt\n",
       "children                      \n",
       "0         12561  948  0.075472\n",
       "1          4276  393  0.091908\n",
       "2          1837  182  0.099075"
      ]
     },
     "execution_count": 26,
     "metadata": {},
     "output_type": "execute_result"
    }
   ],
   "source": [
    "data_pivot_childrens = data[(data['children'] < 3) & \n",
    "                            (data['purpose_category'] != 'проведение свадьбы')].pivot_table(index='children', \n",
    "                                                                                            values = 'debt', \n",
    "                                                                                            aggfunc = ['count', 'sum', 'mean'])\n",
    "data_pivot_childrens"
   ]
  },
  {
   "cell_type": "markdown",
   "id": "5e438581",
   "metadata": {},
   "source": [
    "Исключив из анализа людей, у которых цель кредита \"проведение свадьбы\", мы получили средний процент невыплат по кредиту среди людей с двумя детьми равный `9.9%`, что на `0.4%` выше изначального показателя. При этом значения для клиентов без детей вообще и клиентов с один ребенком пркатически не изменились"
   ]
  },
  {
   "cell_type": "markdown",
   "id": "4a81b9dc",
   "metadata": {},
   "source": [
    "**Вывод:** если рассмотреть самые многочисленные выборки с 0, 1 и 2-мя детьми - можно увидеть, что чем больше у заемщика детей, тем он хуже платит в срок. Клиенты, не имеющие детей, не отдают средства вовремя в среднем в `7.5%` случаев, клиенты с одним ребенком не возвращают деньги в срок в `9.2%` случаев, а с двумия детьми - в `9.9%` случаев.\n",
    "Гипотеза о том, что между количеством детей и возвратом кредита в срок есть зависимость подтвердилась."
   ]
  },
  {
   "cell_type": "markdown",
   "id": "d9efd0ed",
   "metadata": {
    "id": "97be82ca"
   },
   "source": [
    "### Есть ли зависимость между семейным положением и возвратом кредита в срок?"
   ]
  },
  {
   "cell_type": "code",
   "execution_count": 28,
   "id": "0c85778d",
   "metadata": {},
   "outputs": [
    {
     "data": {
      "text/html": [
       "<div>\n",
       "<style scoped>\n",
       "    .dataframe tbody tr th:only-of-type {\n",
       "        vertical-align: middle;\n",
       "    }\n",
       "\n",
       "    .dataframe tbody tr th {\n",
       "        vertical-align: top;\n",
       "    }\n",
       "\n",
       "    .dataframe thead tr th {\n",
       "        text-align: left;\n",
       "    }\n",
       "\n",
       "    .dataframe thead tr:last-of-type th {\n",
       "        text-align: right;\n",
       "    }\n",
       "</style>\n",
       "<table border=\"1\" class=\"dataframe\">\n",
       "  <thead>\n",
       "    <tr>\n",
       "      <th></th>\n",
       "      <th>count</th>\n",
       "      <th>sum</th>\n",
       "      <th>mean</th>\n",
       "    </tr>\n",
       "    <tr>\n",
       "      <th></th>\n",
       "      <th>debt</th>\n",
       "      <th>debt</th>\n",
       "      <th>debt</th>\n",
       "    </tr>\n",
       "    <tr>\n",
       "      <th>family_status</th>\n",
       "      <th></th>\n",
       "      <th></th>\n",
       "      <th></th>\n",
       "    </tr>\n",
       "  </thead>\n",
       "  <tbody>\n",
       "    <tr>\n",
       "      <th>Не женат / не замужем</th>\n",
       "      <td>2796</td>\n",
       "      <td>273</td>\n",
       "      <td>0.097639</td>\n",
       "    </tr>\n",
       "    <tr>\n",
       "      <th>в разводе</th>\n",
       "      <td>1189</td>\n",
       "      <td>84</td>\n",
       "      <td>0.070648</td>\n",
       "    </tr>\n",
       "    <tr>\n",
       "      <th>вдовец / вдова</th>\n",
       "      <td>951</td>\n",
       "      <td>63</td>\n",
       "      <td>0.066246</td>\n",
       "    </tr>\n",
       "    <tr>\n",
       "      <th>гражданский брак</th>\n",
       "      <td>4134</td>\n",
       "      <td>385</td>\n",
       "      <td>0.093130</td>\n",
       "    </tr>\n",
       "    <tr>\n",
       "      <th>женат / замужем</th>\n",
       "      <td>12261</td>\n",
       "      <td>927</td>\n",
       "      <td>0.075606</td>\n",
       "    </tr>\n",
       "  </tbody>\n",
       "</table>\n",
       "</div>"
      ],
      "text/plain": [
       "                       count  sum      mean\n",
       "                        debt debt      debt\n",
       "family_status                              \n",
       "Не женат / не замужем   2796  273  0.097639\n",
       "в разводе               1189   84  0.070648\n",
       "вдовец / вдова           951   63  0.066246\n",
       "гражданский брак        4134  385  0.093130\n",
       "женат / замужем        12261  927  0.075606"
      ]
     },
     "execution_count": 28,
     "metadata": {},
     "output_type": "execute_result"
    }
   ],
   "source": [
    "data_pivot_family_status = data.pivot_table(index='family_status', values = 'debt', aggfunc = ['count', 'sum', 'mean'])\n",
    "data_pivot_family_status"
   ]
  },
  {
   "cell_type": "markdown",
   "id": "d189302a",
   "metadata": {},
   "source": [
    "Можно сказать, что в разных группах средний процент просрочки по кредиту различный. Но в такимх данных сложно выделить какую-либо зависимость. Так, например, люди в статусе \"Не женат / не замужем\" возвращают средства не вовремя в среднем в `9.8%` процентах случаев, а в статусе \"в разводе\" - в `7.1%`. Разница довольно большая несмотря на то, что глобально эти две группе можно отнести к одной большой группе людей не состоящих в официальном браке. Для того, чтобы выявить более явную зависимость между симейным статусом и вовзратом кредита в срок, разделим всех клиентов на тех кто состоит в официальном браке и тех, кто не состоит. Таким образом, в первую группу попадут люди из категории \"женат / замужем\", это 12261 человек, а в другую группу все остальные."
   ]
  },
  {
   "cell_type": "code",
   "execution_count": 29,
   "id": "a0a0967e",
   "metadata": {},
   "outputs": [],
   "source": [
    "def categorize_status(value): # категоризация клиентов по семейному статусу, value - значение family_status_id\n",
    "    try:\n",
    "        if value == 0: # если value = 0, то клиент относится к категории \"женат / замужем\"\n",
    "            return 'состоит в оф. браке'\n",
    "        else:\n",
    "            return 'не состоит в оф. браке'\n",
    "    except:\n",
    "        return 'нет категории'"
   ]
  },
  {
   "cell_type": "code",
   "execution_count": 30,
   "id": "a3430018",
   "metadata": {
    "scrolled": false
   },
   "outputs": [
    {
     "data": {
      "text/html": [
       "<div>\n",
       "<style scoped>\n",
       "    .dataframe tbody tr th:only-of-type {\n",
       "        vertical-align: middle;\n",
       "    }\n",
       "\n",
       "    .dataframe tbody tr th {\n",
       "        vertical-align: top;\n",
       "    }\n",
       "\n",
       "    .dataframe thead th {\n",
       "        text-align: right;\n",
       "    }\n",
       "</style>\n",
       "<table border=\"1\" class=\"dataframe\">\n",
       "  <thead>\n",
       "    <tr style=\"text-align: right;\">\n",
       "      <th></th>\n",
       "      <th>children</th>\n",
       "      <th>days_employed</th>\n",
       "      <th>dob_years</th>\n",
       "      <th>education</th>\n",
       "      <th>education_id</th>\n",
       "      <th>family_status</th>\n",
       "      <th>family_status_id</th>\n",
       "      <th>gender</th>\n",
       "      <th>income_type</th>\n",
       "      <th>debt</th>\n",
       "      <th>total_income</th>\n",
       "      <th>purpose</th>\n",
       "      <th>total_income_category</th>\n",
       "      <th>purpose_category</th>\n",
       "      <th>family_status_category</th>\n",
       "    </tr>\n",
       "  </thead>\n",
       "  <tbody>\n",
       "    <tr>\n",
       "      <th>0</th>\n",
       "      <td>1</td>\n",
       "      <td>8437.673028</td>\n",
       "      <td>42</td>\n",
       "      <td>высшее</td>\n",
       "      <td>0</td>\n",
       "      <td>женат / замужем</td>\n",
       "      <td>0</td>\n",
       "      <td>F</td>\n",
       "      <td>сотрудник</td>\n",
       "      <td>0</td>\n",
       "      <td>253875</td>\n",
       "      <td>покупка жилья</td>\n",
       "      <td>B</td>\n",
       "      <td>операции с недвижимостью</td>\n",
       "      <td>состоит в оф. браке</td>\n",
       "    </tr>\n",
       "    <tr>\n",
       "      <th>1</th>\n",
       "      <td>1</td>\n",
       "      <td>4024.803754</td>\n",
       "      <td>36</td>\n",
       "      <td>среднее</td>\n",
       "      <td>1</td>\n",
       "      <td>женат / замужем</td>\n",
       "      <td>0</td>\n",
       "      <td>F</td>\n",
       "      <td>сотрудник</td>\n",
       "      <td>0</td>\n",
       "      <td>112080</td>\n",
       "      <td>приобретение автомобиля</td>\n",
       "      <td>C</td>\n",
       "      <td>операции с автомобилем</td>\n",
       "      <td>состоит в оф. браке</td>\n",
       "    </tr>\n",
       "    <tr>\n",
       "      <th>2</th>\n",
       "      <td>0</td>\n",
       "      <td>5623.422610</td>\n",
       "      <td>33</td>\n",
       "      <td>среднее</td>\n",
       "      <td>1</td>\n",
       "      <td>женат / замужем</td>\n",
       "      <td>0</td>\n",
       "      <td>M</td>\n",
       "      <td>сотрудник</td>\n",
       "      <td>0</td>\n",
       "      <td>145885</td>\n",
       "      <td>покупка жилья</td>\n",
       "      <td>C</td>\n",
       "      <td>операции с недвижимостью</td>\n",
       "      <td>состоит в оф. браке</td>\n",
       "    </tr>\n",
       "    <tr>\n",
       "      <th>3</th>\n",
       "      <td>3</td>\n",
       "      <td>4124.747207</td>\n",
       "      <td>32</td>\n",
       "      <td>среднее</td>\n",
       "      <td>1</td>\n",
       "      <td>женат / замужем</td>\n",
       "      <td>0</td>\n",
       "      <td>M</td>\n",
       "      <td>сотрудник</td>\n",
       "      <td>0</td>\n",
       "      <td>267628</td>\n",
       "      <td>дополнительное образование</td>\n",
       "      <td>B</td>\n",
       "      <td>получение образования</td>\n",
       "      <td>состоит в оф. браке</td>\n",
       "    </tr>\n",
       "    <tr>\n",
       "      <th>4</th>\n",
       "      <td>0</td>\n",
       "      <td>340266.072047</td>\n",
       "      <td>53</td>\n",
       "      <td>среднее</td>\n",
       "      <td>1</td>\n",
       "      <td>гражданский брак</td>\n",
       "      <td>1</td>\n",
       "      <td>F</td>\n",
       "      <td>пенсионер</td>\n",
       "      <td>0</td>\n",
       "      <td>158616</td>\n",
       "      <td>сыграть свадьбу</td>\n",
       "      <td>C</td>\n",
       "      <td>проведение свадьбы</td>\n",
       "      <td>не состоит в оф. браке</td>\n",
       "    </tr>\n",
       "    <tr>\n",
       "      <th>5</th>\n",
       "      <td>0</td>\n",
       "      <td>926.185831</td>\n",
       "      <td>27</td>\n",
       "      <td>высшее</td>\n",
       "      <td>0</td>\n",
       "      <td>гражданский брак</td>\n",
       "      <td>1</td>\n",
       "      <td>M</td>\n",
       "      <td>компаньон</td>\n",
       "      <td>0</td>\n",
       "      <td>255763</td>\n",
       "      <td>покупка жилья</td>\n",
       "      <td>B</td>\n",
       "      <td>операции с недвижимостью</td>\n",
       "      <td>не состоит в оф. браке</td>\n",
       "    </tr>\n",
       "    <tr>\n",
       "      <th>6</th>\n",
       "      <td>0</td>\n",
       "      <td>2879.202052</td>\n",
       "      <td>43</td>\n",
       "      <td>высшее</td>\n",
       "      <td>0</td>\n",
       "      <td>женат / замужем</td>\n",
       "      <td>0</td>\n",
       "      <td>F</td>\n",
       "      <td>компаньон</td>\n",
       "      <td>0</td>\n",
       "      <td>240525</td>\n",
       "      <td>операции с жильем</td>\n",
       "      <td>B</td>\n",
       "      <td>операции с недвижимостью</td>\n",
       "      <td>состоит в оф. браке</td>\n",
       "    </tr>\n",
       "    <tr>\n",
       "      <th>7</th>\n",
       "      <td>0</td>\n",
       "      <td>152.779569</td>\n",
       "      <td>50</td>\n",
       "      <td>среднее</td>\n",
       "      <td>1</td>\n",
       "      <td>женат / замужем</td>\n",
       "      <td>0</td>\n",
       "      <td>M</td>\n",
       "      <td>сотрудник</td>\n",
       "      <td>0</td>\n",
       "      <td>135823</td>\n",
       "      <td>образование</td>\n",
       "      <td>C</td>\n",
       "      <td>получение образования</td>\n",
       "      <td>состоит в оф. браке</td>\n",
       "    </tr>\n",
       "    <tr>\n",
       "      <th>8</th>\n",
       "      <td>2</td>\n",
       "      <td>6929.865299</td>\n",
       "      <td>35</td>\n",
       "      <td>высшее</td>\n",
       "      <td>0</td>\n",
       "      <td>гражданский брак</td>\n",
       "      <td>1</td>\n",
       "      <td>F</td>\n",
       "      <td>сотрудник</td>\n",
       "      <td>0</td>\n",
       "      <td>95856</td>\n",
       "      <td>на проведение свадьбы</td>\n",
       "      <td>C</td>\n",
       "      <td>проведение свадьбы</td>\n",
       "      <td>не состоит в оф. браке</td>\n",
       "    </tr>\n",
       "    <tr>\n",
       "      <th>9</th>\n",
       "      <td>0</td>\n",
       "      <td>2188.756445</td>\n",
       "      <td>41</td>\n",
       "      <td>среднее</td>\n",
       "      <td>1</td>\n",
       "      <td>женат / замужем</td>\n",
       "      <td>0</td>\n",
       "      <td>M</td>\n",
       "      <td>сотрудник</td>\n",
       "      <td>0</td>\n",
       "      <td>144425</td>\n",
       "      <td>покупка жилья для семьи</td>\n",
       "      <td>C</td>\n",
       "      <td>операции с недвижимостью</td>\n",
       "      <td>состоит в оф. браке</td>\n",
       "    </tr>\n",
       "  </tbody>\n",
       "</table>\n",
       "</div>"
      ],
      "text/plain": [
       "   children  days_employed  dob_years education  education_id  \\\n",
       "0         1    8437.673028         42    высшее             0   \n",
       "1         1    4024.803754         36   среднее             1   \n",
       "2         0    5623.422610         33   среднее             1   \n",
       "3         3    4124.747207         32   среднее             1   \n",
       "4         0  340266.072047         53   среднее             1   \n",
       "5         0     926.185831         27    высшее             0   \n",
       "6         0    2879.202052         43    высшее             0   \n",
       "7         0     152.779569         50   среднее             1   \n",
       "8         2    6929.865299         35    высшее             0   \n",
       "9         0    2188.756445         41   среднее             1   \n",
       "\n",
       "      family_status  family_status_id gender income_type  debt  total_income  \\\n",
       "0   женат / замужем                 0      F   сотрудник     0        253875   \n",
       "1   женат / замужем                 0      F   сотрудник     0        112080   \n",
       "2   женат / замужем                 0      M   сотрудник     0        145885   \n",
       "3   женат / замужем                 0      M   сотрудник     0        267628   \n",
       "4  гражданский брак                 1      F   пенсионер     0        158616   \n",
       "5  гражданский брак                 1      M   компаньон     0        255763   \n",
       "6   женат / замужем                 0      F   компаньон     0        240525   \n",
       "7   женат / замужем                 0      M   сотрудник     0        135823   \n",
       "8  гражданский брак                 1      F   сотрудник     0         95856   \n",
       "9   женат / замужем                 0      M   сотрудник     0        144425   \n",
       "\n",
       "                      purpose total_income_category          purpose_category  \\\n",
       "0               покупка жилья                     B  операции с недвижимостью   \n",
       "1     приобретение автомобиля                     C    операции с автомобилем   \n",
       "2               покупка жилья                     C  операции с недвижимостью   \n",
       "3  дополнительное образование                     B     получение образования   \n",
       "4             сыграть свадьбу                     C        проведение свадьбы   \n",
       "5               покупка жилья                     B  операции с недвижимостью   \n",
       "6           операции с жильем                     B  операции с недвижимостью   \n",
       "7                 образование                     C     получение образования   \n",
       "8       на проведение свадьбы                     C        проведение свадьбы   \n",
       "9     покупка жилья для семьи                     C  операции с недвижимостью   \n",
       "\n",
       "   family_status_category  \n",
       "0     состоит в оф. браке  \n",
       "1     состоит в оф. браке  \n",
       "2     состоит в оф. браке  \n",
       "3     состоит в оф. браке  \n",
       "4  не состоит в оф. браке  \n",
       "5  не состоит в оф. браке  \n",
       "6     состоит в оф. браке  \n",
       "7     состоит в оф. браке  \n",
       "8  не состоит в оф. браке  \n",
       "9     состоит в оф. браке  "
      ]
     },
     "execution_count": 30,
     "metadata": {},
     "output_type": "execute_result"
    }
   ],
   "source": [
    "data['family_status_category'] = data['family_status_id'].apply(categorize_status)\n",
    "data.head(10)"
   ]
  },
  {
   "cell_type": "markdown",
   "id": "a5a18e0c",
   "metadata": {},
   "source": [
    "В отдельном столбце `family_status_category` получили разделение всех клиентов на две категории: \"состоит в оф. браке\" или \"не состоит в оф. браке\"."
   ]
  },
  {
   "cell_type": "code",
   "execution_count": 31,
   "id": "23a6091a",
   "metadata": {},
   "outputs": [
    {
     "data": {
      "text/html": [
       "<div>\n",
       "<style scoped>\n",
       "    .dataframe tbody tr th:only-of-type {\n",
       "        vertical-align: middle;\n",
       "    }\n",
       "\n",
       "    .dataframe tbody tr th {\n",
       "        vertical-align: top;\n",
       "    }\n",
       "\n",
       "    .dataframe thead tr th {\n",
       "        text-align: left;\n",
       "    }\n",
       "\n",
       "    .dataframe thead tr:last-of-type th {\n",
       "        text-align: right;\n",
       "    }\n",
       "</style>\n",
       "<table border=\"1\" class=\"dataframe\">\n",
       "  <thead>\n",
       "    <tr>\n",
       "      <th></th>\n",
       "      <th>count</th>\n",
       "      <th>sum</th>\n",
       "      <th>mean</th>\n",
       "    </tr>\n",
       "    <tr>\n",
       "      <th></th>\n",
       "      <th>debt</th>\n",
       "      <th>debt</th>\n",
       "      <th>debt</th>\n",
       "    </tr>\n",
       "    <tr>\n",
       "      <th>family_status_category</th>\n",
       "      <th></th>\n",
       "      <th></th>\n",
       "      <th></th>\n",
       "    </tr>\n",
       "  </thead>\n",
       "  <tbody>\n",
       "    <tr>\n",
       "      <th>не состоит в оф. браке</th>\n",
       "      <td>9070</td>\n",
       "      <td>805</td>\n",
       "      <td>0.088754</td>\n",
       "    </tr>\n",
       "    <tr>\n",
       "      <th>состоит в оф. браке</th>\n",
       "      <td>12261</td>\n",
       "      <td>927</td>\n",
       "      <td>0.075606</td>\n",
       "    </tr>\n",
       "  </tbody>\n",
       "</table>\n",
       "</div>"
      ],
      "text/plain": [
       "                        count  sum      mean\n",
       "                         debt debt      debt\n",
       "family_status_category                      \n",
       "не состоит в оф. браке   9070  805  0.088754\n",
       "состоит в оф. браке     12261  927  0.075606"
      ]
     },
     "execution_count": 31,
     "metadata": {},
     "output_type": "execute_result"
    }
   ],
   "source": [
    "data_pivot_family_status = data.pivot_table(index='family_status_category', values = 'debt', aggfunc = ['count', 'sum', 'mean'])\n",
    "data_pivot_family_status"
   ]
  },
  {
   "cell_type": "markdown",
   "id": "40516bcb",
   "metadata": {},
   "source": [
    "Получаем, что клиенты, которые не состоят в официальном браке чаще запаздывают с выплатами, их показатель невозврата средств в срок равен `8.9%`, а у клиентов, которые состоят в официальном браке этот показатель равен `7.6%`."
   ]
  },
  {
   "cell_type": "markdown",
   "id": "0660feff",
   "metadata": {},
   "source": [
    "**Вывод:** между семейным положением и возвратом кредита в срок можно пронаблюдать следующую зависимость. Состоящие в официциальном браке клиенты имеют средний процент просрочки платежей равный `7.6%`. У клиентов, которые не состоят в официальном браке, этот показатель равен `8.9%`."
   ]
  },
  {
   "cell_type": "markdown",
   "id": "0190234f",
   "metadata": {
    "id": "1e8b2fca"
   },
   "source": [
    "### Есть ли зависимость между уровнем дохода и возвратом кредита в срок?"
   ]
  },
  {
   "cell_type": "code",
   "execution_count": 32,
   "id": "0d9df4b6",
   "metadata": {
    "deletable": false,
    "id": "cd7e3720"
   },
   "outputs": [
    {
     "data": {
      "text/plain": [
       "18504"
      ]
     },
     "execution_count": 32,
     "metadata": {},
     "output_type": "execute_result"
    }
   ],
   "source": [
    "len(data['total_income'].unique()) # количество уникальных значений в диапозоне зарплат"
   ]
  },
  {
   "cell_type": "markdown",
   "id": "96c523ed",
   "metadata": {},
   "source": [
    "Поскольку в столбце зарплат `total_income` содержит количественные переменные широкого дипозона, то будем оценивать уровень зарплат в соотвествии с ранее созданным столбцом с категориями `total_income_category`."
   ]
  },
  {
   "cell_type": "markdown",
   "id": "4c5654c7",
   "metadata": {},
   "source": [
    "Построим сводную таблицу по выделенным категориям дохода."
   ]
  },
  {
   "cell_type": "code",
   "execution_count": 33,
   "id": "7f31dd34",
   "metadata": {},
   "outputs": [
    {
     "data": {
      "text/html": [
       "<div>\n",
       "<style scoped>\n",
       "    .dataframe tbody tr th:only-of-type {\n",
       "        vertical-align: middle;\n",
       "    }\n",
       "\n",
       "    .dataframe tbody tr th {\n",
       "        vertical-align: top;\n",
       "    }\n",
       "\n",
       "    .dataframe thead tr th {\n",
       "        text-align: left;\n",
       "    }\n",
       "\n",
       "    .dataframe thead tr:last-of-type th {\n",
       "        text-align: right;\n",
       "    }\n",
       "</style>\n",
       "<table border=\"1\" class=\"dataframe\">\n",
       "  <thead>\n",
       "    <tr>\n",
       "      <th></th>\n",
       "      <th>count</th>\n",
       "      <th>sum</th>\n",
       "      <th>mean</th>\n",
       "    </tr>\n",
       "    <tr>\n",
       "      <th></th>\n",
       "      <th>debt</th>\n",
       "      <th>debt</th>\n",
       "      <th>debt</th>\n",
       "    </tr>\n",
       "    <tr>\n",
       "      <th>total_income_category</th>\n",
       "      <th></th>\n",
       "      <th></th>\n",
       "      <th></th>\n",
       "    </tr>\n",
       "  </thead>\n",
       "  <tbody>\n",
       "    <tr>\n",
       "      <th>A</th>\n",
       "      <td>25</td>\n",
       "      <td>2</td>\n",
       "      <td>0.080000</td>\n",
       "    </tr>\n",
       "    <tr>\n",
       "      <th>B</th>\n",
       "      <td>5014</td>\n",
       "      <td>354</td>\n",
       "      <td>0.070602</td>\n",
       "    </tr>\n",
       "    <tr>\n",
       "      <th>C</th>\n",
       "      <td>15921</td>\n",
       "      <td>1353</td>\n",
       "      <td>0.084982</td>\n",
       "    </tr>\n",
       "    <tr>\n",
       "      <th>D</th>\n",
       "      <td>349</td>\n",
       "      <td>21</td>\n",
       "      <td>0.060172</td>\n",
       "    </tr>\n",
       "    <tr>\n",
       "      <th>E</th>\n",
       "      <td>22</td>\n",
       "      <td>2</td>\n",
       "      <td>0.090909</td>\n",
       "    </tr>\n",
       "  </tbody>\n",
       "</table>\n",
       "</div>"
      ],
      "text/plain": [
       "                       count   sum      mean\n",
       "                        debt  debt      debt\n",
       "total_income_category                       \n",
       "A                         25     2  0.080000\n",
       "B                       5014   354  0.070602\n",
       "C                      15921  1353  0.084982\n",
       "D                        349    21  0.060172\n",
       "E                         22     2  0.090909"
      ]
     },
     "execution_count": 33,
     "metadata": {},
     "output_type": "execute_result"
    }
   ],
   "source": [
    "data_pivot_income = data.pivot_table(index='total_income_category', values = 'debt', aggfunc = ['count', 'sum', 'mean'])\n",
    "data_pivot_income"
   ]
  },
  {
   "cell_type": "markdown",
   "id": "56147805",
   "metadata": {},
   "source": [
    "В категориях A, D и E выборка слишком мала для того, чтобы делать какие-либо выводы. Поскольку в категорию B попадают 5014 клиентов, а вкатегорию C попадают 15921 клиентов, то мы можем взять эти две категории для сравнения. В категории B процент клиентов, не возвративших деньги в срок, составляет `7.1%`, а в категории C - `8.5%`."
   ]
  },
  {
   "cell_type": "markdown",
   "id": "6cd9bca0",
   "metadata": {},
   "source": [
    "**Вывод:** в данном примере количество заемщиков во всех категориях кроме B и C несопоставимо меньше, поэтому для выявления зависимости имеет смысл сравнивать только их. Удалось у становить, что клиенты с более высоким доходом, из категории B, запаздывают с выплатами по кредиту гораздо реже, в `7.1%` случаев. Клиенты, у которых доход ниже, из категории C, запаздывают с выплатами в `8.5%` случаев. Таким образом, с ростом дохода растёт и процент кредитов, возвращенных вовремя."
   ]
  },
  {
   "cell_type": "markdown",
   "id": "78f36435",
   "metadata": {
    "id": "99ecbd1f"
   },
   "source": [
    "### Как разные цели кредита влияют на его возврат в срок?"
   ]
  },
  {
   "cell_type": "markdown",
   "id": "59d7cd83",
   "metadata": {
    "deletable": false,
    "id": "2b687290"
   },
   "source": [
    "Проанализируем, созданный ранее столбец с категориями `purpose_category`. Построим сводную таблицу по целям кредита."
   ]
  },
  {
   "cell_type": "code",
   "execution_count": 34,
   "id": "666b8881",
   "metadata": {},
   "outputs": [
    {
     "data": {
      "text/html": [
       "<div>\n",
       "<style scoped>\n",
       "    .dataframe tbody tr th:only-of-type {\n",
       "        vertical-align: middle;\n",
       "    }\n",
       "\n",
       "    .dataframe tbody tr th {\n",
       "        vertical-align: top;\n",
       "    }\n",
       "\n",
       "    .dataframe thead tr th {\n",
       "        text-align: left;\n",
       "    }\n",
       "\n",
       "    .dataframe thead tr:last-of-type th {\n",
       "        text-align: right;\n",
       "    }\n",
       "</style>\n",
       "<table border=\"1\" class=\"dataframe\">\n",
       "  <thead>\n",
       "    <tr>\n",
       "      <th></th>\n",
       "      <th>count</th>\n",
       "      <th>sum</th>\n",
       "      <th>mean</th>\n",
       "    </tr>\n",
       "    <tr>\n",
       "      <th></th>\n",
       "      <th>debt</th>\n",
       "      <th>debt</th>\n",
       "      <th>debt</th>\n",
       "    </tr>\n",
       "    <tr>\n",
       "      <th>purpose_category</th>\n",
       "      <th></th>\n",
       "      <th></th>\n",
       "      <th></th>\n",
       "    </tr>\n",
       "  </thead>\n",
       "  <tbody>\n",
       "    <tr>\n",
       "      <th>операции с автомобилем</th>\n",
       "      <td>4279</td>\n",
       "      <td>400</td>\n",
       "      <td>0.093480</td>\n",
       "    </tr>\n",
       "    <tr>\n",
       "      <th>операции с недвижимостью</th>\n",
       "      <td>10751</td>\n",
       "      <td>780</td>\n",
       "      <td>0.072551</td>\n",
       "    </tr>\n",
       "    <tr>\n",
       "      <th>получение образования</th>\n",
       "      <td>3988</td>\n",
       "      <td>369</td>\n",
       "      <td>0.092528</td>\n",
       "    </tr>\n",
       "    <tr>\n",
       "      <th>проведение свадьбы</th>\n",
       "      <td>2313</td>\n",
       "      <td>183</td>\n",
       "      <td>0.079118</td>\n",
       "    </tr>\n",
       "  </tbody>\n",
       "</table>\n",
       "</div>"
      ],
      "text/plain": [
       "                          count  sum      mean\n",
       "                           debt debt      debt\n",
       "purpose_category                              \n",
       "операции с автомобилем     4279  400  0.093480\n",
       "операции с недвижимостью  10751  780  0.072551\n",
       "получение образования      3988  369  0.092528\n",
       "проведение свадьбы         2313  183  0.079118"
      ]
     },
     "execution_count": 34,
     "metadata": {},
     "output_type": "execute_result"
    }
   ],
   "source": [
    "data_pivot_purpose = data.pivot_table(index='purpose_category', values = 'debt', aggfunc = ['count', 'sum', 'mean'])\n",
    "data_pivot_purpose "
   ]
  },
  {
   "cell_type": "markdown",
   "id": "be191fe3",
   "metadata": {},
   "source": [
    "Из данной таблицы видно, что доля должников менятся в зависимости от цели кредита. Так на \"операции с автомобилем\" приходится `9.3%` должников, что практически равно показателю в категории \"получение образования\" - `9.3%`, разница лишь в сотых долях процента. На \"операции с недвижимостью\" приходится доля должников - `7.3%`, а в категории \"проведение свадьбы\" процент должников составляет `7.9%`."
   ]
  },
  {
   "cell_type": "markdown",
   "id": "da686cba",
   "metadata": {},
   "source": [
    "**Вывод:** цели кредита значительно влияют на показатель просроченных выплат по кредиту. Наибольшая доля должников приходится на цели кредита \"операции с автомобилем\" и \"получение образования\", и составляет `9.3%`. Меньше всего должников среди клиентов, которые брали кредит на \"проведение свадьбы\" - `7.3%` от общего числа клиентов в данной категории."
   ]
  },
  {
   "cell_type": "markdown",
   "id": "0f7616aa",
   "metadata": {
    "id": "6db5255a"
   },
   "source": [
    "## Общий вывод."
   ]
  },
  {
   "cell_type": "markdown",
   "id": "ce3d1168",
   "metadata": {},
   "source": [
    "В ходе исследования была провдеена работа с данными о платежеспособности клиентов. \n",
    "\n",
    "На этапе предобработки мы:\n",
    "- устранили пропуски в столбцах \"days_employed\" и \"total_income\"\n",
    "- удалили анамольные значения из столбца \"children\"\n",
    "- обработали неявные дубликаты в столбце \"education\"\n",
    "- удалили дублирующие строки\n",
    "- разделили всех клиентов на категории по уровню дохода и цели кредита\n",
    "\n",
    "Исследуя обработанные данные, удалось выяснить, что:\n",
    "1. Количество детей влияет на возврат кредита в срок. Если рассмотреть самые многочисленные выборки с 0, 1 и 2-мя детьми - можно увидеть, что чем больше у заемщика детей, тем он хуже платит в срок. Клиенты, не имеющие детей, не отдают средства вовремя в среднем в `7.5%` случаев, клиенты с одним ребенком не возвращают деньги в срок в `9.2%` случаев, а с двумия детьми - в `9.9%` случаев.\n",
    "2. Между семейным положением и возвратом кредита в срок есть следующая зависимость. Состоящие в официциальном браке клиенты имеют средний процент просрочки по платежам равный `7.6%`. У клиентов, которые не состоят в официальном браке, этот показатель равен `8.9%`.\n",
    "3. Клиенты с более высоким доходом, из категории B (доход от 200 т.р. до 1 млн.р.), запаздывают с выплатами по кредиту гораздо реже, в `7.1%` случаев. Клиенты, у которых доход ниже, из категории C (доход от 50 т.р. до 200 т.р.), запаздывают с выплатами в `8.5%`случаев. Таким образом, чем ниже уровень дохода, тем чаще клиенты запаздывают с выплатами по кредиту.\n",
    "4. Цели кредита значительно влияют на показатель просроченных выплат по кредиту. Наибольшая доля должников приходится на цели кредита \"операции с автомобилем\" и \"получение образования\", она составляет `9.3%`. Меньше всего должников среди клиентов, которые брали кредит на \"проведение свадьбы\" - `7.3%` от общего числа клиентов в данной категории. В категории \"проведение свадьбы\" процент должников составляет `7.9%`.\n",
    "\n",
    "На этом исследование можно считать завершенным."
   ]
  }
 ],
 "metadata": {
  "ExecuteTimeLog": [
   {
    "duration": 685,
    "start_time": "2023-02-03T03:24:54.863Z"
   },
   {
    "duration": 65,
    "start_time": "2023-02-03T03:30:03.053Z"
   },
   {
    "duration": 20,
    "start_time": "2023-02-03T03:30:03.120Z"
   },
   {
    "duration": 17,
    "start_time": "2023-02-03T03:30:03.142Z"
   },
   {
    "duration": 14,
    "start_time": "2023-02-03T03:30:03.161Z"
   },
   {
    "duration": 36,
    "start_time": "2023-02-03T03:30:03.176Z"
   },
   {
    "duration": 3,
    "start_time": "2023-02-03T03:30:03.213Z"
   },
   {
    "duration": 34,
    "start_time": "2023-02-03T03:30:03.217Z"
   },
   {
    "duration": 4,
    "start_time": "2023-02-03T03:30:03.252Z"
   },
   {
    "duration": 9,
    "start_time": "2023-02-03T03:30:03.257Z"
   },
   {
    "duration": 4,
    "start_time": "2023-02-03T03:30:03.268Z"
   },
   {
    "duration": 47,
    "start_time": "2023-02-03T03:30:03.273Z"
   },
   {
    "duration": 14,
    "start_time": "2023-02-03T03:30:03.321Z"
   },
   {
    "duration": 15,
    "start_time": "2023-02-03T03:30:03.337Z"
   },
   {
    "duration": 21,
    "start_time": "2023-02-03T03:30:03.353Z"
   },
   {
    "duration": 22,
    "start_time": "2023-02-03T03:30:03.375Z"
   },
   {
    "duration": 16,
    "start_time": "2023-02-03T03:30:03.399Z"
   },
   {
    "duration": 8,
    "start_time": "2023-02-03T03:30:03.417Z"
   },
   {
    "duration": 34,
    "start_time": "2023-02-03T03:30:03.427Z"
   },
   {
    "duration": 21,
    "start_time": "2023-02-03T03:30:03.462Z"
   },
   {
    "duration": 19,
    "start_time": "2023-02-03T03:30:03.485Z"
   },
   {
    "duration": 8,
    "start_time": "2023-02-03T03:30:07.276Z"
   },
   {
    "duration": 6,
    "start_time": "2023-02-03T03:30:56.509Z"
   },
   {
    "duration": 2,
    "start_time": "2023-02-03T09:53:49.772Z"
   },
   {
    "duration": 5,
    "start_time": "2023-02-03T09:53:49.776Z"
   },
   {
    "duration": 6,
    "start_time": "2023-02-03T09:53:49.783Z"
   },
   {
    "duration": 6,
    "start_time": "2023-02-03T09:54:29.861Z"
   },
   {
    "duration": 77,
    "start_time": "2023-02-03T10:12:22.233Z"
   },
   {
    "duration": 81,
    "start_time": "2023-02-03T10:12:24.858Z"
   },
   {
    "duration": 6,
    "start_time": "2023-02-03T10:16:13.189Z"
   },
   {
    "duration": 5,
    "start_time": "2023-02-03T10:16:38.117Z"
   },
   {
    "duration": 6,
    "start_time": "2023-02-03T10:17:23.273Z"
   },
   {
    "duration": 6,
    "start_time": "2023-02-03T10:17:27.053Z"
   },
   {
    "duration": 9,
    "start_time": "2023-02-03T10:38:17.786Z"
   },
   {
    "duration": 8,
    "start_time": "2023-02-03T10:56:01.378Z"
   },
   {
    "duration": 9,
    "start_time": "2023-02-03T11:02:31.645Z"
   },
   {
    "duration": 8,
    "start_time": "2023-02-03T11:02:41.036Z"
   },
   {
    "duration": 7,
    "start_time": "2023-02-03T11:25:11.867Z"
   },
   {
    "duration": 9,
    "start_time": "2023-02-03T11:30:17.444Z"
   },
   {
    "duration": 7,
    "start_time": "2023-02-03T11:31:11.996Z"
   },
   {
    "duration": 6,
    "start_time": "2023-02-03T11:32:31.943Z"
   },
   {
    "duration": 7,
    "start_time": "2023-02-03T11:32:47.159Z"
   },
   {
    "duration": 6,
    "start_time": "2023-02-03T11:33:22.728Z"
   },
   {
    "duration": 9,
    "start_time": "2023-02-03T11:33:53.149Z"
   },
   {
    "duration": 7,
    "start_time": "2023-02-03T11:38:27.348Z"
   },
   {
    "duration": 8,
    "start_time": "2023-02-03T11:38:32.524Z"
   },
   {
    "duration": 6,
    "start_time": "2023-02-03T11:39:41.885Z"
   },
   {
    "duration": 7,
    "start_time": "2023-02-03T11:39:50.396Z"
   },
   {
    "duration": 8,
    "start_time": "2023-02-03T11:40:26.816Z"
   },
   {
    "duration": 9,
    "start_time": "2023-02-03T11:45:32.953Z"
   },
   {
    "duration": 8,
    "start_time": "2023-02-03T11:45:39.949Z"
   },
   {
    "duration": 5,
    "start_time": "2023-02-03T13:31:21.528Z"
   },
   {
    "duration": 4,
    "start_time": "2023-02-03T13:31:32.104Z"
   },
   {
    "duration": 4,
    "start_time": "2023-02-03T13:31:46.897Z"
   },
   {
    "duration": 4,
    "start_time": "2023-02-03T13:32:04.257Z"
   },
   {
    "duration": 71,
    "start_time": "2023-02-03T13:40:54.758Z"
   },
   {
    "duration": 4,
    "start_time": "2023-02-03T13:40:59.257Z"
   },
   {
    "duration": 17,
    "start_time": "2023-02-03T14:03:04.629Z"
   },
   {
    "duration": 20,
    "start_time": "2023-02-03T14:03:10.287Z"
   },
   {
    "duration": 21,
    "start_time": "2023-02-03T14:03:34.010Z"
   },
   {
    "duration": 8,
    "start_time": "2023-02-03T14:04:57.670Z"
   },
   {
    "duration": 15,
    "start_time": "2023-02-03T14:06:06.661Z"
   },
   {
    "duration": 9,
    "start_time": "2023-02-03T14:06:23.465Z"
   },
   {
    "duration": 8,
    "start_time": "2023-02-03T14:06:51.009Z"
   },
   {
    "duration": 7,
    "start_time": "2023-02-03T14:10:13.910Z"
   },
   {
    "duration": 8,
    "start_time": "2023-02-03T14:11:40.309Z"
   },
   {
    "duration": 13,
    "start_time": "2023-02-03T14:13:50.863Z"
   },
   {
    "duration": 14,
    "start_time": "2023-02-03T14:13:58.709Z"
   },
   {
    "duration": 61,
    "start_time": "2023-02-03T14:14:02.055Z"
   },
   {
    "duration": 8,
    "start_time": "2023-02-03T14:16:13.328Z"
   },
   {
    "duration": 20,
    "start_time": "2023-02-03T14:16:19.067Z"
   },
   {
    "duration": 5,
    "start_time": "2023-02-03T14:19:38.310Z"
   },
   {
    "duration": 8,
    "start_time": "2023-02-03T14:20:04.790Z"
   },
   {
    "duration": 7,
    "start_time": "2023-02-03T14:20:10.156Z"
   },
   {
    "duration": 7,
    "start_time": "2023-02-03T14:29:25.482Z"
   },
   {
    "duration": 9,
    "start_time": "2023-02-03T14:36:16.079Z"
   },
   {
    "duration": 7,
    "start_time": "2023-02-03T14:36:23.193Z"
   },
   {
    "duration": 8,
    "start_time": "2023-02-03T16:13:58.942Z"
   },
   {
    "duration": 9,
    "start_time": "2023-02-03T16:14:02.378Z"
   },
   {
    "duration": 64,
    "start_time": "2023-02-03T16:16:21.138Z"
   },
   {
    "duration": 14,
    "start_time": "2023-02-03T16:16:21.204Z"
   },
   {
    "duration": 15,
    "start_time": "2023-02-03T16:16:21.220Z"
   },
   {
    "duration": 9,
    "start_time": "2023-02-03T16:16:21.236Z"
   },
   {
    "duration": 35,
    "start_time": "2023-02-03T16:16:21.246Z"
   },
   {
    "duration": 3,
    "start_time": "2023-02-03T16:16:21.282Z"
   },
   {
    "duration": 10,
    "start_time": "2023-02-03T16:16:21.286Z"
   },
   {
    "duration": 3,
    "start_time": "2023-02-03T16:16:21.298Z"
   },
   {
    "duration": 28,
    "start_time": "2023-02-03T16:16:21.303Z"
   },
   {
    "duration": 4,
    "start_time": "2023-02-03T16:16:21.333Z"
   },
   {
    "duration": 30,
    "start_time": "2023-02-03T16:16:21.339Z"
   },
   {
    "duration": 8,
    "start_time": "2023-02-03T16:16:21.371Z"
   },
   {
    "duration": 3,
    "start_time": "2023-02-03T16:16:21.381Z"
   },
   {
    "duration": 11,
    "start_time": "2023-02-03T16:16:21.385Z"
   },
   {
    "duration": 40,
    "start_time": "2023-02-03T16:16:21.397Z"
   },
   {
    "duration": 16,
    "start_time": "2023-02-03T16:16:21.438Z"
   },
   {
    "duration": 3,
    "start_time": "2023-02-03T16:16:21.456Z"
   },
   {
    "duration": 11,
    "start_time": "2023-02-03T16:16:21.460Z"
   },
   {
    "duration": 5,
    "start_time": "2023-02-03T16:16:21.472Z"
   },
   {
    "duration": 3,
    "start_time": "2023-02-03T16:16:21.478Z"
   },
   {
    "duration": 10,
    "start_time": "2023-02-03T16:16:21.483Z"
   },
   {
    "duration": 33,
    "start_time": "2023-02-03T16:16:21.495Z"
   },
   {
    "duration": 4,
    "start_time": "2023-02-03T16:16:21.530Z"
   },
   {
    "duration": 7,
    "start_time": "2023-02-03T16:16:21.535Z"
   },
   {
    "duration": 7,
    "start_time": "2023-02-03T16:16:21.543Z"
   },
   {
    "duration": 7,
    "start_time": "2023-02-03T16:16:21.552Z"
   },
   {
    "duration": 5,
    "start_time": "2023-02-03T16:16:21.560Z"
   },
   {
    "duration": 10,
    "start_time": "2023-02-03T16:16:21.567Z"
   },
   {
    "duration": 6,
    "start_time": "2023-02-03T16:16:21.578Z"
   },
   {
    "duration": 44,
    "start_time": "2023-02-03T16:16:21.585Z"
   },
   {
    "duration": 4,
    "start_time": "2023-02-03T16:16:21.630Z"
   },
   {
    "duration": 7,
    "start_time": "2023-02-03T16:16:21.636Z"
   },
   {
    "duration": 7,
    "start_time": "2023-02-03T16:16:21.644Z"
   },
   {
    "duration": 453,
    "start_time": "2023-02-04T11:34:40.981Z"
   },
   {
    "duration": 35,
    "start_time": "2023-02-04T11:34:41.436Z"
   },
   {
    "duration": 14,
    "start_time": "2023-02-04T11:34:41.473Z"
   },
   {
    "duration": 9,
    "start_time": "2023-02-04T11:34:41.489Z"
   },
   {
    "duration": 59,
    "start_time": "2023-02-04T11:34:41.500Z"
   },
   {
    "duration": 3,
    "start_time": "2023-02-04T11:34:41.561Z"
   },
   {
    "duration": 10,
    "start_time": "2023-02-04T11:34:41.566Z"
   },
   {
    "duration": 7,
    "start_time": "2023-02-04T11:34:41.578Z"
   },
   {
    "duration": 8,
    "start_time": "2023-02-04T11:34:41.587Z"
   },
   {
    "duration": 5,
    "start_time": "2023-02-04T11:34:41.599Z"
   },
   {
    "duration": 66,
    "start_time": "2023-02-04T11:34:41.606Z"
   },
   {
    "duration": 9,
    "start_time": "2023-02-04T11:34:41.674Z"
   },
   {
    "duration": 5,
    "start_time": "2023-02-04T11:34:41.685Z"
   },
   {
    "duration": 16,
    "start_time": "2023-02-04T11:34:41.692Z"
   },
   {
    "duration": 44,
    "start_time": "2023-02-04T11:34:41.710Z"
   },
   {
    "duration": 18,
    "start_time": "2023-02-04T11:34:41.756Z"
   },
   {
    "duration": 3,
    "start_time": "2023-02-04T11:34:41.776Z"
   },
   {
    "duration": 20,
    "start_time": "2023-02-04T11:34:41.780Z"
   },
   {
    "duration": 28,
    "start_time": "2023-02-04T11:34:41.802Z"
   },
   {
    "duration": 21,
    "start_time": "2023-02-04T11:34:41.832Z"
   },
   {
    "duration": 17,
    "start_time": "2023-02-04T11:34:41.855Z"
   },
   {
    "duration": 11,
    "start_time": "2023-02-04T11:34:41.874Z"
   },
   {
    "duration": 8,
    "start_time": "2023-02-04T11:34:41.887Z"
   },
   {
    "duration": 8,
    "start_time": "2023-02-04T11:34:41.896Z"
   },
   {
    "duration": 9,
    "start_time": "2023-02-04T11:34:41.905Z"
   },
   {
    "duration": 8,
    "start_time": "2023-02-04T11:34:41.916Z"
   },
   {
    "duration": 15,
    "start_time": "2023-02-04T11:34:41.936Z"
   },
   {
    "duration": 12,
    "start_time": "2023-02-04T11:34:41.956Z"
   },
   {
    "duration": 8,
    "start_time": "2023-02-04T11:34:41.969Z"
   },
   {
    "duration": 8,
    "start_time": "2023-02-04T11:34:41.978Z"
   },
   {
    "duration": 5,
    "start_time": "2023-02-04T11:34:41.988Z"
   },
   {
    "duration": 54,
    "start_time": "2023-02-04T11:34:41.995Z"
   },
   {
    "duration": 10,
    "start_time": "2023-02-04T11:34:42.051Z"
   },
   {
    "duration": 498,
    "start_time": "2023-02-04T11:35:22.262Z"
   },
   {
    "duration": 24,
    "start_time": "2023-02-04T11:35:22.762Z"
   },
   {
    "duration": 17,
    "start_time": "2023-02-04T11:35:22.787Z"
   },
   {
    "duration": 32,
    "start_time": "2023-02-04T11:35:22.806Z"
   },
   {
    "duration": 47,
    "start_time": "2023-02-04T11:35:22.840Z"
   },
   {
    "duration": 4,
    "start_time": "2023-02-04T11:35:22.889Z"
   },
   {
    "duration": 12,
    "start_time": "2023-02-04T11:35:22.895Z"
   },
   {
    "duration": 5,
    "start_time": "2023-02-04T11:35:22.909Z"
   },
   {
    "duration": 7,
    "start_time": "2023-02-04T11:35:22.936Z"
   },
   {
    "duration": 5,
    "start_time": "2023-02-04T11:35:22.947Z"
   },
   {
    "duration": 39,
    "start_time": "2023-02-04T11:35:22.954Z"
   },
   {
    "duration": 9,
    "start_time": "2023-02-04T11:35:22.995Z"
   },
   {
    "duration": 31,
    "start_time": "2023-02-04T11:35:23.006Z"
   },
   {
    "duration": 17,
    "start_time": "2023-02-04T11:35:23.039Z"
   },
   {
    "duration": 46,
    "start_time": "2023-02-04T11:35:23.057Z"
   },
   {
    "duration": 22,
    "start_time": "2023-02-04T11:35:23.105Z"
   },
   {
    "duration": 11,
    "start_time": "2023-02-04T11:35:23.129Z"
   },
   {
    "duration": 18,
    "start_time": "2023-02-04T11:35:23.142Z"
   },
   {
    "duration": 9,
    "start_time": "2023-02-04T11:35:23.162Z"
   },
   {
    "duration": 5,
    "start_time": "2023-02-04T11:35:23.172Z"
   },
   {
    "duration": 13,
    "start_time": "2023-02-04T11:35:23.179Z"
   },
   {
    "duration": 9,
    "start_time": "2023-02-04T11:35:23.194Z"
   },
   {
    "duration": 6,
    "start_time": "2023-02-04T11:35:23.205Z"
   },
   {
    "duration": 9,
    "start_time": "2023-02-04T11:35:23.238Z"
   },
   {
    "duration": 9,
    "start_time": "2023-02-04T11:35:23.249Z"
   },
   {
    "duration": 12,
    "start_time": "2023-02-04T11:35:23.260Z"
   },
   {
    "duration": 7,
    "start_time": "2023-02-04T11:35:23.274Z"
   },
   {
    "duration": 11,
    "start_time": "2023-02-04T11:35:23.284Z"
   },
   {
    "duration": 43,
    "start_time": "2023-02-04T11:35:23.297Z"
   },
   {
    "duration": 9,
    "start_time": "2023-02-04T11:35:23.342Z"
   },
   {
    "duration": 5,
    "start_time": "2023-02-04T11:35:23.353Z"
   },
   {
    "duration": 11,
    "start_time": "2023-02-04T11:35:23.360Z"
   },
   {
    "duration": 9,
    "start_time": "2023-02-04T11:35:23.373Z"
   },
   {
    "duration": 828,
    "start_time": "2023-02-06T15:10:42.928Z"
   },
   {
    "duration": 33,
    "start_time": "2023-02-06T15:10:43.758Z"
   },
   {
    "duration": 40,
    "start_time": "2023-02-06T15:10:43.792Z"
   },
   {
    "duration": 52,
    "start_time": "2023-02-06T15:10:43.841Z"
   },
   {
    "duration": 68,
    "start_time": "2023-02-06T15:10:43.896Z"
   },
   {
    "duration": 9,
    "start_time": "2023-02-06T15:10:43.968Z"
   },
   {
    "duration": 19,
    "start_time": "2023-02-06T15:10:43.979Z"
   },
   {
    "duration": 6,
    "start_time": "2023-02-06T15:10:43.999Z"
   },
   {
    "duration": 59,
    "start_time": "2023-02-06T15:10:44.007Z"
   },
   {
    "duration": 9,
    "start_time": "2023-02-06T15:10:44.069Z"
   },
   {
    "duration": 68,
    "start_time": "2023-02-06T15:10:44.080Z"
   },
   {
    "duration": 15,
    "start_time": "2023-02-06T15:10:44.154Z"
   },
   {
    "duration": 11,
    "start_time": "2023-02-06T15:10:44.171Z"
   },
   {
    "duration": 17,
    "start_time": "2023-02-06T15:10:44.187Z"
   },
   {
    "duration": 46,
    "start_time": "2023-02-06T15:10:44.207Z"
   },
   {
    "duration": 65,
    "start_time": "2023-02-06T15:10:44.258Z"
   },
   {
    "duration": 9,
    "start_time": "2023-02-06T15:10:44.330Z"
   },
   {
    "duration": 33,
    "start_time": "2023-02-06T15:10:44.345Z"
   },
   {
    "duration": 9,
    "start_time": "2023-02-06T15:10:44.379Z"
   },
   {
    "duration": 7,
    "start_time": "2023-02-06T15:10:44.390Z"
   },
   {
    "duration": 30,
    "start_time": "2023-02-06T15:10:44.399Z"
   },
   {
    "duration": 39,
    "start_time": "2023-02-06T15:10:44.432Z"
   },
   {
    "duration": 11,
    "start_time": "2023-02-06T15:10:44.474Z"
   },
   {
    "duration": 8,
    "start_time": "2023-02-06T15:10:44.487Z"
   },
   {
    "duration": 10,
    "start_time": "2023-02-06T15:10:44.498Z"
   },
   {
    "duration": 38,
    "start_time": "2023-02-06T15:10:44.528Z"
   },
   {
    "duration": 8,
    "start_time": "2023-02-06T15:10:44.568Z"
   },
   {
    "duration": 12,
    "start_time": "2023-02-06T15:10:44.578Z"
   },
   {
    "duration": 8,
    "start_time": "2023-02-06T15:10:44.592Z"
   },
   {
    "duration": 29,
    "start_time": "2023-02-06T15:10:44.602Z"
   },
   {
    "duration": 20,
    "start_time": "2023-02-06T15:10:44.641Z"
   },
   {
    "duration": 14,
    "start_time": "2023-02-06T15:10:44.664Z"
   },
   {
    "duration": 13,
    "start_time": "2023-02-06T15:10:44.681Z"
   },
   {
    "duration": 50,
    "start_time": "2023-02-07T14:50:51.933Z"
   },
   {
    "duration": 534,
    "start_time": "2023-02-07T14:50:58.891Z"
   },
   {
    "duration": 21,
    "start_time": "2023-02-07T14:50:59.427Z"
   },
   {
    "duration": 13,
    "start_time": "2023-02-07T14:50:59.450Z"
   },
   {
    "duration": 10,
    "start_time": "2023-02-07T14:50:59.465Z"
   },
   {
    "duration": 47,
    "start_time": "2023-02-07T14:50:59.477Z"
   },
   {
    "duration": 4,
    "start_time": "2023-02-07T14:50:59.525Z"
   },
   {
    "duration": 12,
    "start_time": "2023-02-07T14:50:59.530Z"
   },
   {
    "duration": 4,
    "start_time": "2023-02-07T14:50:59.543Z"
   },
   {
    "duration": 8,
    "start_time": "2023-02-07T14:50:59.548Z"
   },
   {
    "duration": 4,
    "start_time": "2023-02-07T14:50:59.558Z"
   },
   {
    "duration": 54,
    "start_time": "2023-02-07T14:50:59.563Z"
   },
   {
    "duration": 9,
    "start_time": "2023-02-07T14:50:59.619Z"
   },
   {
    "duration": 4,
    "start_time": "2023-02-07T14:50:59.629Z"
   },
   {
    "duration": 10,
    "start_time": "2023-02-07T14:50:59.635Z"
   },
   {
    "duration": 20,
    "start_time": "2023-02-07T14:50:59.647Z"
   },
   {
    "duration": 41,
    "start_time": "2023-02-07T14:50:59.669Z"
   },
   {
    "duration": 3,
    "start_time": "2023-02-07T14:50:59.712Z"
   },
   {
    "duration": 12,
    "start_time": "2023-02-07T14:50:59.716Z"
   },
   {
    "duration": 19,
    "start_time": "2023-02-07T14:50:59.729Z"
   },
   {
    "duration": 3,
    "start_time": "2023-02-07T14:50:59.749Z"
   },
   {
    "duration": 17,
    "start_time": "2023-02-07T14:50:59.754Z"
   },
   {
    "duration": 9,
    "start_time": "2023-02-07T14:50:59.773Z"
   },
   {
    "duration": 5,
    "start_time": "2023-02-07T14:50:59.783Z"
   },
   {
    "duration": 5,
    "start_time": "2023-02-07T14:50:59.790Z"
   },
   {
    "duration": 46,
    "start_time": "2023-02-07T14:50:59.797Z"
   },
   {
    "duration": 6,
    "start_time": "2023-02-07T14:50:59.845Z"
   },
   {
    "duration": 8,
    "start_time": "2023-02-07T14:50:59.853Z"
   },
   {
    "duration": 5,
    "start_time": "2023-02-07T14:50:59.863Z"
   },
   {
    "duration": 11,
    "start_time": "2023-02-07T14:50:59.870Z"
   },
   {
    "duration": 32,
    "start_time": "2023-02-07T14:50:59.882Z"
   },
   {
    "duration": 5,
    "start_time": "2023-02-07T14:50:59.916Z"
   },
   {
    "duration": 5,
    "start_time": "2023-02-07T14:50:59.922Z"
   },
   {
    "duration": 8,
    "start_time": "2023-02-07T14:50:59.929Z"
   },
   {
    "duration": 8,
    "start_time": "2023-02-07T14:50:59.938Z"
   },
   {
    "duration": 23,
    "start_time": "2023-02-07T14:51:33.014Z"
   },
   {
    "duration": 34,
    "start_time": "2023-02-07T14:52:59.481Z"
   },
   {
    "duration": 56,
    "start_time": "2023-02-07T14:53:32.698Z"
   },
   {
    "duration": 18,
    "start_time": "2023-02-07T14:53:39.224Z"
   },
   {
    "duration": 33,
    "start_time": "2023-02-07T14:54:48.880Z"
   },
   {
    "duration": 24,
    "start_time": "2023-02-07T14:55:55.996Z"
   },
   {
    "duration": 0,
    "start_time": "2023-02-07T14:56:25.067Z"
   },
   {
    "duration": 7554,
    "start_time": "2023-02-07T14:56:28.165Z"
   },
   {
    "duration": 27,
    "start_time": "2023-02-07T14:56:54.317Z"
   },
   {
    "duration": 27,
    "start_time": "2023-02-07T14:57:07.552Z"
   },
   {
    "duration": 25,
    "start_time": "2023-02-07T14:57:29.535Z"
   },
   {
    "duration": 25,
    "start_time": "2023-02-07T15:02:27.885Z"
   },
   {
    "duration": 29,
    "start_time": "2023-02-07T15:03:33.763Z"
   },
   {
    "duration": 26,
    "start_time": "2023-02-07T15:04:46.491Z"
   },
   {
    "duration": 43,
    "start_time": "2023-02-07T15:07:33.479Z"
   },
   {
    "duration": 36,
    "start_time": "2023-02-07T15:07:51.723Z"
   },
   {
    "duration": 32,
    "start_time": "2023-02-07T15:08:27.860Z"
   },
   {
    "duration": 39,
    "start_time": "2023-02-07T15:09:27.571Z"
   },
   {
    "duration": 33,
    "start_time": "2023-02-07T15:09:55.376Z"
   },
   {
    "duration": 37,
    "start_time": "2023-02-07T15:10:08.460Z"
   },
   {
    "duration": 37,
    "start_time": "2023-02-07T15:14:04.634Z"
   },
   {
    "duration": 27,
    "start_time": "2023-02-07T15:14:38.297Z"
   },
   {
    "duration": 48,
    "start_time": "2023-02-07T15:14:46.516Z"
   },
   {
    "duration": 38,
    "start_time": "2023-02-07T15:14:55.136Z"
   },
   {
    "duration": 51,
    "start_time": "2023-02-07T15:15:26.761Z"
   },
   {
    "duration": 37,
    "start_time": "2023-02-07T15:15:58.605Z"
   },
   {
    "duration": 43,
    "start_time": "2023-02-07T15:49:04.487Z"
   },
   {
    "duration": 71,
    "start_time": "2023-02-07T15:49:17.337Z"
   },
   {
    "duration": 40,
    "start_time": "2023-02-07T15:49:31.457Z"
   },
   {
    "duration": 25,
    "start_time": "2023-02-07T15:53:47.215Z"
   },
   {
    "duration": 770,
    "start_time": "2023-02-07T17:08:01.285Z"
   },
   {
    "duration": 27,
    "start_time": "2023-02-07T17:09:12.179Z"
   },
   {
    "duration": 27,
    "start_time": "2023-02-07T17:09:59.155Z"
   },
   {
    "duration": 509,
    "start_time": "2023-02-08T14:13:36.522Z"
   },
   {
    "duration": 24,
    "start_time": "2023-02-08T14:13:37.033Z"
   },
   {
    "duration": 16,
    "start_time": "2023-02-08T14:13:37.058Z"
   },
   {
    "duration": 13,
    "start_time": "2023-02-08T14:13:37.076Z"
   },
   {
    "duration": 35,
    "start_time": "2023-02-08T14:13:37.100Z"
   },
   {
    "duration": 4,
    "start_time": "2023-02-08T14:13:37.137Z"
   },
   {
    "duration": 18,
    "start_time": "2023-02-08T14:13:37.142Z"
   },
   {
    "duration": 11,
    "start_time": "2023-02-08T14:13:37.162Z"
   },
   {
    "duration": 50,
    "start_time": "2023-02-08T14:13:37.176Z"
   },
   {
    "duration": 6,
    "start_time": "2023-02-08T14:13:37.233Z"
   },
   {
    "duration": 36,
    "start_time": "2023-02-08T14:13:37.241Z"
   },
   {
    "duration": 9,
    "start_time": "2023-02-08T14:13:37.279Z"
   },
   {
    "duration": 10,
    "start_time": "2023-02-08T14:13:37.289Z"
   },
   {
    "duration": 10,
    "start_time": "2023-02-08T14:13:37.301Z"
   },
   {
    "duration": 21,
    "start_time": "2023-02-08T14:13:37.313Z"
   },
   {
    "duration": 17,
    "start_time": "2023-02-08T14:13:37.336Z"
   },
   {
    "duration": 5,
    "start_time": "2023-02-08T14:13:37.355Z"
   },
   {
    "duration": 14,
    "start_time": "2023-02-08T14:13:37.361Z"
   },
   {
    "duration": 5,
    "start_time": "2023-02-08T14:13:37.400Z"
   },
   {
    "duration": 4,
    "start_time": "2023-02-08T14:13:37.407Z"
   },
   {
    "duration": 13,
    "start_time": "2023-02-08T14:13:37.413Z"
   },
   {
    "duration": 9,
    "start_time": "2023-02-08T14:13:37.427Z"
   },
   {
    "duration": 8,
    "start_time": "2023-02-08T14:13:37.437Z"
   },
   {
    "duration": 9,
    "start_time": "2023-02-08T14:13:37.447Z"
   },
   {
    "duration": 59,
    "start_time": "2023-02-08T14:13:37.457Z"
   },
   {
    "duration": 40,
    "start_time": "2023-02-08T14:13:37.517Z"
   },
   {
    "duration": 43,
    "start_time": "2023-02-08T14:13:37.558Z"
   },
   {
    "duration": 7,
    "start_time": "2023-02-08T14:13:37.604Z"
   },
   {
    "duration": 10,
    "start_time": "2023-02-08T14:13:37.612Z"
   },
   {
    "duration": 6,
    "start_time": "2023-02-08T14:13:37.624Z"
   },
   {
    "duration": 8,
    "start_time": "2023-02-08T14:13:37.632Z"
   },
   {
    "duration": 8,
    "start_time": "2023-02-08T14:13:37.642Z"
   },
   {
    "duration": 12,
    "start_time": "2023-02-08T14:13:37.652Z"
   },
   {
    "duration": 37,
    "start_time": "2023-02-08T14:13:37.665Z"
   },
   {
    "duration": 12,
    "start_time": "2023-02-08T14:13:37.703Z"
   },
   {
    "duration": 12,
    "start_time": "2023-02-08T14:13:37.717Z"
   },
   {
    "duration": 28,
    "start_time": "2023-02-08T14:24:19.769Z"
   },
   {
    "duration": 31,
    "start_time": "2023-02-08T14:33:53.246Z"
   },
   {
    "duration": 41,
    "start_time": "2023-02-08T14:51:00.016Z"
   },
   {
    "duration": 46,
    "start_time": "2023-02-08T14:51:05.380Z"
   },
   {
    "duration": 29,
    "start_time": "2023-02-08T14:51:09.819Z"
   },
   {
    "duration": 40,
    "start_time": "2023-02-08T14:51:48.196Z"
   },
   {
    "duration": 37,
    "start_time": "2023-02-08T14:53:22.396Z"
   },
   {
    "duration": 31,
    "start_time": "2023-02-08T14:53:54.224Z"
   },
   {
    "duration": 35,
    "start_time": "2023-02-08T14:54:18.341Z"
   },
   {
    "duration": 853,
    "start_time": "2023-02-08T14:58:18.554Z"
   },
   {
    "duration": 30,
    "start_time": "2023-02-08T14:59:56.865Z"
   },
   {
    "duration": 31,
    "start_time": "2023-02-08T15:00:08.795Z"
   },
   {
    "duration": 3,
    "start_time": "2023-02-08T15:03:39.692Z"
   },
   {
    "duration": 11,
    "start_time": "2023-02-08T15:04:45.828Z"
   },
   {
    "duration": 10,
    "start_time": "2023-02-08T15:04:53.743Z"
   },
   {
    "duration": 10,
    "start_time": "2023-02-08T15:04:55.737Z"
   },
   {
    "duration": 30,
    "start_time": "2023-02-08T15:05:05.894Z"
   },
   {
    "duration": 19,
    "start_time": "2023-02-08T15:05:11.778Z"
   },
   {
    "duration": 21,
    "start_time": "2023-02-08T15:05:25.281Z"
   },
   {
    "duration": 51,
    "start_time": "2023-02-08T15:08:27.101Z"
   },
   {
    "duration": 4,
    "start_time": "2023-02-08T15:12:12.602Z"
   },
   {
    "duration": 32,
    "start_time": "2023-02-08T15:12:14.385Z"
   },
   {
    "duration": 26,
    "start_time": "2023-02-08T15:31:12.070Z"
   },
   {
    "duration": 56,
    "start_time": "2023-02-08T16:05:11.405Z"
   },
   {
    "duration": 34,
    "start_time": "2023-02-08T16:06:07.401Z"
   },
   {
    "duration": 68,
    "start_time": "2023-02-08T16:27:47.041Z"
   }
  ],
  "colab": {
   "name": "dpp_template_part2.ipynb",
   "provenance": []
  },
  "kernelspec": {
   "display_name": "Python 3 (ipykernel)",
   "language": "python",
   "name": "python3"
  },
  "language_info": {
   "codemirror_mode": {
    "name": "ipython",
    "version": 3
   },
   "file_extension": ".py",
   "mimetype": "text/x-python",
   "name": "python",
   "nbconvert_exporter": "python",
   "pygments_lexer": "ipython3",
   "version": "3.9.15"
  },
  "toc": {
   "base_numbering": 1,
   "nav_menu": {},
   "number_sections": true,
   "sideBar": true,
   "skip_h1_title": true,
   "title_cell": "Table of Contents",
   "title_sidebar": "Contents",
   "toc_cell": false,
   "toc_position": {},
   "toc_section_display": true,
   "toc_window_display": false
  }
 },
 "nbformat": 4,
 "nbformat_minor": 5
}
