{
 "cells": [
  {
   "cell_type": "markdown",
   "metadata": {
    "toc": true
   },
   "source": [
    "<h1>Содержание<span class=\"tocSkip\"></span></h1>\n",
    "<div class=\"toc\"><ul class=\"toc-item\"><li><span><a href=\"#Загрузка-и-предобработка-данных\" data-toc-modified-id=\"Загрузка-и-предобработка-данных-1\"><span class=\"toc-item-num\">1&nbsp;&nbsp;</span>Загрузка и предобработка данных</a></span><ul class=\"toc-item\"><li><span><a href=\"#Обработка-дубликатов\" data-toc-modified-id=\"Обработка-дубликатов-1.1\"><span class=\"toc-item-num\">1.1&nbsp;&nbsp;</span>Обработка дубликатов</a></span></li><li><span><a href=\"#Обработка-аномалий\" data-toc-modified-id=\"Обработка-аномалий-1.2\"><span class=\"toc-item-num\">1.2&nbsp;&nbsp;</span>Обработка аномалий</a></span></li><li><span><a href=\"#Обработка-пропусков\" data-toc-modified-id=\"Обработка-пропусков-1.3\"><span class=\"toc-item-num\">1.3&nbsp;&nbsp;</span>Обработка пропусков</a></span></li><li><span><a href=\"#Удаление-признаков\" data-toc-modified-id=\"Удаление-признаков-1.4\"><span class=\"toc-item-num\">1.4&nbsp;&nbsp;</span>Удаление признаков</a></span></li></ul></li><li><span><a href=\"#Подготовка-данных\" data-toc-modified-id=\"Подготовка-данных-2\"><span class=\"toc-item-num\">2&nbsp;&nbsp;</span>Подготовка данных</a></span></li><li><span><a href=\"#Обучение-моделей\" data-toc-modified-id=\"Обучение-моделей-3\"><span class=\"toc-item-num\">3&nbsp;&nbsp;</span>Обучение моделей</a></span><ul class=\"toc-item\"><li><span><a href=\"#RandomForest\" data-toc-modified-id=\"RandomForest-3.1\"><span class=\"toc-item-num\">3.1&nbsp;&nbsp;</span>RandomForest</a></span></li><li><span><a href=\"#LightGBM\" data-toc-modified-id=\"LightGBM-3.2\"><span class=\"toc-item-num\">3.2&nbsp;&nbsp;</span>LightGBM</a></span></li><li><span><a href=\"#CatBoost\" data-toc-modified-id=\"CatBoost-3.3\"><span class=\"toc-item-num\">3.3&nbsp;&nbsp;</span>CatBoost</a></span></li></ul></li><li><span><a href=\"#Анализ-моделей\" data-toc-modified-id=\"Анализ-моделей-4\"><span class=\"toc-item-num\">4&nbsp;&nbsp;</span>Анализ моделей</a></span></li><li><span><a href=\"#Общий-вывод\" data-toc-modified-id=\"Общий-вывод-5\"><span class=\"toc-item-num\">5&nbsp;&nbsp;</span>Общий вывод</a></span></li></ul></div>"
   ]
  },
  {
   "cell_type": "markdown",
   "metadata": {},
   "source": [
    "# Проект 11. Определение стоимости автомобилей"
   ]
  },
  {
   "cell_type": "markdown",
   "metadata": {},
   "source": [
    "Сервис по продаже автомобилей с пробегом «Не бит, не крашен» разрабатывает приложение для привлечения новых клиентов. В нём можно быстро узнать рыночную стоимость своего автомобиля. В нашем распоряжении исторические данные: технические характеристики, комплектации и цены автомобилей. Нам нужно построить модель для определения стоимости. \n",
    "\n",
    "Заказчику важны:\n",
    "\n",
    "- качество предсказания;\n",
    "- скорость предсказания;\n",
    "- время обучения."
   ]
  },
  {
   "cell_type": "markdown",
   "metadata": {},
   "source": [
    "**Условия задачи**\n",
    "\n",
    "- Качественно преобработать даные в стобцах и удалить неинформативные признаки.\n",
    "- Для оценки качества моделей применить метрику *RMSE*.\n",
    "- Значение метрики *RMSE* должно быть меньше 2500 (евро).\n",
    "- Обучить и проверить разные модели, одна из которых — **LightGBM**, как минимум одна — не бустинг.\n",
    "- Модель градиентного бустинга может долго обучаться, поэтому изменять у неё только два-три параметра."
   ]
  },
  {
   "cell_type": "markdown",
   "metadata": {},
   "source": [
    "**Ход проекта**\n",
    "\n",
    "Данные геологоразведки трёх регионов получены из файла `autos.csv`. О качестве данных ничего незивестно.\n",
    "\n",
    "Решение пройдёт в 5 этапов:\n",
    "\n",
    "1. Загрузка и предобработка данных.\n",
    "2. Подготовка данных для машинного обучения.\n",
    "3. Обучение нескольких моделей.\n",
    "4. Анализ результатов обучения и выбор наилучшей модели.\n",
    "5. Общий вывод по итогам работы."
   ]
  },
  {
   "cell_type": "markdown",
   "metadata": {},
   "source": [
    "**Описание данных**\n",
    "\n",
    "Признаки:\n",
    "\n",
    "- `DateCrawled` — дата скачивания анкеты из базы \n",
    "- `VehicleType` — тип автомобильного кузова \n",
    "- `RegistrationYear` — год регистрации автомобиля \n",
    "- `Gearbox` — тип коробки передач \n",
    "- `Power` — мощность (л. с.) \n",
    "- `Model` — модель автомобиля \n",
    "- `Kilometer`— пробег (км) \n",
    "- `RegistrationMonth` — месяц регистрации автомобиля \n",
    "- `FuelType` — тип топлива \n",
    "- `Brand` — марка автомобиля \n",
    "- `Repaired` — была машина в ремонте или нет \n",
    "- `DateCreated` — дата создания анкеты \n",
    "- `NumberOfPictures` — количество фотографий автомобиля \n",
    "- `PostalCode` — почтовый индекс владельца анкеты (пользователя) \n",
    "- `LastSeen` — дата последней активности пользователя \n",
    "\n",
    "Целевой признак:\n",
    "\n",
    "- `Price` — цена (евро)"
   ]
  },
  {
   "cell_type": "markdown",
   "metadata": {},
   "source": [
    "## Загрузка и предобработка данных"
   ]
  },
  {
   "cell_type": "code",
   "execution_count": 1,
   "metadata": {},
   "outputs": [
    {
     "name": "stdout",
     "output_type": "stream",
     "text": [
      "Requirement already satisfied: lightgbm in c:\\users\\admin\\myprograms\\anaconda3\\envs\\ds_practicum_env\\lib\\site-packages (4.0.0)\n",
      "Requirement already satisfied: scipy in c:\\users\\admin\\myprograms\\anaconda3\\envs\\ds_practicum_env\\lib\\site-packages (from lightgbm) (1.8.0)\n",
      "Requirement already satisfied: numpy in c:\\users\\admin\\myprograms\\anaconda3\\envs\\ds_practicum_env\\lib\\site-packages (from lightgbm) (1.20.1)\n",
      "Note: you may need to restart the kernel to use updated packages.\n"
     ]
    }
   ],
   "source": [
    "pip install lightgbm"
   ]
  },
  {
   "cell_type": "code",
   "execution_count": 2,
   "metadata": {},
   "outputs": [],
   "source": [
    "import time\n",
    "\n",
    "import pandas as pd\n",
    "import numpy as np\n",
    "\n",
    "from sklearn.model_selection import train_test_split, GridSearchCV\n",
    "from sklearn.preprocessing import OneHotEncoder, OrdinalEncoder\n",
    "from sklearn.ensemble import RandomForestRegressor\n",
    "from sklearn.metrics import mean_squared_error\n",
    "\n",
    "from catboost import CatBoostRegressor\n",
    "from lightgbm import LGBMRegressor"
   ]
  },
  {
   "cell_type": "code",
   "execution_count": 3,
   "metadata": {},
   "outputs": [],
   "source": [
    "RND_STATE = 12345"
   ]
  },
  {
   "cell_type": "code",
   "execution_count": 4,
   "metadata": {},
   "outputs": [],
   "source": [
    "data = pd.read_csv('autos.csv')"
   ]
  },
  {
   "cell_type": "code",
   "execution_count": 5,
   "metadata": {
    "scrolled": false
   },
   "outputs": [
    {
     "name": "stdout",
     "output_type": "stream",
     "text": [
      "Количество дубликатов: 4\n"
     ]
    },
    {
     "data": {
      "text/html": [
       "<div>\n",
       "<style scoped>\n",
       "    .dataframe tbody tr th:only-of-type {\n",
       "        vertical-align: middle;\n",
       "    }\n",
       "\n",
       "    .dataframe tbody tr th {\n",
       "        vertical-align: top;\n",
       "    }\n",
       "\n",
       "    .dataframe thead th {\n",
       "        text-align: right;\n",
       "    }\n",
       "</style>\n",
       "<table border=\"1\" class=\"dataframe\">\n",
       "  <thead>\n",
       "    <tr style=\"text-align: right;\">\n",
       "      <th></th>\n",
       "      <th>DateCrawled</th>\n",
       "      <th>Price</th>\n",
       "      <th>VehicleType</th>\n",
       "      <th>RegistrationYear</th>\n",
       "      <th>Gearbox</th>\n",
       "      <th>Power</th>\n",
       "      <th>Model</th>\n",
       "      <th>Kilometer</th>\n",
       "      <th>RegistrationMonth</th>\n",
       "      <th>FuelType</th>\n",
       "      <th>Brand</th>\n",
       "      <th>Repaired</th>\n",
       "      <th>DateCreated</th>\n",
       "      <th>NumberOfPictures</th>\n",
       "      <th>PostalCode</th>\n",
       "      <th>LastSeen</th>\n",
       "    </tr>\n",
       "  </thead>\n",
       "  <tbody>\n",
       "    <tr>\n",
       "      <th>0</th>\n",
       "      <td>2016-03-24 11:52:17</td>\n",
       "      <td>480</td>\n",
       "      <td>NaN</td>\n",
       "      <td>1993</td>\n",
       "      <td>manual</td>\n",
       "      <td>0</td>\n",
       "      <td>golf</td>\n",
       "      <td>150000</td>\n",
       "      <td>0</td>\n",
       "      <td>petrol</td>\n",
       "      <td>volkswagen</td>\n",
       "      <td>NaN</td>\n",
       "      <td>2016-03-24 00:00:00</td>\n",
       "      <td>0</td>\n",
       "      <td>70435</td>\n",
       "      <td>2016-04-07 03:16:57</td>\n",
       "    </tr>\n",
       "    <tr>\n",
       "      <th>1</th>\n",
       "      <td>2016-03-24 10:58:45</td>\n",
       "      <td>18300</td>\n",
       "      <td>coupe</td>\n",
       "      <td>2011</td>\n",
       "      <td>manual</td>\n",
       "      <td>190</td>\n",
       "      <td>NaN</td>\n",
       "      <td>125000</td>\n",
       "      <td>5</td>\n",
       "      <td>gasoline</td>\n",
       "      <td>audi</td>\n",
       "      <td>yes</td>\n",
       "      <td>2016-03-24 00:00:00</td>\n",
       "      <td>0</td>\n",
       "      <td>66954</td>\n",
       "      <td>2016-04-07 01:46:50</td>\n",
       "    </tr>\n",
       "    <tr>\n",
       "      <th>2</th>\n",
       "      <td>2016-03-14 12:52:21</td>\n",
       "      <td>9800</td>\n",
       "      <td>suv</td>\n",
       "      <td>2004</td>\n",
       "      <td>auto</td>\n",
       "      <td>163</td>\n",
       "      <td>grand</td>\n",
       "      <td>125000</td>\n",
       "      <td>8</td>\n",
       "      <td>gasoline</td>\n",
       "      <td>jeep</td>\n",
       "      <td>NaN</td>\n",
       "      <td>2016-03-14 00:00:00</td>\n",
       "      <td>0</td>\n",
       "      <td>90480</td>\n",
       "      <td>2016-04-05 12:47:46</td>\n",
       "    </tr>\n",
       "    <tr>\n",
       "      <th>3</th>\n",
       "      <td>2016-03-17 16:54:04</td>\n",
       "      <td>1500</td>\n",
       "      <td>small</td>\n",
       "      <td>2001</td>\n",
       "      <td>manual</td>\n",
       "      <td>75</td>\n",
       "      <td>golf</td>\n",
       "      <td>150000</td>\n",
       "      <td>6</td>\n",
       "      <td>petrol</td>\n",
       "      <td>volkswagen</td>\n",
       "      <td>no</td>\n",
       "      <td>2016-03-17 00:00:00</td>\n",
       "      <td>0</td>\n",
       "      <td>91074</td>\n",
       "      <td>2016-03-17 17:40:17</td>\n",
       "    </tr>\n",
       "    <tr>\n",
       "      <th>4</th>\n",
       "      <td>2016-03-31 17:25:20</td>\n",
       "      <td>3600</td>\n",
       "      <td>small</td>\n",
       "      <td>2008</td>\n",
       "      <td>manual</td>\n",
       "      <td>69</td>\n",
       "      <td>fabia</td>\n",
       "      <td>90000</td>\n",
       "      <td>7</td>\n",
       "      <td>gasoline</td>\n",
       "      <td>skoda</td>\n",
       "      <td>no</td>\n",
       "      <td>2016-03-31 00:00:00</td>\n",
       "      <td>0</td>\n",
       "      <td>60437</td>\n",
       "      <td>2016-04-06 10:17:21</td>\n",
       "    </tr>\n",
       "    <tr>\n",
       "      <th>5</th>\n",
       "      <td>2016-04-04 17:36:23</td>\n",
       "      <td>650</td>\n",
       "      <td>sedan</td>\n",
       "      <td>1995</td>\n",
       "      <td>manual</td>\n",
       "      <td>102</td>\n",
       "      <td>3er</td>\n",
       "      <td>150000</td>\n",
       "      <td>10</td>\n",
       "      <td>petrol</td>\n",
       "      <td>bmw</td>\n",
       "      <td>yes</td>\n",
       "      <td>2016-04-04 00:00:00</td>\n",
       "      <td>0</td>\n",
       "      <td>33775</td>\n",
       "      <td>2016-04-06 19:17:07</td>\n",
       "    </tr>\n",
       "    <tr>\n",
       "      <th>6</th>\n",
       "      <td>2016-04-01 20:48:51</td>\n",
       "      <td>2200</td>\n",
       "      <td>convertible</td>\n",
       "      <td>2004</td>\n",
       "      <td>manual</td>\n",
       "      <td>109</td>\n",
       "      <td>2_reihe</td>\n",
       "      <td>150000</td>\n",
       "      <td>8</td>\n",
       "      <td>petrol</td>\n",
       "      <td>peugeot</td>\n",
       "      <td>no</td>\n",
       "      <td>2016-04-01 00:00:00</td>\n",
       "      <td>0</td>\n",
       "      <td>67112</td>\n",
       "      <td>2016-04-05 18:18:39</td>\n",
       "    </tr>\n",
       "    <tr>\n",
       "      <th>7</th>\n",
       "      <td>2016-03-21 18:54:38</td>\n",
       "      <td>0</td>\n",
       "      <td>sedan</td>\n",
       "      <td>1980</td>\n",
       "      <td>manual</td>\n",
       "      <td>50</td>\n",
       "      <td>other</td>\n",
       "      <td>40000</td>\n",
       "      <td>7</td>\n",
       "      <td>petrol</td>\n",
       "      <td>volkswagen</td>\n",
       "      <td>no</td>\n",
       "      <td>2016-03-21 00:00:00</td>\n",
       "      <td>0</td>\n",
       "      <td>19348</td>\n",
       "      <td>2016-03-25 16:47:58</td>\n",
       "    </tr>\n",
       "    <tr>\n",
       "      <th>8</th>\n",
       "      <td>2016-04-04 23:42:13</td>\n",
       "      <td>14500</td>\n",
       "      <td>bus</td>\n",
       "      <td>2014</td>\n",
       "      <td>manual</td>\n",
       "      <td>125</td>\n",
       "      <td>c_max</td>\n",
       "      <td>30000</td>\n",
       "      <td>8</td>\n",
       "      <td>petrol</td>\n",
       "      <td>ford</td>\n",
       "      <td>NaN</td>\n",
       "      <td>2016-04-04 00:00:00</td>\n",
       "      <td>0</td>\n",
       "      <td>94505</td>\n",
       "      <td>2016-04-04 23:42:13</td>\n",
       "    </tr>\n",
       "    <tr>\n",
       "      <th>9</th>\n",
       "      <td>2016-03-17 10:53:50</td>\n",
       "      <td>999</td>\n",
       "      <td>small</td>\n",
       "      <td>1998</td>\n",
       "      <td>manual</td>\n",
       "      <td>101</td>\n",
       "      <td>golf</td>\n",
       "      <td>150000</td>\n",
       "      <td>0</td>\n",
       "      <td>NaN</td>\n",
       "      <td>volkswagen</td>\n",
       "      <td>NaN</td>\n",
       "      <td>2016-03-17 00:00:00</td>\n",
       "      <td>0</td>\n",
       "      <td>27472</td>\n",
       "      <td>2016-03-31 17:17:06</td>\n",
       "    </tr>\n",
       "  </tbody>\n",
       "</table>\n",
       "</div>"
      ],
      "text/plain": [
       "           DateCrawled  Price  VehicleType  RegistrationYear Gearbox  Power  \\\n",
       "0  2016-03-24 11:52:17    480          NaN              1993  manual      0   \n",
       "1  2016-03-24 10:58:45  18300        coupe              2011  manual    190   \n",
       "2  2016-03-14 12:52:21   9800          suv              2004    auto    163   \n",
       "3  2016-03-17 16:54:04   1500        small              2001  manual     75   \n",
       "4  2016-03-31 17:25:20   3600        small              2008  manual     69   \n",
       "5  2016-04-04 17:36:23    650        sedan              1995  manual    102   \n",
       "6  2016-04-01 20:48:51   2200  convertible              2004  manual    109   \n",
       "7  2016-03-21 18:54:38      0        sedan              1980  manual     50   \n",
       "8  2016-04-04 23:42:13  14500          bus              2014  manual    125   \n",
       "9  2016-03-17 10:53:50    999        small              1998  manual    101   \n",
       "\n",
       "     Model  Kilometer  RegistrationMonth  FuelType       Brand Repaired  \\\n",
       "0     golf     150000                  0    petrol  volkswagen      NaN   \n",
       "1      NaN     125000                  5  gasoline        audi      yes   \n",
       "2    grand     125000                  8  gasoline        jeep      NaN   \n",
       "3     golf     150000                  6    petrol  volkswagen       no   \n",
       "4    fabia      90000                  7  gasoline       skoda       no   \n",
       "5      3er     150000                 10    petrol         bmw      yes   \n",
       "6  2_reihe     150000                  8    petrol     peugeot       no   \n",
       "7    other      40000                  7    petrol  volkswagen       no   \n",
       "8    c_max      30000                  8    petrol        ford      NaN   \n",
       "9     golf     150000                  0       NaN  volkswagen      NaN   \n",
       "\n",
       "           DateCreated  NumberOfPictures  PostalCode             LastSeen  \n",
       "0  2016-03-24 00:00:00                 0       70435  2016-04-07 03:16:57  \n",
       "1  2016-03-24 00:00:00                 0       66954  2016-04-07 01:46:50  \n",
       "2  2016-03-14 00:00:00                 0       90480  2016-04-05 12:47:46  \n",
       "3  2016-03-17 00:00:00                 0       91074  2016-03-17 17:40:17  \n",
       "4  2016-03-31 00:00:00                 0       60437  2016-04-06 10:17:21  \n",
       "5  2016-04-04 00:00:00                 0       33775  2016-04-06 19:17:07  \n",
       "6  2016-04-01 00:00:00                 0       67112  2016-04-05 18:18:39  \n",
       "7  2016-03-21 00:00:00                 0       19348  2016-03-25 16:47:58  \n",
       "8  2016-04-04 00:00:00                 0       94505  2016-04-04 23:42:13  \n",
       "9  2016-03-17 00:00:00                 0       27472  2016-03-31 17:17:06  "
      ]
     },
     "metadata": {},
     "output_type": "display_data"
    },
    {
     "name": "stdout",
     "output_type": "stream",
     "text": [
      "<class 'pandas.core.frame.DataFrame'>\n",
      "RangeIndex: 354369 entries, 0 to 354368\n",
      "Data columns (total 16 columns):\n",
      " #   Column             Non-Null Count   Dtype \n",
      "---  ------             --------------   ----- \n",
      " 0   DateCrawled        354369 non-null  object\n",
      " 1   Price              354369 non-null  int64 \n",
      " 2   VehicleType        316879 non-null  object\n",
      " 3   RegistrationYear   354369 non-null  int64 \n",
      " 4   Gearbox            334536 non-null  object\n",
      " 5   Power              354369 non-null  int64 \n",
      " 6   Model              334664 non-null  object\n",
      " 7   Kilometer          354369 non-null  int64 \n",
      " 8   RegistrationMonth  354369 non-null  int64 \n",
      " 9   FuelType           321474 non-null  object\n",
      " 10  Brand              354369 non-null  object\n",
      " 11  Repaired           283215 non-null  object\n",
      " 12  DateCreated        354369 non-null  object\n",
      " 13  NumberOfPictures   354369 non-null  int64 \n",
      " 14  PostalCode         354369 non-null  int64 \n",
      " 15  LastSeen           354369 non-null  object\n",
      "dtypes: int64(7), object(9)\n",
      "memory usage: 43.3+ MB\n"
     ]
    },
    {
     "data": {
      "text/plain": [
       "None"
      ]
     },
     "metadata": {},
     "output_type": "display_data"
    },
    {
     "data": {
      "text/html": [
       "<div>\n",
       "<style scoped>\n",
       "    .dataframe tbody tr th:only-of-type {\n",
       "        vertical-align: middle;\n",
       "    }\n",
       "\n",
       "    .dataframe tbody tr th {\n",
       "        vertical-align: top;\n",
       "    }\n",
       "\n",
       "    .dataframe thead th {\n",
       "        text-align: right;\n",
       "    }\n",
       "</style>\n",
       "<table border=\"1\" class=\"dataframe\">\n",
       "  <thead>\n",
       "    <tr style=\"text-align: right;\">\n",
       "      <th></th>\n",
       "      <th>Price</th>\n",
       "      <th>RegistrationYear</th>\n",
       "      <th>Power</th>\n",
       "      <th>Kilometer</th>\n",
       "      <th>RegistrationMonth</th>\n",
       "      <th>NumberOfPictures</th>\n",
       "      <th>PostalCode</th>\n",
       "    </tr>\n",
       "  </thead>\n",
       "  <tbody>\n",
       "    <tr>\n",
       "      <th>count</th>\n",
       "      <td>354369.000000</td>\n",
       "      <td>354369.000000</td>\n",
       "      <td>354369.000000</td>\n",
       "      <td>354369.000000</td>\n",
       "      <td>354369.000000</td>\n",
       "      <td>354369.0</td>\n",
       "      <td>354369.000000</td>\n",
       "    </tr>\n",
       "    <tr>\n",
       "      <th>mean</th>\n",
       "      <td>4416.656776</td>\n",
       "      <td>2004.234448</td>\n",
       "      <td>110.094337</td>\n",
       "      <td>128211.172535</td>\n",
       "      <td>5.714645</td>\n",
       "      <td>0.0</td>\n",
       "      <td>50508.689087</td>\n",
       "    </tr>\n",
       "    <tr>\n",
       "      <th>std</th>\n",
       "      <td>4514.158514</td>\n",
       "      <td>90.227958</td>\n",
       "      <td>189.850405</td>\n",
       "      <td>37905.341530</td>\n",
       "      <td>3.726421</td>\n",
       "      <td>0.0</td>\n",
       "      <td>25783.096248</td>\n",
       "    </tr>\n",
       "    <tr>\n",
       "      <th>min</th>\n",
       "      <td>0.000000</td>\n",
       "      <td>1000.000000</td>\n",
       "      <td>0.000000</td>\n",
       "      <td>5000.000000</td>\n",
       "      <td>0.000000</td>\n",
       "      <td>0.0</td>\n",
       "      <td>1067.000000</td>\n",
       "    </tr>\n",
       "    <tr>\n",
       "      <th>25%</th>\n",
       "      <td>1050.000000</td>\n",
       "      <td>1999.000000</td>\n",
       "      <td>69.000000</td>\n",
       "      <td>125000.000000</td>\n",
       "      <td>3.000000</td>\n",
       "      <td>0.0</td>\n",
       "      <td>30165.000000</td>\n",
       "    </tr>\n",
       "    <tr>\n",
       "      <th>50%</th>\n",
       "      <td>2700.000000</td>\n",
       "      <td>2003.000000</td>\n",
       "      <td>105.000000</td>\n",
       "      <td>150000.000000</td>\n",
       "      <td>6.000000</td>\n",
       "      <td>0.0</td>\n",
       "      <td>49413.000000</td>\n",
       "    </tr>\n",
       "    <tr>\n",
       "      <th>75%</th>\n",
       "      <td>6400.000000</td>\n",
       "      <td>2008.000000</td>\n",
       "      <td>143.000000</td>\n",
       "      <td>150000.000000</td>\n",
       "      <td>9.000000</td>\n",
       "      <td>0.0</td>\n",
       "      <td>71083.000000</td>\n",
       "    </tr>\n",
       "    <tr>\n",
       "      <th>max</th>\n",
       "      <td>20000.000000</td>\n",
       "      <td>9999.000000</td>\n",
       "      <td>20000.000000</td>\n",
       "      <td>150000.000000</td>\n",
       "      <td>12.000000</td>\n",
       "      <td>0.0</td>\n",
       "      <td>99998.000000</td>\n",
       "    </tr>\n",
       "  </tbody>\n",
       "</table>\n",
       "</div>"
      ],
      "text/plain": [
       "               Price  RegistrationYear          Power      Kilometer  \\\n",
       "count  354369.000000     354369.000000  354369.000000  354369.000000   \n",
       "mean     4416.656776       2004.234448     110.094337  128211.172535   \n",
       "std      4514.158514         90.227958     189.850405   37905.341530   \n",
       "min         0.000000       1000.000000       0.000000    5000.000000   \n",
       "25%      1050.000000       1999.000000      69.000000  125000.000000   \n",
       "50%      2700.000000       2003.000000     105.000000  150000.000000   \n",
       "75%      6400.000000       2008.000000     143.000000  150000.000000   \n",
       "max     20000.000000       9999.000000   20000.000000  150000.000000   \n",
       "\n",
       "       RegistrationMonth  NumberOfPictures     PostalCode  \n",
       "count      354369.000000          354369.0  354369.000000  \n",
       "mean            5.714645               0.0   50508.689087  \n",
       "std             3.726421               0.0   25783.096248  \n",
       "min             0.000000               0.0    1067.000000  \n",
       "25%             3.000000               0.0   30165.000000  \n",
       "50%             6.000000               0.0   49413.000000  \n",
       "75%             9.000000               0.0   71083.000000  \n",
       "max            12.000000               0.0   99998.000000  "
      ]
     },
     "metadata": {},
     "output_type": "display_data"
    },
    {
     "data": {
      "image/png": "[encoded data removed]",
      "text/plain": [
       "<Figure size 1000x1000 with 9 Axes>"
      ]
     },
     "metadata": {},
     "output_type": "display_data"
    }
   ],
   "source": [
    "# функция вызывающая все методы для обзора данных\n",
    "def data_review(data):\n",
    "    print('Количество дубликатов:', data.duplicated().sum())\n",
    "    display(data.head(10))\n",
    "    display(data.info())\n",
    "    display(data.describe())\n",
    "    data.hist(figsize=(10, 10));\n",
    "    \n",
    "# вызовем функцию, чтобы вывести информацию о датафрейме под номером 0\n",
    "data_review(data)"
   ]
  },
  {
   "cell_type": "markdown",
   "metadata": {},
   "source": [
    "Для начала приведем столбцы с датами к правильному типу данных."
   ]
  },
  {
   "cell_type": "code",
   "execution_count": 6,
   "metadata": {},
   "outputs": [
    {
     "name": "stdout",
     "output_type": "stream",
     "text": [
      "У столбца DateCreated новый тип данных: datetime64[ns]\n",
      "У столбца DateCrawled новый тип данных: datetime64[ns]\n",
      "У столбца LastSeen новый тип данных: datetime64[ns]\n"
     ]
    }
   ],
   "source": [
    "date_columns = ['DateCreated', 'DateCrawled', 'LastSeen']\n",
    "\n",
    "for column in date_columns:\n",
    "    data[column] = pd.to_datetime(data[column], format='%Y-%m-%d %H:%M:%S')\n",
    "    print(f'У столбца {column} новый тип данных:', data[column].dtype)"
   ]
  },
  {
   "cell_type": "markdown",
   "metadata": {},
   "source": [
    "Выведем описание для столбцов с датами."
   ]
  },
  {
   "cell_type": "code",
   "execution_count": 7,
   "metadata": {},
   "outputs": [
    {
     "data": {
      "text/html": [
       "<div>\n",
       "<style scoped>\n",
       "    .dataframe tbody tr th:only-of-type {\n",
       "        vertical-align: middle;\n",
       "    }\n",
       "\n",
       "    .dataframe tbody tr th {\n",
       "        vertical-align: top;\n",
       "    }\n",
       "\n",
       "    .dataframe thead th {\n",
       "        text-align: right;\n",
       "    }\n",
       "</style>\n",
       "<table border=\"1\" class=\"dataframe\">\n",
       "  <thead>\n",
       "    <tr style=\"text-align: right;\">\n",
       "      <th></th>\n",
       "      <th>DateCreated</th>\n",
       "      <th>DateCrawled</th>\n",
       "      <th>LastSeen</th>\n",
       "    </tr>\n",
       "  </thead>\n",
       "  <tbody>\n",
       "    <tr>\n",
       "      <th>count</th>\n",
       "      <td>354369</td>\n",
       "      <td>354369</td>\n",
       "      <td>354369</td>\n",
       "    </tr>\n",
       "    <tr>\n",
       "      <th>unique</th>\n",
       "      <td>109</td>\n",
       "      <td>271174</td>\n",
       "      <td>179150</td>\n",
       "    </tr>\n",
       "    <tr>\n",
       "      <th>top</th>\n",
       "      <td>2016-04-03 00:00:00</td>\n",
       "      <td>2016-03-24 14:49:47</td>\n",
       "      <td>2016-04-06 13:45:54</td>\n",
       "    </tr>\n",
       "    <tr>\n",
       "      <th>freq</th>\n",
       "      <td>13719</td>\n",
       "      <td>7</td>\n",
       "      <td>17</td>\n",
       "    </tr>\n",
       "    <tr>\n",
       "      <th>first</th>\n",
       "      <td>2014-03-10 00:00:00</td>\n",
       "      <td>2016-03-05 14:06:22</td>\n",
       "      <td>2016-03-05 14:15:08</td>\n",
       "    </tr>\n",
       "    <tr>\n",
       "      <th>last</th>\n",
       "      <td>2016-04-07 00:00:00</td>\n",
       "      <td>2016-04-07 14:36:58</td>\n",
       "      <td>2016-04-07 14:58:51</td>\n",
       "    </tr>\n",
       "  </tbody>\n",
       "</table>\n",
       "</div>"
      ],
      "text/plain": [
       "                DateCreated          DateCrawled             LastSeen\n",
       "count                354369               354369               354369\n",
       "unique                  109               271174               179150\n",
       "top     2016-04-03 00:00:00  2016-03-24 14:49:47  2016-04-06 13:45:54\n",
       "freq                  13719                    7                   17\n",
       "first   2014-03-10 00:00:00  2016-03-05 14:06:22  2016-03-05 14:15:08\n",
       "last    2016-04-07 00:00:00  2016-04-07 14:36:58  2016-04-07 14:58:51"
      ]
     },
     "execution_count": 7,
     "metadata": {},
     "output_type": "execute_result"
    }
   ],
   "source": [
    "data[date_columns].describe()"
   ]
  },
  {
   "cell_type": "markdown",
   "metadata": {},
   "source": [
    "Неправильные типы данных в столбцах - это не единственная проблема в данных. Кроме того, в исходном датасете присутствуют пропуски, аномалии и дубликаты. Также присутствуют неинформативные для алгоритмов машинного обучения столбцы. Исправим эти недочеты в данных."
   ]
  },
  {
   "cell_type": "markdown",
   "metadata": {},
   "source": [
    "### Обработка дубликатов"
   ]
  },
  {
   "cell_type": "markdown",
   "metadata": {},
   "source": [
    "Сохраним размер датафрейма до всех предобработок."
   ]
  },
  {
   "cell_type": "code",
   "execution_count": 9,
   "metadata": {},
   "outputs": [
    {
     "data": {
      "text/plain": [
       "354369"
      ]
     },
     "execution_count": 9,
     "metadata": {},
     "output_type": "execute_result"
    }
   ],
   "source": [
    "df_initial_size = data.shape[0]\n",
    "df_initial_size"
   ]
  },
  {
   "cell_type": "markdown",
   "metadata": {},
   "source": [
    "В данных обнаружено 4 дубликата. Посомтрим, что это за строки. Выведем оригиналы строк вместе с повторами."
   ]
  },
  {
   "cell_type": "code",
   "execution_count": 10,
   "metadata": {},
   "outputs": [
    {
     "data": {
      "text/html": [
       "<div>\n",
       "<style scoped>\n",
       "    .dataframe tbody tr th:only-of-type {\n",
       "        vertical-align: middle;\n",
       "    }\n",
       "\n",
       "    .dataframe tbody tr th {\n",
       "        vertical-align: top;\n",
       "    }\n",
       "\n",
       "    .dataframe thead th {\n",
       "        text-align: right;\n",
       "    }\n",
       "</style>\n",
       "<table border=\"1\" class=\"dataframe\">\n",
       "  <thead>\n",
       "    <tr style=\"text-align: right;\">\n",
       "      <th></th>\n",
       "      <th>DateCrawled</th>\n",
       "      <th>Price</th>\n",
       "      <th>VehicleType</th>\n",
       "      <th>RegistrationYear</th>\n",
       "      <th>Gearbox</th>\n",
       "      <th>Power</th>\n",
       "      <th>Model</th>\n",
       "      <th>Kilometer</th>\n",
       "      <th>RegistrationMonth</th>\n",
       "      <th>FuelType</th>\n",
       "      <th>Brand</th>\n",
       "      <th>Repaired</th>\n",
       "      <th>DateCreated</th>\n",
       "      <th>NumberOfPictures</th>\n",
       "      <th>PostalCode</th>\n",
       "      <th>LastSeen</th>\n",
       "    </tr>\n",
       "  </thead>\n",
       "  <tbody>\n",
       "    <tr>\n",
       "      <th>171088</th>\n",
       "      <td>2016-03-08 18:42:48</td>\n",
       "      <td>1799</td>\n",
       "      <td>coupe</td>\n",
       "      <td>1999</td>\n",
       "      <td>auto</td>\n",
       "      <td>193</td>\n",
       "      <td>clk</td>\n",
       "      <td>20000</td>\n",
       "      <td>7</td>\n",
       "      <td>petrol</td>\n",
       "      <td>mercedes_benz</td>\n",
       "      <td>no</td>\n",
       "      <td>2016-03-08</td>\n",
       "      <td>0</td>\n",
       "      <td>89518</td>\n",
       "      <td>2016-03-09 09:46:57</td>\n",
       "    </tr>\n",
       "    <tr>\n",
       "      <th>231258</th>\n",
       "      <td>2016-03-28 00:56:10</td>\n",
       "      <td>1000</td>\n",
       "      <td>small</td>\n",
       "      <td>2002</td>\n",
       "      <td>manual</td>\n",
       "      <td>83</td>\n",
       "      <td>other</td>\n",
       "      <td>150000</td>\n",
       "      <td>1</td>\n",
       "      <td>petrol</td>\n",
       "      <td>suzuki</td>\n",
       "      <td>no</td>\n",
       "      <td>2016-03-28</td>\n",
       "      <td>0</td>\n",
       "      <td>66589</td>\n",
       "      <td>2016-03-28 08:46:21</td>\n",
       "    </tr>\n",
       "    <tr>\n",
       "      <th>258109</th>\n",
       "      <td>2016-04-03 09:01:15</td>\n",
       "      <td>4699</td>\n",
       "      <td>coupe</td>\n",
       "      <td>2003</td>\n",
       "      <td>auto</td>\n",
       "      <td>218</td>\n",
       "      <td>clk</td>\n",
       "      <td>125000</td>\n",
       "      <td>6</td>\n",
       "      <td>petrol</td>\n",
       "      <td>mercedes_benz</td>\n",
       "      <td>yes</td>\n",
       "      <td>2016-04-03</td>\n",
       "      <td>0</td>\n",
       "      <td>75196</td>\n",
       "      <td>2016-04-07 09:44:54</td>\n",
       "    </tr>\n",
       "    <tr>\n",
       "      <th>325651</th>\n",
       "      <td>2016-03-18 18:46:15</td>\n",
       "      <td>1999</td>\n",
       "      <td>wagon</td>\n",
       "      <td>2001</td>\n",
       "      <td>manual</td>\n",
       "      <td>131</td>\n",
       "      <td>passat</td>\n",
       "      <td>150000</td>\n",
       "      <td>7</td>\n",
       "      <td>gasoline</td>\n",
       "      <td>volkswagen</td>\n",
       "      <td>no</td>\n",
       "      <td>2016-03-18</td>\n",
       "      <td>0</td>\n",
       "      <td>36391</td>\n",
       "      <td>2016-03-18 18:46:15</td>\n",
       "    </tr>\n",
       "  </tbody>\n",
       "</table>\n",
       "</div>"
      ],
      "text/plain": [
       "               DateCrawled  Price VehicleType  RegistrationYear Gearbox  \\\n",
       "171088 2016-03-08 18:42:48   1799       coupe              1999    auto   \n",
       "231258 2016-03-28 00:56:10   1000       small              2002  manual   \n",
       "258109 2016-04-03 09:01:15   4699       coupe              2003    auto   \n",
       "325651 2016-03-18 18:46:15   1999       wagon              2001  manual   \n",
       "\n",
       "        Power   Model  Kilometer  RegistrationMonth  FuelType          Brand  \\\n",
       "171088    193     clk      20000                  7    petrol  mercedes_benz   \n",
       "231258     83   other     150000                  1    petrol         suzuki   \n",
       "258109    218     clk     125000                  6    petrol  mercedes_benz   \n",
       "325651    131  passat     150000                  7  gasoline     volkswagen   \n",
       "\n",
       "       Repaired DateCreated  NumberOfPictures  PostalCode            LastSeen  \n",
       "171088       no  2016-03-08                 0       89518 2016-03-09 09:46:57  \n",
       "231258       no  2016-03-28                 0       66589 2016-03-28 08:46:21  \n",
       "258109      yes  2016-04-03                 0       75196 2016-04-07 09:44:54  \n",
       "325651       no  2016-03-18                 0       36391 2016-03-18 18:46:15  "
      ]
     },
     "execution_count": 10,
     "metadata": {},
     "output_type": "execute_result"
    }
   ],
   "source": [
    "data[data.duplicated(keep='first')]"
   ]
  },
  {
   "cell_type": "markdown",
   "metadata": {},
   "source": [
    "Количество убликатов довольно небольшое, мы можем их спокойно удалить, и это не отразиться на анализе. Исключим дубликаты из выборки."
   ]
  },
  {
   "cell_type": "code",
   "execution_count": 11,
   "metadata": {},
   "outputs": [
    {
     "name": "stdout",
     "output_type": "stream",
     "text": [
      "Количество дубликатов: 0\n"
     ]
    }
   ],
   "source": [
    "data = data.drop_duplicates()\n",
    "print('Количество дубликатов:', data.duplicated().sum())"
   ]
  },
  {
   "cell_type": "markdown",
   "metadata": {},
   "source": [
    "### Обработка аномалий"
   ]
  },
  {
   "cell_type": "markdown",
   "metadata": {},
   "source": [
    "Рассмотрим столбец `RegistrationYear`. В нём можно увидеть неправодобнобные значения года регистрации автомобиля."
   ]
  },
  {
   "cell_type": "code",
   "execution_count": 12,
   "metadata": {
    "scrolled": false
   },
   "outputs": [
    {
     "data": {
      "text/html": [
       "<div>\n",
       "<style scoped>\n",
       "    .dataframe tbody tr th:only-of-type {\n",
       "        vertical-align: middle;\n",
       "    }\n",
       "\n",
       "    .dataframe tbody tr th {\n",
       "        vertical-align: top;\n",
       "    }\n",
       "\n",
       "    .dataframe thead th {\n",
       "        text-align: right;\n",
       "    }\n",
       "</style>\n",
       "<table border=\"1\" class=\"dataframe\">\n",
       "  <thead>\n",
       "    <tr style=\"text-align: right;\">\n",
       "      <th></th>\n",
       "      <th>DateCrawled</th>\n",
       "      <th>Price</th>\n",
       "      <th>VehicleType</th>\n",
       "      <th>RegistrationYear</th>\n",
       "      <th>Gearbox</th>\n",
       "      <th>Power</th>\n",
       "      <th>Model</th>\n",
       "      <th>Kilometer</th>\n",
       "      <th>RegistrationMonth</th>\n",
       "      <th>FuelType</th>\n",
       "      <th>Brand</th>\n",
       "      <th>Repaired</th>\n",
       "      <th>DateCreated</th>\n",
       "      <th>NumberOfPictures</th>\n",
       "      <th>PostalCode</th>\n",
       "      <th>LastSeen</th>\n",
       "    </tr>\n",
       "  </thead>\n",
       "  <tbody>\n",
       "    <tr>\n",
       "      <th>216770</th>\n",
       "      <td>2016-04-02 14:39:35</td>\n",
       "      <td>60</td>\n",
       "      <td>NaN</td>\n",
       "      <td>1000</td>\n",
       "      <td>NaN</td>\n",
       "      <td>0</td>\n",
       "      <td>corsa</td>\n",
       "      <td>5000</td>\n",
       "      <td>0</td>\n",
       "      <td>NaN</td>\n",
       "      <td>opel</td>\n",
       "      <td>NaN</td>\n",
       "      <td>2016-04-02</td>\n",
       "      <td>0</td>\n",
       "      <td>41844</td>\n",
       "      <td>2016-04-02 14:39:35</td>\n",
       "    </tr>\n",
       "    <tr>\n",
       "      <th>230741</th>\n",
       "      <td>2016-03-19 12:37:35</td>\n",
       "      <td>0</td>\n",
       "      <td>NaN</td>\n",
       "      <td>1000</td>\n",
       "      <td>NaN</td>\n",
       "      <td>0</td>\n",
       "      <td>NaN</td>\n",
       "      <td>5000</td>\n",
       "      <td>0</td>\n",
       "      <td>NaN</td>\n",
       "      <td>sonstige_autos</td>\n",
       "      <td>NaN</td>\n",
       "      <td>2016-03-19</td>\n",
       "      <td>0</td>\n",
       "      <td>36304</td>\n",
       "      <td>2016-03-19 12:37:35</td>\n",
       "    </tr>\n",
       "    <tr>\n",
       "      <th>55605</th>\n",
       "      <td>2016-03-10 19:50:17</td>\n",
       "      <td>500</td>\n",
       "      <td>NaN</td>\n",
       "      <td>1000</td>\n",
       "      <td>NaN</td>\n",
       "      <td>0</td>\n",
       "      <td>NaN</td>\n",
       "      <td>5000</td>\n",
       "      <td>0</td>\n",
       "      <td>NaN</td>\n",
       "      <td>citroen</td>\n",
       "      <td>yes</td>\n",
       "      <td>2016-03-10</td>\n",
       "      <td>0</td>\n",
       "      <td>24811</td>\n",
       "      <td>2016-04-06 03:45:53</td>\n",
       "    </tr>\n",
       "    <tr>\n",
       "      <th>174893</th>\n",
       "      <td>2016-03-05 19:48:45</td>\n",
       "      <td>0</td>\n",
       "      <td>NaN</td>\n",
       "      <td>1000</td>\n",
       "      <td>NaN</td>\n",
       "      <td>1000</td>\n",
       "      <td>golf</td>\n",
       "      <td>5000</td>\n",
       "      <td>4</td>\n",
       "      <td>petrol</td>\n",
       "      <td>volkswagen</td>\n",
       "      <td>NaN</td>\n",
       "      <td>2016-03-05</td>\n",
       "      <td>0</td>\n",
       "      <td>35716</td>\n",
       "      <td>2016-03-05 22:27:55</td>\n",
       "    </tr>\n",
       "    <tr>\n",
       "      <th>71459</th>\n",
       "      <td>2016-03-27 23:46:28</td>\n",
       "      <td>500</td>\n",
       "      <td>NaN</td>\n",
       "      <td>1000</td>\n",
       "      <td>NaN</td>\n",
       "      <td>0</td>\n",
       "      <td>golf</td>\n",
       "      <td>5000</td>\n",
       "      <td>0</td>\n",
       "      <td>NaN</td>\n",
       "      <td>volkswagen</td>\n",
       "      <td>NaN</td>\n",
       "      <td>2016-03-27</td>\n",
       "      <td>0</td>\n",
       "      <td>91628</td>\n",
       "      <td>2016-03-29 13:46:49</td>\n",
       "    </tr>\n",
       "    <tr>\n",
       "      <th>119442</th>\n",
       "      <td>2016-03-18 10:37:00</td>\n",
       "      <td>1</td>\n",
       "      <td>NaN</td>\n",
       "      <td>1000</td>\n",
       "      <td>NaN</td>\n",
       "      <td>1000</td>\n",
       "      <td>3er</td>\n",
       "      <td>5000</td>\n",
       "      <td>0</td>\n",
       "      <td>NaN</td>\n",
       "      <td>bmw</td>\n",
       "      <td>NaN</td>\n",
       "      <td>2016-03-18</td>\n",
       "      <td>0</td>\n",
       "      <td>94086</td>\n",
       "      <td>2016-04-05 22:16:13</td>\n",
       "    </tr>\n",
       "    <tr>\n",
       "      <th>60017</th>\n",
       "      <td>2016-03-10 12:38:01</td>\n",
       "      <td>80</td>\n",
       "      <td>NaN</td>\n",
       "      <td>1000</td>\n",
       "      <td>NaN</td>\n",
       "      <td>0</td>\n",
       "      <td>NaN</td>\n",
       "      <td>5000</td>\n",
       "      <td>0</td>\n",
       "      <td>NaN</td>\n",
       "      <td>volkswagen</td>\n",
       "      <td>NaN</td>\n",
       "      <td>2016-03-10</td>\n",
       "      <td>0</td>\n",
       "      <td>93107</td>\n",
       "      <td>2016-04-07 04:45:57</td>\n",
       "    </tr>\n",
       "    <tr>\n",
       "      <th>16062</th>\n",
       "      <td>2016-03-29 23:42:16</td>\n",
       "      <td>190</td>\n",
       "      <td>NaN</td>\n",
       "      <td>1000</td>\n",
       "      <td>NaN</td>\n",
       "      <td>0</td>\n",
       "      <td>mondeo</td>\n",
       "      <td>5000</td>\n",
       "      <td>0</td>\n",
       "      <td>NaN</td>\n",
       "      <td>ford</td>\n",
       "      <td>NaN</td>\n",
       "      <td>2016-03-29</td>\n",
       "      <td>0</td>\n",
       "      <td>47166</td>\n",
       "      <td>2016-04-06 10:44:58</td>\n",
       "    </tr>\n",
       "    <tr>\n",
       "      <th>66198</th>\n",
       "      <td>2016-03-08 14:50:20</td>\n",
       "      <td>1300</td>\n",
       "      <td>NaN</td>\n",
       "      <td>1000</td>\n",
       "      <td>auto</td>\n",
       "      <td>0</td>\n",
       "      <td>NaN</td>\n",
       "      <td>5000</td>\n",
       "      <td>6</td>\n",
       "      <td>petrol</td>\n",
       "      <td>sonstige_autos</td>\n",
       "      <td>NaN</td>\n",
       "      <td>2016-03-08</td>\n",
       "      <td>0</td>\n",
       "      <td>13156</td>\n",
       "      <td>2016-03-17 08:17:42</td>\n",
       "    </tr>\n",
       "    <tr>\n",
       "      <th>135865</th>\n",
       "      <td>2016-03-07 14:59:17</td>\n",
       "      <td>16500</td>\n",
       "      <td>NaN</td>\n",
       "      <td>1000</td>\n",
       "      <td>NaN</td>\n",
       "      <td>0</td>\n",
       "      <td>NaN</td>\n",
       "      <td>5000</td>\n",
       "      <td>0</td>\n",
       "      <td>NaN</td>\n",
       "      <td>sonstige_autos</td>\n",
       "      <td>NaN</td>\n",
       "      <td>2016-03-07</td>\n",
       "      <td>0</td>\n",
       "      <td>23879</td>\n",
       "      <td>2016-03-09 19:15:47</td>\n",
       "    </tr>\n",
       "  </tbody>\n",
       "</table>\n",
       "</div>"
      ],
      "text/plain": [
       "               DateCrawled  Price VehicleType  RegistrationYear Gearbox  \\\n",
       "216770 2016-04-02 14:39:35     60         NaN              1000     NaN   \n",
       "230741 2016-03-19 12:37:35      0         NaN              1000     NaN   \n",
       "55605  2016-03-10 19:50:17    500         NaN              1000     NaN   \n",
       "174893 2016-03-05 19:48:45      0         NaN              1000     NaN   \n",
       "71459  2016-03-27 23:46:28    500         NaN              1000     NaN   \n",
       "119442 2016-03-18 10:37:00      1         NaN              1000     NaN   \n",
       "60017  2016-03-10 12:38:01     80         NaN              1000     NaN   \n",
       "16062  2016-03-29 23:42:16    190         NaN              1000     NaN   \n",
       "66198  2016-03-08 14:50:20   1300         NaN              1000    auto   \n",
       "135865 2016-03-07 14:59:17  16500         NaN              1000     NaN   \n",
       "\n",
       "        Power   Model  Kilometer  RegistrationMonth FuelType           Brand  \\\n",
       "216770      0   corsa       5000                  0      NaN            opel   \n",
       "230741      0     NaN       5000                  0      NaN  sonstige_autos   \n",
       "55605       0     NaN       5000                  0      NaN         citroen   \n",
       "174893   1000    golf       5000                  4   petrol      volkswagen   \n",
       "71459       0    golf       5000                  0      NaN      volkswagen   \n",
       "119442   1000     3er       5000                  0      NaN             bmw   \n",
       "60017       0     NaN       5000                  0      NaN      volkswagen   \n",
       "16062       0  mondeo       5000                  0      NaN            ford   \n",
       "66198       0     NaN       5000                  6   petrol  sonstige_autos   \n",
       "135865      0     NaN       5000                  0      NaN  sonstige_autos   \n",
       "\n",
       "       Repaired DateCreated  NumberOfPictures  PostalCode            LastSeen  \n",
       "216770      NaN  2016-04-02                 0       41844 2016-04-02 14:39:35  \n",
       "230741      NaN  2016-03-19                 0       36304 2016-03-19 12:37:35  \n",
       "55605       yes  2016-03-10                 0       24811 2016-04-06 03:45:53  \n",
       "174893      NaN  2016-03-05                 0       35716 2016-03-05 22:27:55  \n",
       "71459       NaN  2016-03-27                 0       91628 2016-03-29 13:46:49  \n",
       "119442      NaN  2016-03-18                 0       94086 2016-04-05 22:16:13  \n",
       "60017       NaN  2016-03-10                 0       93107 2016-04-07 04:45:57  \n",
       "16062       NaN  2016-03-29                 0       47166 2016-04-06 10:44:58  \n",
       "66198       NaN  2016-03-08                 0       13156 2016-03-17 08:17:42  \n",
       "135865      NaN  2016-03-07                 0       23879 2016-03-09 19:15:47  "
      ]
     },
     "execution_count": 12,
     "metadata": {},
     "output_type": "execute_result"
    }
   ],
   "source": [
    "data[data['RegistrationYear'] == 1000].sample(10, random_state=RND_STATE)"
   ]
  },
  {
   "cell_type": "markdown",
   "metadata": {},
   "source": [
    "Логически мы понимаем, что машина не может быть зарегестрированна в 1000-ом году. К тому же, судя по данной выборке, строки с некорректной датой регистрации содержат и другие проблемы, такие как пропуски во многих признаках. Это просто по большей части непригодные данные.\n",
    "\n",
    "Посмотрим на уникальные значения годов, чтобы сформировать характерные для нормы границы."
   ]
  },
  {
   "cell_type": "code",
   "execution_count": 13,
   "metadata": {},
   "outputs": [
    {
     "data": {
      "text/plain": [
       "array([1993, 2011, 2004, 2001, 2008, 1995, 1980, 2014, 1998, 2005, 1910,\n",
       "       2016, 2007, 2009, 2002, 2018, 1997, 1990, 2017, 1981, 2003, 1994,\n",
       "       1991, 1984, 2006, 1999, 2012, 2010, 2000, 1992, 2013, 1996, 1985,\n",
       "       1989, 2015, 1982, 1976, 1983, 1973, 1111, 1969, 1971, 1987, 1986,\n",
       "       1988, 1970, 1965, 1945, 1925, 1974, 1979, 1955, 1978, 1972, 1968,\n",
       "       1977, 1961, 1960, 1966, 1975, 1963, 1964, 5000, 1954, 1958, 1967,\n",
       "       1959, 9999, 1956, 3200, 1000, 1941, 8888, 1500, 2200, 4100, 1962,\n",
       "       1929, 1957, 1940, 3000, 2066, 1949, 2019, 1937, 1951, 1800, 1953,\n",
       "       1234, 8000, 5300, 9000, 2900, 6000, 5900, 5911, 1933, 1400, 1950,\n",
       "       4000, 1948, 1952, 1200, 8500, 1932, 1255, 3700, 3800, 4800, 1942,\n",
       "       7000, 1935, 1936, 6500, 1923, 2290, 2500, 1930, 1001, 9450, 1944,\n",
       "       1943, 1934, 1938, 1688, 2800, 1253, 1928, 1919, 5555, 5600, 1600,\n",
       "       2222, 1039, 9996, 1300, 8455, 1931, 1915, 4500, 1920, 1602, 7800,\n",
       "       9229, 1947, 1927, 7100, 8200, 1946, 7500, 3500], dtype=int64)"
      ]
     },
     "execution_count": 13,
     "metadata": {},
     "output_type": "execute_result"
    }
   ],
   "source": [
    "data['RegistrationYear'].unique()"
   ]
  },
  {
   "cell_type": "markdown",
   "metadata": {},
   "source": [
    "Из описания столбцов с датами мы знаем, что самая поздняя дата скачивания объявления из базы приходится на 2016 год, следовательно в качестве верхней границы мы должны выбрать это значение. В качестве нижней границы 1940 год. Это кажется разумным порогом и сохранит достаточно большую часть выборки."
   ]
  },
  {
   "cell_type": "code",
   "execution_count": 14,
   "metadata": {},
   "outputs": [
    {
     "data": {
      "text/plain": [
       "14752"
      ]
     },
     "execution_count": 14,
     "metadata": {},
     "output_type": "execute_result"
    }
   ],
   "source": [
    "len(data) - len(data[(data['RegistrationYear'] >= 1940) & (data['RegistrationYear'] <= 2016)])"
   ]
  },
  {
   "cell_type": "markdown",
   "metadata": {},
   "source": [
    "В результате сокращения исходный датафрейм потеряет около 4-5% данных. Это приемлимые значения, исключим строки с некорректными годами из выборки."
   ]
  },
  {
   "cell_type": "code",
   "execution_count": 15,
   "metadata": {},
   "outputs": [
    {
     "data": {
      "text/plain": [
       "339613"
      ]
     },
     "execution_count": 15,
     "metadata": {},
     "output_type": "execute_result"
    }
   ],
   "source": [
    "data = data[(data['RegistrationYear'] >= 1940) & (data['RegistrationYear'] <= 2016)]\n",
    "data.shape[0]"
   ]
  },
  {
   "cell_type": "markdown",
   "metadata": {},
   "source": [
    "Рассмотрим столбец `Power`."
   ]
  },
  {
   "cell_type": "code",
   "execution_count": 16,
   "metadata": {},
   "outputs": [
    {
     "data": {
      "text/plain": [
       "count    339613.000000\n",
       "mean        111.042849\n",
       "std         186.901753\n",
       "min           0.000000\n",
       "25%          69.000000\n",
       "50%         105.000000\n",
       "75%         143.000000\n",
       "max       20000.000000\n",
       "Name: Power, dtype: float64"
      ]
     },
     "execution_count": 16,
     "metadata": {},
     "output_type": "execute_result"
    }
   ],
   "source": [
    "data['Power'].describe()"
   ]
  },
  {
   "cell_type": "markdown",
   "metadata": {},
   "source": [
    "Довольно странными выглядят значения 0 и 20000 лошадиных сил. "
   ]
  },
  {
   "cell_type": "code",
   "execution_count": 17,
   "metadata": {},
   "outputs": [
    {
     "data": {
      "text/html": [
       "<div>\n",
       "<style scoped>\n",
       "    .dataframe tbody tr th:only-of-type {\n",
       "        vertical-align: middle;\n",
       "    }\n",
       "\n",
       "    .dataframe tbody tr th {\n",
       "        vertical-align: top;\n",
       "    }\n",
       "\n",
       "    .dataframe thead th {\n",
       "        text-align: right;\n",
       "    }\n",
       "</style>\n",
       "<table border=\"1\" class=\"dataframe\">\n",
       "  <thead>\n",
       "    <tr style=\"text-align: right;\">\n",
       "      <th></th>\n",
       "      <th>DateCrawled</th>\n",
       "      <th>Price</th>\n",
       "      <th>VehicleType</th>\n",
       "      <th>RegistrationYear</th>\n",
       "      <th>Gearbox</th>\n",
       "      <th>Power</th>\n",
       "      <th>Model</th>\n",
       "      <th>Kilometer</th>\n",
       "      <th>RegistrationMonth</th>\n",
       "      <th>FuelType</th>\n",
       "      <th>Brand</th>\n",
       "      <th>Repaired</th>\n",
       "      <th>DateCreated</th>\n",
       "      <th>NumberOfPictures</th>\n",
       "      <th>PostalCode</th>\n",
       "      <th>LastSeen</th>\n",
       "    </tr>\n",
       "  </thead>\n",
       "  <tbody>\n",
       "    <tr>\n",
       "      <th>197896</th>\n",
       "      <td>2016-03-11 13:58:35</td>\n",
       "      <td>900</td>\n",
       "      <td>wagon</td>\n",
       "      <td>1997</td>\n",
       "      <td>manual</td>\n",
       "      <td>11011</td>\n",
       "      <td>a4</td>\n",
       "      <td>150000</td>\n",
       "      <td>5</td>\n",
       "      <td>gasoline</td>\n",
       "      <td>audi</td>\n",
       "      <td>no</td>\n",
       "      <td>2016-03-11</td>\n",
       "      <td>0</td>\n",
       "      <td>82467</td>\n",
       "      <td>2016-03-19 21:44:26</td>\n",
       "    </tr>\n",
       "    <tr>\n",
       "      <th>232025</th>\n",
       "      <td>2016-03-14 11:38:40</td>\n",
       "      <td>0</td>\n",
       "      <td>wagon</td>\n",
       "      <td>1991</td>\n",
       "      <td>auto</td>\n",
       "      <td>9710</td>\n",
       "      <td>e_klasse</td>\n",
       "      <td>150000</td>\n",
       "      <td>1</td>\n",
       "      <td>petrol</td>\n",
       "      <td>mercedes_benz</td>\n",
       "      <td>no</td>\n",
       "      <td>2016-03-14</td>\n",
       "      <td>0</td>\n",
       "      <td>41836</td>\n",
       "      <td>2016-03-14 11:38:40</td>\n",
       "    </tr>\n",
       "    <tr>\n",
       "      <th>33952</th>\n",
       "      <td>2016-03-09 11:37:03</td>\n",
       "      <td>3740</td>\n",
       "      <td>small</td>\n",
       "      <td>2006</td>\n",
       "      <td>manual</td>\n",
       "      <td>6920</td>\n",
       "      <td>aygo</td>\n",
       "      <td>90000</td>\n",
       "      <td>10</td>\n",
       "      <td>NaN</td>\n",
       "      <td>toyota</td>\n",
       "      <td>no</td>\n",
       "      <td>2016-03-09</td>\n",
       "      <td>0</td>\n",
       "      <td>94116</td>\n",
       "      <td>2016-03-17 05:16:32</td>\n",
       "    </tr>\n",
       "    <tr>\n",
       "      <th>260878</th>\n",
       "      <td>2016-03-20 08:36:59</td>\n",
       "      <td>1500</td>\n",
       "      <td>wagon</td>\n",
       "      <td>2006</td>\n",
       "      <td>manual</td>\n",
       "      <td>10910</td>\n",
       "      <td>NaN</td>\n",
       "      <td>20000</td>\n",
       "      <td>3</td>\n",
       "      <td>petrol</td>\n",
       "      <td>peugeot</td>\n",
       "      <td>yes</td>\n",
       "      <td>2016-03-20</td>\n",
       "      <td>0</td>\n",
       "      <td>56567</td>\n",
       "      <td>2016-03-20 15:42:16</td>\n",
       "    </tr>\n",
       "    <tr>\n",
       "      <th>142476</th>\n",
       "      <td>2016-04-01 15:57:34</td>\n",
       "      <td>8600</td>\n",
       "      <td>other</td>\n",
       "      <td>2007</td>\n",
       "      <td>NaN</td>\n",
       "      <td>3500</td>\n",
       "      <td>other</td>\n",
       "      <td>150000</td>\n",
       "      <td>12</td>\n",
       "      <td>NaN</td>\n",
       "      <td>volkswagen</td>\n",
       "      <td>NaN</td>\n",
       "      <td>2016-04-01</td>\n",
       "      <td>0</td>\n",
       "      <td>30855</td>\n",
       "      <td>2016-04-07 13:50:34</td>\n",
       "    </tr>\n",
       "    <tr>\n",
       "      <th>309245</th>\n",
       "      <td>2016-04-02 08:55:22</td>\n",
       "      <td>950</td>\n",
       "      <td>small</td>\n",
       "      <td>1998</td>\n",
       "      <td>manual</td>\n",
       "      <td>7511</td>\n",
       "      <td>NaN</td>\n",
       "      <td>150000</td>\n",
       "      <td>3</td>\n",
       "      <td>petrol</td>\n",
       "      <td>volkswagen</td>\n",
       "      <td>no</td>\n",
       "      <td>2016-04-02</td>\n",
       "      <td>0</td>\n",
       "      <td>84339</td>\n",
       "      <td>2016-04-06 07:17:31</td>\n",
       "    </tr>\n",
       "    <tr>\n",
       "      <th>87830</th>\n",
       "      <td>2016-03-15 21:55:11</td>\n",
       "      <td>2550</td>\n",
       "      <td>small</td>\n",
       "      <td>2004</td>\n",
       "      <td>auto</td>\n",
       "      <td>6226</td>\n",
       "      <td>fortwo</td>\n",
       "      <td>125000</td>\n",
       "      <td>5</td>\n",
       "      <td>petrol</td>\n",
       "      <td>smart</td>\n",
       "      <td>no</td>\n",
       "      <td>2016-03-15</td>\n",
       "      <td>0</td>\n",
       "      <td>12359</td>\n",
       "      <td>2016-04-07 07:45:21</td>\n",
       "    </tr>\n",
       "    <tr>\n",
       "      <th>216993</th>\n",
       "      <td>2016-03-10 08:57:25</td>\n",
       "      <td>11950</td>\n",
       "      <td>convertible</td>\n",
       "      <td>2008</td>\n",
       "      <td>manual</td>\n",
       "      <td>16312</td>\n",
       "      <td>a4</td>\n",
       "      <td>20000</td>\n",
       "      <td>4</td>\n",
       "      <td>petrol</td>\n",
       "      <td>audi</td>\n",
       "      <td>no</td>\n",
       "      <td>2016-03-10</td>\n",
       "      <td>0</td>\n",
       "      <td>51647</td>\n",
       "      <td>2016-03-17 09:16:19</td>\n",
       "    </tr>\n",
       "    <tr>\n",
       "      <th>289174</th>\n",
       "      <td>2016-04-03 23:25:35</td>\n",
       "      <td>7799</td>\n",
       "      <td>NaN</td>\n",
       "      <td>2004</td>\n",
       "      <td>auto</td>\n",
       "      <td>2004</td>\n",
       "      <td>NaN</td>\n",
       "      <td>150000</td>\n",
       "      <td>6</td>\n",
       "      <td>petrol</td>\n",
       "      <td>mercedes_benz</td>\n",
       "      <td>yes</td>\n",
       "      <td>2016-04-03</td>\n",
       "      <td>0</td>\n",
       "      <td>55252</td>\n",
       "      <td>2016-04-05 12:10:25</td>\n",
       "    </tr>\n",
       "    <tr>\n",
       "      <th>79981</th>\n",
       "      <td>2016-03-27 13:49:10</td>\n",
       "      <td>5500</td>\n",
       "      <td>convertible</td>\n",
       "      <td>2002</td>\n",
       "      <td>manual</td>\n",
       "      <td>2016</td>\n",
       "      <td>3er</td>\n",
       "      <td>150000</td>\n",
       "      <td>2</td>\n",
       "      <td>petrol</td>\n",
       "      <td>bmw</td>\n",
       "      <td>NaN</td>\n",
       "      <td>2016-03-27</td>\n",
       "      <td>0</td>\n",
       "      <td>74538</td>\n",
       "      <td>2016-04-07 09:46:13</td>\n",
       "    </tr>\n",
       "  </tbody>\n",
       "</table>\n",
       "</div>"
      ],
      "text/plain": [
       "               DateCrawled  Price  VehicleType  RegistrationYear Gearbox  \\\n",
       "197896 2016-03-11 13:58:35    900        wagon              1997  manual   \n",
       "232025 2016-03-14 11:38:40      0        wagon              1991    auto   \n",
       "33952  2016-03-09 11:37:03   3740        small              2006  manual   \n",
       "260878 2016-03-20 08:36:59   1500        wagon              2006  manual   \n",
       "142476 2016-04-01 15:57:34   8600        other              2007     NaN   \n",
       "309245 2016-04-02 08:55:22    950        small              1998  manual   \n",
       "87830  2016-03-15 21:55:11   2550        small              2004    auto   \n",
       "216993 2016-03-10 08:57:25  11950  convertible              2008  manual   \n",
       "289174 2016-04-03 23:25:35   7799          NaN              2004    auto   \n",
       "79981  2016-03-27 13:49:10   5500  convertible              2002  manual   \n",
       "\n",
       "        Power     Model  Kilometer  RegistrationMonth  FuelType  \\\n",
       "197896  11011        a4     150000                  5  gasoline   \n",
       "232025   9710  e_klasse     150000                  1    petrol   \n",
       "33952    6920      aygo      90000                 10       NaN   \n",
       "260878  10910       NaN      20000                  3    petrol   \n",
       "142476   3500     other     150000                 12       NaN   \n",
       "309245   7511       NaN     150000                  3    petrol   \n",
       "87830    6226    fortwo     125000                  5    petrol   \n",
       "216993  16312        a4      20000                  4    petrol   \n",
       "289174   2004       NaN     150000                  6    petrol   \n",
       "79981    2016       3er     150000                  2    petrol   \n",
       "\n",
       "                Brand Repaired DateCreated  NumberOfPictures  PostalCode  \\\n",
       "197896           audi       no  2016-03-11                 0       82467   \n",
       "232025  mercedes_benz       no  2016-03-14                 0       41836   \n",
       "33952          toyota       no  2016-03-09                 0       94116   \n",
       "260878        peugeot      yes  2016-03-20                 0       56567   \n",
       "142476     volkswagen      NaN  2016-04-01                 0       30855   \n",
       "309245     volkswagen       no  2016-04-02                 0       84339   \n",
       "87830           smart       no  2016-03-15                 0       12359   \n",
       "216993           audi       no  2016-03-10                 0       51647   \n",
       "289174  mercedes_benz      yes  2016-04-03                 0       55252   \n",
       "79981             bmw      NaN  2016-03-27                 0       74538   \n",
       "\n",
       "                  LastSeen  \n",
       "197896 2016-03-19 21:44:26  \n",
       "232025 2016-03-14 11:38:40  \n",
       "33952  2016-03-17 05:16:32  \n",
       "260878 2016-03-20 15:42:16  \n",
       "142476 2016-04-07 13:50:34  \n",
       "309245 2016-04-06 07:17:31  \n",
       "87830  2016-04-07 07:45:21  \n",
       "216993 2016-03-17 09:16:19  \n",
       "289174 2016-04-05 12:10:25  \n",
       "79981  2016-04-07 09:46:13  "
      ]
     },
     "execution_count": 17,
     "metadata": {},
     "output_type": "execute_result"
    }
   ],
   "source": [
    "data[data['Power'] > 2000].sample(10, random_state=RND_STATE)"
   ]
  },
  {
   "cell_type": "code",
   "execution_count": 18,
   "metadata": {},
   "outputs": [
    {
     "data": {
      "text/plain": [
       "109"
      ]
     },
     "execution_count": 18,
     "metadata": {},
     "output_type": "execute_result"
    }
   ],
   "source": [
    "len(data[data['Power'] > 2000])"
   ]
  },
  {
   "cell_type": "markdown",
   "metadata": {},
   "source": [
    "В выборке 109 объекто с мощностью более 2000 лошадиных сил. Причем, можно увидеть даже легковые автомобили. Позиции с такой мощностью наверняка аномальны, исключим их из выборки."
   ]
  },
  {
   "cell_type": "code",
   "execution_count": 19,
   "metadata": {},
   "outputs": [
    {
     "data": {
      "text/plain": [
       "339504"
      ]
     },
     "execution_count": 19,
     "metadata": {},
     "output_type": "execute_result"
    }
   ],
   "source": [
    "data = data[data['Power'] <= 2000]\n",
    "len(data)"
   ]
  },
  {
   "cell_type": "code",
   "execution_count": 20,
   "metadata": {},
   "outputs": [
    {
     "data": {
      "text/html": [
       "<div>\n",
       "<style scoped>\n",
       "    .dataframe tbody tr th:only-of-type {\n",
       "        vertical-align: middle;\n",
       "    }\n",
       "\n",
       "    .dataframe tbody tr th {\n",
       "        vertical-align: top;\n",
       "    }\n",
       "\n",
       "    .dataframe thead th {\n",
       "        text-align: right;\n",
       "    }\n",
       "</style>\n",
       "<table border=\"1\" class=\"dataframe\">\n",
       "  <thead>\n",
       "    <tr style=\"text-align: right;\">\n",
       "      <th></th>\n",
       "      <th>DateCrawled</th>\n",
       "      <th>Price</th>\n",
       "      <th>VehicleType</th>\n",
       "      <th>RegistrationYear</th>\n",
       "      <th>Gearbox</th>\n",
       "      <th>Power</th>\n",
       "      <th>Model</th>\n",
       "      <th>Kilometer</th>\n",
       "      <th>RegistrationMonth</th>\n",
       "      <th>FuelType</th>\n",
       "      <th>Brand</th>\n",
       "      <th>Repaired</th>\n",
       "      <th>DateCreated</th>\n",
       "      <th>NumberOfPictures</th>\n",
       "      <th>PostalCode</th>\n",
       "      <th>LastSeen</th>\n",
       "    </tr>\n",
       "  </thead>\n",
       "  <tbody>\n",
       "    <tr>\n",
       "      <th>79602</th>\n",
       "      <td>2016-03-12 11:00:02</td>\n",
       "      <td>699</td>\n",
       "      <td>NaN</td>\n",
       "      <td>1970</td>\n",
       "      <td>NaN</td>\n",
       "      <td>0</td>\n",
       "      <td>NaN</td>\n",
       "      <td>100000</td>\n",
       "      <td>0</td>\n",
       "      <td>NaN</td>\n",
       "      <td>sonstige_autos</td>\n",
       "      <td>NaN</td>\n",
       "      <td>2016-03-12</td>\n",
       "      <td>0</td>\n",
       "      <td>6369</td>\n",
       "      <td>2016-03-20 09:16:29</td>\n",
       "    </tr>\n",
       "    <tr>\n",
       "      <th>264117</th>\n",
       "      <td>2016-03-29 13:56:22</td>\n",
       "      <td>700</td>\n",
       "      <td>sedan</td>\n",
       "      <td>1999</td>\n",
       "      <td>manual</td>\n",
       "      <td>0</td>\n",
       "      <td>other</td>\n",
       "      <td>100000</td>\n",
       "      <td>0</td>\n",
       "      <td>NaN</td>\n",
       "      <td>citroen</td>\n",
       "      <td>no</td>\n",
       "      <td>2016-03-29</td>\n",
       "      <td>0</td>\n",
       "      <td>3053</td>\n",
       "      <td>2016-03-31 06:44:32</td>\n",
       "    </tr>\n",
       "    <tr>\n",
       "      <th>16705</th>\n",
       "      <td>2016-03-07 04:40:47</td>\n",
       "      <td>4200</td>\n",
       "      <td>NaN</td>\n",
       "      <td>2016</td>\n",
       "      <td>manual</td>\n",
       "      <td>0</td>\n",
       "      <td>corsa</td>\n",
       "      <td>150000</td>\n",
       "      <td>11</td>\n",
       "      <td>petrol</td>\n",
       "      <td>opel</td>\n",
       "      <td>no</td>\n",
       "      <td>2016-03-06</td>\n",
       "      <td>0</td>\n",
       "      <td>90431</td>\n",
       "      <td>2016-04-07 07:46:50</td>\n",
       "    </tr>\n",
       "    <tr>\n",
       "      <th>224051</th>\n",
       "      <td>2016-03-23 18:44:20</td>\n",
       "      <td>400</td>\n",
       "      <td>wagon</td>\n",
       "      <td>1997</td>\n",
       "      <td>manual</td>\n",
       "      <td>0</td>\n",
       "      <td>NaN</td>\n",
       "      <td>150000</td>\n",
       "      <td>11</td>\n",
       "      <td>petrol</td>\n",
       "      <td>mercedes_benz</td>\n",
       "      <td>NaN</td>\n",
       "      <td>2016-03-23</td>\n",
       "      <td>0</td>\n",
       "      <td>18233</td>\n",
       "      <td>2016-03-23 18:44:20</td>\n",
       "    </tr>\n",
       "    <tr>\n",
       "      <th>225652</th>\n",
       "      <td>2016-03-14 16:59:03</td>\n",
       "      <td>3100</td>\n",
       "      <td>wagon</td>\n",
       "      <td>2001</td>\n",
       "      <td>manual</td>\n",
       "      <td>0</td>\n",
       "      <td>passat</td>\n",
       "      <td>150000</td>\n",
       "      <td>1</td>\n",
       "      <td>NaN</td>\n",
       "      <td>volkswagen</td>\n",
       "      <td>NaN</td>\n",
       "      <td>2016-03-14</td>\n",
       "      <td>0</td>\n",
       "      <td>44388</td>\n",
       "      <td>2016-03-14 16:59:03</td>\n",
       "    </tr>\n",
       "    <tr>\n",
       "      <th>176419</th>\n",
       "      <td>2016-03-12 13:38:38</td>\n",
       "      <td>400</td>\n",
       "      <td>small</td>\n",
       "      <td>1998</td>\n",
       "      <td>NaN</td>\n",
       "      <td>0</td>\n",
       "      <td>corsa</td>\n",
       "      <td>5000</td>\n",
       "      <td>11</td>\n",
       "      <td>petrol</td>\n",
       "      <td>opel</td>\n",
       "      <td>no</td>\n",
       "      <td>2016-03-12</td>\n",
       "      <td>0</td>\n",
       "      <td>31655</td>\n",
       "      <td>2016-03-13 04:46:22</td>\n",
       "    </tr>\n",
       "    <tr>\n",
       "      <th>126091</th>\n",
       "      <td>2016-03-28 18:41:14</td>\n",
       "      <td>1350</td>\n",
       "      <td>NaN</td>\n",
       "      <td>2016</td>\n",
       "      <td>NaN</td>\n",
       "      <td>0</td>\n",
       "      <td>golf</td>\n",
       "      <td>150000</td>\n",
       "      <td>5</td>\n",
       "      <td>NaN</td>\n",
       "      <td>volkswagen</td>\n",
       "      <td>NaN</td>\n",
       "      <td>2016-03-28</td>\n",
       "      <td>0</td>\n",
       "      <td>4626</td>\n",
       "      <td>2016-04-01 03:18:21</td>\n",
       "    </tr>\n",
       "    <tr>\n",
       "      <th>10165</th>\n",
       "      <td>2016-03-27 13:51:16</td>\n",
       "      <td>4900</td>\n",
       "      <td>sedan</td>\n",
       "      <td>1994</td>\n",
       "      <td>manual</td>\n",
       "      <td>0</td>\n",
       "      <td>c_klasse</td>\n",
       "      <td>90000</td>\n",
       "      <td>7</td>\n",
       "      <td>petrol</td>\n",
       "      <td>mercedes_benz</td>\n",
       "      <td>no</td>\n",
       "      <td>2016-03-27</td>\n",
       "      <td>0</td>\n",
       "      <td>3042</td>\n",
       "      <td>2016-04-07 09:46:15</td>\n",
       "    </tr>\n",
       "    <tr>\n",
       "      <th>79568</th>\n",
       "      <td>2016-03-14 17:38:52</td>\n",
       "      <td>1100</td>\n",
       "      <td>NaN</td>\n",
       "      <td>2005</td>\n",
       "      <td>NaN</td>\n",
       "      <td>0</td>\n",
       "      <td>primera</td>\n",
       "      <td>150000</td>\n",
       "      <td>0</td>\n",
       "      <td>NaN</td>\n",
       "      <td>nissan</td>\n",
       "      <td>NaN</td>\n",
       "      <td>2016-03-14</td>\n",
       "      <td>0</td>\n",
       "      <td>12247</td>\n",
       "      <td>2016-03-15 12:17:42</td>\n",
       "    </tr>\n",
       "    <tr>\n",
       "      <th>60248</th>\n",
       "      <td>2016-04-02 16:39:00</td>\n",
       "      <td>3000</td>\n",
       "      <td>NaN</td>\n",
       "      <td>2000</td>\n",
       "      <td>NaN</td>\n",
       "      <td>0</td>\n",
       "      <td>a4</td>\n",
       "      <td>150000</td>\n",
       "      <td>0</td>\n",
       "      <td>NaN</td>\n",
       "      <td>audi</td>\n",
       "      <td>NaN</td>\n",
       "      <td>2016-04-02</td>\n",
       "      <td>0</td>\n",
       "      <td>42113</td>\n",
       "      <td>2016-04-06 15:17:52</td>\n",
       "    </tr>\n",
       "  </tbody>\n",
       "</table>\n",
       "</div>"
      ],
      "text/plain": [
       "               DateCrawled  Price VehicleType  RegistrationYear Gearbox  \\\n",
       "79602  2016-03-12 11:00:02    699         NaN              1970     NaN   \n",
       "264117 2016-03-29 13:56:22    700       sedan              1999  manual   \n",
       "16705  2016-03-07 04:40:47   4200         NaN              2016  manual   \n",
       "224051 2016-03-23 18:44:20    400       wagon              1997  manual   \n",
       "225652 2016-03-14 16:59:03   3100       wagon              2001  manual   \n",
       "176419 2016-03-12 13:38:38    400       small              1998     NaN   \n",
       "126091 2016-03-28 18:41:14   1350         NaN              2016     NaN   \n",
       "10165  2016-03-27 13:51:16   4900       sedan              1994  manual   \n",
       "79568  2016-03-14 17:38:52   1100         NaN              2005     NaN   \n",
       "60248  2016-04-02 16:39:00   3000         NaN              2000     NaN   \n",
       "\n",
       "        Power     Model  Kilometer  RegistrationMonth FuelType  \\\n",
       "79602       0       NaN     100000                  0      NaN   \n",
       "264117      0     other     100000                  0      NaN   \n",
       "16705       0     corsa     150000                 11   petrol   \n",
       "224051      0       NaN     150000                 11   petrol   \n",
       "225652      0    passat     150000                  1      NaN   \n",
       "176419      0     corsa       5000                 11   petrol   \n",
       "126091      0      golf     150000                  5      NaN   \n",
       "10165       0  c_klasse      90000                  7   petrol   \n",
       "79568       0   primera     150000                  0      NaN   \n",
       "60248       0        a4     150000                  0      NaN   \n",
       "\n",
       "                 Brand Repaired DateCreated  NumberOfPictures  PostalCode  \\\n",
       "79602   sonstige_autos      NaN  2016-03-12                 0        6369   \n",
       "264117         citroen       no  2016-03-29                 0        3053   \n",
       "16705             opel       no  2016-03-06                 0       90431   \n",
       "224051   mercedes_benz      NaN  2016-03-23                 0       18233   \n",
       "225652      volkswagen      NaN  2016-03-14                 0       44388   \n",
       "176419            opel       no  2016-03-12                 0       31655   \n",
       "126091      volkswagen      NaN  2016-03-28                 0        4626   \n",
       "10165    mercedes_benz       no  2016-03-27                 0        3042   \n",
       "79568           nissan      NaN  2016-03-14                 0       12247   \n",
       "60248             audi      NaN  2016-04-02                 0       42113   \n",
       "\n",
       "                  LastSeen  \n",
       "79602  2016-03-20 09:16:29  \n",
       "264117 2016-03-31 06:44:32  \n",
       "16705  2016-04-07 07:46:50  \n",
       "224051 2016-03-23 18:44:20  \n",
       "225652 2016-03-14 16:59:03  \n",
       "176419 2016-03-13 04:46:22  \n",
       "126091 2016-04-01 03:18:21  \n",
       "10165  2016-04-07 09:46:15  \n",
       "79568  2016-03-15 12:17:42  \n",
       "60248  2016-04-06 15:17:52  "
      ]
     },
     "execution_count": 20,
     "metadata": {},
     "output_type": "execute_result"
    }
   ],
   "source": [
    "data[data['Power'] == 0].sample(10, random_state=RND_STATE)"
   ]
  },
  {
   "cell_type": "code",
   "execution_count": 21,
   "metadata": {},
   "outputs": [
    {
     "data": {
      "text/plain": [
       "36335"
      ]
     },
     "execution_count": 21,
     "metadata": {},
     "output_type": "execute_result"
    }
   ],
   "source": [
    "len(data[data['Power'] == 0])"
   ]
  },
  {
   "cell_type": "markdown",
   "metadata": {},
   "source": [
    "В датафрейме 36335 значений с нулевым значнием мощности. Просто удалить эти данные мы не можем, поскольку они составляют слишком большую часть выборки. Заменим нули средними значениями, сгруппировав по модели автомобиля."
   ]
  },
  {
   "cell_type": "code",
   "execution_count": 23,
   "metadata": {},
   "outputs": [
    {
     "data": {
      "text/plain": [
       "10"
      ]
     },
     "execution_count": 23,
     "metadata": {},
     "output_type": "execute_result"
    }
   ],
   "source": [
    "def fill_zeros(x):\n",
    "    masked_x = x.mask(x.eq(0))\n",
    "    filled_x = masked_x.fillna(x.median())\n",
    "    return filled_x\n",
    "\n",
    "data['Power'] = data.groupby('Model')['Power'].apply(fill_zeros)\n",
    "len(data[data['Power'] == 0])"
   ]
  },
  {
   "cell_type": "markdown",
   "metadata": {},
   "source": [
    "Мы сократили значительную часть нулей. Оставшиеся нули заменим на средее по всей выборке."
   ]
  },
  {
   "cell_type": "code",
   "execution_count": 24,
   "metadata": {},
   "outputs": [
    {
     "data": {
      "text/plain": [
       "0"
      ]
     },
     "execution_count": 24,
     "metadata": {},
     "output_type": "execute_result"
    }
   ],
   "source": [
    "data.loc[(data['Power'] == 0) | (data['Power'].isna()), 'Power'] = data['Power'].median()\n",
    "len(data[data['Power'] == 0])"
   ]
  },
  {
   "cell_type": "markdown",
   "metadata": {},
   "source": [
    "Рассмотрим столбец `Price`."
   ]
  },
  {
   "cell_type": "code",
   "execution_count": 25,
   "metadata": {},
   "outputs": [
    {
     "data": {
      "text/plain": [
       "count    339504.000000\n",
       "mean       4472.330570\n",
       "std        4545.822556\n",
       "min           0.000000\n",
       "25%        1100.000000\n",
       "50%        2799.000000\n",
       "75%        6500.000000\n",
       "max       20000.000000\n",
       "Name: Price, dtype: float64"
      ]
     },
     "execution_count": 25,
     "metadata": {},
     "output_type": "execute_result"
    }
   ],
   "source": [
    "data['Price'].describe()"
   ]
  },
  {
   "cell_type": "markdown",
   "metadata": {},
   "source": [
    "В выборке есть объявления с нулевой ценой, но в случае с продажами автомобилей это невозможная ситуация. Посомтрим, что это за строки."
   ]
  },
  {
   "cell_type": "code",
   "execution_count": 26,
   "metadata": {},
   "outputs": [
    {
     "data": {
      "text/html": [
       "<div>\n",
       "<style scoped>\n",
       "    .dataframe tbody tr th:only-of-type {\n",
       "        vertical-align: middle;\n",
       "    }\n",
       "\n",
       "    .dataframe tbody tr th {\n",
       "        vertical-align: top;\n",
       "    }\n",
       "\n",
       "    .dataframe thead th {\n",
       "        text-align: right;\n",
       "    }\n",
       "</style>\n",
       "<table border=\"1\" class=\"dataframe\">\n",
       "  <thead>\n",
       "    <tr style=\"text-align: right;\">\n",
       "      <th></th>\n",
       "      <th>DateCrawled</th>\n",
       "      <th>Price</th>\n",
       "      <th>VehicleType</th>\n",
       "      <th>RegistrationYear</th>\n",
       "      <th>Gearbox</th>\n",
       "      <th>Power</th>\n",
       "      <th>Model</th>\n",
       "      <th>Kilometer</th>\n",
       "      <th>RegistrationMonth</th>\n",
       "      <th>FuelType</th>\n",
       "      <th>Brand</th>\n",
       "      <th>Repaired</th>\n",
       "      <th>DateCreated</th>\n",
       "      <th>NumberOfPictures</th>\n",
       "      <th>PostalCode</th>\n",
       "      <th>LastSeen</th>\n",
       "    </tr>\n",
       "  </thead>\n",
       "  <tbody>\n",
       "    <tr>\n",
       "      <th>183738</th>\n",
       "      <td>2016-04-04 21:44:50</td>\n",
       "      <td>0</td>\n",
       "      <td>wagon</td>\n",
       "      <td>2003</td>\n",
       "      <td>auto</td>\n",
       "      <td>125.0</td>\n",
       "      <td>mondeo</td>\n",
       "      <td>150000</td>\n",
       "      <td>0</td>\n",
       "      <td>gasoline</td>\n",
       "      <td>ford</td>\n",
       "      <td>NaN</td>\n",
       "      <td>2016-04-04</td>\n",
       "      <td>0</td>\n",
       "      <td>39288</td>\n",
       "      <td>2016-04-07 00:16:11</td>\n",
       "    </tr>\n",
       "    <tr>\n",
       "      <th>99637</th>\n",
       "      <td>2016-03-13 00:57:32</td>\n",
       "      <td>0</td>\n",
       "      <td>bus</td>\n",
       "      <td>2002</td>\n",
       "      <td>auto</td>\n",
       "      <td>107.0</td>\n",
       "      <td>scenic</td>\n",
       "      <td>150000</td>\n",
       "      <td>1</td>\n",
       "      <td>petrol</td>\n",
       "      <td>renault</td>\n",
       "      <td>NaN</td>\n",
       "      <td>2016-03-13</td>\n",
       "      <td>0</td>\n",
       "      <td>79336</td>\n",
       "      <td>2016-03-20 13:18:33</td>\n",
       "    </tr>\n",
       "    <tr>\n",
       "      <th>94975</th>\n",
       "      <td>2016-03-12 21:55:36</td>\n",
       "      <td>0</td>\n",
       "      <td>sedan</td>\n",
       "      <td>1983</td>\n",
       "      <td>manual</td>\n",
       "      <td>150.0</td>\n",
       "      <td>other</td>\n",
       "      <td>90000</td>\n",
       "      <td>1</td>\n",
       "      <td>petrol</td>\n",
       "      <td>opel</td>\n",
       "      <td>no</td>\n",
       "      <td>2016-03-12</td>\n",
       "      <td>0</td>\n",
       "      <td>79427</td>\n",
       "      <td>2016-03-17 02:47:09</td>\n",
       "    </tr>\n",
       "    <tr>\n",
       "      <th>54255</th>\n",
       "      <td>2016-03-07 03:53:58</td>\n",
       "      <td>0</td>\n",
       "      <td>small</td>\n",
       "      <td>1995</td>\n",
       "      <td>manual</td>\n",
       "      <td>60.0</td>\n",
       "      <td>polo</td>\n",
       "      <td>150000</td>\n",
       "      <td>0</td>\n",
       "      <td>petrol</td>\n",
       "      <td>volkswagen</td>\n",
       "      <td>yes</td>\n",
       "      <td>2016-03-07</td>\n",
       "      <td>0</td>\n",
       "      <td>28195</td>\n",
       "      <td>2016-04-05 15:16:57</td>\n",
       "    </tr>\n",
       "    <tr>\n",
       "      <th>353579</th>\n",
       "      <td>2016-04-02 21:36:16</td>\n",
       "      <td>0</td>\n",
       "      <td>coupe</td>\n",
       "      <td>1999</td>\n",
       "      <td>manual</td>\n",
       "      <td>101.0</td>\n",
       "      <td>a3</td>\n",
       "      <td>150000</td>\n",
       "      <td>1</td>\n",
       "      <td>petrol</td>\n",
       "      <td>audi</td>\n",
       "      <td>no</td>\n",
       "      <td>2016-04-02</td>\n",
       "      <td>0</td>\n",
       "      <td>44652</td>\n",
       "      <td>2016-04-06 22:16:11</td>\n",
       "    </tr>\n",
       "    <tr>\n",
       "      <th>13055</th>\n",
       "      <td>2016-03-09 13:57:43</td>\n",
       "      <td>0</td>\n",
       "      <td>small</td>\n",
       "      <td>2000</td>\n",
       "      <td>manual</td>\n",
       "      <td>60.0</td>\n",
       "      <td>polo</td>\n",
       "      <td>150000</td>\n",
       "      <td>0</td>\n",
       "      <td>NaN</td>\n",
       "      <td>volkswagen</td>\n",
       "      <td>NaN</td>\n",
       "      <td>2016-03-09</td>\n",
       "      <td>0</td>\n",
       "      <td>48531</td>\n",
       "      <td>2016-04-06 10:17:18</td>\n",
       "    </tr>\n",
       "    <tr>\n",
       "      <th>77579</th>\n",
       "      <td>2016-03-09 13:52:10</td>\n",
       "      <td>0</td>\n",
       "      <td>wagon</td>\n",
       "      <td>2003</td>\n",
       "      <td>auto</td>\n",
       "      <td>150.0</td>\n",
       "      <td>3er</td>\n",
       "      <td>150000</td>\n",
       "      <td>10</td>\n",
       "      <td>gasoline</td>\n",
       "      <td>bmw</td>\n",
       "      <td>yes</td>\n",
       "      <td>2016-03-09</td>\n",
       "      <td>0</td>\n",
       "      <td>22547</td>\n",
       "      <td>2016-03-09 13:52:10</td>\n",
       "    </tr>\n",
       "    <tr>\n",
       "      <th>119592</th>\n",
       "      <td>2016-03-26 15:25:25</td>\n",
       "      <td>0</td>\n",
       "      <td>wagon</td>\n",
       "      <td>2002</td>\n",
       "      <td>manual</td>\n",
       "      <td>143.0</td>\n",
       "      <td>3er</td>\n",
       "      <td>125000</td>\n",
       "      <td>8</td>\n",
       "      <td>petrol</td>\n",
       "      <td>bmw</td>\n",
       "      <td>yes</td>\n",
       "      <td>2016-03-26</td>\n",
       "      <td>0</td>\n",
       "      <td>57629</td>\n",
       "      <td>2016-04-06 15:15:28</td>\n",
       "    </tr>\n",
       "    <tr>\n",
       "      <th>214792</th>\n",
       "      <td>2016-03-21 06:57:18</td>\n",
       "      <td>0</td>\n",
       "      <td>small</td>\n",
       "      <td>2004</td>\n",
       "      <td>manual</td>\n",
       "      <td>75.0</td>\n",
       "      <td>2_reihe</td>\n",
       "      <td>125000</td>\n",
       "      <td>12</td>\n",
       "      <td>petrol</td>\n",
       "      <td>peugeot</td>\n",
       "      <td>no</td>\n",
       "      <td>2016-03-21</td>\n",
       "      <td>0</td>\n",
       "      <td>66333</td>\n",
       "      <td>2016-03-27 09:55:49</td>\n",
       "    </tr>\n",
       "    <tr>\n",
       "      <th>258618</th>\n",
       "      <td>2016-03-06 11:42:14</td>\n",
       "      <td>0</td>\n",
       "      <td>NaN</td>\n",
       "      <td>1995</td>\n",
       "      <td>NaN</td>\n",
       "      <td>150.0</td>\n",
       "      <td>3er</td>\n",
       "      <td>150000</td>\n",
       "      <td>0</td>\n",
       "      <td>NaN</td>\n",
       "      <td>bmw</td>\n",
       "      <td>NaN</td>\n",
       "      <td>2016-03-06</td>\n",
       "      <td>0</td>\n",
       "      <td>57078</td>\n",
       "      <td>2016-03-26 15:45:53</td>\n",
       "    </tr>\n",
       "  </tbody>\n",
       "</table>\n",
       "</div>"
      ],
      "text/plain": [
       "               DateCrawled  Price VehicleType  RegistrationYear Gearbox  \\\n",
       "183738 2016-04-04 21:44:50      0       wagon              2003    auto   \n",
       "99637  2016-03-13 00:57:32      0         bus              2002    auto   \n",
       "94975  2016-03-12 21:55:36      0       sedan              1983  manual   \n",
       "54255  2016-03-07 03:53:58      0       small              1995  manual   \n",
       "353579 2016-04-02 21:36:16      0       coupe              1999  manual   \n",
       "13055  2016-03-09 13:57:43      0       small              2000  manual   \n",
       "77579  2016-03-09 13:52:10      0       wagon              2003    auto   \n",
       "119592 2016-03-26 15:25:25      0       wagon              2002  manual   \n",
       "214792 2016-03-21 06:57:18      0       small              2004  manual   \n",
       "258618 2016-03-06 11:42:14      0         NaN              1995     NaN   \n",
       "\n",
       "        Power    Model  Kilometer  RegistrationMonth  FuelType       Brand  \\\n",
       "183738  125.0   mondeo     150000                  0  gasoline        ford   \n",
       "99637   107.0   scenic     150000                  1    petrol     renault   \n",
       "94975   150.0    other      90000                  1    petrol        opel   \n",
       "54255    60.0     polo     150000                  0    petrol  volkswagen   \n",
       "353579  101.0       a3     150000                  1    petrol        audi   \n",
       "13055    60.0     polo     150000                  0       NaN  volkswagen   \n",
       "77579   150.0      3er     150000                 10  gasoline         bmw   \n",
       "119592  143.0      3er     125000                  8    petrol         bmw   \n",
       "214792   75.0  2_reihe     125000                 12    petrol     peugeot   \n",
       "258618  150.0      3er     150000                  0       NaN         bmw   \n",
       "\n",
       "       Repaired DateCreated  NumberOfPictures  PostalCode            LastSeen  \n",
       "183738      NaN  2016-04-04                 0       39288 2016-04-07 00:16:11  \n",
       "99637       NaN  2016-03-13                 0       79336 2016-03-20 13:18:33  \n",
       "94975        no  2016-03-12                 0       79427 2016-03-17 02:47:09  \n",
       "54255       yes  2016-03-07                 0       28195 2016-04-05 15:16:57  \n",
       "353579       no  2016-04-02                 0       44652 2016-04-06 22:16:11  \n",
       "13055       NaN  2016-03-09                 0       48531 2016-04-06 10:17:18  \n",
       "77579       yes  2016-03-09                 0       22547 2016-03-09 13:52:10  \n",
       "119592      yes  2016-03-26                 0       57629 2016-04-06 15:15:28  \n",
       "214792       no  2016-03-21                 0       66333 2016-03-27 09:55:49  \n",
       "258618      NaN  2016-03-06                 0       57078 2016-03-26 15:45:53  "
      ]
     },
     "execution_count": 26,
     "metadata": {},
     "output_type": "execute_result"
    }
   ],
   "source": [
    "data[data['Price'] == 0].sample(10, random_state=RND_STATE)"
   ]
  },
  {
   "cell_type": "code",
   "execution_count": 27,
   "metadata": {},
   "outputs": [
    {
     "data": {
      "text/plain": [
       "9950"
      ]
     },
     "execution_count": 27,
     "metadata": {},
     "output_type": "execute_result"
    }
   ],
   "source": [
    "len(data[data['Price'] == 0])"
   ]
  },
  {
   "cell_type": "markdown",
   "metadata": {},
   "source": [
    "В датафрейме 9950 строк содержат нули признаке цены. К сожалению, заманить эти аномалии на основании данных из таблицы очень тяжело. Не смотря на то, что эти объекты не имеют пропусков в других признаках, нам придется удалить их из выборки. Так мы сократим датафрейм еще на 3% от изначального объема, что находится в пределах допустимого."
   ]
  },
  {
   "cell_type": "code",
   "execution_count": 28,
   "metadata": {},
   "outputs": [
    {
     "data": {
      "text/plain": [
       "329554"
      ]
     },
     "execution_count": 28,
     "metadata": {},
     "output_type": "execute_result"
    }
   ],
   "source": [
    "data = data[data['Price'] != 0]\n",
    "len(data)"
   ]
  },
  {
   "cell_type": "markdown",
   "metadata": {},
   "source": [
    "### Обработка пропусков"
   ]
  },
  {
   "cell_type": "code",
   "execution_count": 29,
   "metadata": {},
   "outputs": [
    {
     "data": {
      "text/plain": [
       "DateCrawled              0\n",
       "Price                    0\n",
       "VehicleType          19890\n",
       "RegistrationYear         0\n",
       "Gearbox              15545\n",
       "Power                    0\n",
       "Model                15579\n",
       "Kilometer                0\n",
       "RegistrationMonth        0\n",
       "FuelType             24105\n",
       "Brand                    0\n",
       "Repaired             59774\n",
       "DateCreated              0\n",
       "NumberOfPictures         0\n",
       "PostalCode               0\n",
       "LastSeen                 0\n",
       "dtype: int64"
      ]
     },
     "execution_count": 29,
     "metadata": {},
     "output_type": "execute_result"
    }
   ],
   "source": [
    "data.isna().sum()"
   ]
  },
  {
   "cell_type": "markdown",
   "metadata": {},
   "source": [
    "Рассмотрим пропуски в стобце `VehicleType`."
   ]
  },
  {
   "cell_type": "code",
   "execution_count": 30,
   "metadata": {},
   "outputs": [
    {
     "data": {
      "text/plain": [
       "array([nan, 'coupe', 'suv', 'small', 'sedan', 'convertible', 'bus',\n",
       "       'wagon', 'other'], dtype=object)"
      ]
     },
     "execution_count": 30,
     "metadata": {},
     "output_type": "execute_result"
    }
   ],
   "source": [
    "data['VehicleType'].unique()"
   ]
  },
  {
   "cell_type": "code",
   "execution_count": 31,
   "metadata": {},
   "outputs": [
    {
     "data": {
      "text/plain": [
       "19890"
      ]
     },
     "execution_count": 31,
     "metadata": {},
     "output_type": "execute_result"
    }
   ],
   "source": [
    "data['VehicleType'].isna().sum()"
   ]
  },
  {
   "cell_type": "markdown",
   "metadata": {},
   "source": [
    "Более 19 тыс. пропусков - это слишком большое число, чтобы просто удалить их из датафрейма. Рассмотрим подробнее эти строки."
   ]
  },
  {
   "cell_type": "code",
   "execution_count": 32,
   "metadata": {},
   "outputs": [
    {
     "data": {
      "text/html": [
       "<div>\n",
       "<style scoped>\n",
       "    .dataframe tbody tr th:only-of-type {\n",
       "        vertical-align: middle;\n",
       "    }\n",
       "\n",
       "    .dataframe tbody tr th {\n",
       "        vertical-align: top;\n",
       "    }\n",
       "\n",
       "    .dataframe thead th {\n",
       "        text-align: right;\n",
       "    }\n",
       "</style>\n",
       "<table border=\"1\" class=\"dataframe\">\n",
       "  <thead>\n",
       "    <tr style=\"text-align: right;\">\n",
       "      <th></th>\n",
       "      <th>DateCrawled</th>\n",
       "      <th>Price</th>\n",
       "      <th>VehicleType</th>\n",
       "      <th>RegistrationYear</th>\n",
       "      <th>Gearbox</th>\n",
       "      <th>Power</th>\n",
       "      <th>Model</th>\n",
       "      <th>Kilometer</th>\n",
       "      <th>RegistrationMonth</th>\n",
       "      <th>FuelType</th>\n",
       "      <th>Brand</th>\n",
       "      <th>Repaired</th>\n",
       "      <th>DateCreated</th>\n",
       "      <th>NumberOfPictures</th>\n",
       "      <th>PostalCode</th>\n",
       "      <th>LastSeen</th>\n",
       "    </tr>\n",
       "  </thead>\n",
       "  <tbody>\n",
       "    <tr>\n",
       "      <th>39601</th>\n",
       "      <td>2016-03-06 18:06:34</td>\n",
       "      <td>800</td>\n",
       "      <td>NaN</td>\n",
       "      <td>2016</td>\n",
       "      <td>manual</td>\n",
       "      <td>110.0</td>\n",
       "      <td>NaN</td>\n",
       "      <td>150000</td>\n",
       "      <td>0</td>\n",
       "      <td>NaN</td>\n",
       "      <td>peugeot</td>\n",
       "      <td>NaN</td>\n",
       "      <td>2016-03-06</td>\n",
       "      <td>0</td>\n",
       "      <td>65549</td>\n",
       "      <td>2016-03-13 03:44:19</td>\n",
       "    </tr>\n",
       "    <tr>\n",
       "      <th>329256</th>\n",
       "      <td>2016-03-19 13:47:58</td>\n",
       "      <td>500</td>\n",
       "      <td>NaN</td>\n",
       "      <td>2016</td>\n",
       "      <td>manual</td>\n",
       "      <td>64.0</td>\n",
       "      <td>caddy</td>\n",
       "      <td>150000</td>\n",
       "      <td>2</td>\n",
       "      <td>gasoline</td>\n",
       "      <td>volkswagen</td>\n",
       "      <td>yes</td>\n",
       "      <td>2016-03-19</td>\n",
       "      <td>0</td>\n",
       "      <td>19205</td>\n",
       "      <td>2016-03-27 03:15:51</td>\n",
       "    </tr>\n",
       "    <tr>\n",
       "      <th>293281</th>\n",
       "      <td>2016-03-28 18:46:20</td>\n",
       "      <td>999</td>\n",
       "      <td>NaN</td>\n",
       "      <td>2016</td>\n",
       "      <td>manual</td>\n",
       "      <td>75.0</td>\n",
       "      <td>golf</td>\n",
       "      <td>150000</td>\n",
       "      <td>1</td>\n",
       "      <td>NaN</td>\n",
       "      <td>volkswagen</td>\n",
       "      <td>NaN</td>\n",
       "      <td>2016-03-28</td>\n",
       "      <td>0</td>\n",
       "      <td>55286</td>\n",
       "      <td>2016-03-30 10:17:18</td>\n",
       "    </tr>\n",
       "    <tr>\n",
       "      <th>43041</th>\n",
       "      <td>2016-04-03 12:56:07</td>\n",
       "      <td>790</td>\n",
       "      <td>NaN</td>\n",
       "      <td>2000</td>\n",
       "      <td>NaN</td>\n",
       "      <td>90.0</td>\n",
       "      <td>golf</td>\n",
       "      <td>150000</td>\n",
       "      <td>10</td>\n",
       "      <td>gasoline</td>\n",
       "      <td>volkswagen</td>\n",
       "      <td>NaN</td>\n",
       "      <td>2016-04-03</td>\n",
       "      <td>0</td>\n",
       "      <td>46117</td>\n",
       "      <td>2016-04-05 11:47:09</td>\n",
       "    </tr>\n",
       "    <tr>\n",
       "      <th>309724</th>\n",
       "      <td>2016-03-11 14:48:06</td>\n",
       "      <td>550</td>\n",
       "      <td>NaN</td>\n",
       "      <td>1990</td>\n",
       "      <td>NaN</td>\n",
       "      <td>26.0</td>\n",
       "      <td>601</td>\n",
       "      <td>80000</td>\n",
       "      <td>12</td>\n",
       "      <td>NaN</td>\n",
       "      <td>trabant</td>\n",
       "      <td>NaN</td>\n",
       "      <td>2016-03-11</td>\n",
       "      <td>0</td>\n",
       "      <td>37574</td>\n",
       "      <td>2016-03-11 14:48:06</td>\n",
       "    </tr>\n",
       "    <tr>\n",
       "      <th>234217</th>\n",
       "      <td>2016-03-16 18:58:59</td>\n",
       "      <td>1300</td>\n",
       "      <td>NaN</td>\n",
       "      <td>1995</td>\n",
       "      <td>NaN</td>\n",
       "      <td>109.0</td>\n",
       "      <td>other</td>\n",
       "      <td>90000</td>\n",
       "      <td>0</td>\n",
       "      <td>NaN</td>\n",
       "      <td>bmw</td>\n",
       "      <td>NaN</td>\n",
       "      <td>2016-03-16</td>\n",
       "      <td>0</td>\n",
       "      <td>32049</td>\n",
       "      <td>2016-03-16 18:58:59</td>\n",
       "    </tr>\n",
       "    <tr>\n",
       "      <th>78991</th>\n",
       "      <td>2016-03-07 18:42:29</td>\n",
       "      <td>4300</td>\n",
       "      <td>NaN</td>\n",
       "      <td>2005</td>\n",
       "      <td>manual</td>\n",
       "      <td>110.0</td>\n",
       "      <td>NaN</td>\n",
       "      <td>150000</td>\n",
       "      <td>10</td>\n",
       "      <td>NaN</td>\n",
       "      <td>sonstige_autos</td>\n",
       "      <td>NaN</td>\n",
       "      <td>2016-03-07</td>\n",
       "      <td>0</td>\n",
       "      <td>76532</td>\n",
       "      <td>2016-03-19 16:18:45</td>\n",
       "    </tr>\n",
       "    <tr>\n",
       "      <th>209231</th>\n",
       "      <td>2016-03-27 15:51:17</td>\n",
       "      <td>1000</td>\n",
       "      <td>NaN</td>\n",
       "      <td>2000</td>\n",
       "      <td>NaN</td>\n",
       "      <td>110.0</td>\n",
       "      <td>NaN</td>\n",
       "      <td>150000</td>\n",
       "      <td>0</td>\n",
       "      <td>NaN</td>\n",
       "      <td>audi</td>\n",
       "      <td>no</td>\n",
       "      <td>2016-03-27</td>\n",
       "      <td>0</td>\n",
       "      <td>47803</td>\n",
       "      <td>2016-03-30 21:15:27</td>\n",
       "    </tr>\n",
       "    <tr>\n",
       "      <th>236541</th>\n",
       "      <td>2016-03-06 22:42:29</td>\n",
       "      <td>1850</td>\n",
       "      <td>NaN</td>\n",
       "      <td>2016</td>\n",
       "      <td>manual</td>\n",
       "      <td>75.0</td>\n",
       "      <td>3_reihe</td>\n",
       "      <td>150000</td>\n",
       "      <td>12</td>\n",
       "      <td>NaN</td>\n",
       "      <td>peugeot</td>\n",
       "      <td>NaN</td>\n",
       "      <td>2016-03-06</td>\n",
       "      <td>0</td>\n",
       "      <td>49084</td>\n",
       "      <td>2016-04-03 01:46:08</td>\n",
       "    </tr>\n",
       "    <tr>\n",
       "      <th>113884</th>\n",
       "      <td>2016-03-06 20:48:11</td>\n",
       "      <td>4390</td>\n",
       "      <td>NaN</td>\n",
       "      <td>2005</td>\n",
       "      <td>manual</td>\n",
       "      <td>101.0</td>\n",
       "      <td>golf</td>\n",
       "      <td>150000</td>\n",
       "      <td>12</td>\n",
       "      <td>gasoline</td>\n",
       "      <td>volkswagen</td>\n",
       "      <td>NaN</td>\n",
       "      <td>2016-03-06</td>\n",
       "      <td>0</td>\n",
       "      <td>13627</td>\n",
       "      <td>2016-03-09 15:47:03</td>\n",
       "    </tr>\n",
       "  </tbody>\n",
       "</table>\n",
       "</div>"
      ],
      "text/plain": [
       "               DateCrawled  Price VehicleType  RegistrationYear Gearbox  \\\n",
       "39601  2016-03-06 18:06:34    800         NaN              2016  manual   \n",
       "329256 2016-03-19 13:47:58    500         NaN              2016  manual   \n",
       "293281 2016-03-28 18:46:20    999         NaN              2016  manual   \n",
       "43041  2016-04-03 12:56:07    790         NaN              2000     NaN   \n",
       "309724 2016-03-11 14:48:06    550         NaN              1990     NaN   \n",
       "234217 2016-03-16 18:58:59   1300         NaN              1995     NaN   \n",
       "78991  2016-03-07 18:42:29   4300         NaN              2005  manual   \n",
       "209231 2016-03-27 15:51:17   1000         NaN              2000     NaN   \n",
       "236541 2016-03-06 22:42:29   1850         NaN              2016  manual   \n",
       "113884 2016-03-06 20:48:11   4390         NaN              2005  manual   \n",
       "\n",
       "        Power    Model  Kilometer  RegistrationMonth  FuelType  \\\n",
       "39601   110.0      NaN     150000                  0       NaN   \n",
       "329256   64.0    caddy     150000                  2  gasoline   \n",
       "293281   75.0     golf     150000                  1       NaN   \n",
       "43041    90.0     golf     150000                 10  gasoline   \n",
       "309724   26.0      601      80000                 12       NaN   \n",
       "234217  109.0    other      90000                  0       NaN   \n",
       "78991   110.0      NaN     150000                 10       NaN   \n",
       "209231  110.0      NaN     150000                  0       NaN   \n",
       "236541   75.0  3_reihe     150000                 12       NaN   \n",
       "113884  101.0     golf     150000                 12  gasoline   \n",
       "\n",
       "                 Brand Repaired DateCreated  NumberOfPictures  PostalCode  \\\n",
       "39601          peugeot      NaN  2016-03-06                 0       65549   \n",
       "329256      volkswagen      yes  2016-03-19                 0       19205   \n",
       "293281      volkswagen      NaN  2016-03-28                 0       55286   \n",
       "43041       volkswagen      NaN  2016-04-03                 0       46117   \n",
       "309724         trabant      NaN  2016-03-11                 0       37574   \n",
       "234217             bmw      NaN  2016-03-16                 0       32049   \n",
       "78991   sonstige_autos      NaN  2016-03-07                 0       76532   \n",
       "209231            audi       no  2016-03-27                 0       47803   \n",
       "236541         peugeot      NaN  2016-03-06                 0       49084   \n",
       "113884      volkswagen      NaN  2016-03-06                 0       13627   \n",
       "\n",
       "                  LastSeen  \n",
       "39601  2016-03-13 03:44:19  \n",
       "329256 2016-03-27 03:15:51  \n",
       "293281 2016-03-30 10:17:18  \n",
       "43041  2016-04-05 11:47:09  \n",
       "309724 2016-03-11 14:48:06  \n",
       "234217 2016-03-16 18:58:59  \n",
       "78991  2016-03-19 16:18:45  \n",
       "209231 2016-03-30 21:15:27  \n",
       "236541 2016-04-03 01:46:08  \n",
       "113884 2016-03-09 15:47:03  "
      ]
     },
     "execution_count": 32,
     "metadata": {},
     "output_type": "execute_result"
    }
   ],
   "source": [
    "data[data['VehicleType'].isna()].sample(10, random_state=RND_STATE)"
   ]
  },
  {
   "cell_type": "markdown",
   "metadata": {},
   "source": [
    "Посомтрим, сможем ли мы заполнить пропуски на основе данных о модели машины."
   ]
  },
  {
   "cell_type": "code",
   "execution_count": 33,
   "metadata": {},
   "outputs": [
    {
     "data": {
      "text/plain": [
       "array([nan, 'small', 'sedan', 'bus', 'other', 'wagon', 'convertible',\n",
       "       'coupe', 'suv'], dtype=object)"
      ]
     },
     "execution_count": 33,
     "metadata": {},
     "output_type": "execute_result"
    }
   ],
   "source": [
    "data[(data['Brand'] == 'volkswagen') & (data['Model'] == 'golf')]['VehicleType'].unique()"
   ]
  },
  {
   "cell_type": "markdown",
   "metadata": {},
   "source": [
    "К сожалению, даже кокретная модель машины \"volkswagen golf\" может продаваться в разных кузовах. Такой способ заполнения пропусков не подойдет. "
   ]
  },
  {
   "cell_type": "markdown",
   "metadata": {},
   "source": [
    "На мой взгляд, в данном случае логичным решением будет причислить все пропуски к калссу \"other\". Посмотрим на соотношение классов в данном столбце."
   ]
  },
  {
   "cell_type": "code",
   "execution_count": 34,
   "metadata": {},
   "outputs": [
    {
     "data": {
      "text/plain": [
       "sedan          89360\n",
       "small          77973\n",
       "wagon          63675\n",
       "bus            28332\n",
       "convertible    19848\n",
       "coupe          15624\n",
       "suv            11786\n",
       "other           3066\n",
       "Name: VehicleType, dtype: int64"
      ]
     },
     "execution_count": 34,
     "metadata": {},
     "output_type": "execute_result"
    }
   ],
   "source": [
    "data['VehicleType'].value_counts()"
   ]
  },
  {
   "cell_type": "markdown",
   "metadata": {},
   "source": [
    "Классу \"other\" принадлежит меньше всего объектов, доабвление новых объектов скажется на балансе классов только положительным образом."
   ]
  },
  {
   "cell_type": "code",
   "execution_count": 35,
   "metadata": {},
   "outputs": [
    {
     "data": {
      "text/plain": [
       "0"
      ]
     },
     "execution_count": 35,
     "metadata": {},
     "output_type": "execute_result"
    }
   ],
   "source": [
    "data['VehicleType'].fillna('other', inplace=True)\n",
    "data['VehicleType'].isna().sum()"
   ]
  },
  {
   "cell_type": "markdown",
   "metadata": {},
   "source": [
    "Расссмотрим столбец `Model`."
   ]
  },
  {
   "cell_type": "code",
   "execution_count": 36,
   "metadata": {},
   "outputs": [],
   "source": [
    "def show_passes_info(column):\n",
    "    display(column.unique())\n",
    "    display(column.value_counts())\n",
    "    print('Кол-во пропусков:')\n",
    "    display(column.isna().sum())"
   ]
  },
  {
   "cell_type": "code",
   "execution_count": 37,
   "metadata": {},
   "outputs": [
    {
     "data": {
      "text/plain": [
       "array(['golf', nan, 'grand', 'fabia', '3er', '2_reihe', 'c_max',\n",
       "       '3_reihe', 'passat', 'navara', 'polo', 'twingo', 'a_klasse',\n",
       "       'scirocco', '5er', 'arosa', 'other', 'civic', 'transporter',\n",
       "       'punto', 'e_klasse', 'clio', 'kadett', 'kangoo', 'one', 'fortwo',\n",
       "       '1er', 'b_klasse', 'signum', 'astra', 'a8', 'jetta', 'fiesta',\n",
       "       'c_klasse', 'micra', 'vito', 'sprinter', '156', 'escort',\n",
       "       'forester', 'xc_reihe', 'scenic', 'a4', 'ka', 'a1', 'insignia',\n",
       "       'combo', 'focus', 'tt', 'corsa', 'a6', 'jazz', 'omega', 'slk',\n",
       "       '7er', '80', '147', '100', 'z_reihe', 'sorento', 'v40', 'ibiza',\n",
       "       'mustang', 'eos', 'touran', 'getz', 'a3', 'almera', 'megane',\n",
       "       'lupo', 'r19', 'caddy', 'mondeo', 'cordoba', 'colt', 'impreza',\n",
       "       'vectra', 'berlingo', 'tiguan', 'sharan', '6_reihe', 'c4', 'panda',\n",
       "       'up', 'i_reihe', 'ceed', '5_reihe', 'yeti', 'octavia', 'zafira',\n",
       "       'mii', 'rx_reihe', '6er', 'modus', 'fox', 'matiz', 'beetle', 'c1',\n",
       "       'rio', 'touareg', 'logan', 'spider', 'cuore', 's_max', 'a2',\n",
       "       'galaxy', 'c3', 'viano', 's_klasse', '1_reihe', 'avensis',\n",
       "       'roomster', 'sl', 'kaefer', 'santa', 'cooper', 'leon', '4_reihe',\n",
       "       'a5', 'sportage', 'laguna', 'ptcruiser', 'clk', 'primera',\n",
       "       'espace', 'x_reihe', 'exeo', '159', 'transit', 'juke', 'qashqai',\n",
       "       'carisma', 'accord', 'corolla', 'lanos', 'phaeton', 'verso',\n",
       "       'swift', 'rav', 'picanto', 'boxster', 'kalos', 'superb', 'stilo',\n",
       "       'alhambra', 'mx_reihe', 'roadster', 'ypsilon', 'cayenne', 'galant',\n",
       "       'justy', '90', 'sirion', 'crossfire', 'agila', 'duster', 'v50',\n",
       "       '500', 'meriva', 'c_reihe', 'v_klasse', 'm_klasse', 'yaris', 'c5',\n",
       "       'aygo', 'seicento', 'cc', 'carnival', 'fusion', '911', 'bora',\n",
       "       'forfour', 'cl', 'tigra', '300c', 'cr_reihe', 'spark', 'v70',\n",
       "       'kuga', 'x_type', 'ducato', 's_type', 'x_trail', 'toledo', 'altea',\n",
       "       'voyager', 'calibra', 'bravo', 'antara', 'tucson', 'citigo',\n",
       "       'jimny', 'wrangler', 'lybra', 'q7', 'lancer', 'captiva',\n",
       "       'discovery', 'freelander', 'sandero', 'note', '900', 'cherokee',\n",
       "       'clubman', 'samara', 'defender', 'cx_reihe', 'legacy', 'pajero',\n",
       "       'auris', 'c2', 'niva', 's60', 'm_reihe', 'nubira', 'vivaro',\n",
       "       'g_klasse', 'lodgy', '850', 'range_rover', '601', 'q3', 'serie_2',\n",
       "       'glk', 'charade', 'croma', 'outlander', 'doblo', 'musa', 'move',\n",
       "       '9000', 'v60', '145', '200', 'b_max', 'range_rover_sport', 'aveo',\n",
       "       'terios', 'rangerover', 'q5', 'range_rover_evoque', 'materia',\n",
       "       'delta', 'gl', 'kalina', 'elefantino', 'i3', 'amarok', 'kappa',\n",
       "       'serie_3', 'serie_1'], dtype=object)"
      ]
     },
     "metadata": {},
     "output_type": "display_data"
    },
    {
     "data": {
      "text/plain": [
       "golf                  26729\n",
       "other                 23144\n",
       "3er                   18667\n",
       "polo                  12023\n",
       "corsa                 11586\n",
       "                      ...  \n",
       "kalina                    6\n",
       "rangerover                3\n",
       "serie_3                   3\n",
       "range_rover_evoque        2\n",
       "serie_1                   1\n",
       "Name: Model, Length: 250, dtype: int64"
      ]
     },
     "metadata": {},
     "output_type": "display_data"
    },
    {
     "name": "stdout",
     "output_type": "stream",
     "text": [
      "Кол-во пропусков:\n"
     ]
    },
    {
     "data": {
      "text/plain": [
       "15579"
      ]
     },
     "metadata": {},
     "output_type": "display_data"
    }
   ],
   "source": [
    "show_passes_info(data['Model'])"
   ]
  },
  {
   "cell_type": "markdown",
   "metadata": {},
   "source": [
    "В данном признаке более 15 тыс. пропусков. Мне не можем их удалить и не можем их заполнить на основании других столбцов. Нам остается только поступить по аналогии с предыдущим столбцом и добавить пропуски в категорию \"other\". На балансе классов это действие не отразится."
   ]
  },
  {
   "cell_type": "code",
   "execution_count": 38,
   "metadata": {},
   "outputs": [
    {
     "data": {
      "text/plain": [
       "0"
      ]
     },
     "execution_count": 38,
     "metadata": {},
     "output_type": "execute_result"
    }
   ],
   "source": [
    "data['Model'].fillna('other', inplace=True)\n",
    "data['Model'].isna().sum()"
   ]
  },
  {
   "cell_type": "markdown",
   "metadata": {},
   "source": [
    "Рассмотрим столбец `FuelType`."
   ]
  },
  {
   "cell_type": "code",
   "execution_count": 39,
   "metadata": {},
   "outputs": [
    {
     "data": {
      "text/plain": [
       "array(['petrol', 'gasoline', nan, 'lpg', 'other', 'hybrid', 'cng',\n",
       "       'electric'], dtype=object)"
      ]
     },
     "metadata": {},
     "output_type": "display_data"
    },
    {
     "data": {
      "text/plain": [
       "petrol      204604\n",
       "gasoline     94822\n",
       "lpg           5022\n",
       "cng            532\n",
       "hybrid         220\n",
       "other          162\n",
       "electric        87\n",
       "Name: FuelType, dtype: int64"
      ]
     },
     "metadata": {},
     "output_type": "display_data"
    },
    {
     "name": "stdout",
     "output_type": "stream",
     "text": [
      "Кол-во пропусков:\n"
     ]
    },
    {
     "data": {
      "text/plain": [
       "24105"
      ]
     },
     "metadata": {},
     "output_type": "display_data"
    }
   ],
   "source": [
    "show_passes_info(data['FuelType'])"
   ]
  },
  {
   "cell_type": "markdown",
   "metadata": {},
   "source": [
    "В столбце с типом топлива более 24 тыс. пропусков. На мой взгляд, здесь тоже стоит заполнить пропуски значением \"other\"."
   ]
  },
  {
   "cell_type": "code",
   "execution_count": 40,
   "metadata": {},
   "outputs": [
    {
     "data": {
      "text/plain": [
       "0"
      ]
     },
     "execution_count": 40,
     "metadata": {},
     "output_type": "execute_result"
    }
   ],
   "source": [
    "data['FuelType'].fillna('other', inplace=True)\n",
    "data['FuelType'].isna().sum()"
   ]
  },
  {
   "cell_type": "markdown",
   "metadata": {},
   "source": [
    "Рассотрим столбец `Gearbox`."
   ]
  },
  {
   "cell_type": "code",
   "execution_count": 41,
   "metadata": {},
   "outputs": [
    {
     "data": {
      "text/plain": [
       "array(['manual', 'auto', nan], dtype=object)"
      ]
     },
     "metadata": {},
     "output_type": "display_data"
    },
    {
     "data": {
      "text/plain": [
       "manual    251037\n",
       "auto       62972\n",
       "Name: Gearbox, dtype: int64"
      ]
     },
     "metadata": {},
     "output_type": "display_data"
    },
    {
     "name": "stdout",
     "output_type": "stream",
     "text": [
      "Кол-во пропусков:\n"
     ]
    },
    {
     "data": {
      "text/plain": [
       "15545"
      ]
     },
     "metadata": {},
     "output_type": "display_data"
    }
   ],
   "source": [
    "show_passes_info(data['Gearbox'])"
   ]
  },
  {
   "cell_type": "markdown",
   "metadata": {},
   "source": [
    "В данном столбце более 15 тыс. пропусков и всего две возможные категории. Поскольку очень сложно заполнить данные пропуски с помощью других столбцов, мы можем добавить еще одну категорию (\"unknown\") в данный столбец."
   ]
  },
  {
   "cell_type": "code",
   "execution_count": 42,
   "metadata": {},
   "outputs": [
    {
     "data": {
      "text/plain": [
       "0"
      ]
     },
     "execution_count": 42,
     "metadata": {},
     "output_type": "execute_result"
    }
   ],
   "source": [
    "data['Gearbox'].fillna('unknown', inplace=True)\n",
    "data['Gearbox'].isna().sum()"
   ]
  },
  {
   "cell_type": "markdown",
   "metadata": {},
   "source": [
    "Рассмотрим признак `Repaired`."
   ]
  },
  {
   "cell_type": "code",
   "execution_count": 43,
   "metadata": {},
   "outputs": [
    {
     "data": {
      "text/plain": [
       "array([nan, 'yes', 'no'], dtype=object)"
      ]
     },
     "metadata": {},
     "output_type": "display_data"
    },
    {
     "data": {
      "text/plain": [
       "no     236846\n",
       "yes     32934\n",
       "Name: Repaired, dtype: int64"
      ]
     },
     "metadata": {},
     "output_type": "display_data"
    },
    {
     "name": "stdout",
     "output_type": "stream",
     "text": [
      "Кол-во пропусков:\n"
     ]
    },
    {
     "data": {
      "text/plain": [
       "59774"
      ]
     },
     "metadata": {},
     "output_type": "display_data"
    }
   ],
   "source": [
    "show_passes_info(data['Repaired'])"
   ]
  },
  {
   "cell_type": "markdown",
   "metadata": {},
   "source": [
    "Это тоже бинарный признак и он содержит боле 59 тыс. пропусков. Заполним пропуски в данном признаке так же, как и в предыдущем, добавим категорию \"unknown\"."
   ]
  },
  {
   "cell_type": "code",
   "execution_count": 44,
   "metadata": {},
   "outputs": [
    {
     "data": {
      "text/plain": [
       "0"
      ]
     },
     "execution_count": 44,
     "metadata": {},
     "output_type": "execute_result"
    }
   ],
   "source": [
    "data['Repaired'].fillna('unknown', inplace=True)\n",
    "data['Repaired'].isna().sum()"
   ]
  },
  {
   "cell_type": "markdown",
   "metadata": {},
   "source": [
    "Убедимся, что все пропуски обработанны."
   ]
  },
  {
   "cell_type": "code",
   "execution_count": 45,
   "metadata": {},
   "outputs": [
    {
     "name": "stdout",
     "output_type": "stream",
     "text": [
      "Процент потерянных данных: 7.0%\n"
     ]
    }
   ],
   "source": [
    "lost_data = (df_initial_size - data.shape[0]) / df_initial_size * 100\n",
    "print(f'Процент потерянных данных: {np.round(lost_data)}%')"
   ]
  },
  {
   "cell_type": "code",
   "execution_count": 46,
   "metadata": {},
   "outputs": [
    {
     "data": {
      "text/plain": [
       "DateCrawled          0\n",
       "Price                0\n",
       "VehicleType          0\n",
       "RegistrationYear     0\n",
       "Gearbox              0\n",
       "Power                0\n",
       "Model                0\n",
       "Kilometer            0\n",
       "RegistrationMonth    0\n",
       "FuelType             0\n",
       "Brand                0\n",
       "Repaired             0\n",
       "DateCreated          0\n",
       "NumberOfPictures     0\n",
       "PostalCode           0\n",
       "LastSeen             0\n",
       "dtype: int64"
      ]
     },
     "execution_count": 46,
     "metadata": {},
     "output_type": "execute_result"
    }
   ],
   "source": [
    "data.isna().sum()"
   ]
  },
  {
   "cell_type": "markdown",
   "metadata": {},
   "source": [
    "### Удаление признаков"
   ]
  },
  {
   "cell_type": "markdown",
   "metadata": {},
   "source": [
    "В нашем датафрейме присутсвуют признаки, которые не несут никакой ценной информации для агоритмов обучения. Для лучшего обучения их следует удалить из выборки. К таким признакам относятся следующие столбцы: `DateCrawled`, `RegistrationMonth`, `DateCreated`, `NumberOfPictures`, `PostalCode`, `LastSeen`."
   ]
  },
  {
   "cell_type": "code",
   "execution_count": 47,
   "metadata": {},
   "outputs": [
    {
     "name": "stdout",
     "output_type": "stream",
     "text": [
      "<class 'pandas.core.frame.DataFrame'>\n",
      "Int64Index: 329554 entries, 0 to 354368\n",
      "Data columns (total 10 columns):\n",
      " #   Column            Non-Null Count   Dtype  \n",
      "---  ------            --------------   -----  \n",
      " 0   Price             329554 non-null  int64  \n",
      " 1   VehicleType       329554 non-null  object \n",
      " 2   RegistrationYear  329554 non-null  int64  \n",
      " 3   Gearbox           329554 non-null  object \n",
      " 4   Power             329554 non-null  float64\n",
      " 5   Model             329554 non-null  object \n",
      " 6   Kilometer         329554 non-null  int64  \n",
      " 7   FuelType          329554 non-null  object \n",
      " 8   Brand             329554 non-null  object \n",
      " 9   Repaired          329554 non-null  object \n",
      "dtypes: float64(1), int64(3), object(6)\n",
      "memory usage: 27.7+ MB\n"
     ]
    }
   ],
   "source": [
    "to_drop = ['DateCrawled', 'RegistrationMonth', 'DateCreated', 'NumberOfPictures', 'PostalCode', 'LastSeen']\n",
    "\n",
    "data = data.drop(to_drop, axis=1)\n",
    "data.info()"
   ]
  },
  {
   "cell_type": "markdown",
   "metadata": {},
   "source": [
    "**Вывод**\n",
    "\n",
    "Предобработка обнаружила три проблемы в данных:\n",
    "- пропущенные значения,\n",
    "- явные дубликаты,\n",
    "- аномальные значения,\n",
    "- лишние признаки.\n",
    "\n",
    "Мы заполнили пропуски там, где это возможно. Избавились от дубликатов и выбивающихся неправдобоных значений, что сделает обучение моделей более качествнным. Количество удаленных строк не превышает 10% от изначального объема датафрейма. Лишние признаки были убраны из датафрейма.\n",
    "\n",
    "Теперь можно переходить к разбиению данных на выборки и подготовке к машинному обучению."
   ]
  },
  {
   "cell_type": "markdown",
   "metadata": {},
   "source": [
    "## Подготовка данных"
   ]
  },
  {
   "cell_type": "markdown",
   "metadata": {},
   "source": [
    "Разделим данные на тренировочную и тестовую выборки."
   ]
  },
  {
   "cell_type": "code",
   "execution_count": 48,
   "metadata": {},
   "outputs": [
    {
     "name": "stdout",
     "output_type": "stream",
     "text": [
      "Тренировочная выборка:  (247165, 9)\n",
      "Тестовая:  (82389, 9)\n"
     ]
    }
   ],
   "source": [
    "features = data.drop('Price', axis=1)\n",
    "target = data['Price']\n",
    "\n",
    "features_train, features_test, target_train, target_test = train_test_split(\n",
    "    features, target, test_size=.25, random_state=RND_STATE)\n",
    "\n",
    "print('Тренировочная выборка: ', features_train.shape)\n",
    "print('Тестовая: ', features_test.shape)"
   ]
  },
  {
   "cell_type": "markdown",
   "metadata": {},
   "source": [
    "В данном проекте я планирую обучить три модели: **CatBoost**, **LightGBM** и **RandomForest**. Для обучения CatBoost больше не нужно никаких подготовительных операция над данными, но для обучения LightGBM и RandomForest требуется некоторая проработка категориальных признаков."
   ]
  },
  {
   "cell_type": "markdown",
   "metadata": {},
   "source": [
    "Приведем категориальные столбцы в необходимый для LightGBM тип данных."
   ]
  },
  {
   "cell_type": "code",
   "execution_count": 49,
   "metadata": {},
   "outputs": [],
   "source": [
    "categorial = ['VehicleType', 'Gearbox', 'Model', 'FuelType', 'Brand', 'Repaired']\n",
    "numerical = ['RegistrationYear', 'Power', 'Kilometer']"
   ]
  },
  {
   "cell_type": "code",
   "execution_count": 50,
   "metadata": {},
   "outputs": [
    {
     "name": "stdout",
     "output_type": "stream",
     "text": [
      "<class 'pandas.core.frame.DataFrame'>\n",
      "Int64Index: 247165 entries, 76102 to 234017\n",
      "Data columns (total 9 columns):\n",
      " #   Column            Non-Null Count   Dtype   \n",
      "---  ------            --------------   -----   \n",
      " 0   VehicleType       247165 non-null  category\n",
      " 1   RegistrationYear  247165 non-null  int64   \n",
      " 2   Gearbox           247165 non-null  category\n",
      " 3   Power             247165 non-null  float64 \n",
      " 4   Model             247165 non-null  category\n",
      " 5   Kilometer         247165 non-null  int64   \n",
      " 6   FuelType          247165 non-null  category\n",
      " 7   Brand             247165 non-null  category\n",
      " 8   Repaired          247165 non-null  category\n",
      "dtypes: category(6), float64(1), int64(2)\n",
      "memory usage: 9.2 MB\n"
     ]
    }
   ],
   "source": [
    "features_train_lgbm = features_train.copy()\n",
    "features_test_lgbm = features_test.copy()\n",
    "\n",
    "features_train_lgbm[categorial] = features_train_lgbm[categorial].astype('category')\n",
    "features_test_lgbm[categorial] = features_test_lgbm[categorial].astype('category')\n",
    "\n",
    "features_train_lgbm.info()"
   ]
  },
  {
   "cell_type": "markdown",
   "metadata": {},
   "source": [
    "Закодируем категориальные признаки для RandomForest с помощью OrdinalEncoder."
   ]
  },
  {
   "cell_type": "code",
   "execution_count": 51,
   "metadata": {},
   "outputs": [
    {
     "data": {
      "text/html": [
       "<div>\n",
       "<style scoped>\n",
       "    .dataframe tbody tr th:only-of-type {\n",
       "        vertical-align: middle;\n",
       "    }\n",
       "\n",
       "    .dataframe tbody tr th {\n",
       "        vertical-align: top;\n",
       "    }\n",
       "\n",
       "    .dataframe thead th {\n",
       "        text-align: right;\n",
       "    }\n",
       "</style>\n",
       "<table border=\"1\" class=\"dataframe\">\n",
       "  <thead>\n",
       "    <tr style=\"text-align: right;\">\n",
       "      <th></th>\n",
       "      <th>VehicleType</th>\n",
       "      <th>Gearbox</th>\n",
       "      <th>Model</th>\n",
       "      <th>FuelType</th>\n",
       "      <th>Brand</th>\n",
       "      <th>Repaired</th>\n",
       "      <th>RegistrationYear</th>\n",
       "      <th>Power</th>\n",
       "      <th>Kilometer</th>\n",
       "    </tr>\n",
       "  </thead>\n",
       "  <tbody>\n",
       "    <tr>\n",
       "      <th>76102</th>\n",
       "      <td>7.0</td>\n",
       "      <td>1.0</td>\n",
       "      <td>139.0</td>\n",
       "      <td>6.0</td>\n",
       "      <td>34.0</td>\n",
       "      <td>2.0</td>\n",
       "      <td>1992</td>\n",
       "      <td>200.0</td>\n",
       "      <td>150000</td>\n",
       "    </tr>\n",
       "    <tr>\n",
       "      <th>248052</th>\n",
       "      <td>5.0</td>\n",
       "      <td>1.0</td>\n",
       "      <td>102.0</td>\n",
       "      <td>6.0</td>\n",
       "      <td>10.0</td>\n",
       "      <td>0.0</td>\n",
       "      <td>2005</td>\n",
       "      <td>150.0</td>\n",
       "      <td>100000</td>\n",
       "    </tr>\n",
       "    <tr>\n",
       "      <th>139044</th>\n",
       "      <td>2.0</td>\n",
       "      <td>1.0</td>\n",
       "      <td>28.0</td>\n",
       "      <td>6.0</td>\n",
       "      <td>1.0</td>\n",
       "      <td>1.0</td>\n",
       "      <td>1999</td>\n",
       "      <td>150.0</td>\n",
       "      <td>150000</td>\n",
       "    </tr>\n",
       "    <tr>\n",
       "      <th>1694</th>\n",
       "      <td>3.0</td>\n",
       "      <td>2.0</td>\n",
       "      <td>232.0</td>\n",
       "      <td>2.0</td>\n",
       "      <td>39.0</td>\n",
       "      <td>1.0</td>\n",
       "      <td>2000</td>\n",
       "      <td>163.0</td>\n",
       "      <td>5000</td>\n",
       "    </tr>\n",
       "    <tr>\n",
       "      <th>186068</th>\n",
       "      <td>1.0</td>\n",
       "      <td>1.0</td>\n",
       "      <td>42.0</td>\n",
       "      <td>6.0</td>\n",
       "      <td>24.0</td>\n",
       "      <td>0.0</td>\n",
       "      <td>2005</td>\n",
       "      <td>147.0</td>\n",
       "      <td>50000</td>\n",
       "    </tr>\n",
       "  </tbody>\n",
       "</table>\n",
       "</div>"
      ],
      "text/plain": [
       "        VehicleType  Gearbox  Model  FuelType  Brand  Repaired  \\\n",
       "76102           7.0      1.0  139.0       6.0   34.0       2.0   \n",
       "248052          5.0      1.0  102.0       6.0   10.0       0.0   \n",
       "139044          2.0      1.0   28.0       6.0    1.0       1.0   \n",
       "1694            3.0      2.0  232.0       2.0   39.0       1.0   \n",
       "186068          1.0      1.0   42.0       6.0   24.0       0.0   \n",
       "\n",
       "        RegistrationYear  Power  Kilometer  \n",
       "76102               1992  200.0     150000  \n",
       "248052              2005  150.0     100000  \n",
       "139044              1999  150.0     150000  \n",
       "1694                2000  163.0       5000  \n",
       "186068              2005  147.0      50000  "
      ]
     },
     "execution_count": 51,
     "metadata": {},
     "output_type": "execute_result"
    }
   ],
   "source": [
    "encoder = OrdinalEncoder()\n",
    "encoder.fit(features_train[categorial]) \n",
    "\n",
    "def features_encoding(x, encoder):\n",
    "    encoded_features = encoder.transform(x[categorial]) \n",
    "    features_categorial = pd.DataFrame(encoded_features, columns=categorial, index=x.index)\n",
    "    features_df = pd.concat([features_categorial, x[numerical]], axis=1)\n",
    "    return features_df\n",
    "\n",
    "features_train_rf = features_encoding(features_train, encoder)\n",
    "features_test_rf = features_encoding(features_test, encoder)\n",
    "features_train_rf.head()"
   ]
  },
  {
   "cell_type": "markdown",
   "metadata": {},
   "source": [
    "**Вывод**\n",
    "\n",
    "В данном разделе мы:\n",
    "- разделили данные на выбрки,\n",
    "- преобразовали типы данных для **LightGBM**,\n",
    "- преобразовали категориальные признаки для **RandomForest**.\n",
    "\n",
    "Данные подготовлены и теперь мы можем переходить к обучению моделей."
   ]
  },
  {
   "cell_type": "markdown",
   "metadata": {},
   "source": [
    "## Обучение моделей"
   ]
  },
  {
   "cell_type": "markdown",
   "metadata": {},
   "source": [
    "### RandomForest"
   ]
  },
  {
   "cell_type": "markdown",
   "metadata": {},
   "source": [
    "Обучим модель RandomForest."
   ]
  },
  {
   "cell_type": "code",
   "execution_count": 53,
   "metadata": {
    "scrolled": false
   },
   "outputs": [
    {
     "name": "stdout",
     "output_type": "stream",
     "text": [
      "Значения гиперпараметров лучшей модели: {'max_depth': 8, 'n_estimators': 200}\n",
      "Лучшая оценка качества модели: 2086.0\n",
      "CPU times: total: 53.6 s\n",
      "Wall time: 4min 12s\n"
     ]
    }
   ],
   "source": [
    "%%time\n",
    "\n",
    "\n",
    "model_rf = RandomForestRegressor(random_state=RND_STATE)\n",
    "parameters = {'n_estimators': range (50, 201, 50),\n",
    "              'max_depth': range (4, 10, 2)}\n",
    "scores_rf = GridSearchCV(model_rf, \n",
    "                         parameters, \n",
    "                         scoring='neg_root_mean_squared_error', \n",
    "                         cv=3, \n",
    "                         n_jobs=-1)\n",
    "scores_rf.fit(features_train_rf, target_train)\n",
    "rmse_rf = np.round(np.abs(scores_rf.best_score_))\n",
    "\n",
    "print('Значения гиперпараметров лучшей модели:', scores_rf.best_params_)\n",
    "print('Лучшая оценка качества модели:', rmse_rf)"
   ]
  },
  {
   "cell_type": "code",
   "execution_count": 54,
   "metadata": {
    "scrolled": true
   },
   "outputs": [
    {
     "data": {
      "text/html": [
       "<div>\n",
       "<style scoped>\n",
       "    .dataframe tbody tr th:only-of-type {\n",
       "        vertical-align: middle;\n",
       "    }\n",
       "\n",
       "    .dataframe tbody tr th {\n",
       "        vertical-align: top;\n",
       "    }\n",
       "\n",
       "    .dataframe thead th {\n",
       "        text-align: right;\n",
       "    }\n",
       "</style>\n",
       "<table border=\"1\" class=\"dataframe\">\n",
       "  <thead>\n",
       "    <tr style=\"text-align: right;\">\n",
       "      <th></th>\n",
       "      <th>mean_fit_time</th>\n",
       "      <th>std_fit_time</th>\n",
       "      <th>mean_score_time</th>\n",
       "      <th>std_score_time</th>\n",
       "      <th>param_max_depth</th>\n",
       "      <th>param_n_estimators</th>\n",
       "      <th>params</th>\n",
       "      <th>split0_test_score</th>\n",
       "      <th>split1_test_score</th>\n",
       "      <th>split2_test_score</th>\n",
       "      <th>mean_test_score</th>\n",
       "      <th>std_test_score</th>\n",
       "      <th>rank_test_score</th>\n",
       "    </tr>\n",
       "  </thead>\n",
       "  <tbody>\n",
       "    <tr>\n",
       "      <th>11</th>\n",
       "      <td>54.927925</td>\n",
       "      <td>0.903071</td>\n",
       "      <td>1.071783</td>\n",
       "      <td>0.049985</td>\n",
       "      <td>8</td>\n",
       "      <td>200</td>\n",
       "      <td>{'max_depth': 8, 'n_estimators': 200}</td>\n",
       "      <td>-2100.906142</td>\n",
       "      <td>-2081.268334</td>\n",
       "      <td>-2076.030519</td>\n",
       "      <td>-2086.068332</td>\n",
       "      <td>10.707603</td>\n",
       "      <td>1</td>\n",
       "    </tr>\n",
       "    <tr>\n",
       "      <th>9</th>\n",
       "      <td>41.797241</td>\n",
       "      <td>0.304876</td>\n",
       "      <td>0.864641</td>\n",
       "      <td>0.014731</td>\n",
       "      <td>8</td>\n",
       "      <td>100</td>\n",
       "      <td>{'max_depth': 8, 'n_estimators': 100}</td>\n",
       "      <td>-2101.513529</td>\n",
       "      <td>-2081.069349</td>\n",
       "      <td>-2075.697073</td>\n",
       "      <td>-2086.093317</td>\n",
       "      <td>11.122126</td>\n",
       "      <td>2</td>\n",
       "    </tr>\n",
       "    <tr>\n",
       "      <th>10</th>\n",
       "      <td>52.464025</td>\n",
       "      <td>3.680970</td>\n",
       "      <td>1.062578</td>\n",
       "      <td>0.101263</td>\n",
       "      <td>8</td>\n",
       "      <td>150</td>\n",
       "      <td>{'max_depth': 8, 'n_estimators': 150}</td>\n",
       "      <td>-2101.309792</td>\n",
       "      <td>-2081.725004</td>\n",
       "      <td>-2075.754190</td>\n",
       "      <td>-2086.262996</td>\n",
       "      <td>10.915348</td>\n",
       "      <td>3</td>\n",
       "    </tr>\n",
       "    <tr>\n",
       "      <th>8</th>\n",
       "      <td>21.198505</td>\n",
       "      <td>0.260125</td>\n",
       "      <td>0.437529</td>\n",
       "      <td>0.000001</td>\n",
       "      <td>8</td>\n",
       "      <td>50</td>\n",
       "      <td>{'max_depth': 8, 'n_estimators': 50}</td>\n",
       "      <td>-2102.094782</td>\n",
       "      <td>-2083.229597</td>\n",
       "      <td>-2079.565763</td>\n",
       "      <td>-2088.296714</td>\n",
       "      <td>9.870695</td>\n",
       "      <td>4</td>\n",
       "    </tr>\n",
       "    <tr>\n",
       "      <th>6</th>\n",
       "      <td>49.957937</td>\n",
       "      <td>0.447693</td>\n",
       "      <td>0.906313</td>\n",
       "      <td>0.012757</td>\n",
       "      <td>6</td>\n",
       "      <td>150</td>\n",
       "      <td>{'max_depth': 6, 'n_estimators': 150}</td>\n",
       "      <td>-2300.637289</td>\n",
       "      <td>-2278.608113</td>\n",
       "      <td>-2272.611942</td>\n",
       "      <td>-2283.952448</td>\n",
       "      <td>12.049245</td>\n",
       "      <td>5</td>\n",
       "    </tr>\n",
       "    <tr>\n",
       "      <th>5</th>\n",
       "      <td>33.778414</td>\n",
       "      <td>0.149558</td>\n",
       "      <td>0.609418</td>\n",
       "      <td>0.012759</td>\n",
       "      <td>6</td>\n",
       "      <td>100</td>\n",
       "      <td>{'max_depth': 6, 'n_estimators': 100}</td>\n",
       "      <td>-2300.487285</td>\n",
       "      <td>-2278.355367</td>\n",
       "      <td>-2274.138265</td>\n",
       "      <td>-2284.326972</td>\n",
       "      <td>11.556031</td>\n",
       "      <td>6</td>\n",
       "    </tr>\n",
       "    <tr>\n",
       "      <th>7</th>\n",
       "      <td>67.103521</td>\n",
       "      <td>0.890213</td>\n",
       "      <td>1.276058</td>\n",
       "      <td>0.115830</td>\n",
       "      <td>6</td>\n",
       "      <td>200</td>\n",
       "      <td>{'max_depth': 6, 'n_estimators': 200}</td>\n",
       "      <td>-2300.211266</td>\n",
       "      <td>-2279.269211</td>\n",
       "      <td>-2274.770457</td>\n",
       "      <td>-2284.750311</td>\n",
       "      <td>11.085742</td>\n",
       "      <td>7</td>\n",
       "    </tr>\n",
       "    <tr>\n",
       "      <th>4</th>\n",
       "      <td>17.064178</td>\n",
       "      <td>0.298738</td>\n",
       "      <td>0.337947</td>\n",
       "      <td>0.047507</td>\n",
       "      <td>6</td>\n",
       "      <td>50</td>\n",
       "      <td>{'max_depth': 6, 'n_estimators': 50}</td>\n",
       "      <td>-2299.769982</td>\n",
       "      <td>-2280.277576</td>\n",
       "      <td>-2276.126048</td>\n",
       "      <td>-2285.391202</td>\n",
       "      <td>10.307627</td>\n",
       "      <td>8</td>\n",
       "    </tr>\n",
       "    <tr>\n",
       "      <th>2</th>\n",
       "      <td>37.140083</td>\n",
       "      <td>0.259544</td>\n",
       "      <td>0.676747</td>\n",
       "      <td>0.014596</td>\n",
       "      <td>4</td>\n",
       "      <td>150</td>\n",
       "      <td>{'max_depth': 4, 'n_estimators': 150}</td>\n",
       "      <td>-2589.102431</td>\n",
       "      <td>-2552.975865</td>\n",
       "      <td>-2559.918255</td>\n",
       "      <td>-2567.332183</td>\n",
       "      <td>15.652624</td>\n",
       "      <td>9</td>\n",
       "    </tr>\n",
       "    <tr>\n",
       "      <th>3</th>\n",
       "      <td>48.126326</td>\n",
       "      <td>0.377363</td>\n",
       "      <td>0.802140</td>\n",
       "      <td>0.029466</td>\n",
       "      <td>4</td>\n",
       "      <td>200</td>\n",
       "      <td>{'max_depth': 4, 'n_estimators': 200}</td>\n",
       "      <td>-2588.025754</td>\n",
       "      <td>-2554.568509</td>\n",
       "      <td>-2563.570326</td>\n",
       "      <td>-2568.721530</td>\n",
       "      <td>14.136194</td>\n",
       "      <td>10</td>\n",
       "    </tr>\n",
       "    <tr>\n",
       "      <th>1</th>\n",
       "      <td>24.964077</td>\n",
       "      <td>0.232380</td>\n",
       "      <td>0.506917</td>\n",
       "      <td>0.080992</td>\n",
       "      <td>4</td>\n",
       "      <td>100</td>\n",
       "      <td>{'max_depth': 4, 'n_estimators': 100}</td>\n",
       "      <td>-2590.276996</td>\n",
       "      <td>-2553.668398</td>\n",
       "      <td>-2563.752241</td>\n",
       "      <td>-2569.232545</td>\n",
       "      <td>15.439617</td>\n",
       "      <td>11</td>\n",
       "    </tr>\n",
       "    <tr>\n",
       "      <th>0</th>\n",
       "      <td>12.306806</td>\n",
       "      <td>0.251786</td>\n",
       "      <td>0.278908</td>\n",
       "      <td>0.021048</td>\n",
       "      <td>4</td>\n",
       "      <td>50</td>\n",
       "      <td>{'max_depth': 4, 'n_estimators': 50}</td>\n",
       "      <td>-2587.381043</td>\n",
       "      <td>-2555.606392</td>\n",
       "      <td>-2566.980465</td>\n",
       "      <td>-2569.989300</td>\n",
       "      <td>13.145264</td>\n",
       "      <td>12</td>\n",
       "    </tr>\n",
       "  </tbody>\n",
       "</table>\n",
       "</div>"
      ],
      "text/plain": [
       "    mean_fit_time  std_fit_time  mean_score_time  std_score_time  \\\n",
       "11      54.927925      0.903071         1.071783        0.049985   \n",
       "9       41.797241      0.304876         0.864641        0.014731   \n",
       "10      52.464025      3.680970         1.062578        0.101263   \n",
       "8       21.198505      0.260125         0.437529        0.000001   \n",
       "6       49.957937      0.447693         0.906313        0.012757   \n",
       "5       33.778414      0.149558         0.609418        0.012759   \n",
       "7       67.103521      0.890213         1.276058        0.115830   \n",
       "4       17.064178      0.298738         0.337947        0.047507   \n",
       "2       37.140083      0.259544         0.676747        0.014596   \n",
       "3       48.126326      0.377363         0.802140        0.029466   \n",
       "1       24.964077      0.232380         0.506917        0.080992   \n",
       "0       12.306806      0.251786         0.278908        0.021048   \n",
       "\n",
       "   param_max_depth param_n_estimators                                 params  \\\n",
       "11               8                200  {'max_depth': 8, 'n_estimators': 200}   \n",
       "9                8                100  {'max_depth': 8, 'n_estimators': 100}   \n",
       "10               8                150  {'max_depth': 8, 'n_estimators': 150}   \n",
       "8                8                 50   {'max_depth': 8, 'n_estimators': 50}   \n",
       "6                6                150  {'max_depth': 6, 'n_estimators': 150}   \n",
       "5                6                100  {'max_depth': 6, 'n_estimators': 100}   \n",
       "7                6                200  {'max_depth': 6, 'n_estimators': 200}   \n",
       "4                6                 50   {'max_depth': 6, 'n_estimators': 50}   \n",
       "2                4                150  {'max_depth': 4, 'n_estimators': 150}   \n",
       "3                4                200  {'max_depth': 4, 'n_estimators': 200}   \n",
       "1                4                100  {'max_depth': 4, 'n_estimators': 100}   \n",
       "0                4                 50   {'max_depth': 4, 'n_estimators': 50}   \n",
       "\n",
       "    split0_test_score  split1_test_score  split2_test_score  mean_test_score  \\\n",
       "11       -2100.906142       -2081.268334       -2076.030519     -2086.068332   \n",
       "9        -2101.513529       -2081.069349       -2075.697073     -2086.093317   \n",
       "10       -2101.309792       -2081.725004       -2075.754190     -2086.262996   \n",
       "8        -2102.094782       -2083.229597       -2079.565763     -2088.296714   \n",
       "6        -2300.637289       -2278.608113       -2272.611942     -2283.952448   \n",
       "5        -2300.487285       -2278.355367       -2274.138265     -2284.326972   \n",
       "7        -2300.211266       -2279.269211       -2274.770457     -2284.750311   \n",
       "4        -2299.769982       -2280.277576       -2276.126048     -2285.391202   \n",
       "2        -2589.102431       -2552.975865       -2559.918255     -2567.332183   \n",
       "3        -2588.025754       -2554.568509       -2563.570326     -2568.721530   \n",
       "1        -2590.276996       -2553.668398       -2563.752241     -2569.232545   \n",
       "0        -2587.381043       -2555.606392       -2566.980465     -2569.989300   \n",
       "\n",
       "    std_test_score  rank_test_score  \n",
       "11       10.707603                1  \n",
       "9        11.122126                2  \n",
       "10       10.915348                3  \n",
       "8         9.870695                4  \n",
       "6        12.049245                5  \n",
       "5        11.556031                6  \n",
       "7        11.085742                7  \n",
       "4        10.307627                8  \n",
       "2        15.652624                9  \n",
       "3        14.136194               10  \n",
       "1        15.439617               11  \n",
       "0        13.145264               12  "
      ]
     },
     "execution_count": 54,
     "metadata": {},
     "output_type": "execute_result"
    }
   ],
   "source": [
    "rf_learning_results = pd.DataFrame(scores_rf.cv_results_).sort_values(by='rank_test_score')\n",
    "rf_learning_results"
   ]
  },
  {
   "cell_type": "markdown",
   "metadata": {},
   "source": [
    "С помощью GridSearchCV мы выполнили кросс-валидацию и перебрали несколько значений гиперпараметров для RandomForest. Инструмент считает, что лучшей оказалось модель с глубиной дерева 8 и количеством деревьев 200. Однако, оценивая таблицу результатов, мы можем увидеть, что, начиная с эксперимента с индексом 8, целевая метрика *RMSE* практически не менялась, но времени на обучение в данном эксперименте ушло гораздо меньше."
   ]
  },
  {
   "cell_type": "code",
   "execution_count": 55,
   "metadata": {},
   "outputs": [
    {
     "name": "stdout",
     "output_type": "stream",
     "text": [
      "RMSE модели с индексом 8: 2088.0\n",
      "Параметры модели с индексом 8: {'max_depth': 8, 'n_estimators': 50}\n",
      "Среднее время обечения модели с инексом 8: 21.2 сек\n"
     ]
    }
   ],
   "source": [
    "other_experiment_score = scores_rf.cv_results_['mean_test_score'][8]\n",
    "other_experiment_params = scores_rf.cv_results_['params'][8]\n",
    "other_experiment_time = scores_rf.cv_results_['mean_fit_time'][8]\n",
    "print('RMSE модели с индексом 8:', np.round(np.abs(other_experiment_score)))\n",
    "print('Параметры модели с индексом 8:', other_experiment_params)\n",
    "print(f'Среднее время обечения модели с инексом 8: {np.round(other_experiment_time, 2)} сек')"
   ]
  },
  {
   "cell_type": "markdown",
   "metadata": {},
   "source": [
    "На мой взгляд, разница в *RMSE* небольшая, а времени на обучение 200 деревьев уходит в разы больше, чем на обучение 50 деревьев.\n",
    "\n",
    "Таким образом, в качестве лучшей модели случайного леса выберем модель со следующими гиперпараметрами: max_depth=8, n_estimators=50. Данная модель выдаёт следующие результаты: *RMSE* — 2088, среднее время на обучение — 21.2 секунд, среднее время на предсказание — 0.37 секунд. В целом, на обучение моделей случайного леса и подбор гиперпараметров ушло 4 минуты 12 секунд."
   ]
  },
  {
   "cell_type": "markdown",
   "metadata": {},
   "source": [
    "### LightGBM"
   ]
  },
  {
   "cell_type": "markdown",
   "metadata": {},
   "source": [
    "Обучим модель LightGBM."
   ]
  },
  {
   "cell_type": "code",
   "execution_count": 52,
   "metadata": {},
   "outputs": [
    {
     "name": "stdout",
     "output_type": "stream",
     "text": [
      "[LightGBM] [Warning] Accuracy may be bad since you didn't explicitly set num_leaves OR 2^max_depth > num_leaves. (num_leaves=31).\n",
      "[LightGBM] [Warning] Accuracy may be bad since you didn't explicitly set num_leaves OR 2^max_depth > num_leaves. (num_leaves=31).\n",
      "[LightGBM] [Warning] Auto-choosing row-wise multi-threading, the overhead of testing was 0.008900 seconds.\n",
      "You can set `force_row_wise=true` to remove the overhead.\n",
      "And if memory is not enough, you can set `force_col_wise=true`.\n",
      "[LightGBM] [Info] Total Bins 648\n",
      "[LightGBM] [Info] Number of data points in the train set: 247165, number of used features: 9\n",
      "[LightGBM] [Info] Start training from score 4615.202310\n",
      "Значения гиперпараметров лучшей модели: {'max_depth': 8, 'n_estimators': 200}\n",
      "Лучшая оценка качества модели: 1634.0\n",
      "CPU times: total: 5.47 s\n",
      "Wall time: 20.7 s\n"
     ]
    }
   ],
   "source": [
    "%%time\n",
    "\n",
    "\n",
    "model_lgbm = LGBMRegressor(learning_rate=0.2, random_state=RND_STATE)\n",
    "parameters = {'max_depth': [4, 8],\n",
    "              'n_estimators': [100, 200]}\n",
    "scores_lgbm = GridSearchCV(model_lgbm, \n",
    "                           parameters, \n",
    "                           scoring='neg_root_mean_squared_error',\n",
    "                           cv=3,\n",
    "                           n_jobs=-1)\n",
    "scores_lgbm.fit(features_train_lgbm, target_train)\n",
    "rmse_lgbm = np.round(np.abs(scores_lgbm.best_score_))\n",
    "\n",
    "print('Значения гиперпараметров лучшей модели:', scores_lgbm.best_params_)\n",
    "print('Лучшая оценка качества модели:', rmse_lgbm)"
   ]
  },
  {
   "cell_type": "code",
   "execution_count": 56,
   "metadata": {},
   "outputs": [
    {
     "data": {
      "text/html": [
       "<div>\n",
       "<style scoped>\n",
       "    .dataframe tbody tr th:only-of-type {\n",
       "        vertical-align: middle;\n",
       "    }\n",
       "\n",
       "    .dataframe tbody tr th {\n",
       "        vertical-align: top;\n",
       "    }\n",
       "\n",
       "    .dataframe thead th {\n",
       "        text-align: right;\n",
       "    }\n",
       "</style>\n",
       "<table border=\"1\" class=\"dataframe\">\n",
       "  <thead>\n",
       "    <tr style=\"text-align: right;\">\n",
       "      <th></th>\n",
       "      <th>mean_fit_time</th>\n",
       "      <th>std_fit_time</th>\n",
       "      <th>mean_score_time</th>\n",
       "      <th>std_score_time</th>\n",
       "      <th>param_max_depth</th>\n",
       "      <th>param_n_estimators</th>\n",
       "      <th>params</th>\n",
       "      <th>split0_test_score</th>\n",
       "      <th>split1_test_score</th>\n",
       "      <th>split2_test_score</th>\n",
       "      <th>mean_test_score</th>\n",
       "      <th>std_test_score</th>\n",
       "      <th>rank_test_score</th>\n",
       "    </tr>\n",
       "  </thead>\n",
       "  <tbody>\n",
       "    <tr>\n",
       "      <th>3</th>\n",
       "      <td>2.829774</td>\n",
       "      <td>0.218416</td>\n",
       "      <td>0.399533</td>\n",
       "      <td>0.084162</td>\n",
       "      <td>8</td>\n",
       "      <td>200</td>\n",
       "      <td>{'max_depth': 8, 'n_estimators': 200}</td>\n",
       "      <td>-1638.510777</td>\n",
       "      <td>-1632.415593</td>\n",
       "      <td>-1632.529370</td>\n",
       "      <td>-1634.485247</td>\n",
       "      <td>2.846859</td>\n",
       "      <td>1</td>\n",
       "    </tr>\n",
       "    <tr>\n",
       "      <th>2</th>\n",
       "      <td>3.708418</td>\n",
       "      <td>1.004371</td>\n",
       "      <td>0.257820</td>\n",
       "      <td>0.100107</td>\n",
       "      <td>8</td>\n",
       "      <td>100</td>\n",
       "      <td>{'max_depth': 8, 'n_estimators': 100}</td>\n",
       "      <td>-1668.372905</td>\n",
       "      <td>-1654.073953</td>\n",
       "      <td>-1654.399073</td>\n",
       "      <td>-1658.948644</td>\n",
       "      <td>6.665281</td>\n",
       "      <td>2</td>\n",
       "    </tr>\n",
       "    <tr>\n",
       "      <th>1</th>\n",
       "      <td>3.936877</td>\n",
       "      <td>0.519311</td>\n",
       "      <td>0.623528</td>\n",
       "      <td>0.091433</td>\n",
       "      <td>4</td>\n",
       "      <td>200</td>\n",
       "      <td>{'max_depth': 4, 'n_estimators': 200}</td>\n",
       "      <td>-1694.537036</td>\n",
       "      <td>-1683.759029</td>\n",
       "      <td>-1672.152023</td>\n",
       "      <td>-1683.482696</td>\n",
       "      <td>9.140732</td>\n",
       "      <td>3</td>\n",
       "    </tr>\n",
       "    <tr>\n",
       "      <th>0</th>\n",
       "      <td>2.421605</td>\n",
       "      <td>0.067428</td>\n",
       "      <td>0.463343</td>\n",
       "      <td>0.007319</td>\n",
       "      <td>4</td>\n",
       "      <td>100</td>\n",
       "      <td>{'max_depth': 4, 'n_estimators': 100}</td>\n",
       "      <td>-1736.883038</td>\n",
       "      <td>-1722.072516</td>\n",
       "      <td>-1705.996356</td>\n",
       "      <td>-1721.650637</td>\n",
       "      <td>12.612963</td>\n",
       "      <td>4</td>\n",
       "    </tr>\n",
       "  </tbody>\n",
       "</table>\n",
       "</div>"
      ],
      "text/plain": [
       "   mean_fit_time  std_fit_time  mean_score_time  std_score_time  \\\n",
       "3       2.829774      0.218416         0.399533        0.084162   \n",
       "2       3.708418      1.004371         0.257820        0.100107   \n",
       "1       3.936877      0.519311         0.623528        0.091433   \n",
       "0       2.421605      0.067428         0.463343        0.007319   \n",
       "\n",
       "  param_max_depth param_n_estimators                                 params  \\\n",
       "3               8                200  {'max_depth': 8, 'n_estimators': 200}   \n",
       "2               8                100  {'max_depth': 8, 'n_estimators': 100}   \n",
       "1               4                200  {'max_depth': 4, 'n_estimators': 200}   \n",
       "0               4                100  {'max_depth': 4, 'n_estimators': 100}   \n",
       "\n",
       "   split0_test_score  split1_test_score  split2_test_score  mean_test_score  \\\n",
       "3       -1638.510777       -1632.415593       -1632.529370     -1634.485247   \n",
       "2       -1668.372905       -1654.073953       -1654.399073     -1658.948644   \n",
       "1       -1694.537036       -1683.759029       -1672.152023     -1683.482696   \n",
       "0       -1736.883038       -1722.072516       -1705.996356     -1721.650637   \n",
       "\n",
       "   std_test_score  rank_test_score  \n",
       "3        2.846859                1  \n",
       "2        6.665281                2  \n",
       "1        9.140732                3  \n",
       "0       12.612963                4  "
      ]
     },
     "execution_count": 56,
     "metadata": {},
     "output_type": "execute_result"
    }
   ],
   "source": [
    "lgbm_learning_results = pd.DataFrame(scores_lgbm.cv_results_).sort_values(by='rank_test_score')\n",
    "lgbm_learning_results"
   ]
  },
  {
   "cell_type": "markdown",
   "metadata": {},
   "source": [
    "По таблице видно, что с ростом количества дерьевьев и максимальной глубины качество модели возрастает. К сожалению, модели с большими значениями гиперпараметров и обучаться будут гораздо дольше. По этой причине в качестве лучшей выбрем ту модель, которая дала лучший показатель метрики *RMSE* на устаовленном диапозоне гиперпараметров.\n",
    "\n",
    "Таким образом, лучшая **LightGBM** модель обучалась со следующими значениями гиперпараметров: max_depth=8, n_estimators=200. Данная модель выдаёт следующие результаты: *RMSE* — 1634, среднее время на обучение — 2.83 секунд, среднее время на предсказание — 0.39 секунд. В целом, на обучение моделей случайного леса и подбор гиперпараметров ушло 20 секунд."
   ]
  },
  {
   "cell_type": "markdown",
   "metadata": {},
   "source": [
    "### CatBoost"
   ]
  },
  {
   "cell_type": "markdown",
   "metadata": {},
   "source": [
    "Обучим модель CatBoost."
   ]
  },
  {
   "cell_type": "code",
   "execution_count": 57,
   "metadata": {},
   "outputs": [
    {
     "name": "stderr",
     "output_type": "stream",
     "text": [
      "C:\\Users\\Admin\\MyPrograms\\anaconda3\\envs\\ds_practicum_env\\lib\\site-packages\\sklearn\\model_selection\\_search.py:918: UserWarning: One or more of the test scores are non-finite: [           nan            nan -1721.49920275 -1668.26369803]\n",
      "  warnings.warn(\n"
     ]
    },
    {
     "name": "stdout",
     "output_type": "stream",
     "text": [
      "Значения гиперпараметров лучшей модели: {'depth': 8, 'iterations': 200, 'verbose': 0}\n",
      "Лучшая оценка качества модели: 1668.0\n",
      "CPU times: total: 3min 40s\n",
      "Wall time: 2min 16s\n"
     ]
    }
   ],
   "source": [
    "%%time\n",
    "\n",
    "\n",
    "model_cbr = CatBoostRegressor(learning_rate=0.2, random_seed=RND_STATE, cat_features=categorial)\n",
    "parameters  = {'depth': [4, 8],\n",
    "               'iterations': [100, 200], \n",
    "               'verbose': [0]}\n",
    "scores_cbr = GridSearchCV(model_cbr, \n",
    "                          parameters, \n",
    "                          scoring='neg_root_mean_squared_error', \n",
    "                          cv=3, \n",
    "                          n_jobs=-1)\n",
    "scores_cbr.fit(features_train, target_train)\n",
    "rmse_cbr = np.round(np.abs(scores_cbr.best_score_))\n",
    "\n",
    "print('Значения гиперпараметров лучшей модели:', scores_cbr.best_params_)\n",
    "print('Лучшая оценка качества модели:', rmse_cbr)"
   ]
  },
  {
   "cell_type": "code",
   "execution_count": 58,
   "metadata": {},
   "outputs": [
    {
     "data": {
      "text/html": [
       "<div>\n",
       "<style scoped>\n",
       "    .dataframe tbody tr th:only-of-type {\n",
       "        vertical-align: middle;\n",
       "    }\n",
       "\n",
       "    .dataframe tbody tr th {\n",
       "        vertical-align: top;\n",
       "    }\n",
       "\n",
       "    .dataframe thead th {\n",
       "        text-align: right;\n",
       "    }\n",
       "</style>\n",
       "<table border=\"1\" class=\"dataframe\">\n",
       "  <thead>\n",
       "    <tr style=\"text-align: right;\">\n",
       "      <th></th>\n",
       "      <th>mean_fit_time</th>\n",
       "      <th>std_fit_time</th>\n",
       "      <th>mean_score_time</th>\n",
       "      <th>std_score_time</th>\n",
       "      <th>param_depth</th>\n",
       "      <th>param_iterations</th>\n",
       "      <th>param_verbose</th>\n",
       "      <th>params</th>\n",
       "      <th>split0_test_score</th>\n",
       "      <th>split1_test_score</th>\n",
       "      <th>split2_test_score</th>\n",
       "      <th>mean_test_score</th>\n",
       "      <th>std_test_score</th>\n",
       "      <th>rank_test_score</th>\n",
       "    </tr>\n",
       "  </thead>\n",
       "  <tbody>\n",
       "    <tr>\n",
       "      <th>3</th>\n",
       "      <td>84.848380</td>\n",
       "      <td>8.212377</td>\n",
       "      <td>0.276397</td>\n",
       "      <td>0.073084</td>\n",
       "      <td>8</td>\n",
       "      <td>200</td>\n",
       "      <td>0</td>\n",
       "      <td>{'depth': 8, 'iterations': 200, 'verbose': 0}</td>\n",
       "      <td>-1672.587475</td>\n",
       "      <td>-1668.082209</td>\n",
       "      <td>-1664.121410</td>\n",
       "      <td>-1668.263698</td>\n",
       "      <td>3.458638</td>\n",
       "      <td>1</td>\n",
       "    </tr>\n",
       "    <tr>\n",
       "      <th>2</th>\n",
       "      <td>33.183784</td>\n",
       "      <td>0.224586</td>\n",
       "      <td>0.507489</td>\n",
       "      <td>0.070436</td>\n",
       "      <td>8</td>\n",
       "      <td>100</td>\n",
       "      <td>0</td>\n",
       "      <td>{'depth': 8, 'iterations': 100, 'verbose': 0}</td>\n",
       "      <td>-1731.491035</td>\n",
       "      <td>-1716.804950</td>\n",
       "      <td>-1716.201623</td>\n",
       "      <td>-1721.499203</td>\n",
       "      <td>7.069585</td>\n",
       "      <td>2</td>\n",
       "    </tr>\n",
       "    <tr>\n",
       "      <th>0</th>\n",
       "      <td>7.878734</td>\n",
       "      <td>10.052571</td>\n",
       "      <td>0.155628</td>\n",
       "      <td>0.220091</td>\n",
       "      <td>4</td>\n",
       "      <td>100</td>\n",
       "      <td>0</td>\n",
       "      <td>{'depth': 4, 'iterations': 100, 'verbose': 0}</td>\n",
       "      <td>-1861.225896</td>\n",
       "      <td>NaN</td>\n",
       "      <td>NaN</td>\n",
       "      <td>NaN</td>\n",
       "      <td>NaN</td>\n",
       "      <td>3</td>\n",
       "    </tr>\n",
       "    <tr>\n",
       "      <th>1</th>\n",
       "      <td>35.356838</td>\n",
       "      <td>25.119461</td>\n",
       "      <td>0.182733</td>\n",
       "      <td>0.129501</td>\n",
       "      <td>4</td>\n",
       "      <td>200</td>\n",
       "      <td>0</td>\n",
       "      <td>{'depth': 4, 'iterations': 200, 'verbose': 0}</td>\n",
       "      <td>NaN</td>\n",
       "      <td>-1764.662065</td>\n",
       "      <td>-1769.352389</td>\n",
       "      <td>NaN</td>\n",
       "      <td>NaN</td>\n",
       "      <td>4</td>\n",
       "    </tr>\n",
       "  </tbody>\n",
       "</table>\n",
       "</div>"
      ],
      "text/plain": [
       "   mean_fit_time  std_fit_time  mean_score_time  std_score_time param_depth  \\\n",
       "3      84.848380      8.212377         0.276397        0.073084           8   \n",
       "2      33.183784      0.224586         0.507489        0.070436           8   \n",
       "0       7.878734     10.052571         0.155628        0.220091           4   \n",
       "1      35.356838     25.119461         0.182733        0.129501           4   \n",
       "\n",
       "  param_iterations param_verbose  \\\n",
       "3              200             0   \n",
       "2              100             0   \n",
       "0              100             0   \n",
       "1              200             0   \n",
       "\n",
       "                                          params  split0_test_score  \\\n",
       "3  {'depth': 8, 'iterations': 200, 'verbose': 0}       -1672.587475   \n",
       "2  {'depth': 8, 'iterations': 100, 'verbose': 0}       -1731.491035   \n",
       "0  {'depth': 4, 'iterations': 100, 'verbose': 0}       -1861.225896   \n",
       "1  {'depth': 4, 'iterations': 200, 'verbose': 0}                NaN   \n",
       "\n",
       "   split1_test_score  split2_test_score  mean_test_score  std_test_score  \\\n",
       "3       -1668.082209       -1664.121410     -1668.263698        3.458638   \n",
       "2       -1716.804950       -1716.201623     -1721.499203        7.069585   \n",
       "0                NaN                NaN              NaN             NaN   \n",
       "1       -1764.662065       -1769.352389              NaN             NaN   \n",
       "\n",
       "   rank_test_score  \n",
       "3                1  \n",
       "2                2  \n",
       "0                3  \n",
       "1                4  "
      ]
     },
     "execution_count": 58,
     "metadata": {},
     "output_type": "execute_result"
    }
   ],
   "source": [
    "cbr_learning_results = pd.DataFrame(scores_cbr.cv_results_).sort_values(by='rank_test_score')\n",
    "cbr_learning_results"
   ]
  },
  {
   "cell_type": "markdown",
   "metadata": {},
   "source": [
    "По аналогии с LightGBM, мы можем видеть, что наилучший результат в обучении CatBoost даёт модель с наибольшими значениями гиперпараметров из заданного диапозона. \n",
    "\n",
    "Таким образом, лучшая **CatBoost** модель имеет следующие значения гиперпараметров:: max_depth=8, iterations=200. Данная модель выдаёт следующие результаты: *RMSE* — 1668, среднее время на обучение — 84.84 секунд, среднее время на предсказание — 0.27 секунд. В целом, на обучение моделей случайного леса и подбор гиперпараметров ушло 2 минут 16 секунд."
   ]
  },
  {
   "cell_type": "markdown",
   "metadata": {},
   "source": [
    "**Вывод**\n",
    "\n",
    "В данном разделе мы провели обучение с кросс-валидацией и подбор гиперпараметров для трех моделей: **RandomForest**, **LightGBM**, **CatBoost**. Наилушими показателями по скорости обучения и метрике *RMSE* обладает модель **LightGBM**, чуть хуже себя показала **CatBoost**, и самый неудачный результат показала модель **RandomForest**. \n",
    "\n",
    "Проверим данные модели на тестовой выборке, проведем анализ и определим окончательного лидера."
   ]
  },
  {
   "cell_type": "markdown",
   "metadata": {},
   "source": [
    "## Анализ моделей"
   ]
  },
  {
   "cell_type": "markdown",
   "metadata": {},
   "source": [
    "Протестируем RandomForest."
   ]
  },
  {
   "cell_type": "code",
   "execution_count": 59,
   "metadata": {},
   "outputs": [
    {
     "name": "stdout",
     "output_type": "stream",
     "text": [
      "RMSE модели RandomForest: 2087.0\n"
     ]
    }
   ],
   "source": [
    "predictions_rf = scores_rf.best_estimator_.predict(features_test_rf)\n",
    "rmse_rf_result = mean_squared_error(target_test, predictions_rf, squared=False) \n",
    "print('RMSE модели RandomForest:', np.round(np.abs(rmse_rf_result)))"
   ]
  },
  {
   "cell_type": "markdown",
   "metadata": {},
   "source": [
    "Протестируем LightGBM."
   ]
  },
  {
   "cell_type": "code",
   "execution_count": 60,
   "metadata": {},
   "outputs": [
    {
     "name": "stdout",
     "output_type": "stream",
     "text": [
      "[LightGBM] [Warning] Accuracy may be bad since you didn't explicitly set num_leaves OR 2^max_depth > num_leaves. (num_leaves=31).\n",
      "RMSE модели RandomForest: 1612.0\n"
     ]
    }
   ],
   "source": [
    "predictions_lgbm = scores_lgbm.best_estimator_.predict(features_test_lgbm)\n",
    "rmse_lgbm_result = mean_squared_error(target_test, predictions_lgbm, squared=False) \n",
    "print('RMSE модели RandomForest:', np.round(np.abs(rmse_lgbm_result)))"
   ]
  },
  {
   "cell_type": "markdown",
   "metadata": {},
   "source": [
    "Протестируем CatBoost."
   ]
  },
  {
   "cell_type": "code",
   "execution_count": 61,
   "metadata": {},
   "outputs": [
    {
     "name": "stdout",
     "output_type": "stream",
     "text": [
      "RMSE модели RandomForest: 1641.0\n"
     ]
    }
   ],
   "source": [
    "predictions_cbr = scores_cbr.best_estimator_.predict(features_test)\n",
    "rmse_cbr_result = mean_squared_error(target_test, predictions_cbr, squared=False) \n",
    "print('RMSE модели RandomForest:', np.round(np.abs(rmse_cbr_result)))"
   ]
  },
  {
   "cell_type": "markdown",
   "metadata": {},
   "source": [
    "Составим таблицу результатов."
   ]
  },
  {
   "cell_type": "code",
   "execution_count": 64,
   "metadata": {},
   "outputs": [
    {
     "data": {
      "text/html": [
       "<div>\n",
       "<style scoped>\n",
       "    .dataframe tbody tr th:only-of-type {\n",
       "        vertical-align: middle;\n",
       "    }\n",
       "\n",
       "    .dataframe tbody tr th {\n",
       "        vertical-align: top;\n",
       "    }\n",
       "\n",
       "    .dataframe thead th {\n",
       "        text-align: right;\n",
       "    }\n",
       "</style>\n",
       "<table border=\"1\" class=\"dataframe\">\n",
       "  <thead>\n",
       "    <tr style=\"text-align: right;\">\n",
       "      <th></th>\n",
       "      <th>model</th>\n",
       "      <th>RMSE на валидации</th>\n",
       "      <th>RMSE на тесте</th>\n",
       "      <th>Время на обучение (сек),</th>\n",
       "      <th>Время на предсказание (сек)</th>\n",
       "    </tr>\n",
       "  </thead>\n",
       "  <tbody>\n",
       "    <tr>\n",
       "      <th>0</th>\n",
       "      <td>RndomForest</td>\n",
       "      <td>2088.0</td>\n",
       "      <td>2087.0</td>\n",
       "      <td>21.198505</td>\n",
       "      <td>0.437529</td>\n",
       "    </tr>\n",
       "    <tr>\n",
       "      <th>1</th>\n",
       "      <td>LightGBM</td>\n",
       "      <td>1634.0</td>\n",
       "      <td>1612.0</td>\n",
       "      <td>2.829774</td>\n",
       "      <td>0.399533</td>\n",
       "    </tr>\n",
       "    <tr>\n",
       "      <th>2</th>\n",
       "      <td>CatBoost</td>\n",
       "      <td>1668.0</td>\n",
       "      <td>1641.0</td>\n",
       "      <td>84.848380</td>\n",
       "      <td>0.276397</td>\n",
       "    </tr>\n",
       "  </tbody>\n",
       "</table>\n",
       "</div>"
      ],
      "text/plain": [
       "         model  RMSE на валидации  RMSE на тесте  Время на обучение (сек),  \\\n",
       "0  RndomForest             2088.0         2087.0                 21.198505   \n",
       "1     LightGBM             1634.0         1612.0                  2.829774   \n",
       "2     CatBoost             1668.0         1641.0                 84.848380   \n",
       "\n",
       "   Время на предсказание (сек)  \n",
       "0                     0.437529  \n",
       "1                     0.399533  \n",
       "2                     0.276397  "
      ]
     },
     "execution_count": 64,
     "metadata": {},
     "output_type": "execute_result"
    }
   ],
   "source": [
    "result_table = pd.DataFrame([\n",
    "    ['RndomForest', \n",
    "     np.round(np.abs(scores_rf.cv_results_['mean_test_score'][8])), \n",
    "     np.round(np.abs(rmse_rf_result)), \n",
    "     scores_rf.cv_results_['mean_fit_time'][8], \n",
    "     scores_rf.cv_results_['mean_score_time'][8]],\n",
    "    ['LightGBM', \n",
    "     rmse_lgbm, \n",
    "     np.round(np.abs(rmse_lgbm_result)), \n",
    "     scores_lgbm.cv_results_['mean_fit_time'][3], \n",
    "     scores_lgbm.cv_results_['mean_score_time'][3]],\n",
    "    ['CatBoost',\n",
    "     rmse_cbr,\n",
    "     np.round(np.abs(rmse_cbr_result)), \n",
    "     scores_cbr.cv_results_['mean_fit_time'][3], \n",
    "     scores_cbr.cv_results_['mean_score_time'][3]]\n",
    "],\n",
    "    columns = ['model',\n",
    "           'RMSE на валидации', \n",
    "           'RMSE на тесте',\n",
    "           'Время на обучение (сек),',\n",
    "           'Время на предсказание (сек)'])\n",
    "\n",
    "result_table"
   ]
  },
  {
   "cell_type": "markdown",
   "metadata": {},
   "source": [
    "**Вывод**\n",
    "\n",
    "Мы провели тестирование отобранных на предыдущем этапе моделей. Лучшей практически по всем показателям оказалась модель **LightGBM**. Значения метрик лучшей модели: *RMSE* на кросс-валидации — 1634, *RMSE* на тестовой выборке — 1612, время на обучение модели — 2.83 секунд, время на предсказание — 0.39 секунд. Значения гиперпараметров лучшей модели:   max_depth=8, n_estimators=200. "
   ]
  },
  {
   "cell_type": "markdown",
   "metadata": {},
   "source": [
    "## Общий вывод"
   ]
  },
  {
   "cell_type": "markdown",
   "metadata": {},
   "source": [
    "В ходе исследования мы провели работу для прогнозирования рыночной стоимости автомобиля.\n",
    "\n",
    "\n",
    "Исследуя данные, мы:\n",
    "1. Загрузили и изучили данные.\n",
    "2. Выполнили предобработку данных. Избавились от дубликатов, обработали аномалии и пропуски.\n",
    "3. Проанализировали признаки, исключили неифнормативные признаки.\n",
    "4. Подготовили данные к машинному обучению.\n",
    "5. Выполнили обучение с кросс-валидацией и подбором гиперпараметров для трех моделей: **RandomForest**, **LightGBM**, **CatBoost**.\n",
    "6. Отобрали с помощью GridSearchCV модели и оптимальными гиперпараметрами и протестировали их.\n",
    "7. Проанализировали результаты. Лучшей практически по всем показателям оказалась модель **LightGBM**.  Значения метрик лучшей модели: *RMSE* на кросс-валидации — 1634, *RMSE* на тестовой выборке — 1612, время на обучение модели — 2.83 секунд, время на предсказание — 0.39 секунд. Значения гиперпараметров лучшей модели:   max_depth=8, n_estimators=200.  Именно эту модель я рекомендую для использования, основываясь на требованиях заказчика."
   ]
  }
 ],
 "metadata": {
  "ExecuteTimeLog": [
   {
    "duration": 449,
    "start_time": "2023-07-10T18:00:45.526Z"
   },
   {
    "duration": 1223,
    "start_time": "2023-07-10T18:01:11.556Z"
   },
   {
    "duration": 48,
    "start_time": "2023-07-12T08:49:35.416Z"
   },
   {
    "duration": 1128,
    "start_time": "2023-07-12T08:50:07.673Z"
   },
   {
    "duration": 1054,
    "start_time": "2023-07-12T09:09:41.628Z"
   },
   {
    "duration": 2341,
    "start_time": "2023-07-12T09:09:53.943Z"
   },
   {
    "duration": 53,
    "start_time": "2023-07-12T14:58:31.305Z"
   },
   {
    "duration": 1137,
    "start_time": "2023-07-12T14:58:35.944Z"
   },
   {
    "duration": 1177,
    "start_time": "2023-07-12T14:58:37.083Z"
   },
   {
    "duration": 2165,
    "start_time": "2023-07-12T14:58:38.261Z"
   },
   {
    "duration": 536,
    "start_time": "2023-07-12T14:58:47.805Z"
   },
   {
    "duration": 513,
    "start_time": "2023-07-12T15:08:47.384Z"
   },
   {
    "duration": 91,
    "start_time": "2023-07-12T15:09:49.629Z"
   },
   {
    "duration": 558,
    "start_time": "2023-07-12T15:21:56.915Z"
   },
   {
    "duration": 1105,
    "start_time": "2023-07-12T15:22:19.127Z"
   },
   {
    "duration": 25,
    "start_time": "2023-07-12T15:41:30.632Z"
   },
   {
    "duration": 20,
    "start_time": "2023-07-12T15:41:52.199Z"
   },
   {
    "duration": 18,
    "start_time": "2023-07-12T15:52:20.835Z"
   },
   {
    "duration": 23,
    "start_time": "2023-07-12T15:52:25.258Z"
   },
   {
    "duration": 24,
    "start_time": "2023-07-12T15:52:29.311Z"
   },
   {
    "duration": 55,
    "start_time": "2023-07-12T15:52:44.600Z"
   },
   {
    "duration": 47,
    "start_time": "2023-07-12T16:12:22.106Z"
   },
   {
    "duration": 2,
    "start_time": "2023-07-12T16:14:40.299Z"
   },
   {
    "duration": 3,
    "start_time": "2023-07-12T16:14:51.893Z"
   },
   {
    "duration": 51,
    "start_time": "2023-07-12T16:15:11.509Z"
   },
   {
    "duration": 3,
    "start_time": "2023-07-12T16:20:17.656Z"
   },
   {
    "duration": 42,
    "start_time": "2023-07-12T16:20:27.142Z"
   },
   {
    "duration": 3,
    "start_time": "2023-07-12T16:23:37.259Z"
   },
   {
    "duration": 53,
    "start_time": "2023-07-12T16:23:45.026Z"
   },
   {
    "duration": 868,
    "start_time": "2023-07-12T16:25:13.997Z"
   },
   {
    "duration": 86,
    "start_time": "2023-07-12T16:32:47.541Z"
   },
   {
    "duration": 332,
    "start_time": "2023-07-12T16:34:20.987Z"
   },
   {
    "duration": 96,
    "start_time": "2023-07-12T16:34:25.434Z"
   },
   {
    "duration": 82,
    "start_time": "2023-07-12T16:34:36.496Z"
   },
   {
    "duration": 64,
    "start_time": "2023-07-12T16:37:42.531Z"
   },
   {
    "duration": 65,
    "start_time": "2023-07-12T16:37:44.929Z"
   },
   {
    "duration": 50,
    "start_time": "2023-07-13T09:07:31.501Z"
   },
   {
    "duration": 1177,
    "start_time": "2023-07-13T09:07:35.822Z"
   },
   {
    "duration": 62,
    "start_time": "2023-07-13T09:07:37.002Z"
   },
   {
    "duration": 2,
    "start_time": "2023-07-13T09:07:37.066Z"
   },
   {
    "duration": 3007,
    "start_time": "2023-07-13T09:07:37.070Z"
   },
   {
    "duration": 2101,
    "start_time": "2023-07-13T09:07:40.080Z"
   },
   {
    "duration": 491,
    "start_time": "2023-07-13T09:07:42.183Z"
   },
   {
    "duration": 998,
    "start_time": "2023-07-13T09:07:42.676Z"
   },
   {
    "duration": 40,
    "start_time": "2023-07-13T09:07:44.612Z"
   },
   {
    "duration": 31,
    "start_time": "2023-07-13T09:08:08.862Z"
   },
   {
    "duration": 31,
    "start_time": "2023-07-13T09:09:13.533Z"
   },
   {
    "duration": 24,
    "start_time": "2023-07-13T09:12:43.830Z"
   },
   {
    "duration": 2348,
    "start_time": "2023-07-13T09:31:01.709Z"
   },
   {
    "duration": 2558,
    "start_time": "2023-07-13T09:32:19.018Z"
   },
   {
    "duration": 2012,
    "start_time": "2023-07-13T09:32:33.805Z"
   },
   {
    "duration": 2196,
    "start_time": "2023-07-13T09:33:46.397Z"
   },
   {
    "duration": 287,
    "start_time": "2023-07-13T09:34:17.221Z"
   },
   {
    "duration": 37,
    "start_time": "2023-07-13T09:35:17.073Z"
   },
   {
    "duration": 114,
    "start_time": "2023-07-13T09:35:59.168Z"
   },
   {
    "duration": 11,
    "start_time": "2023-07-13T09:37:38.601Z"
   },
   {
    "duration": 102,
    "start_time": "2023-07-13T09:37:45.213Z"
   },
   {
    "duration": 138,
    "start_time": "2023-07-13T09:38:15.938Z"
   },
   {
    "duration": 31,
    "start_time": "2023-07-13T09:40:59.613Z"
   },
   {
    "duration": 21,
    "start_time": "2023-07-13T09:41:14.936Z"
   },
   {
    "duration": 23,
    "start_time": "2023-07-13T09:41:24.314Z"
   },
   {
    "duration": 76,
    "start_time": "2023-07-13T10:03:22.400Z"
   },
   {
    "duration": 76,
    "start_time": "2023-07-13T10:03:27.113Z"
   },
   {
    "duration": 72,
    "start_time": "2023-07-13T10:03:29.437Z"
   },
   {
    "duration": 12,
    "start_time": "2023-07-13T10:03:40.208Z"
   },
   {
    "duration": 13,
    "start_time": "2023-07-13T10:03:43.060Z"
   },
   {
    "duration": 10,
    "start_time": "2023-07-13T10:03:45.370Z"
   },
   {
    "duration": 5,
    "start_time": "2023-07-13T10:04:06.851Z"
   },
   {
    "duration": 14,
    "start_time": "2023-07-13T10:07:39.037Z"
   },
   {
    "duration": 11,
    "start_time": "2023-07-13T10:07:41.108Z"
   },
   {
    "duration": 8,
    "start_time": "2023-07-13T10:07:47.448Z"
   },
   {
    "duration": 8,
    "start_time": "2023-07-13T10:07:51.228Z"
   },
   {
    "duration": 14,
    "start_time": "2023-07-13T10:07:56.865Z"
   },
   {
    "duration": 8,
    "start_time": "2023-07-13T10:08:13.404Z"
   },
   {
    "duration": 9,
    "start_time": "2023-07-13T10:08:23.016Z"
   },
   {
    "duration": 58,
    "start_time": "2023-07-13T10:50:03.421Z"
   },
   {
    "duration": 47,
    "start_time": "2023-07-13T10:50:26.622Z"
   },
   {
    "duration": 44,
    "start_time": "2023-07-13T10:50:36.545Z"
   },
   {
    "duration": 28,
    "start_time": "2023-07-13T10:53:28.118Z"
   },
   {
    "duration": 66,
    "start_time": "2023-07-13T10:53:33.755Z"
   },
   {
    "duration": 30,
    "start_time": "2023-07-13T10:55:18.949Z"
   },
   {
    "duration": 17,
    "start_time": "2023-07-13T11:05:46.255Z"
   },
   {
    "duration": 171,
    "start_time": "2023-07-13T11:10:03.414Z"
   },
   {
    "duration": 350,
    "start_time": "2023-07-13T11:10:23.073Z"
   },
   {
    "duration": 51,
    "start_time": "2023-07-13T11:10:51.434Z"
   },
   {
    "duration": 1317,
    "start_time": "2023-07-13T11:10:57.422Z"
   },
   {
    "duration": 40,
    "start_time": "2023-07-13T11:11:26.018Z"
   },
   {
    "duration": 187,
    "start_time": "2023-07-13T11:18:11.875Z"
   },
   {
    "duration": 185,
    "start_time": "2023-07-13T11:18:59.233Z"
   },
   {
    "duration": 186,
    "start_time": "2023-07-13T11:19:07.554Z"
   },
   {
    "duration": 176,
    "start_time": "2023-07-13T11:19:11.454Z"
   },
   {
    "duration": 179,
    "start_time": "2023-07-13T11:19:18.801Z"
   },
   {
    "duration": 271,
    "start_time": "2023-07-13T11:19:24.112Z"
   },
   {
    "duration": 1260,
    "start_time": "2023-07-13T11:22:12.855Z"
   },
   {
    "duration": 1152,
    "start_time": "2023-07-13T11:22:18.224Z"
   },
   {
    "duration": 17,
    "start_time": "2023-07-13T11:23:00.420Z"
   },
   {
    "duration": 15,
    "start_time": "2023-07-13T11:23:14.712Z"
   },
   {
    "duration": 6,
    "start_time": "2023-07-13T11:23:46.209Z"
   },
   {
    "duration": 6,
    "start_time": "2023-07-13T11:24:22.777Z"
   },
   {
    "duration": 22,
    "start_time": "2023-07-13T11:27:09.617Z"
   },
   {
    "duration": 19,
    "start_time": "2023-07-13T11:30:04.706Z"
   },
   {
    "duration": 5,
    "start_time": "2023-07-13T11:38:16.918Z"
   },
   {
    "duration": 6,
    "start_time": "2023-07-13T11:38:20.326Z"
   },
   {
    "duration": 13,
    "start_time": "2023-07-13T11:38:40.146Z"
   },
   {
    "duration": 6,
    "start_time": "2023-07-13T11:38:45.965Z"
   },
   {
    "duration": 5,
    "start_time": "2023-07-13T11:38:53.098Z"
   },
   {
    "duration": 6,
    "start_time": "2023-07-13T11:38:57.713Z"
   },
   {
    "duration": 4,
    "start_time": "2023-07-13T11:39:05.832Z"
   },
   {
    "duration": 79,
    "start_time": "2023-07-13T11:39:05.838Z"
   },
   {
    "duration": 3,
    "start_time": "2023-07-13T11:39:05.920Z"
   },
   {
    "duration": 854,
    "start_time": "2023-07-13T11:39:05.925Z"
   },
   {
    "duration": 1518,
    "start_time": "2023-07-13T11:39:06.782Z"
   },
   {
    "duration": 273,
    "start_time": "2023-07-13T11:39:08.301Z"
   },
   {
    "duration": 99,
    "start_time": "2023-07-13T11:39:08.576Z"
   },
   {
    "duration": 298,
    "start_time": "2023-07-13T11:39:08.677Z"
   },
   {
    "duration": 562,
    "start_time": "2023-07-13T11:39:08.977Z"
   },
   {
    "duration": 33,
    "start_time": "2023-07-13T11:39:09.540Z"
   },
   {
    "duration": 8,
    "start_time": "2023-07-13T11:39:09.574Z"
   },
   {
    "duration": 31,
    "start_time": "2023-07-13T11:39:09.584Z"
   },
   {
    "duration": 60,
    "start_time": "2023-07-13T11:39:09.617Z"
   },
   {
    "duration": 18,
    "start_time": "2023-07-13T11:39:09.680Z"
   },
   {
    "duration": 20,
    "start_time": "2023-07-13T11:39:09.700Z"
   },
   {
    "duration": 6,
    "start_time": "2023-07-13T11:39:22.731Z"
   },
   {
    "duration": 6,
    "start_time": "2023-07-13T11:39:32.373Z"
   },
   {
    "duration": 30,
    "start_time": "2023-07-13T11:39:39.310Z"
   },
   {
    "duration": 14,
    "start_time": "2023-07-13T11:39:47.910Z"
   },
   {
    "duration": 26,
    "start_time": "2023-07-13T11:51:35.081Z"
   },
   {
    "duration": 484,
    "start_time": "2023-07-13T13:06:32.827Z"
   },
   {
    "duration": 41,
    "start_time": "2023-07-13T13:06:41.819Z"
   },
   {
    "duration": 28,
    "start_time": "2023-07-13T13:07:30.579Z"
   },
   {
    "duration": 10,
    "start_time": "2023-07-13T13:11:45.120Z"
   },
   {
    "duration": 19,
    "start_time": "2023-07-13T13:11:59.358Z"
   },
   {
    "duration": 20,
    "start_time": "2023-07-13T13:12:06.182Z"
   },
   {
    "duration": 9746,
    "start_time": "2023-07-13T13:22:20.309Z"
   },
   {
    "duration": 9382,
    "start_time": "2023-07-13T13:23:06.429Z"
   },
   {
    "duration": 10060,
    "start_time": "2023-07-13T13:24:09.456Z"
   },
   {
    "duration": 8503,
    "start_time": "2023-07-13T13:24:41.219Z"
   },
   {
    "duration": 13,
    "start_time": "2023-07-13T13:25:39.718Z"
   },
   {
    "duration": 8700,
    "start_time": "2023-07-13T13:25:58.431Z"
   },
   {
    "duration": 41,
    "start_time": "2023-07-13T13:26:23.727Z"
   },
   {
    "duration": 51995,
    "start_time": "2023-07-13T13:28:10.842Z"
   },
   {
    "duration": 14,
    "start_time": "2023-07-13T13:29:02.839Z"
   },
   {
    "duration": 176937,
    "start_time": "2023-07-13T13:36:43.569Z"
   },
   {
    "duration": 4,
    "start_time": "2023-07-13T13:39:40.510Z"
   },
   {
    "duration": 62,
    "start_time": "2023-07-13T13:39:40.517Z"
   },
   {
    "duration": 2,
    "start_time": "2023-07-13T13:39:40.581Z"
   },
   {
    "duration": 736,
    "start_time": "2023-07-13T13:39:40.585Z"
   },
   {
    "duration": 1382,
    "start_time": "2023-07-13T13:39:41.323Z"
   },
   {
    "duration": 270,
    "start_time": "2023-07-13T13:39:42.707Z"
   },
   {
    "duration": 96,
    "start_time": "2023-07-13T13:39:42.979Z"
   },
   {
    "duration": 314,
    "start_time": "2023-07-13T13:39:43.079Z"
   },
   {
    "duration": 590,
    "start_time": "2023-07-13T13:39:43.395Z"
   },
   {
    "duration": 17,
    "start_time": "2023-07-13T13:39:43.986Z"
   },
   {
    "duration": 6,
    "start_time": "2023-07-13T13:39:44.005Z"
   },
   {
    "duration": 60,
    "start_time": "2023-07-13T13:39:44.013Z"
   },
   {
    "duration": 43,
    "start_time": "2023-07-13T13:39:44.074Z"
   },
   {
    "duration": 19,
    "start_time": "2023-07-13T13:39:44.119Z"
   },
   {
    "duration": 22,
    "start_time": "2023-07-13T13:39:44.159Z"
   },
   {
    "duration": 5,
    "start_time": "2023-07-13T13:39:44.183Z"
   },
   {
    "duration": 44,
    "start_time": "2023-07-13T13:39:44.190Z"
   },
   {
    "duration": 52,
    "start_time": "2023-07-13T13:39:44.236Z"
   },
   {
    "duration": 14,
    "start_time": "2023-07-13T13:39:44.290Z"
   },
   {
    "duration": 14,
    "start_time": "2023-07-13T13:42:35.828Z"
   },
   {
    "duration": 8595,
    "start_time": "2023-07-13T13:43:29.510Z"
   },
   {
    "duration": 13,
    "start_time": "2023-07-13T13:43:38.107Z"
   },
   {
    "duration": 8298,
    "start_time": "2023-07-13T13:46:02.272Z"
   },
   {
    "duration": 8439,
    "start_time": "2023-07-13T13:46:17.745Z"
   },
   {
    "duration": 44,
    "start_time": "2023-07-13T13:46:31.468Z"
   },
   {
    "duration": 9684,
    "start_time": "2023-07-13T13:47:15.675Z"
   },
   {
    "duration": 12992,
    "start_time": "2023-07-13T13:47:38.025Z"
   },
   {
    "duration": 13,
    "start_time": "2023-07-13T13:47:51.018Z"
   },
   {
    "duration": 9812,
    "start_time": "2023-07-13T13:48:13.018Z"
   },
   {
    "duration": 8735,
    "start_time": "2023-07-13T13:49:58.151Z"
   },
   {
    "duration": 8494,
    "start_time": "2023-07-13T13:50:38.902Z"
   },
   {
    "duration": 14,
    "start_time": "2023-07-13T13:50:52.068Z"
   },
   {
    "duration": 43,
    "start_time": "2023-07-13T13:52:50.830Z"
   },
   {
    "duration": 34,
    "start_time": "2023-07-13T13:53:03.749Z"
   },
   {
    "duration": 37,
    "start_time": "2023-07-13T13:53:18.658Z"
   },
   {
    "duration": 66,
    "start_time": "2023-07-13T13:53:32.841Z"
   },
   {
    "duration": 29,
    "start_time": "2023-07-13T13:53:57.647Z"
   },
   {
    "duration": 47,
    "start_time": "2023-07-13T13:54:49.771Z"
   },
   {
    "duration": 46,
    "start_time": "2023-07-13T13:55:13.306Z"
   },
   {
    "duration": 30,
    "start_time": "2023-07-13T13:56:10.120Z"
   },
   {
    "duration": 56,
    "start_time": "2023-07-13T13:56:42.370Z"
   },
   {
    "duration": 10206,
    "start_time": "2023-07-13T13:57:52.772Z"
   },
   {
    "duration": 5,
    "start_time": "2023-07-13T13:58:15.858Z"
   },
   {
    "duration": 11,
    "start_time": "2023-07-13T14:14:39.714Z"
   },
   {
    "duration": 11,
    "start_time": "2023-07-13T14:15:07.043Z"
   },
   {
    "duration": 33,
    "start_time": "2023-07-13T14:15:14.227Z"
   },
   {
    "duration": 76,
    "start_time": "2023-07-13T14:15:21.211Z"
   },
   {
    "duration": 6,
    "start_time": "2023-07-13T14:15:38.444Z"
   },
   {
    "duration": 10197,
    "start_time": "2023-07-13T14:24:32.823Z"
   },
   {
    "duration": 38,
    "start_time": "2023-07-13T14:24:47.444Z"
   },
   {
    "duration": 4,
    "start_time": "2023-07-13T14:25:24.022Z"
   },
   {
    "duration": 75,
    "start_time": "2023-07-13T14:25:24.028Z"
   },
   {
    "duration": 3,
    "start_time": "2023-07-13T14:25:24.104Z"
   },
   {
    "duration": 808,
    "start_time": "2023-07-13T14:25:24.108Z"
   },
   {
    "duration": 1502,
    "start_time": "2023-07-13T14:25:24.919Z"
   },
   {
    "duration": 262,
    "start_time": "2023-07-13T14:25:26.422Z"
   },
   {
    "duration": 83,
    "start_time": "2023-07-13T14:25:26.686Z"
   },
   {
    "duration": 280,
    "start_time": "2023-07-13T14:25:26.771Z"
   },
   {
    "duration": 509,
    "start_time": "2023-07-13T14:25:27.052Z"
   },
   {
    "duration": 16,
    "start_time": "2023-07-13T14:25:27.562Z"
   },
   {
    "duration": 20,
    "start_time": "2023-07-13T14:25:27.580Z"
   },
   {
    "duration": 29,
    "start_time": "2023-07-13T14:25:27.602Z"
   },
   {
    "duration": 46,
    "start_time": "2023-07-13T14:25:27.633Z"
   },
   {
    "duration": 17,
    "start_time": "2023-07-13T14:25:27.681Z"
   },
   {
    "duration": 16,
    "start_time": "2023-07-13T14:25:27.700Z"
   },
   {
    "duration": 18,
    "start_time": "2023-07-13T14:25:27.717Z"
   },
   {
    "duration": 52,
    "start_time": "2023-07-13T14:25:27.737Z"
   },
   {
    "duration": 25,
    "start_time": "2023-07-13T14:25:27.791Z"
   },
   {
    "duration": 13,
    "start_time": "2023-07-13T14:25:27.818Z"
   },
   {
    "duration": 58,
    "start_time": "2023-07-13T14:26:09.703Z"
   },
   {
    "duration": 10219,
    "start_time": "2023-07-13T14:26:15.125Z"
   },
   {
    "duration": 58,
    "start_time": "2023-07-13T14:26:28.000Z"
   },
   {
    "duration": 6,
    "start_time": "2023-07-13T14:26:39.611Z"
   },
   {
    "duration": 4,
    "start_time": "2023-07-13T14:26:53.406Z"
   },
   {
    "duration": 83,
    "start_time": "2023-07-13T14:26:53.412Z"
   },
   {
    "duration": 3,
    "start_time": "2023-07-13T14:26:53.496Z"
   },
   {
    "duration": 769,
    "start_time": "2023-07-13T14:26:53.500Z"
   },
   {
    "duration": 1457,
    "start_time": "2023-07-13T14:26:54.272Z"
   },
   {
    "duration": 263,
    "start_time": "2023-07-13T14:26:55.732Z"
   },
   {
    "duration": 96,
    "start_time": "2023-07-13T14:26:55.997Z"
   },
   {
    "duration": 268,
    "start_time": "2023-07-13T14:26:56.095Z"
   },
   {
    "duration": 587,
    "start_time": "2023-07-13T14:26:56.364Z"
   },
   {
    "duration": 22,
    "start_time": "2023-07-13T14:26:56.953Z"
   },
   {
    "duration": 5,
    "start_time": "2023-07-13T14:26:56.977Z"
   },
   {
    "duration": 45,
    "start_time": "2023-07-13T14:26:56.984Z"
   },
   {
    "duration": 50,
    "start_time": "2023-07-13T14:26:57.031Z"
   },
   {
    "duration": 17,
    "start_time": "2023-07-13T14:26:57.084Z"
   },
   {
    "duration": 18,
    "start_time": "2023-07-13T14:26:57.102Z"
   },
   {
    "duration": 8,
    "start_time": "2023-07-13T14:26:57.121Z"
   },
   {
    "duration": 53,
    "start_time": "2023-07-13T14:26:57.130Z"
   },
   {
    "duration": 25,
    "start_time": "2023-07-13T14:26:57.185Z"
   },
   {
    "duration": 12,
    "start_time": "2023-07-13T14:26:57.211Z"
   },
   {
    "duration": 8,
    "start_time": "2023-07-13T14:27:13.201Z"
   },
   {
    "duration": 20,
    "start_time": "2023-07-13T14:27:20.555Z"
   },
   {
    "duration": 35,
    "start_time": "2023-07-13T14:27:29.947Z"
   },
   {
    "duration": 57,
    "start_time": "2023-07-13T14:28:11.432Z"
   },
   {
    "duration": 4,
    "start_time": "2023-07-13T14:28:41.134Z"
   },
   {
    "duration": 53,
    "start_time": "2023-07-13T14:28:47.687Z"
   },
   {
    "duration": 7,
    "start_time": "2023-07-13T14:29:39.059Z"
   },
   {
    "duration": 4,
    "start_time": "2023-07-13T14:30:29.688Z"
   },
   {
    "duration": 100,
    "start_time": "2023-07-13T14:30:29.694Z"
   },
   {
    "duration": 3,
    "start_time": "2023-07-13T14:30:29.795Z"
   },
   {
    "duration": 790,
    "start_time": "2023-07-13T14:30:29.799Z"
   },
   {
    "duration": 1537,
    "start_time": "2023-07-13T14:30:30.592Z"
   },
   {
    "duration": 279,
    "start_time": "2023-07-13T14:30:32.131Z"
   },
   {
    "duration": 101,
    "start_time": "2023-07-13T14:30:32.412Z"
   },
   {
    "duration": 266,
    "start_time": "2023-07-13T14:30:32.514Z"
   },
   {
    "duration": 561,
    "start_time": "2023-07-13T14:30:32.782Z"
   },
   {
    "duration": 24,
    "start_time": "2023-07-13T14:30:33.344Z"
   },
   {
    "duration": 24,
    "start_time": "2023-07-13T14:30:33.370Z"
   },
   {
    "duration": 42,
    "start_time": "2023-07-13T14:30:33.395Z"
   },
   {
    "duration": 48,
    "start_time": "2023-07-13T14:30:33.439Z"
   },
   {
    "duration": 16,
    "start_time": "2023-07-13T14:30:33.490Z"
   },
   {
    "duration": 36,
    "start_time": "2023-07-13T14:30:33.508Z"
   },
   {
    "duration": 29,
    "start_time": "2023-07-13T14:30:33.546Z"
   },
   {
    "duration": 44,
    "start_time": "2023-07-13T14:30:33.577Z"
   },
   {
    "duration": 25,
    "start_time": "2023-07-13T14:30:33.623Z"
   },
   {
    "duration": 12,
    "start_time": "2023-07-13T14:30:33.649Z"
   },
   {
    "duration": 4,
    "start_time": "2023-07-13T14:31:18.151Z"
   },
   {
    "duration": 45,
    "start_time": "2023-07-13T14:31:22.610Z"
   },
   {
    "duration": 12304,
    "start_time": "2023-07-13T14:35:28.333Z"
   },
   {
    "duration": 9656,
    "start_time": "2023-07-13T14:36:17.512Z"
   },
   {
    "duration": 9529,
    "start_time": "2023-07-13T14:38:18.935Z"
   },
   {
    "duration": 8167,
    "start_time": "2023-07-13T14:40:15.306Z"
   },
   {
    "duration": 9425,
    "start_time": "2023-07-13T14:40:43.700Z"
   },
   {
    "duration": 10359,
    "start_time": "2023-07-13T14:40:57.330Z"
   },
   {
    "duration": 8479,
    "start_time": "2023-07-13T14:41:42.419Z"
   },
   {
    "duration": 10411,
    "start_time": "2023-07-13T14:43:15.764Z"
   },
   {
    "duration": 10232,
    "start_time": "2023-07-13T14:43:50.262Z"
   },
   {
    "duration": 12614,
    "start_time": "2023-07-13T14:44:19.653Z"
   },
   {
    "duration": 45,
    "start_time": "2023-07-13T14:44:38.201Z"
   },
   {
    "duration": 8045,
    "start_time": "2023-07-13T14:50:24.392Z"
   },
   {
    "duration": 6,
    "start_time": "2023-07-13T14:50:50.005Z"
   },
   {
    "duration": 8005,
    "start_time": "2023-07-13T14:51:24.200Z"
   },
   {
    "duration": 8077,
    "start_time": "2023-07-13T14:51:40.589Z"
   },
   {
    "duration": 81,
    "start_time": "2023-07-13T14:54:06.829Z"
   },
   {
    "duration": 8001,
    "start_time": "2023-07-13T14:54:15.305Z"
   },
   {
    "duration": 4,
    "start_time": "2023-07-13T14:54:47.291Z"
   },
   {
    "duration": 67,
    "start_time": "2023-07-13T14:54:47.298Z"
   },
   {
    "duration": 3,
    "start_time": "2023-07-13T14:54:47.368Z"
   },
   {
    "duration": 793,
    "start_time": "2023-07-13T14:54:47.372Z"
   },
   {
    "duration": 1460,
    "start_time": "2023-07-13T14:54:48.168Z"
   },
   {
    "duration": 269,
    "start_time": "2023-07-13T14:54:49.629Z"
   },
   {
    "duration": 96,
    "start_time": "2023-07-13T14:54:49.899Z"
   },
   {
    "duration": 277,
    "start_time": "2023-07-13T14:54:49.997Z"
   },
   {
    "duration": 544,
    "start_time": "2023-07-13T14:54:50.277Z"
   },
   {
    "duration": 17,
    "start_time": "2023-07-13T14:54:50.823Z"
   },
   {
    "duration": 18,
    "start_time": "2023-07-13T14:54:50.842Z"
   },
   {
    "duration": 35,
    "start_time": "2023-07-13T14:54:50.862Z"
   },
   {
    "duration": 32,
    "start_time": "2023-07-13T14:54:50.899Z"
   },
   {
    "duration": 38,
    "start_time": "2023-07-13T14:54:50.934Z"
   },
   {
    "duration": 16,
    "start_time": "2023-07-13T14:54:50.974Z"
   },
   {
    "duration": 14,
    "start_time": "2023-07-13T14:54:50.992Z"
   },
   {
    "duration": 41,
    "start_time": "2023-07-13T14:54:51.008Z"
   },
   {
    "duration": 26,
    "start_time": "2023-07-13T14:54:51.059Z"
   },
   {
    "duration": 13,
    "start_time": "2023-07-13T14:54:51.087Z"
   },
   {
    "duration": 8501,
    "start_time": "2023-07-13T14:56:29.791Z"
   },
   {
    "duration": 8281,
    "start_time": "2023-07-13T14:56:46.960Z"
   },
   {
    "duration": 4,
    "start_time": "2023-07-13T14:57:28.341Z"
   },
   {
    "duration": 80,
    "start_time": "2023-07-13T14:57:28.347Z"
   },
   {
    "duration": 2,
    "start_time": "2023-07-13T14:57:28.429Z"
   },
   {
    "duration": 775,
    "start_time": "2023-07-13T14:57:28.432Z"
   },
   {
    "duration": 1506,
    "start_time": "2023-07-13T14:57:29.210Z"
   },
   {
    "duration": 275,
    "start_time": "2023-07-13T14:57:30.717Z"
   },
   {
    "duration": 100,
    "start_time": "2023-07-13T14:57:30.993Z"
   },
   {
    "duration": 292,
    "start_time": "2023-07-13T14:57:31.095Z"
   },
   {
    "duration": 593,
    "start_time": "2023-07-13T14:57:31.388Z"
   },
   {
    "duration": 18,
    "start_time": "2023-07-13T14:57:31.983Z"
   },
   {
    "duration": 27,
    "start_time": "2023-07-13T14:57:32.003Z"
   },
   {
    "duration": 56,
    "start_time": "2023-07-13T14:57:32.032Z"
   },
   {
    "duration": 31,
    "start_time": "2023-07-13T14:57:32.090Z"
   },
   {
    "duration": 36,
    "start_time": "2023-07-13T14:57:32.125Z"
   },
   {
    "duration": 17,
    "start_time": "2023-07-13T14:57:32.163Z"
   },
   {
    "duration": 36,
    "start_time": "2023-07-13T14:57:32.181Z"
   },
   {
    "duration": 29,
    "start_time": "2023-07-13T14:57:32.219Z"
   },
   {
    "duration": 27,
    "start_time": "2023-07-13T14:57:32.250Z"
   },
   {
    "duration": 12,
    "start_time": "2023-07-13T14:57:32.278Z"
   },
   {
    "duration": 8849,
    "start_time": "2023-07-13T14:58:13.320Z"
   },
   {
    "duration": 10,
    "start_time": "2023-07-13T15:02:21.861Z"
   },
   {
    "duration": 18,
    "start_time": "2023-07-13T15:11:03.771Z"
   },
   {
    "duration": 24,
    "start_time": "2023-07-13T15:13:17.898Z"
   },
   {
    "duration": 12,
    "start_time": "2023-07-13T15:16:02.134Z"
   },
   {
    "duration": 32,
    "start_time": "2023-07-13T15:26:37.159Z"
   },
   {
    "duration": 34,
    "start_time": "2023-07-13T15:26:42.046Z"
   },
   {
    "duration": 17,
    "start_time": "2023-07-13T15:30:51.537Z"
   },
   {
    "duration": 15,
    "start_time": "2023-07-13T15:30:52.429Z"
   },
   {
    "duration": 45,
    "start_time": "2023-07-13T15:31:22.429Z"
   },
   {
    "duration": 81,
    "start_time": "2023-07-13T15:32:08.905Z"
   },
   {
    "duration": 68,
    "start_time": "2023-07-13T15:43:59.641Z"
   },
   {
    "duration": 34,
    "start_time": "2023-07-13T17:08:53.038Z"
   },
   {
    "duration": 14,
    "start_time": "2023-07-13T17:17:55.518Z"
   },
   {
    "duration": 26,
    "start_time": "2023-07-13T17:18:38.011Z"
   },
   {
    "duration": 14,
    "start_time": "2023-07-13T17:19:27.317Z"
   },
   {
    "duration": 14,
    "start_time": "2023-07-13T17:19:41.105Z"
   },
   {
    "duration": 23,
    "start_time": "2023-07-13T17:20:23.033Z"
   },
   {
    "duration": 19,
    "start_time": "2023-07-13T17:21:05.831Z"
   },
   {
    "duration": 11,
    "start_time": "2023-07-13T17:22:01.416Z"
   },
   {
    "duration": 44,
    "start_time": "2023-07-13T17:22:04.549Z"
   },
   {
    "duration": 14,
    "start_time": "2023-07-13T17:23:18.434Z"
   },
   {
    "duration": 48,
    "start_time": "2023-07-13T17:25:54.523Z"
   },
   {
    "duration": 3,
    "start_time": "2023-07-13T17:26:11.251Z"
   },
   {
    "duration": 75,
    "start_time": "2023-07-13T17:26:11.256Z"
   },
   {
    "duration": 5,
    "start_time": "2023-07-13T17:26:11.333Z"
   },
   {
    "duration": 756,
    "start_time": "2023-07-13T17:26:11.340Z"
   },
   {
    "duration": 1685,
    "start_time": "2023-07-13T17:26:12.098Z"
   },
   {
    "duration": 274,
    "start_time": "2023-07-13T17:26:13.785Z"
   },
   {
    "duration": 123,
    "start_time": "2023-07-13T17:26:14.061Z"
   },
   {
    "duration": 309,
    "start_time": "2023-07-13T17:26:14.186Z"
   },
   {
    "duration": 539,
    "start_time": "2023-07-13T17:26:14.496Z"
   },
   {
    "duration": 26,
    "start_time": "2023-07-13T17:26:15.036Z"
   },
   {
    "duration": 21,
    "start_time": "2023-07-13T17:26:15.064Z"
   },
   {
    "duration": 31,
    "start_time": "2023-07-13T17:26:15.087Z"
   },
   {
    "duration": 43,
    "start_time": "2023-07-13T17:26:15.120Z"
   },
   {
    "duration": 18,
    "start_time": "2023-07-13T17:26:15.165Z"
   },
   {
    "duration": 18,
    "start_time": "2023-07-13T17:26:15.185Z"
   },
   {
    "duration": 7,
    "start_time": "2023-07-13T17:26:15.205Z"
   },
   {
    "duration": 63,
    "start_time": "2023-07-13T17:26:15.214Z"
   },
   {
    "duration": 32,
    "start_time": "2023-07-13T17:26:15.279Z"
   },
   {
    "duration": 12,
    "start_time": "2023-07-13T17:26:15.313Z"
   },
   {
    "duration": 9396,
    "start_time": "2023-07-13T17:26:15.327Z"
   },
   {
    "duration": 10,
    "start_time": "2023-07-13T17:26:24.724Z"
   },
   {
    "duration": 31,
    "start_time": "2023-07-13T17:26:24.736Z"
   },
   {
    "duration": 25,
    "start_time": "2023-07-13T17:26:24.769Z"
   },
   {
    "duration": 9,
    "start_time": "2023-07-13T17:26:24.796Z"
   },
   {
    "duration": 30,
    "start_time": "2023-07-13T17:26:24.806Z"
   },
   {
    "duration": 95,
    "start_time": "2023-07-13T17:26:24.838Z"
   },
   {
    "duration": 32,
    "start_time": "2023-07-13T17:26:24.935Z"
   },
   {
    "duration": 23,
    "start_time": "2023-07-13T17:26:24.970Z"
   },
   {
    "duration": 36,
    "start_time": "2023-07-13T17:26:24.995Z"
   },
   {
    "duration": 78,
    "start_time": "2023-07-13T17:26:25.032Z"
   },
   {
    "duration": 33,
    "start_time": "2023-07-13T17:26:25.112Z"
   },
   {
    "duration": 41,
    "start_time": "2023-07-13T17:26:51.694Z"
   },
   {
    "duration": 37,
    "start_time": "2023-07-13T17:28:12.059Z"
   },
   {
    "duration": 45,
    "start_time": "2023-07-13T17:29:44.046Z"
   },
   {
    "duration": 43,
    "start_time": "2023-07-13T17:34:20.248Z"
   },
   {
    "duration": 36,
    "start_time": "2023-07-13T17:37:23.807Z"
   },
   {
    "duration": 32,
    "start_time": "2023-07-13T17:37:31.730Z"
   },
   {
    "duration": 35,
    "start_time": "2023-07-13T17:37:35.916Z"
   },
   {
    "duration": 25,
    "start_time": "2023-07-13T17:40:18.460Z"
   },
   {
    "duration": 19,
    "start_time": "2023-07-13T17:42:06.296Z"
   },
   {
    "duration": 33,
    "start_time": "2023-07-13T17:42:25.491Z"
   },
   {
    "duration": 15,
    "start_time": "2023-07-13T17:43:08.020Z"
   },
   {
    "duration": 17,
    "start_time": "2023-07-13T17:44:59.970Z"
   },
   {
    "duration": 20,
    "start_time": "2023-07-13T17:45:02.813Z"
   },
   {
    "duration": 36,
    "start_time": "2023-07-13T17:45:04.508Z"
   },
   {
    "duration": 15,
    "start_time": "2023-07-13T17:49:16.003Z"
   },
   {
    "duration": 27,
    "start_time": "2023-07-13T17:49:18.840Z"
   },
   {
    "duration": 108,
    "start_time": "2023-07-13T17:50:52.170Z"
   },
   {
    "duration": 4,
    "start_time": "2023-07-13T17:52:33.952Z"
   },
   {
    "duration": 56,
    "start_time": "2023-07-13T17:52:53.118Z"
   },
   {
    "duration": 52,
    "start_time": "2023-07-13T17:54:20.157Z"
   },
   {
    "duration": 4,
    "start_time": "2023-07-13T17:54:26.509Z"
   },
   {
    "duration": 63,
    "start_time": "2023-07-13T17:54:27.003Z"
   },
   {
    "duration": 3,
    "start_time": "2023-07-13T17:57:42.967Z"
   },
   {
    "duration": 58,
    "start_time": "2023-07-13T17:57:43.513Z"
   },
   {
    "duration": 5,
    "start_time": "2023-07-13T17:58:18.331Z"
   },
   {
    "duration": 58,
    "start_time": "2023-07-13T17:58:26.282Z"
   },
   {
    "duration": 5,
    "start_time": "2023-07-13T17:58:59.794Z"
   },
   {
    "duration": 77,
    "start_time": "2023-07-13T17:59:00.232Z"
   },
   {
    "duration": 4,
    "start_time": "2023-07-13T17:59:23.384Z"
   },
   {
    "duration": 64,
    "start_time": "2023-07-13T17:59:23.743Z"
   },
   {
    "duration": 26,
    "start_time": "2023-07-13T17:59:32.794Z"
   },
   {
    "duration": 59,
    "start_time": "2023-07-13T17:59:34.525Z"
   },
   {
    "duration": 27,
    "start_time": "2023-07-13T17:59:53.254Z"
   },
   {
    "duration": 54,
    "start_time": "2023-07-13T18:01:46.988Z"
   },
   {
    "duration": 28,
    "start_time": "2023-07-13T18:07:45.926Z"
   },
   {
    "duration": 56,
    "start_time": "2023-07-13T18:16:45.561Z"
   },
   {
    "duration": 27,
    "start_time": "2023-07-13T18:19:31.196Z"
   },
   {
    "duration": 58,
    "start_time": "2023-07-13T18:19:32.192Z"
   },
   {
    "duration": 28,
    "start_time": "2023-07-13T18:19:53.328Z"
   },
   {
    "duration": 68,
    "start_time": "2023-07-13T18:20:48.597Z"
   },
   {
    "duration": 3,
    "start_time": "2023-07-13T18:24:46.918Z"
   },
   {
    "duration": 60,
    "start_time": "2023-07-13T18:24:52.283Z"
   },
   {
    "duration": 88,
    "start_time": "2023-07-13T18:33:55.228Z"
   },
   {
    "duration": 46,
    "start_time": "2023-07-14T08:51:15.787Z"
   },
   {
    "duration": 1709,
    "start_time": "2023-07-14T08:51:21.346Z"
   },
   {
    "duration": 141,
    "start_time": "2023-07-14T08:51:23.058Z"
   },
   {
    "duration": 4,
    "start_time": "2023-07-14T08:51:23.201Z"
   },
   {
    "duration": 1281,
    "start_time": "2023-07-14T08:51:23.206Z"
   },
   {
    "duration": 2497,
    "start_time": "2023-07-14T08:51:24.490Z"
   },
   {
    "duration": 395,
    "start_time": "2023-07-14T08:51:26.990Z"
   },
   {
    "duration": 222,
    "start_time": "2023-07-14T08:51:27.388Z"
   },
   {
    "duration": 496,
    "start_time": "2023-07-14T08:51:27.612Z"
   },
   {
    "duration": 701,
    "start_time": "2023-07-14T08:51:28.111Z"
   },
   {
    "duration": 39,
    "start_time": "2023-07-14T08:51:28.815Z"
   },
   {
    "duration": 7,
    "start_time": "2023-07-14T08:51:28.857Z"
   },
   {
    "duration": 54,
    "start_time": "2023-07-14T08:51:28.865Z"
   },
   {
    "duration": 48,
    "start_time": "2023-07-14T08:51:28.921Z"
   },
   {
    "duration": 18,
    "start_time": "2023-07-14T08:51:28.974Z"
   },
   {
    "duration": 44,
    "start_time": "2023-07-14T08:51:28.994Z"
   },
   {
    "duration": 16,
    "start_time": "2023-07-14T08:51:29.040Z"
   },
   {
    "duration": 32,
    "start_time": "2023-07-14T08:51:29.058Z"
   },
   {
    "duration": 41,
    "start_time": "2023-07-14T08:51:29.092Z"
   },
   {
    "duration": 16,
    "start_time": "2023-07-14T08:51:29.137Z"
   },
   {
    "duration": 10852,
    "start_time": "2023-07-14T08:51:29.155Z"
   },
   {
    "duration": 9,
    "start_time": "2023-07-14T08:51:40.009Z"
   },
   {
    "duration": 28,
    "start_time": "2023-07-14T08:51:40.033Z"
   },
   {
    "duration": 30,
    "start_time": "2023-07-14T08:51:40.064Z"
   },
   {
    "duration": 9,
    "start_time": "2023-07-14T08:51:40.096Z"
   },
   {
    "duration": 65,
    "start_time": "2023-07-14T08:51:40.108Z"
   },
   {
    "duration": 110,
    "start_time": "2023-07-14T08:51:40.175Z"
   },
   {
    "duration": 20,
    "start_time": "2023-07-14T08:51:40.286Z"
   },
   {
    "duration": 58,
    "start_time": "2023-07-14T08:51:40.307Z"
   },
   {
    "duration": 72,
    "start_time": "2023-07-14T08:51:40.367Z"
   },
   {
    "duration": 77,
    "start_time": "2023-07-14T08:51:40.442Z"
   },
   {
    "duration": 86,
    "start_time": "2023-07-14T08:51:40.522Z"
   },
   {
    "duration": 77,
    "start_time": "2023-07-14T08:51:40.610Z"
   },
   {
    "duration": 25,
    "start_time": "2023-07-14T08:51:40.689Z"
   },
   {
    "duration": 145,
    "start_time": "2023-07-14T08:51:40.716Z"
   },
   {
    "duration": 52,
    "start_time": "2023-07-14T08:51:40.863Z"
   },
   {
    "duration": 143,
    "start_time": "2023-07-14T08:51:40.917Z"
   },
   {
    "duration": 31,
    "start_time": "2023-07-14T08:51:41.062Z"
   },
   {
    "duration": 95,
    "start_time": "2023-07-14T08:51:41.095Z"
   },
   {
    "duration": 64,
    "start_time": "2023-07-14T08:51:41.192Z"
   },
   {
    "duration": 104,
    "start_time": "2023-07-14T08:51:41.259Z"
   },
   {
    "duration": 39,
    "start_time": "2023-07-14T08:51:41.367Z"
   },
   {
    "duration": 112,
    "start_time": "2023-07-14T08:51:41.408Z"
   },
   {
    "duration": 180,
    "start_time": "2023-07-14T08:51:41.521Z"
   },
   {
    "duration": 190,
    "start_time": "2023-07-14T08:52:20.485Z"
   },
   {
    "duration": 159,
    "start_time": "2023-07-14T08:52:41.816Z"
   },
   {
    "duration": 135,
    "start_time": "2023-07-14T09:21:36.446Z"
   },
   {
    "duration": 132,
    "start_time": "2023-07-14T09:23:12.104Z"
   },
   {
    "duration": 139,
    "start_time": "2023-07-14T09:23:21.903Z"
   },
   {
    "duration": 122,
    "start_time": "2023-07-14T10:31:59.063Z"
   },
   {
    "duration": 19,
    "start_time": "2023-07-14T10:37:37.262Z"
   },
   {
    "duration": 26,
    "start_time": "2023-07-14T10:37:49.879Z"
   },
   {
    "duration": 125,
    "start_time": "2023-07-14T10:38:28.268Z"
   },
   {
    "duration": 219,
    "start_time": "2023-07-14T10:39:10.971Z"
   },
   {
    "duration": 175,
    "start_time": "2023-07-14T10:42:44.288Z"
   },
   {
    "duration": 8,
    "start_time": "2023-07-14T10:56:18.964Z"
   },
   {
    "duration": 430,
    "start_time": "2023-07-14T10:57:03.923Z"
   },
   {
    "duration": 445,
    "start_time": "2023-07-14T10:58:00.568Z"
   },
   {
    "duration": 404,
    "start_time": "2023-07-14T10:58:04.805Z"
   },
   {
    "duration": 401,
    "start_time": "2023-07-14T10:59:59.652Z"
   },
   {
    "duration": 373,
    "start_time": "2023-07-14T11:00:37.755Z"
   },
   {
    "duration": 181,
    "start_time": "2023-07-14T11:01:32.923Z"
   },
   {
    "duration": 3,
    "start_time": "2023-07-14T11:02:26.646Z"
   },
   {
    "duration": 16,
    "start_time": "2023-07-14T11:02:29.818Z"
   },
   {
    "duration": 15,
    "start_time": "2023-07-14T11:02:38.489Z"
   },
   {
    "duration": 23,
    "start_time": "2023-07-14T11:02:51.481Z"
   },
   {
    "duration": 27,
    "start_time": "2023-07-14T11:03:12.198Z"
   },
   {
    "duration": 449,
    "start_time": "2023-07-14T11:09:06.561Z"
   },
   {
    "duration": 868,
    "start_time": "2023-07-14T12:24:47.432Z"
   },
   {
    "duration": 198,
    "start_time": "2023-07-14T12:26:17.963Z"
   },
   {
    "duration": 239,
    "start_time": "2023-07-14T12:26:31.601Z"
   },
   {
    "duration": 733,
    "start_time": "2023-07-14T12:26:43.413Z"
   },
   {
    "duration": 76,
    "start_time": "2023-07-14T13:02:51.360Z"
   },
   {
    "duration": 31538,
    "start_time": "2023-07-14T13:04:54.821Z"
   },
   {
    "duration": 306,
    "start_time": "2023-07-14T13:06:35.676Z"
   },
   {
    "duration": 289,
    "start_time": "2023-07-14T13:06:59.107Z"
   },
   {
    "duration": 693,
    "start_time": "2023-07-14T13:08:15.294Z"
   },
   {
    "duration": 734,
    "start_time": "2023-07-14T13:08:20.760Z"
   },
   {
    "duration": 722,
    "start_time": "2023-07-14T13:08:37.455Z"
   },
   {
    "duration": 705,
    "start_time": "2023-07-14T13:09:42.183Z"
   },
   {
    "duration": 718,
    "start_time": "2023-07-14T13:09:49.177Z"
   },
   {
    "duration": 784,
    "start_time": "2023-07-14T13:27:51.413Z"
   },
   {
    "duration": 2,
    "start_time": "2023-07-14T13:28:07.791Z"
   },
   {
    "duration": 191,
    "start_time": "2023-07-14T13:29:12.691Z"
   },
   {
    "duration": 4,
    "start_time": "2023-07-14T13:29:18.705Z"
   },
   {
    "duration": 3,
    "start_time": "2023-07-14T13:32:58.813Z"
   },
   {
    "duration": 790,
    "start_time": "2023-07-14T13:34:12.431Z"
   },
   {
    "duration": 3,
    "start_time": "2023-07-14T13:43:57.780Z"
   },
   {
    "duration": 100,
    "start_time": "2023-07-14T14:23:27.093Z"
   },
   {
    "duration": 118,
    "start_time": "2023-07-14T14:23:59.070Z"
   },
   {
    "duration": 11,
    "start_time": "2023-07-14T14:25:15.722Z"
   },
   {
    "duration": 535,
    "start_time": "2023-07-14T14:25:33.058Z"
   },
   {
    "duration": 575,
    "start_time": "2023-07-14T14:27:14.150Z"
   },
   {
    "duration": 708,
    "start_time": "2023-07-14T14:29:32.173Z"
   },
   {
    "duration": 689,
    "start_time": "2023-07-14T14:29:52.201Z"
   },
   {
    "duration": 117,
    "start_time": "2023-07-14T14:49:40.321Z"
   },
   {
    "duration": 129,
    "start_time": "2023-07-14T14:49:43.517Z"
   },
   {
    "duration": 614,
    "start_time": "2023-07-14T14:49:59.507Z"
   },
   {
    "duration": 444,
    "start_time": "2023-07-14T14:50:05.612Z"
   },
   {
    "duration": 996,
    "start_time": "2023-07-14T14:51:53.058Z"
   },
   {
    "duration": 88,
    "start_time": "2023-07-14T14:56:38.643Z"
   },
   {
    "duration": 33,
    "start_time": "2023-07-14T14:57:13.443Z"
   },
   {
    "duration": 113,
    "start_time": "2023-07-14T14:57:17.645Z"
   },
   {
    "duration": 4,
    "start_time": "2023-07-14T14:58:31.381Z"
   },
   {
    "duration": 132,
    "start_time": "2023-07-14T14:58:36.254Z"
   },
   {
    "duration": 95,
    "start_time": "2023-07-14T14:58:38.114Z"
   },
   {
    "duration": 142,
    "start_time": "2023-07-14T15:00:27.348Z"
   },
   {
    "duration": 105,
    "start_time": "2023-07-14T15:01:05.416Z"
   },
   {
    "duration": 896,
    "start_time": "2023-07-14T15:02:37.782Z"
   },
   {
    "duration": 103,
    "start_time": "2023-07-14T15:02:45.123Z"
   },
   {
    "duration": 11,
    "start_time": "2023-07-14T15:03:40.699Z"
   },
   {
    "duration": 5,
    "start_time": "2023-07-14T15:03:48.767Z"
   },
   {
    "duration": 1573,
    "start_time": "2023-07-14T15:04:34.058Z"
   },
   {
    "duration": 84,
    "start_time": "2023-07-14T15:04:35.638Z"
   },
   {
    "duration": 3,
    "start_time": "2023-07-14T15:04:35.724Z"
   },
   {
    "duration": 938,
    "start_time": "2023-07-14T15:04:35.729Z"
   },
   {
    "duration": 1784,
    "start_time": "2023-07-14T15:04:36.669Z"
   },
   {
    "duration": 322,
    "start_time": "2023-07-14T15:04:38.454Z"
   },
   {
    "duration": 93,
    "start_time": "2023-07-14T15:04:38.778Z"
   },
   {
    "duration": 327,
    "start_time": "2023-07-14T15:04:38.873Z"
   },
   {
    "duration": 762,
    "start_time": "2023-07-14T15:04:39.202Z"
   },
   {
    "duration": 16,
    "start_time": "2023-07-14T15:04:39.965Z"
   },
   {
    "duration": 18,
    "start_time": "2023-07-14T15:04:39.983Z"
   },
   {
    "duration": 54,
    "start_time": "2023-07-14T15:04:40.004Z"
   },
   {
    "duration": 48,
    "start_time": "2023-07-14T15:04:40.060Z"
   },
   {
    "duration": 28,
    "start_time": "2023-07-14T15:04:40.111Z"
   },
   {
    "duration": 36,
    "start_time": "2023-07-14T15:04:40.141Z"
   },
   {
    "duration": 10,
    "start_time": "2023-07-14T15:04:40.179Z"
   },
   {
    "duration": 41,
    "start_time": "2023-07-14T15:04:40.191Z"
   },
   {
    "duration": 30,
    "start_time": "2023-07-14T15:04:40.234Z"
   },
   {
    "duration": 24,
    "start_time": "2023-07-14T15:04:40.266Z"
   },
   {
    "duration": 10556,
    "start_time": "2023-07-14T15:04:40.292Z"
   },
   {
    "duration": 10,
    "start_time": "2023-07-14T15:04:50.849Z"
   },
   {
    "duration": 128,
    "start_time": "2023-07-14T15:04:50.860Z"
   },
   {
    "duration": 95,
    "start_time": "2023-07-14T15:04:50.992Z"
   },
   {
    "duration": 11,
    "start_time": "2023-07-14T15:04:51.090Z"
   },
   {
    "duration": 98,
    "start_time": "2023-07-14T15:04:51.103Z"
   },
   {
    "duration": 210,
    "start_time": "2023-07-14T15:04:51.203Z"
   },
   {
    "duration": 48,
    "start_time": "2023-07-14T15:04:51.415Z"
   },
   {
    "duration": 40,
    "start_time": "2023-07-14T15:04:51.465Z"
   },
   {
    "duration": 62,
    "start_time": "2023-07-14T15:04:51.508Z"
   },
   {
    "duration": 82,
    "start_time": "2023-07-14T15:04:51.573Z"
   },
   {
    "duration": 87,
    "start_time": "2023-07-14T15:04:51.657Z"
   },
   {
    "duration": 103,
    "start_time": "2023-07-14T15:04:51.746Z"
   },
   {
    "duration": 8,
    "start_time": "2023-07-14T15:04:51.858Z"
   },
   {
    "duration": 113,
    "start_time": "2023-07-14T15:04:51.870Z"
   },
   {
    "duration": 66,
    "start_time": "2023-07-14T15:04:51.985Z"
   },
   {
    "duration": 138,
    "start_time": "2023-07-14T15:04:52.056Z"
   },
   {
    "duration": 48,
    "start_time": "2023-07-14T15:04:52.195Z"
   },
   {
    "duration": 133,
    "start_time": "2023-07-14T15:04:52.244Z"
   },
   {
    "duration": 32,
    "start_time": "2023-07-14T15:04:52.379Z"
   },
   {
    "duration": 89,
    "start_time": "2023-07-14T15:04:52.431Z"
   },
   {
    "duration": 367,
    "start_time": "2023-07-14T15:04:52.523Z"
   },
   {
    "duration": 332,
    "start_time": "2023-07-14T15:04:52.892Z"
   },
   {
    "duration": 188,
    "start_time": "2023-07-14T15:04:53.231Z"
   },
   {
    "duration": 198,
    "start_time": "2023-07-14T15:04:53.422Z"
   },
   {
    "duration": 4,
    "start_time": "2023-07-14T15:04:53.623Z"
   },
   {
    "duration": 314,
    "start_time": "2023-07-14T15:04:53.633Z"
   },
   {
    "duration": 5,
    "start_time": "2023-07-14T15:04:53.949Z"
   },
   {
    "duration": 1019,
    "start_time": "2023-07-14T15:04:53.955Z"
   },
   {
    "duration": 10,
    "start_time": "2023-07-14T15:04:54.979Z"
   },
   {
    "duration": 473,
    "start_time": "2023-07-14T15:04:54.990Z"
   },
   {
    "duration": 5,
    "start_time": "2023-07-14T15:05:22.030Z"
   },
   {
    "duration": 5,
    "start_time": "2023-07-14T15:05:51.699Z"
   },
   {
    "duration": 1087,
    "start_time": "2023-07-14T15:06:37.579Z"
   },
   {
    "duration": 6,
    "start_time": "2023-07-14T15:06:43.027Z"
   },
   {
    "duration": 906,
    "start_time": "2023-07-14T15:07:32.361Z"
   },
   {
    "duration": 865,
    "start_time": "2023-07-14T15:08:15.701Z"
   },
   {
    "duration": 738,
    "start_time": "2023-07-14T15:09:15.674Z"
   },
   {
    "duration": 779,
    "start_time": "2023-07-14T15:10:09.211Z"
   },
   {
    "duration": 864,
    "start_time": "2023-07-14T15:13:23.761Z"
   },
   {
    "duration": 754,
    "start_time": "2023-07-14T15:13:48.897Z"
   },
   {
    "duration": 734,
    "start_time": "2023-07-14T15:14:08.894Z"
   },
   {
    "duration": 10,
    "start_time": "2023-07-14T15:14:21.228Z"
   },
   {
    "duration": 4,
    "start_time": "2023-07-14T15:14:22.115Z"
   },
   {
    "duration": 434389,
    "start_time": "2023-07-14T15:14:24.330Z"
   },
   {
    "duration": 20,
    "start_time": "2023-07-14T15:22:09.146Z"
   },
   {
    "duration": 15,
    "start_time": "2023-07-14T15:22:19.669Z"
   },
   {
    "duration": 14,
    "start_time": "2023-07-14T15:22:51.166Z"
   },
   {
    "duration": 9,
    "start_time": "2023-07-14T15:23:04.264Z"
   },
   {
    "duration": 13,
    "start_time": "2023-07-14T15:23:23.999Z"
   },
   {
    "duration": 11,
    "start_time": "2023-07-14T15:23:30.265Z"
   },
   {
    "duration": 138499,
    "start_time": "2023-07-14T15:24:00.858Z"
   },
   {
    "duration": 7813,
    "start_time": "2023-07-14T15:29:09.826Z"
   },
   {
    "duration": 125,
    "start_time": "2023-07-14T15:33:07.396Z"
   },
   {
    "duration": 224,
    "start_time": "2023-07-14T15:33:20.659Z"
   },
   {
    "duration": 656,
    "start_time": "2023-07-14T15:33:36.257Z"
   },
   {
    "duration": 5,
    "start_time": "2023-07-14T15:33:42.784Z"
   },
   {
    "duration": 5,
    "start_time": "2023-07-14T15:33:47.556Z"
   },
   {
    "duration": 184621,
    "start_time": "2023-07-14T15:36:18.660Z"
   },
   {
    "duration": 18,
    "start_time": "2023-07-14T15:42:55.276Z"
   },
   {
    "duration": 15040,
    "start_time": "2023-07-14T15:43:49.054Z"
   },
   {
    "duration": 42102,
    "start_time": "2023-07-14T15:44:19.270Z"
   },
   {
    "duration": 6,
    "start_time": "2023-07-14T15:45:33.628Z"
   },
   {
    "duration": 11,
    "start_time": "2023-07-14T15:47:55.951Z"
   },
   {
    "duration": 23,
    "start_time": "2023-07-14T15:48:25.006Z"
   },
   {
    "duration": 114,
    "start_time": "2023-07-14T15:48:31.911Z"
   },
   {
    "duration": 5,
    "start_time": "2023-07-14T15:50:01.027Z"
   },
   {
    "duration": 4,
    "start_time": "2023-07-14T15:50:06.124Z"
   },
   {
    "duration": 42352,
    "start_time": "2023-07-14T15:51:16.508Z"
   },
   {
    "duration": 43049,
    "start_time": "2023-07-14T15:52:21.754Z"
   },
   {
    "duration": 79164,
    "start_time": "2023-07-14T15:57:05.896Z"
   },
   {
    "duration": 1523,
    "start_time": "2023-07-14T15:59:30.823Z"
   },
   {
    "duration": 85,
    "start_time": "2023-07-14T15:59:32.353Z"
   },
   {
    "duration": 3,
    "start_time": "2023-07-14T15:59:32.446Z"
   },
   {
    "duration": 944,
    "start_time": "2023-07-14T15:59:32.450Z"
   },
   {
    "duration": 1958,
    "start_time": "2023-07-14T15:59:33.396Z"
   },
   {
    "duration": 364,
    "start_time": "2023-07-14T15:59:35.357Z"
   },
   {
    "duration": 93,
    "start_time": "2023-07-14T15:59:35.723Z"
   },
   {
    "duration": 351,
    "start_time": "2023-07-14T15:59:35.818Z"
   },
   {
    "duration": 670,
    "start_time": "2023-07-14T15:59:36.171Z"
   },
   {
    "duration": 19,
    "start_time": "2023-07-14T15:59:36.845Z"
   },
   {
    "duration": 47,
    "start_time": "2023-07-14T15:59:36.866Z"
   },
   {
    "duration": 35,
    "start_time": "2023-07-14T15:59:36.914Z"
   },
   {
    "duration": 45,
    "start_time": "2023-07-14T15:59:36.950Z"
   },
   {
    "duration": 20,
    "start_time": "2023-07-14T15:59:37.000Z"
   },
   {
    "duration": 34,
    "start_time": "2023-07-14T15:59:37.022Z"
   },
   {
    "duration": 12,
    "start_time": "2023-07-14T15:59:37.057Z"
   },
   {
    "duration": 32,
    "start_time": "2023-07-14T15:59:37.071Z"
   },
   {
    "duration": 42,
    "start_time": "2023-07-14T15:59:37.105Z"
   },
   {
    "duration": 15,
    "start_time": "2023-07-14T15:59:37.152Z"
   },
   {
    "duration": 11876,
    "start_time": "2023-07-14T15:59:37.170Z"
   },
   {
    "duration": 12,
    "start_time": "2023-07-14T15:59:49.049Z"
   },
   {
    "duration": 17,
    "start_time": "2023-07-14T15:59:49.063Z"
   },
   {
    "duration": 31,
    "start_time": "2023-07-14T15:59:49.081Z"
   },
   {
    "duration": 42,
    "start_time": "2023-07-14T15:59:49.113Z"
   },
   {
    "duration": 42,
    "start_time": "2023-07-14T15:59:49.157Z"
   },
   {
    "duration": 124,
    "start_time": "2023-07-14T15:59:49.201Z"
   },
   {
    "duration": 34,
    "start_time": "2023-07-14T15:59:49.327Z"
   },
   {
    "duration": 27,
    "start_time": "2023-07-14T15:59:49.363Z"
   },
   {
    "duration": 49,
    "start_time": "2023-07-14T15:59:49.392Z"
   },
   {
    "duration": 50,
    "start_time": "2023-07-14T15:59:49.443Z"
   },
   {
    "duration": 38,
    "start_time": "2023-07-14T15:59:49.496Z"
   },
   {
    "duration": 48,
    "start_time": "2023-07-14T15:59:49.542Z"
   },
   {
    "duration": 6,
    "start_time": "2023-07-14T15:59:49.592Z"
   },
   {
    "duration": 146,
    "start_time": "2023-07-14T15:59:49.599Z"
   },
   {
    "duration": 59,
    "start_time": "2023-07-14T15:59:49.747Z"
   },
   {
    "duration": 89,
    "start_time": "2023-07-14T15:59:49.809Z"
   },
   {
    "duration": 55,
    "start_time": "2023-07-14T15:59:49.899Z"
   },
   {
    "duration": 105,
    "start_time": "2023-07-14T15:59:49.957Z"
   },
   {
    "duration": 33,
    "start_time": "2023-07-14T15:59:50.065Z"
   },
   {
    "duration": 97,
    "start_time": "2023-07-14T15:59:50.100Z"
   },
   {
    "duration": 59,
    "start_time": "2023-07-14T15:59:50.202Z"
   },
   {
    "duration": 161,
    "start_time": "2023-07-14T15:59:50.263Z"
   },
   {
    "duration": 167,
    "start_time": "2023-07-14T15:59:50.426Z"
   },
   {
    "duration": 156,
    "start_time": "2023-07-14T15:59:50.595Z"
   },
   {
    "duration": 3,
    "start_time": "2023-07-14T15:59:50.753Z"
   },
   {
    "duration": 310,
    "start_time": "2023-07-14T15:59:50.760Z"
   },
   {
    "duration": 3,
    "start_time": "2023-07-14T15:59:51.071Z"
   },
   {
    "duration": 710,
    "start_time": "2023-07-14T15:59:51.075Z"
   },
   {
    "duration": 41300,
    "start_time": "2023-07-14T15:59:51.786Z"
   },
   {
    "duration": 3,
    "start_time": "2023-07-14T16:00:33.088Z"
   },
   {
    "duration": 1401,
    "start_time": "2023-07-14T16:00:49.662Z"
   },
   {
    "duration": 42,
    "start_time": "2023-07-14T16:00:51.065Z"
   },
   {
    "duration": 3,
    "start_time": "2023-07-14T16:00:51.111Z"
   },
   {
    "duration": 924,
    "start_time": "2023-07-14T16:00:51.117Z"
   },
   {
    "duration": 1861,
    "start_time": "2023-07-14T16:00:52.045Z"
   },
   {
    "duration": 350,
    "start_time": "2023-07-14T16:00:53.908Z"
   },
   {
    "duration": 138,
    "start_time": "2023-07-14T16:00:54.261Z"
   },
   {
    "duration": 480,
    "start_time": "2023-07-14T16:00:54.401Z"
   },
   {
    "duration": 703,
    "start_time": "2023-07-14T16:00:54.884Z"
   },
   {
    "duration": 16,
    "start_time": "2023-07-14T16:00:55.591Z"
   },
   {
    "duration": 6,
    "start_time": "2023-07-14T16:00:55.609Z"
   },
   {
    "duration": 84,
    "start_time": "2023-07-14T16:00:55.620Z"
   },
   {
    "duration": 35,
    "start_time": "2023-07-14T16:00:55.707Z"
   },
   {
    "duration": 21,
    "start_time": "2023-07-14T16:00:55.744Z"
   },
   {
    "duration": 33,
    "start_time": "2023-07-14T16:00:55.767Z"
   },
   {
    "duration": 19,
    "start_time": "2023-07-14T16:00:55.802Z"
   },
   {
    "duration": 127,
    "start_time": "2023-07-14T16:00:55.826Z"
   },
   {
    "duration": 36,
    "start_time": "2023-07-14T16:00:55.960Z"
   },
   {
    "duration": 53,
    "start_time": "2023-07-14T16:00:55.998Z"
   },
   {
    "duration": 11875,
    "start_time": "2023-07-14T16:00:56.056Z"
   },
   {
    "duration": 15,
    "start_time": "2023-07-14T16:01:07.934Z"
   },
   {
    "duration": 37,
    "start_time": "2023-07-14T16:01:07.951Z"
   },
   {
    "duration": 25,
    "start_time": "2023-07-14T16:01:07.991Z"
   },
   {
    "duration": 21,
    "start_time": "2023-07-14T16:01:08.018Z"
   },
   {
    "duration": 60,
    "start_time": "2023-07-14T16:01:08.041Z"
   },
   {
    "duration": 136,
    "start_time": "2023-07-14T16:01:08.102Z"
   },
   {
    "duration": 31,
    "start_time": "2023-07-14T16:01:08.240Z"
   },
   {
    "duration": 24,
    "start_time": "2023-07-14T16:01:08.274Z"
   },
   {
    "duration": 72,
    "start_time": "2023-07-14T16:01:08.300Z"
   },
   {
    "duration": 87,
    "start_time": "2023-07-14T16:01:08.374Z"
   },
   {
    "duration": 45,
    "start_time": "2023-07-14T16:01:08.463Z"
   },
   {
    "duration": 48,
    "start_time": "2023-07-14T16:01:08.510Z"
   },
   {
    "duration": 6,
    "start_time": "2023-07-14T16:01:08.560Z"
   },
   {
    "duration": 91,
    "start_time": "2023-07-14T16:01:08.568Z"
   },
   {
    "duration": 40,
    "start_time": "2023-07-14T16:01:08.661Z"
   },
   {
    "duration": 144,
    "start_time": "2023-07-14T16:01:08.705Z"
   },
   {
    "duration": 50,
    "start_time": "2023-07-14T16:01:08.856Z"
   },
   {
    "duration": 131,
    "start_time": "2023-07-14T16:01:08.908Z"
   },
   {
    "duration": 57,
    "start_time": "2023-07-14T16:01:09.048Z"
   },
   {
    "duration": 143,
    "start_time": "2023-07-14T16:01:09.110Z"
   },
   {
    "duration": 152,
    "start_time": "2023-07-14T16:01:09.264Z"
   },
   {
    "duration": 136,
    "start_time": "2023-07-14T16:01:09.418Z"
   },
   {
    "duration": 147,
    "start_time": "2023-07-14T16:01:09.556Z"
   },
   {
    "duration": 113,
    "start_time": "2023-07-14T16:01:09.705Z"
   },
   {
    "duration": 20,
    "start_time": "2023-07-14T16:01:09.820Z"
   },
   {
    "duration": 302,
    "start_time": "2023-07-14T16:01:09.842Z"
   },
   {
    "duration": 701,
    "start_time": "2023-07-14T16:01:10.146Z"
   },
   {
    "duration": 719948,
    "start_time": "2023-07-14T16:01:10.849Z"
   },
   {
    "duration": 2,
    "start_time": "2023-07-14T16:13:10.799Z"
   },
   {
    "duration": 30,
    "start_time": "2023-07-14T16:13:59.299Z"
   },
   {
    "duration": 196,
    "start_time": "2023-07-14T16:37:18.359Z"
   },
   {
    "duration": 4,
    "start_time": "2023-07-14T16:37:29.027Z"
   },
   {
    "duration": 21,
    "start_time": "2023-07-14T16:38:03.708Z"
   },
   {
    "duration": 4,
    "start_time": "2023-07-14T16:38:08.708Z"
   },
   {
    "duration": 13,
    "start_time": "2023-07-14T16:40:13.814Z"
   },
   {
    "duration": 122,
    "start_time": "2023-07-14T16:40:25.460Z"
   },
   {
    "duration": 15,
    "start_time": "2023-07-14T16:40:30.281Z"
   },
   {
    "duration": 13,
    "start_time": "2023-07-14T16:40:54.596Z"
   },
   {
    "duration": 6,
    "start_time": "2023-07-14T16:41:15.081Z"
   },
   {
    "duration": 5,
    "start_time": "2023-07-14T16:42:56.304Z"
   },
   {
    "duration": 8,
    "start_time": "2023-07-14T16:53:39.016Z"
   },
   {
    "duration": 20,
    "start_time": "2023-07-14T16:55:06.555Z"
   },
   {
    "duration": 12,
    "start_time": "2023-07-14T16:55:27.032Z"
   },
   {
    "duration": 6,
    "start_time": "2023-07-14T16:56:09.595Z"
   },
   {
    "duration": 22,
    "start_time": "2023-07-14T16:56:34.561Z"
   },
   {
    "duration": 146,
    "start_time": "2023-07-14T17:17:59.971Z"
   },
   {
    "duration": 2689323,
    "start_time": "2023-07-14T17:18:22.697Z"
   },
   {
    "duration": 1336,
    "start_time": "2023-07-15T07:56:18.021Z"
   },
   {
    "duration": 50,
    "start_time": "2023-07-15T07:56:19.359Z"
   },
   {
    "duration": 3,
    "start_time": "2023-07-15T07:56:19.410Z"
   },
   {
    "duration": 1135,
    "start_time": "2023-07-15T07:56:19.415Z"
   },
   {
    "duration": 1814,
    "start_time": "2023-07-15T07:56:20.552Z"
   },
   {
    "duration": 279,
    "start_time": "2023-07-15T07:56:22.368Z"
   },
   {
    "duration": 86,
    "start_time": "2023-07-15T07:56:22.648Z"
   },
   {
    "duration": 269,
    "start_time": "2023-07-15T07:56:22.736Z"
   },
   {
    "duration": 527,
    "start_time": "2023-07-15T07:56:23.006Z"
   },
   {
    "duration": 16,
    "start_time": "2023-07-15T07:56:23.535Z"
   },
   {
    "duration": 10,
    "start_time": "2023-07-15T07:56:23.552Z"
   },
   {
    "duration": 46,
    "start_time": "2023-07-15T07:56:23.564Z"
   },
   {
    "duration": 30,
    "start_time": "2023-07-15T07:56:23.611Z"
   },
   {
    "duration": 17,
    "start_time": "2023-07-15T07:56:23.642Z"
   },
   {
    "duration": 16,
    "start_time": "2023-07-15T07:56:23.660Z"
   },
   {
    "duration": 5,
    "start_time": "2023-07-15T07:56:23.677Z"
   },
   {
    "duration": 57,
    "start_time": "2023-07-15T07:56:23.683Z"
   },
   {
    "duration": 23,
    "start_time": "2023-07-15T07:56:23.741Z"
   },
   {
    "duration": 11,
    "start_time": "2023-07-15T07:56:23.765Z"
   },
   {
    "duration": 8773,
    "start_time": "2023-07-15T07:56:23.777Z"
   },
   {
    "duration": 9,
    "start_time": "2023-07-15T07:56:32.551Z"
   },
   {
    "duration": 28,
    "start_time": "2023-07-15T07:56:32.561Z"
   },
   {
    "duration": 30,
    "start_time": "2023-07-15T07:56:32.591Z"
   },
   {
    "duration": 8,
    "start_time": "2023-07-15T07:56:32.623Z"
   },
   {
    "duration": 31,
    "start_time": "2023-07-15T07:56:32.632Z"
   },
   {
    "duration": 90,
    "start_time": "2023-07-15T07:56:32.665Z"
   },
   {
    "duration": 19,
    "start_time": "2023-07-15T07:56:32.757Z"
   },
   {
    "duration": 47,
    "start_time": "2023-07-15T07:56:32.780Z"
   },
   {
    "duration": 48,
    "start_time": "2023-07-15T07:56:32.828Z"
   },
   {
    "duration": 57,
    "start_time": "2023-07-15T07:56:32.878Z"
   },
   {
    "duration": 43,
    "start_time": "2023-07-15T07:56:32.937Z"
   },
   {
    "duration": 49,
    "start_time": "2023-07-15T07:56:32.982Z"
   },
   {
    "duration": 3,
    "start_time": "2023-07-15T07:56:33.033Z"
   },
   {
    "duration": 80,
    "start_time": "2023-07-15T07:56:33.038Z"
   },
   {
    "duration": 27,
    "start_time": "2023-07-15T07:56:33.120Z"
   },
   {
    "duration": 116,
    "start_time": "2023-07-15T07:56:33.149Z"
   },
   {
    "duration": 32,
    "start_time": "2023-07-15T07:56:33.267Z"
   },
   {
    "duration": 59,
    "start_time": "2023-07-15T07:56:33.319Z"
   },
   {
    "duration": 43,
    "start_time": "2023-07-15T07:56:33.380Z"
   },
   {
    "duration": 59,
    "start_time": "2023-07-15T07:56:33.424Z"
   },
   {
    "duration": 50,
    "start_time": "2023-07-15T07:56:33.485Z"
   },
   {
    "duration": 69,
    "start_time": "2023-07-15T07:56:33.537Z"
   },
   {
    "duration": 94,
    "start_time": "2023-07-15T07:56:33.608Z"
   },
   {
    "duration": 71,
    "start_time": "2023-07-15T07:56:33.720Z"
   },
   {
    "duration": 3,
    "start_time": "2023-07-15T07:56:33.793Z"
   },
   {
    "duration": 273,
    "start_time": "2023-07-15T07:56:33.798Z"
   },
   {
    "duration": 637,
    "start_time": "2023-07-15T07:56:34.072Z"
   },
   {
    "duration": 96874,
    "start_time": "2023-07-15T07:58:26.646Z"
   },
   {
    "duration": 3,
    "start_time": "2023-07-15T08:07:53.841Z"
   },
   {
    "duration": 3,
    "start_time": "2023-07-15T08:07:58.299Z"
   },
   {
    "duration": 4,
    "start_time": "2023-07-15T08:08:10.235Z"
   },
   {
    "duration": 4,
    "start_time": "2023-07-15T08:08:19.614Z"
   },
   {
    "duration": 3,
    "start_time": "2023-07-15T08:08:24.551Z"
   },
   {
    "duration": 5,
    "start_time": "2023-07-15T08:08:28.263Z"
   },
   {
    "duration": 3,
    "start_time": "2023-07-15T08:08:31.668Z"
   },
   {
    "duration": 124,
    "start_time": "2023-07-15T08:08:36.469Z"
   },
   {
    "duration": 48,
    "start_time": "2023-07-15T08:08:41.739Z"
   },
   {
    "duration": 1886842,
    "start_time": "2023-07-15T08:09:03.951Z"
   },
   {
    "duration": 273862,
    "start_time": "2023-07-15T08:40:53.675Z"
   },
   {
    "duration": 3,
    "start_time": "2023-07-15T08:49:43.116Z"
   },
   {
    "duration": 1370,
    "start_time": "2023-07-15T08:50:29.806Z"
   },
   {
    "duration": 228,
    "start_time": "2023-07-15T08:50:31.178Z"
   },
   {
    "duration": 2,
    "start_time": "2023-07-15T08:50:31.407Z"
   },
   {
    "duration": 788,
    "start_time": "2023-07-15T08:50:31.412Z"
   },
   {
    "duration": 1673,
    "start_time": "2023-07-15T08:50:32.202Z"
   },
   {
    "duration": 292,
    "start_time": "2023-07-15T08:50:33.877Z"
   },
   {
    "duration": 82,
    "start_time": "2023-07-15T08:50:34.170Z"
   },
   {
    "duration": 281,
    "start_time": "2023-07-15T08:50:34.253Z"
   },
   {
    "duration": 535,
    "start_time": "2023-07-15T08:50:34.536Z"
   },
   {
    "duration": 19,
    "start_time": "2023-07-15T08:50:35.073Z"
   },
   {
    "duration": 24,
    "start_time": "2023-07-15T08:50:35.093Z"
   },
   {
    "duration": 28,
    "start_time": "2023-07-15T08:50:35.119Z"
   },
   {
    "duration": 30,
    "start_time": "2023-07-15T08:50:35.149Z"
   },
   {
    "duration": 18,
    "start_time": "2023-07-15T08:50:35.181Z"
   },
   {
    "duration": 17,
    "start_time": "2023-07-15T08:50:35.220Z"
   },
   {
    "duration": 5,
    "start_time": "2023-07-15T08:50:35.238Z"
   },
   {
    "duration": 54,
    "start_time": "2023-07-15T08:50:35.245Z"
   },
   {
    "duration": 40,
    "start_time": "2023-07-15T08:50:35.301Z"
   },
   {
    "duration": 14,
    "start_time": "2023-07-15T08:50:35.343Z"
   },
   {
    "duration": 8507,
    "start_time": "2023-07-15T08:50:35.359Z"
   },
   {
    "duration": 8,
    "start_time": "2023-07-15T08:50:43.868Z"
   },
   {
    "duration": 42,
    "start_time": "2023-07-15T08:50:43.878Z"
   },
   {
    "duration": 19,
    "start_time": "2023-07-15T08:50:43.922Z"
   },
   {
    "duration": 9,
    "start_time": "2023-07-15T08:50:43.943Z"
   },
   {
    "duration": 82,
    "start_time": "2023-07-15T08:50:43.953Z"
   },
   {
    "duration": 85,
    "start_time": "2023-07-15T08:50:44.037Z"
   },
   {
    "duration": 18,
    "start_time": "2023-07-15T08:50:44.123Z"
   },
   {
    "duration": 16,
    "start_time": "2023-07-15T08:50:44.145Z"
   },
   {
    "duration": 43,
    "start_time": "2023-07-15T08:50:44.163Z"
   },
   {
    "duration": 47,
    "start_time": "2023-07-15T08:50:44.208Z"
   },
   {
    "duration": 35,
    "start_time": "2023-07-15T08:50:44.257Z"
   },
   {
    "duration": 30,
    "start_time": "2023-07-15T08:50:44.294Z"
   },
   {
    "duration": 9,
    "start_time": "2023-07-15T08:50:44.325Z"
   },
   {
    "duration": 70,
    "start_time": "2023-07-15T08:50:44.335Z"
   },
   {
    "duration": 24,
    "start_time": "2023-07-15T08:50:44.407Z"
   },
   {
    "duration": 58,
    "start_time": "2023-07-15T08:50:44.433Z"
   },
   {
    "duration": 31,
    "start_time": "2023-07-15T08:50:44.493Z"
   },
   {
    "duration": 58,
    "start_time": "2023-07-15T08:50:44.525Z"
   },
   {
    "duration": 39,
    "start_time": "2023-07-15T08:50:44.585Z"
   },
   {
    "duration": 56,
    "start_time": "2023-07-15T08:50:44.625Z"
   },
   {
    "duration": 39,
    "start_time": "2023-07-15T08:50:44.683Z"
   },
   {
    "duration": 64,
    "start_time": "2023-07-15T08:50:44.724Z"
   },
   {
    "duration": 95,
    "start_time": "2023-07-15T08:50:44.790Z"
   },
   {
    "duration": 64,
    "start_time": "2023-07-15T08:50:44.886Z"
   },
   {
    "duration": 3,
    "start_time": "2023-07-15T08:50:44.952Z"
   },
   {
    "duration": 225,
    "start_time": "2023-07-15T08:50:44.957Z"
   },
   {
    "duration": 617,
    "start_time": "2023-07-15T08:50:45.184Z"
   },
   {
    "duration": 179423,
    "start_time": "2023-07-15T08:51:00.899Z"
   },
   {
    "duration": 25,
    "start_time": "2023-07-15T08:57:25.810Z"
   },
   {
    "duration": 3,
    "start_time": "2023-07-15T09:04:51.691Z"
   },
   {
    "duration": 4,
    "start_time": "2023-07-15T09:04:58.621Z"
   },
   {
    "duration": 6040,
    "start_time": "2023-07-15T09:23:01.143Z"
   },
   {
    "duration": 16059,
    "start_time": "2023-07-15T09:23:22.171Z"
   },
   {
    "duration": 329165,
    "start_time": "2023-07-15T09:24:54.292Z"
   },
   {
    "duration": 16,
    "start_time": "2023-07-15T09:36:33.728Z"
   },
   {
    "duration": 684876,
    "start_time": "2023-07-15T10:01:09.969Z"
   },
   {
    "duration": 22,
    "start_time": "2023-07-15T10:12:48.141Z"
   },
   {
    "duration": 5,
    "start_time": "2023-07-15T10:13:08.839Z"
   },
   {
    "duration": 1162,
    "start_time": "2023-07-15T10:33:36.333Z"
   },
   {
    "duration": 1179,
    "start_time": "2023-07-15T10:34:14.773Z"
   },
   {
    "duration": 280,
    "start_time": "2023-07-15T10:34:18.939Z"
   },
   {
    "duration": 272,
    "start_time": "2023-07-15T10:34:47.179Z"
   },
   {
    "duration": 121,
    "start_time": "2023-07-15T10:37:54.965Z"
   },
   {
    "duration": 10,
    "start_time": "2023-07-15T10:47:47.740Z"
   },
   {
    "duration": 7,
    "start_time": "2023-07-15T10:48:26.207Z"
   },
   {
    "duration": 10,
    "start_time": "2023-07-15T10:48:36.666Z"
   },
   {
    "duration": 1528,
    "start_time": "2023-07-16T08:03:46.450Z"
   },
   {
    "duration": 65,
    "start_time": "2023-07-16T08:03:47.980Z"
   },
   {
    "duration": 4,
    "start_time": "2023-07-16T08:04:10.490Z"
   },
   {
    "duration": 3158,
    "start_time": "2023-07-16T08:04:11.526Z"
   },
   {
    "duration": 2144,
    "start_time": "2023-07-16T08:04:19.625Z"
   },
   {
    "duration": 302,
    "start_time": "2023-07-16T08:04:26.905Z"
   },
   {
    "duration": 114,
    "start_time": "2023-07-16T08:04:30.421Z"
   },
   {
    "duration": 346,
    "start_time": "2023-07-16T08:04:47.446Z"
   },
   {
    "duration": 697,
    "start_time": "2023-07-16T08:04:52.495Z"
   },
   {
    "duration": 289,
    "start_time": "2023-07-16T08:05:50.784Z"
   },
   {
    "duration": 1414,
    "start_time": "2023-07-16T08:06:24.878Z"
   },
   {
    "duration": 81,
    "start_time": "2023-07-16T08:06:26.294Z"
   },
   {
    "duration": 3,
    "start_time": "2023-07-16T08:06:28.204Z"
   },
   {
    "duration": 964,
    "start_time": "2023-07-16T08:06:28.719Z"
   },
   {
    "duration": 1956,
    "start_time": "2023-07-16T08:06:30.645Z"
   },
   {
    "duration": 385,
    "start_time": "2023-07-16T08:06:34.019Z"
   },
   {
    "duration": 108,
    "start_time": "2023-07-16T08:06:36.728Z"
   },
   {
    "duration": 349,
    "start_time": "2023-07-16T08:06:41.027Z"
   },
   {
    "duration": 631,
    "start_time": "2023-07-16T08:06:46.009Z"
   },
   {
    "duration": 19,
    "start_time": "2023-07-16T08:06:50.126Z"
   },
   {
    "duration": 7,
    "start_time": "2023-07-16T08:07:07.464Z"
   },
   {
    "duration": 35,
    "start_time": "2023-07-16T08:07:09.598Z"
   },
   {
    "duration": 33,
    "start_time": "2023-07-16T08:07:15.177Z"
   },
   {
    "duration": 20,
    "start_time": "2023-07-16T08:07:20.809Z"
   },
   {
    "duration": 20,
    "start_time": "2023-07-16T08:07:22.690Z"
   },
   {
    "duration": 7,
    "start_time": "2023-07-16T08:07:26.252Z"
   },
   {
    "duration": 35,
    "start_time": "2023-07-16T08:07:27.249Z"
   },
   {
    "duration": 29,
    "start_time": "2023-07-16T08:08:13.393Z"
   },
   {
    "duration": 18,
    "start_time": "2023-07-16T08:08:28.225Z"
   },
   {
    "duration": 9646,
    "start_time": "2023-07-16T08:08:30.671Z"
   },
   {
    "duration": 118,
    "start_time": "2023-07-16T09:28:11.237Z"
   },
   {
    "duration": 324,
    "start_time": "2023-07-16T09:28:30.261Z"
   },
   {
    "duration": 357,
    "start_time": "2023-07-16T09:29:02.229Z"
   },
   {
    "duration": 342,
    "start_time": "2023-07-16T09:29:46.344Z"
   },
   {
    "duration": 16,
    "start_time": "2023-07-16T09:29:54.737Z"
   },
   {
    "duration": 15,
    "start_time": "2023-07-16T09:30:03.772Z"
   },
   {
    "duration": 18,
    "start_time": "2023-07-16T09:30:07.045Z"
   },
   {
    "duration": 15,
    "start_time": "2023-07-16T09:59:56.447Z"
   },
   {
    "duration": 13,
    "start_time": "2023-07-16T10:00:43.787Z"
   },
   {
    "duration": 5,
    "start_time": "2023-07-16T10:03:19.858Z"
   },
   {
    "duration": 53,
    "start_time": "2023-07-16T10:03:20.746Z"
   },
   {
    "duration": 4,
    "start_time": "2023-07-16T10:03:23.793Z"
   },
   {
    "duration": 990,
    "start_time": "2023-07-16T10:03:24.313Z"
   },
   {
    "duration": 1564,
    "start_time": "2023-07-16T10:03:26.110Z"
   },
   {
    "duration": 265,
    "start_time": "2023-07-16T10:03:29.490Z"
   },
   {
    "duration": 113,
    "start_time": "2023-07-16T10:03:32.249Z"
   },
   {
    "duration": 319,
    "start_time": "2023-07-16T10:03:36.009Z"
   },
   {
    "duration": 672,
    "start_time": "2023-07-16T10:03:39.714Z"
   },
   {
    "duration": 30,
    "start_time": "2023-07-16T10:03:44.367Z"
   },
   {
    "duration": 11,
    "start_time": "2023-07-16T10:03:46.607Z"
   },
   {
    "duration": 51,
    "start_time": "2023-07-16T10:03:48.546Z"
   },
   {
    "duration": 40,
    "start_time": "2023-07-16T10:03:50.202Z"
   },
   {
    "duration": 24,
    "start_time": "2023-07-16T10:03:52.919Z"
   },
   {
    "duration": 29,
    "start_time": "2023-07-16T10:03:54.649Z"
   },
   {
    "duration": 11,
    "start_time": "2023-07-16T10:03:55.484Z"
   },
   {
    "duration": 40,
    "start_time": "2023-07-16T10:03:57.076Z"
   },
   {
    "duration": 31,
    "start_time": "2023-07-16T10:03:58.905Z"
   },
   {
    "duration": 20,
    "start_time": "2023-07-16T10:03:59.791Z"
   },
   {
    "duration": 613,
    "start_time": "2023-07-16T10:04:08.622Z"
   },
   {
    "duration": 17,
    "start_time": "2023-07-16T10:04:18.750Z"
   },
   {
    "duration": 20,
    "start_time": "2023-07-16T10:04:19.898Z"
   },
   {
    "duration": 31,
    "start_time": "2023-07-16T10:04:21.549Z"
   },
   {
    "duration": 13,
    "start_time": "2023-07-16T10:04:24.963Z"
   },
   {
    "duration": 32,
    "start_time": "2023-07-16T10:04:25.891Z"
   },
   {
    "duration": 86,
    "start_time": "2023-07-16T10:04:28.455Z"
   },
   {
    "duration": 30,
    "start_time": "2023-07-16T10:04:29.708Z"
   },
   {
    "duration": 17,
    "start_time": "2023-07-16T10:04:30.345Z"
   },
   {
    "duration": 45,
    "start_time": "2023-07-16T10:04:31.303Z"
   },
   {
    "duration": 50,
    "start_time": "2023-07-16T10:04:32.508Z"
   },
   {
    "duration": 45,
    "start_time": "2023-07-16T10:04:34.162Z"
   },
   {
    "duration": 37,
    "start_time": "2023-07-16T10:04:35.574Z"
   },
   {
    "duration": 5,
    "start_time": "2023-07-16T10:04:36.566Z"
   },
   {
    "duration": 83,
    "start_time": "2023-07-16T10:04:37.110Z"
   },
   {
    "duration": 29,
    "start_time": "2023-07-16T10:04:38.408Z"
   },
   {
    "duration": 80,
    "start_time": "2023-07-16T10:04:39.345Z"
   },
   {
    "duration": 29,
    "start_time": "2023-07-16T10:04:40.268Z"
   },
   {
    "duration": 65,
    "start_time": "2023-07-16T10:04:41.089Z"
   },
   {
    "duration": 47,
    "start_time": "2023-07-16T10:04:41.881Z"
   },
   {
    "duration": 70,
    "start_time": "2023-07-16T10:04:42.670Z"
   },
   {
    "duration": 44,
    "start_time": "2023-07-16T10:04:43.550Z"
   },
   {
    "duration": 82,
    "start_time": "2023-07-16T10:04:45.117Z"
   },
   {
    "duration": 93,
    "start_time": "2023-07-16T10:04:46.649Z"
   },
   {
    "duration": 97,
    "start_time": "2023-07-16T10:04:49.970Z"
   },
   {
    "duration": 4,
    "start_time": "2023-07-16T10:04:54.150Z"
   },
   {
    "duration": 234,
    "start_time": "2023-07-16T10:04:54.914Z"
   },
   {
    "duration": 533,
    "start_time": "2023-07-16T10:05:00.016Z"
   },
   {
    "duration": 93,
    "start_time": "2023-07-16T10:37:02.305Z"
   },
   {
    "duration": 10,
    "start_time": "2023-07-16T10:38:36.561Z"
   },
   {
    "duration": 24,
    "start_time": "2023-07-16T10:38:49.657Z"
   },
   {
    "duration": 71,
    "start_time": "2023-07-16T10:39:09.576Z"
   },
   {
    "duration": 8,
    "start_time": "2023-07-16T10:43:28.063Z"
   },
   {
    "duration": 7,
    "start_time": "2023-07-16T10:46:33.810Z"
   },
   {
    "duration": 5,
    "start_time": "2023-07-16T10:48:15.344Z"
   },
   {
    "duration": 1794,
    "start_time": "2023-07-16T10:49:25.857Z"
   },
   {
    "duration": 79,
    "start_time": "2023-07-16T10:49:29.758Z"
   },
   {
    "duration": 11,
    "start_time": "2023-07-16T10:49:32.110Z"
   },
   {
    "duration": 1055,
    "start_time": "2023-07-16T10:49:32.988Z"
   },
   {
    "duration": 2226,
    "start_time": "2023-07-16T10:49:35.759Z"
   },
   {
    "duration": 347,
    "start_time": "2023-07-16T10:49:50.162Z"
   },
   {
    "duration": 116,
    "start_time": "2023-07-16T10:49:51.857Z"
   },
   {
    "duration": 4,
    "start_time": "2023-07-16T10:49:59.710Z"
   },
   {
    "duration": 399,
    "start_time": "2023-07-16T10:50:05.961Z"
   },
   {
    "duration": 765,
    "start_time": "2023-07-16T10:50:12.356Z"
   },
   {
    "duration": 19,
    "start_time": "2023-07-16T10:50:15.203Z"
   },
   {
    "duration": 17,
    "start_time": "2023-07-16T10:50:29.164Z"
   },
   {
    "duration": 47,
    "start_time": "2023-07-16T10:50:34.570Z"
   },
   {
    "duration": 43,
    "start_time": "2023-07-16T10:50:35.904Z"
   },
   {
    "duration": 20,
    "start_time": "2023-07-16T10:50:39.508Z"
   },
   {
    "duration": 31,
    "start_time": "2023-07-16T10:50:44.298Z"
   },
   {
    "duration": 7,
    "start_time": "2023-07-16T10:50:50.403Z"
   },
   {
    "duration": 37,
    "start_time": "2023-07-16T10:50:51.905Z"
   },
   {
    "duration": 42,
    "start_time": "2023-07-16T10:50:56.452Z"
   },
   {
    "duration": 15,
    "start_time": "2023-07-16T10:51:00.922Z"
   },
   {
    "duration": 514,
    "start_time": "2023-07-16T10:51:12.457Z"
   },
   {
    "duration": 21,
    "start_time": "2023-07-16T10:51:18.016Z"
   },
   {
    "duration": 19,
    "start_time": "2023-07-16T10:51:25.802Z"
   },
   {
    "duration": 35,
    "start_time": "2023-07-16T10:51:29.866Z"
   },
   {
    "duration": 12,
    "start_time": "2023-07-16T10:51:33.602Z"
   },
   {
    "duration": 43,
    "start_time": "2023-07-16T10:51:38.596Z"
   },
   {
    "duration": 92,
    "start_time": "2023-07-16T10:51:46.364Z"
   },
   {
    "duration": 37,
    "start_time": "2023-07-16T10:51:49.699Z"
   },
   {
    "duration": 15,
    "start_time": "2023-07-16T10:51:50.399Z"
   },
   {
    "duration": 69,
    "start_time": "2023-07-16T10:51:53.960Z"
   },
   {
    "duration": 49,
    "start_time": "2023-07-16T10:51:57.998Z"
   },
   {
    "duration": 60,
    "start_time": "2023-07-16T10:52:02.953Z"
   },
   {
    "duration": 53,
    "start_time": "2023-07-16T10:52:06.875Z"
   },
   {
    "duration": 8,
    "start_time": "2023-07-16T10:52:10.366Z"
   },
   {
    "duration": 96,
    "start_time": "2023-07-16T10:52:12.066Z"
   },
   {
    "duration": 42,
    "start_time": "2023-07-16T10:52:24.604Z"
   },
   {
    "duration": 85,
    "start_time": "2023-07-16T10:52:25.714Z"
   },
   {
    "duration": 28,
    "start_time": "2023-07-16T10:52:29.904Z"
   },
   {
    "duration": 77,
    "start_time": "2023-07-16T10:52:33.022Z"
   },
   {
    "duration": 35,
    "start_time": "2023-07-16T10:52:34.108Z"
   },
   {
    "duration": 93,
    "start_time": "2023-07-16T10:52:37.214Z"
   },
   {
    "duration": 30,
    "start_time": "2023-07-16T10:52:38.810Z"
   },
   {
    "duration": 4,
    "start_time": "2023-07-16T10:52:44.751Z"
   },
   {
    "duration": 7,
    "start_time": "2023-07-16T10:53:00.063Z"
   },
   {
    "duration": 90,
    "start_time": "2023-07-16T10:53:03.018Z"
   },
   {
    "duration": 110,
    "start_time": "2023-07-16T10:53:09.723Z"
   },
   {
    "duration": 136,
    "start_time": "2023-07-16T10:53:32.497Z"
   },
   {
    "duration": 3,
    "start_time": "2023-07-16T10:53:51.757Z"
   },
   {
    "duration": 275,
    "start_time": "2023-07-16T10:53:52.857Z"
   },
   {
    "duration": 608,
    "start_time": "2023-07-16T10:53:59.202Z"
   },
   {
    "duration": 905762,
    "start_time": "2023-07-16T10:54:25.269Z"
   },
   {
    "duration": 30,
    "start_time": "2023-07-16T11:10:00.321Z"
   },
   {
    "duration": 6,
    "start_time": "2023-07-16T11:10:13.607Z"
   },
   {
    "duration": 824591,
    "start_time": "2023-07-16T11:11:07.360Z"
   },
   {
    "duration": 1464053,
    "start_time": "2023-07-16T11:24:54.932Z"
   },
   {
    "duration": 30,
    "start_time": "2023-07-16T11:49:50.170Z"
   },
   {
    "duration": 1657,
    "start_time": "2023-07-16T11:51:34.241Z"
   },
   {
    "duration": 64,
    "start_time": "2023-07-16T11:51:39.563Z"
   },
   {
    "duration": 3,
    "start_time": "2023-07-16T11:51:41.502Z"
   },
   {
    "duration": 973,
    "start_time": "2023-07-16T11:51:41.970Z"
   },
   {
    "duration": 2192,
    "start_time": "2023-07-16T11:51:43.091Z"
   },
   {
    "duration": 330,
    "start_time": "2023-07-16T11:51:45.292Z"
   },
   {
    "duration": 116,
    "start_time": "2023-07-16T11:51:52.202Z"
   },
   {
    "duration": 5,
    "start_time": "2023-07-16T11:51:57.404Z"
   },
   {
    "duration": 388,
    "start_time": "2023-07-16T11:51:58.652Z"
   },
   {
    "duration": 893,
    "start_time": "2023-07-16T11:52:04.938Z"
   },
   {
    "duration": 22,
    "start_time": "2023-07-16T11:52:09.724Z"
   },
   {
    "duration": 11,
    "start_time": "2023-07-16T11:52:12.908Z"
   },
   {
    "duration": 33,
    "start_time": "2023-07-16T11:52:20.640Z"
   },
   {
    "duration": 39,
    "start_time": "2023-07-16T11:52:21.648Z"
   },
   {
    "duration": 20,
    "start_time": "2023-07-16T11:52:26.487Z"
   },
   {
    "duration": 28,
    "start_time": "2023-07-16T11:52:27.958Z"
   },
   {
    "duration": 8,
    "start_time": "2023-07-16T11:52:31.046Z"
   },
   {
    "duration": 41,
    "start_time": "2023-07-16T11:52:35.049Z"
   },
   {
    "duration": 38,
    "start_time": "2023-07-16T11:52:37.197Z"
   },
   {
    "duration": 20,
    "start_time": "2023-07-16T11:52:41.435Z"
   },
   {
    "duration": 540,
    "start_time": "2023-07-16T11:52:47.462Z"
   },
   {
    "duration": 26,
    "start_time": "2023-07-16T11:52:50.006Z"
   },
   {
    "duration": 32,
    "start_time": "2023-07-16T11:52:53.858Z"
   },
   {
    "duration": 29,
    "start_time": "2023-07-16T11:52:55.308Z"
   },
   {
    "duration": 14,
    "start_time": "2023-07-16T11:52:58.801Z"
   },
   {
    "duration": 37,
    "start_time": "2023-07-16T11:52:59.819Z"
   },
   {
    "duration": 120,
    "start_time": "2023-07-16T11:53:04.424Z"
   },
   {
    "duration": 29,
    "start_time": "2023-07-16T11:53:07.145Z"
   },
   {
    "duration": 28,
    "start_time": "2023-07-16T11:53:07.563Z"
   },
   {
    "duration": 58,
    "start_time": "2023-07-16T11:53:09.600Z"
   },
   {
    "duration": 72,
    "start_time": "2023-07-16T11:53:12.249Z"
   },
   {
    "duration": 43,
    "start_time": "2023-07-16T11:53:14.388Z"
   },
   {
    "duration": 47,
    "start_time": "2023-07-16T11:53:17.294Z"
   },
   {
    "duration": 5,
    "start_time": "2023-07-16T11:53:18.162Z"
   },
   {
    "duration": 108,
    "start_time": "2023-07-16T11:53:19.598Z"
   },
   {
    "duration": 33,
    "start_time": "2023-07-16T11:53:24.415Z"
   },
   {
    "duration": 102,
    "start_time": "2023-07-16T11:53:25.414Z"
   },
   {
    "duration": 30,
    "start_time": "2023-07-16T11:53:28.034Z"
   },
   {
    "duration": 98,
    "start_time": "2023-07-16T11:53:29.094Z"
   },
   {
    "duration": 38,
    "start_time": "2023-07-16T11:53:33.321Z"
   },
   {
    "duration": 104,
    "start_time": "2023-07-16T11:53:34.433Z"
   },
   {
    "duration": 33,
    "start_time": "2023-07-16T11:53:38.803Z"
   },
   {
    "duration": 10,
    "start_time": "2023-07-16T11:53:43.283Z"
   },
   {
    "duration": 127,
    "start_time": "2023-07-16T11:53:43.933Z"
   },
   {
    "duration": 149,
    "start_time": "2023-07-16T11:53:47.191Z"
   },
   {
    "duration": 173,
    "start_time": "2023-07-16T11:54:05.011Z"
   },
   {
    "duration": 4,
    "start_time": "2023-07-16T11:54:12.756Z"
   },
   {
    "duration": 313,
    "start_time": "2023-07-16T11:54:13.823Z"
   },
   {
    "duration": 637,
    "start_time": "2023-07-16T11:54:30.098Z"
   },
   {
    "duration": 745904,
    "start_time": "2023-07-16T11:54:43.208Z"
   },
   {
    "duration": 2734412,
    "start_time": "2023-07-16T12:07:41.138Z"
   },
   {
    "duration": 4,
    "start_time": "2023-07-16T12:55:37.386Z"
   },
   {
    "duration": 3,
    "start_time": "2023-07-16T12:55:42.785Z"
   },
   {
    "duration": 36034,
    "start_time": "2023-07-16T13:24:35.413Z"
   }
  ],
  "kernelspec": {
   "display_name": "Python 3 (ipykernel)",
   "language": "python",
   "name": "python3"
  },
  "language_info": {
   "codemirror_mode": {
    "name": "ipython",
    "version": 3
   },
   "file_extension": ".py",
   "mimetype": "text/x-python",
   "name": "python",
   "nbconvert_exporter": "python",
   "pygments_lexer": "ipython3",
   "version": "3.9.15"
  },
  "toc": {
   "base_numbering": 1,
   "nav_menu": {},
   "number_sections": true,
   "sideBar": true,
   "skip_h1_title": true,
   "title_cell": "Содержание",
   "title_sidebar": "Contents",
   "toc_cell": true,
   "toc_position": {
    "height": "calc(100% - 180px)",
    "left": "10px",
    "top": "150px",
    "width": "335.994px"
   },
   "toc_section_display": true,
   "toc_window_display": false
  }
 },
 "nbformat": 4,
 "nbformat_minor": 2
}
