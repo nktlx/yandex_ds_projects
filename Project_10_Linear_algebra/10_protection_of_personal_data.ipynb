{
 "cells": [
  {
   "cell_type": "markdown",
   "metadata": {
    "toc": true
   },
   "source": [
    "<h1>Содержание<span class=\"tocSkip\"></span></h1>\n",
    "<div class=\"toc\"><ul class=\"toc-item\"><li><span><a href=\"#Загрузка-данных\" data-toc-modified-id=\"Загрузка-данных-1\"><span class=\"toc-item-num\">1&nbsp;&nbsp;</span>Загрузка данных</a></span></li><li><span><a href=\"#Умножение-матриц\" data-toc-modified-id=\"Умножение-матриц-2\"><span class=\"toc-item-num\">2&nbsp;&nbsp;</span>Умножение матриц</a></span></li><li><span><a href=\"#Алгоритм-преобразования\" data-toc-modified-id=\"Алгоритм-преобразования-3\"><span class=\"toc-item-num\">3&nbsp;&nbsp;</span>Алгоритм преобразования</a></span></li><li><span><a href=\"#Проверка-алгоритма\" data-toc-modified-id=\"Проверка-алгоритма-4\"><span class=\"toc-item-num\">4&nbsp;&nbsp;</span>Проверка алгоритма</a></span></li><li><span><a href=\"#Общий-вывод\" data-toc-modified-id=\"Общий-вывод-5\"><span class=\"toc-item-num\">5&nbsp;&nbsp;</span>Общий вывод</a></span></li></ul></div>"
   ]
  },
  {
   "cell_type": "markdown",
   "metadata": {},
   "source": [
    "# Проект 10. Защита персональных данных клиентов"
   ]
  },
  {
   "cell_type": "markdown",
   "metadata": {},
   "source": [
    "Вам нужно защитить данные клиентов страховой компании «Хоть потоп». Разработайте такой метод преобразования данных, чтобы по ним было сложно восстановить персональную информацию. Обоснуйте корректность его работы.\n",
    "\n",
    "Нужно защитить данные, чтобы при преобразовании качество моделей машинного обучения не ухудшилось. Подбирать наилучшую модель не требуется."
   ]
  },
  {
   "cell_type": "markdown",
   "metadata": {},
   "source": [
    "**Описание данных**\n",
    "\n",
    "- Признаки: пол, возраст, зарплата застрахованного, количество членов его семьи.\n",
    "\n",
    "- Целевой признак: количество страховых выплат клиенту за последние 5 лет."
   ]
  },
  {
   "cell_type": "markdown",
   "metadata": {},
   "source": [
    "**Ход проекта**\n",
    "\n",
    "Данные о клиентах страховой компании получены из файла `insurance.csv`.\n",
    "\n",
    "Решение пройдёт в пять этапов:\n",
    "1. Загрузка и обзор данных.\n",
    "2. Влияние умножения матрицы признаков на обратимую матрицу.\n",
    "3. Алгоритм преобразования данных для решения задачи.\n",
    "4. Проверка алгоритма.\n",
    "5. Общий вывод."
   ]
  },
  {
   "cell_type": "markdown",
   "metadata": {},
   "source": [
    "## Загрузка данных"
   ]
  },
  {
   "cell_type": "code",
   "execution_count": 1,
   "metadata": {},
   "outputs": [],
   "source": [
    "import pandas as pd\n",
    "import numpy as np\n",
    "\n",
    "from sklearn.model_selection import train_test_split\n",
    "from sklearn.linear_model import LinearRegression\n",
    "from sklearn.metrics import r2_score\n",
    "from sklearn.metrics import mean_squared_error\n",
    "\n",
    "import warnings\n",
    "from IPython.core.display import display, HTML"
   ]
  },
  {
   "cell_type": "code",
   "execution_count": 2,
   "metadata": {},
   "outputs": [
    {
     "data": {
      "text/html": [
       "<style>.container { width:90% !important; }</style>"
      ],
      "text/plain": [
       "<IPython.core.display.HTML object>"
      ]
     },
     "metadata": {},
     "output_type": "display_data"
    }
   ],
   "source": [
    "warnings.filterwarnings('ignore')\n",
    "display(HTML(\"<style>.container { width:90% !important; }</style>\"))"
   ]
  },
  {
   "cell_type": "code",
   "execution_count": 3,
   "metadata": {},
   "outputs": [],
   "source": [
    "data = pd.read_csv('/datasets/insurance.csv')"
   ]
  },
  {
   "cell_type": "code",
   "execution_count": 4,
   "metadata": {
    "scrolled": true
   },
   "outputs": [
    {
     "name": "stdout",
     "output_type": "stream",
     "text": [
      "Количество дубликатов: 153\n"
     ]
    },
    {
     "data": {
      "text/html": [
       "<div>\n",
       "<style scoped>\n",
       "    .dataframe tbody tr th:only-of-type {\n",
       "        vertical-align: middle;\n",
       "    }\n",
       "\n",
       "    .dataframe tbody tr th {\n",
       "        vertical-align: top;\n",
       "    }\n",
       "\n",
       "    .dataframe thead th {\n",
       "        text-align: right;\n",
       "    }\n",
       "</style>\n",
       "<table border=\"1\" class=\"dataframe\">\n",
       "  <thead>\n",
       "    <tr style=\"text-align: right;\">\n",
       "      <th></th>\n",
       "      <th>Пол</th>\n",
       "      <th>Возраст</th>\n",
       "      <th>Зарплата</th>\n",
       "      <th>Члены семьи</th>\n",
       "      <th>Страховые выплаты</th>\n",
       "    </tr>\n",
       "  </thead>\n",
       "  <tbody>\n",
       "    <tr>\n",
       "      <th>0</th>\n",
       "      <td>1</td>\n",
       "      <td>41.0</td>\n",
       "      <td>49600.0</td>\n",
       "      <td>1</td>\n",
       "      <td>0</td>\n",
       "    </tr>\n",
       "    <tr>\n",
       "      <th>1</th>\n",
       "      <td>0</td>\n",
       "      <td>46.0</td>\n",
       "      <td>38000.0</td>\n",
       "      <td>1</td>\n",
       "      <td>1</td>\n",
       "    </tr>\n",
       "    <tr>\n",
       "      <th>2</th>\n",
       "      <td>0</td>\n",
       "      <td>29.0</td>\n",
       "      <td>21000.0</td>\n",
       "      <td>0</td>\n",
       "      <td>0</td>\n",
       "    </tr>\n",
       "    <tr>\n",
       "      <th>3</th>\n",
       "      <td>0</td>\n",
       "      <td>21.0</td>\n",
       "      <td>41700.0</td>\n",
       "      <td>2</td>\n",
       "      <td>0</td>\n",
       "    </tr>\n",
       "    <tr>\n",
       "      <th>4</th>\n",
       "      <td>1</td>\n",
       "      <td>28.0</td>\n",
       "      <td>26100.0</td>\n",
       "      <td>0</td>\n",
       "      <td>0</td>\n",
       "    </tr>\n",
       "    <tr>\n",
       "      <th>5</th>\n",
       "      <td>1</td>\n",
       "      <td>43.0</td>\n",
       "      <td>41000.0</td>\n",
       "      <td>2</td>\n",
       "      <td>1</td>\n",
       "    </tr>\n",
       "    <tr>\n",
       "      <th>6</th>\n",
       "      <td>1</td>\n",
       "      <td>39.0</td>\n",
       "      <td>39700.0</td>\n",
       "      <td>2</td>\n",
       "      <td>0</td>\n",
       "    </tr>\n",
       "    <tr>\n",
       "      <th>7</th>\n",
       "      <td>1</td>\n",
       "      <td>25.0</td>\n",
       "      <td>38600.0</td>\n",
       "      <td>4</td>\n",
       "      <td>0</td>\n",
       "    </tr>\n",
       "    <tr>\n",
       "      <th>8</th>\n",
       "      <td>1</td>\n",
       "      <td>36.0</td>\n",
       "      <td>49700.0</td>\n",
       "      <td>1</td>\n",
       "      <td>0</td>\n",
       "    </tr>\n",
       "    <tr>\n",
       "      <th>9</th>\n",
       "      <td>1</td>\n",
       "      <td>32.0</td>\n",
       "      <td>51700.0</td>\n",
       "      <td>1</td>\n",
       "      <td>0</td>\n",
       "    </tr>\n",
       "  </tbody>\n",
       "</table>\n",
       "</div>"
      ],
      "text/plain": [
       "   Пол  Возраст  Зарплата  Члены семьи  Страховые выплаты\n",
       "0    1     41.0   49600.0            1                  0\n",
       "1    0     46.0   38000.0            1                  1\n",
       "2    0     29.0   21000.0            0                  0\n",
       "3    0     21.0   41700.0            2                  0\n",
       "4    1     28.0   26100.0            0                  0\n",
       "5    1     43.0   41000.0            2                  1\n",
       "6    1     39.0   39700.0            2                  0\n",
       "7    1     25.0   38600.0            4                  0\n",
       "8    1     36.0   49700.0            1                  0\n",
       "9    1     32.0   51700.0            1                  0"
      ]
     },
     "metadata": {},
     "output_type": "display_data"
    },
    {
     "name": "stdout",
     "output_type": "stream",
     "text": [
      "<class 'pandas.core.frame.DataFrame'>\n",
      "RangeIndex: 5000 entries, 0 to 4999\n",
      "Data columns (total 5 columns):\n",
      " #   Column             Non-Null Count  Dtype  \n",
      "---  ------             --------------  -----  \n",
      " 0   Пол                5000 non-null   int64  \n",
      " 1   Возраст            5000 non-null   float64\n",
      " 2   Зарплата           5000 non-null   float64\n",
      " 3   Члены семьи        5000 non-null   int64  \n",
      " 4   Страховые выплаты  5000 non-null   int64  \n",
      "dtypes: float64(2), int64(3)\n",
      "memory usage: 195.4 KB\n"
     ]
    },
    {
     "data": {
      "text/plain": [
       "None"
      ]
     },
     "metadata": {},
     "output_type": "display_data"
    },
    {
     "data": {
      "text/html": [
       "<div>\n",
       "<style scoped>\n",
       "    .dataframe tbody tr th:only-of-type {\n",
       "        vertical-align: middle;\n",
       "    }\n",
       "\n",
       "    .dataframe tbody tr th {\n",
       "        vertical-align: top;\n",
       "    }\n",
       "\n",
       "    .dataframe thead th {\n",
       "        text-align: right;\n",
       "    }\n",
       "</style>\n",
       "<table border=\"1\" class=\"dataframe\">\n",
       "  <thead>\n",
       "    <tr style=\"text-align: right;\">\n",
       "      <th></th>\n",
       "      <th>Пол</th>\n",
       "      <th>Возраст</th>\n",
       "      <th>Зарплата</th>\n",
       "      <th>Члены семьи</th>\n",
       "      <th>Страховые выплаты</th>\n",
       "    </tr>\n",
       "  </thead>\n",
       "  <tbody>\n",
       "    <tr>\n",
       "      <th>count</th>\n",
       "      <td>5000.000000</td>\n",
       "      <td>5000.000000</td>\n",
       "      <td>5000.000000</td>\n",
       "      <td>5000.000000</td>\n",
       "      <td>5000.000000</td>\n",
       "    </tr>\n",
       "    <tr>\n",
       "      <th>mean</th>\n",
       "      <td>0.499000</td>\n",
       "      <td>30.952800</td>\n",
       "      <td>39916.360000</td>\n",
       "      <td>1.194200</td>\n",
       "      <td>0.148000</td>\n",
       "    </tr>\n",
       "    <tr>\n",
       "      <th>std</th>\n",
       "      <td>0.500049</td>\n",
       "      <td>8.440807</td>\n",
       "      <td>9900.083569</td>\n",
       "      <td>1.091387</td>\n",
       "      <td>0.463183</td>\n",
       "    </tr>\n",
       "    <tr>\n",
       "      <th>min</th>\n",
       "      <td>0.000000</td>\n",
       "      <td>18.000000</td>\n",
       "      <td>5300.000000</td>\n",
       "      <td>0.000000</td>\n",
       "      <td>0.000000</td>\n",
       "    </tr>\n",
       "    <tr>\n",
       "      <th>25%</th>\n",
       "      <td>0.000000</td>\n",
       "      <td>24.000000</td>\n",
       "      <td>33300.000000</td>\n",
       "      <td>0.000000</td>\n",
       "      <td>0.000000</td>\n",
       "    </tr>\n",
       "    <tr>\n",
       "      <th>50%</th>\n",
       "      <td>0.000000</td>\n",
       "      <td>30.000000</td>\n",
       "      <td>40200.000000</td>\n",
       "      <td>1.000000</td>\n",
       "      <td>0.000000</td>\n",
       "    </tr>\n",
       "    <tr>\n",
       "      <th>75%</th>\n",
       "      <td>1.000000</td>\n",
       "      <td>37.000000</td>\n",
       "      <td>46600.000000</td>\n",
       "      <td>2.000000</td>\n",
       "      <td>0.000000</td>\n",
       "    </tr>\n",
       "    <tr>\n",
       "      <th>max</th>\n",
       "      <td>1.000000</td>\n",
       "      <td>65.000000</td>\n",
       "      <td>79000.000000</td>\n",
       "      <td>6.000000</td>\n",
       "      <td>5.000000</td>\n",
       "    </tr>\n",
       "  </tbody>\n",
       "</table>\n",
       "</div>"
      ],
      "text/plain": [
       "               Пол      Возраст      Зарплата  Члены семьи  Страховые выплаты\n",
       "count  5000.000000  5000.000000   5000.000000  5000.000000        5000.000000\n",
       "mean      0.499000    30.952800  39916.360000     1.194200           0.148000\n",
       "std       0.500049     8.440807   9900.083569     1.091387           0.463183\n",
       "min       0.000000    18.000000   5300.000000     0.000000           0.000000\n",
       "25%       0.000000    24.000000  33300.000000     0.000000           0.000000\n",
       "50%       0.000000    30.000000  40200.000000     1.000000           0.000000\n",
       "75%       1.000000    37.000000  46600.000000     2.000000           0.000000\n",
       "max       1.000000    65.000000  79000.000000     6.000000           5.000000"
      ]
     },
     "metadata": {},
     "output_type": "display_data"
    },
    {
     "data": {
      "image/png": "[encoded data removed]",
      "text/plain": [
       "<Figure size 720x720 with 6 Axes>"
      ]
     },
     "metadata": {
      "needs_background": "light"
     },
     "output_type": "display_data"
    }
   ],
   "source": [
    "# функция вызывающая все методы для обзора данных\n",
    "def data_review(data):\n",
    "    print('Количество дубликатов:', data.duplicated().sum())\n",
    "    display(data.head(10))\n",
    "    display(data.info())\n",
    "    display(data.describe())\n",
    "    data.hist(figsize=(10, 10));\n",
    "    \n",
    "# вызовем функцию, чтобы вывести информацию о датафрейме\n",
    "data_review(data)"
   ]
  },
  {
   "cell_type": "markdown",
   "metadata": {},
   "source": [
    "Приведём столбцы `Возраст` и `Зарплата` к целочисленному типу данных, поскольку фактически они хранят целые значения. "
   ]
  },
  {
   "cell_type": "code",
   "execution_count": 5,
   "metadata": {},
   "outputs": [
    {
     "data": {
      "text/plain": [
       "Пол                  int64\n",
       "Возраст              int64\n",
       "Зарплата             int64\n",
       "Члены семьи          int64\n",
       "Страховые выплаты    int64\n",
       "dtype: object"
      ]
     },
     "execution_count": 5,
     "metadata": {},
     "output_type": "execute_result"
    }
   ],
   "source": [
    "data['Возраст'] = data['Возраст'].astype(int)\n",
    "data['Зарплата'] = data['Зарплата'].astype(int)\n",
    "data.dtypes"
   ]
  },
  {
   "cell_type": "markdown",
   "metadata": {},
   "source": [
    "В данных обаружено 153 дубликата. Посмотрим, что это за строки."
   ]
  },
  {
   "cell_type": "code",
   "execution_count": 6,
   "metadata": {},
   "outputs": [
    {
     "data": {
      "text/html": [
       "<div>\n",
       "<style scoped>\n",
       "    .dataframe tbody tr th:only-of-type {\n",
       "        vertical-align: middle;\n",
       "    }\n",
       "\n",
       "    .dataframe tbody tr th {\n",
       "        vertical-align: top;\n",
       "    }\n",
       "\n",
       "    .dataframe thead th {\n",
       "        text-align: right;\n",
       "    }\n",
       "</style>\n",
       "<table border=\"1\" class=\"dataframe\">\n",
       "  <thead>\n",
       "    <tr style=\"text-align: right;\">\n",
       "      <th></th>\n",
       "      <th>Пол</th>\n",
       "      <th>Возраст</th>\n",
       "      <th>Зарплата</th>\n",
       "      <th>Члены семьи</th>\n",
       "      <th>Страховые выплаты</th>\n",
       "    </tr>\n",
       "  </thead>\n",
       "  <tbody>\n",
       "    <tr>\n",
       "      <th>281</th>\n",
       "      <td>1</td>\n",
       "      <td>39</td>\n",
       "      <td>48100</td>\n",
       "      <td>1</td>\n",
       "      <td>0</td>\n",
       "    </tr>\n",
       "    <tr>\n",
       "      <th>488</th>\n",
       "      <td>1</td>\n",
       "      <td>24</td>\n",
       "      <td>32900</td>\n",
       "      <td>1</td>\n",
       "      <td>0</td>\n",
       "    </tr>\n",
       "    <tr>\n",
       "      <th>513</th>\n",
       "      <td>0</td>\n",
       "      <td>31</td>\n",
       "      <td>37400</td>\n",
       "      <td>2</td>\n",
       "      <td>0</td>\n",
       "    </tr>\n",
       "    <tr>\n",
       "      <th>718</th>\n",
       "      <td>1</td>\n",
       "      <td>22</td>\n",
       "      <td>32600</td>\n",
       "      <td>1</td>\n",
       "      <td>0</td>\n",
       "    </tr>\n",
       "    <tr>\n",
       "      <th>785</th>\n",
       "      <td>0</td>\n",
       "      <td>20</td>\n",
       "      <td>35800</td>\n",
       "      <td>0</td>\n",
       "      <td>0</td>\n",
       "    </tr>\n",
       "  </tbody>\n",
       "</table>\n",
       "</div>"
      ],
      "text/plain": [
       "     Пол  Возраст  Зарплата  Члены семьи  Страховые выплаты\n",
       "281    1       39     48100            1                  0\n",
       "488    1       24     32900            1                  0\n",
       "513    0       31     37400            2                  0\n",
       "718    1       22     32600            1                  0\n",
       "785    0       20     35800            0                  0"
      ]
     },
     "execution_count": 6,
     "metadata": {},
     "output_type": "execute_result"
    }
   ],
   "source": [
    "duplicates = data[data.duplicated()]\n",
    "duplicates.head(5)"
   ]
  },
  {
   "cell_type": "code",
   "execution_count": 7,
   "metadata": {},
   "outputs": [
    {
     "data": {
      "text/plain": [
       "152"
      ]
     },
     "execution_count": 7,
     "metadata": {},
     "output_type": "execute_result"
    }
   ],
   "source": [
    "len(duplicates[duplicates['Страховые выплаты'] == 0])"
   ]
  },
  {
   "cell_type": "markdown",
   "metadata": {},
   "source": [
    "Практически все дубликаты пренадлежат к классу объектов с 0 кол-вом страховых выплат. Так как данный класс самый крупный, то удаление такого небольшого кол-ва строк не отразиться на балансе классов. Исключим дубликаты из выборки."
   ]
  },
  {
   "cell_type": "code",
   "execution_count": 8,
   "metadata": {},
   "outputs": [
    {
     "data": {
      "text/plain": [
       "4847"
      ]
     },
     "execution_count": 8,
     "metadata": {},
     "output_type": "execute_result"
    }
   ],
   "source": [
    "data = data.drop_duplicates()\n",
    "len(data)"
   ]
  },
  {
   "cell_type": "markdown",
   "metadata": {},
   "source": [
    "**Вывод**\n",
    "\n",
    "В каждой строке таблицы — данные о клиентах страховой компании. Исходные данные уже были неплохого качества (нет пропусков, выбросов, аномалий, распределны нормально, неявных дубликатов быть не может, т.к. данные исключительно численные), однако нуждались в некоторой предобработке. Мы подготовили данные, и теперь можно приступать к разработке метода защиты данных клиентов."
   ]
  },
  {
   "cell_type": "markdown",
   "metadata": {},
   "source": [
    "## Умножение матриц"
   ]
  },
  {
   "cell_type": "markdown",
   "metadata": {},
   "source": [
    "Обозначения:\n",
    "\n",
    "- $X$ — матрица признаков (нулевой столбец состоит из единиц)\n",
    "\n",
    "- $y$ — вектор целевого признака\n",
    "\n",
    "- $P$ — матрица, на которую умножаются признаки\n",
    "\n",
    "- $w$ — вектор весов линейной регрессии (нулевой элемент равен сдвигу)"
   ]
  },
  {
   "cell_type": "markdown",
   "metadata": {},
   "source": [
    "Предсказания:\n",
    "\n",
    "$$\n",
    "a = Xw\n",
    "$$\n",
    "\n",
    "Задача обучения:\n",
    "\n",
    "$$\n",
    "w = \\arg\\min_w MSE(Xw, y)\n",
    "$$\n",
    "\n",
    "Формула обучения:\n",
    "\n",
    "$$\n",
    "w = (X^T X)^{-1} X^T y\n",
    "$$"
   ]
  },
  {
   "cell_type": "markdown",
   "metadata": {},
   "source": [
    "Прверим алгебраически, изменится ли качество предсказаний модели при умножении матрицы признаков на обратимую матрицу."
   ]
  },
  {
   "cell_type": "markdown",
   "metadata": {},
   "source": [
    "Некую обратимую матрицу, на которую умножаются признаки, мы обозначили за $P$. Новый вектор весов, который получится на основе преобразованной матрицы признаков обозначим за $w'$. Тогда новый вектор предсказаний обозначим за $a'$. Нам необходимо выяснить, измениться ли вектор предсказаний после перемножения матриц или нет, иными словами $a'=a$ или $a'\\neq a$."
   ]
  },
  {
   "cell_type": "markdown",
   "metadata": {},
   "source": [
    "Предсказания для преобразованной матрицы:\n",
    "\n",
    "$$\n",
    "a' = XPw'\n",
    "$$\n",
    "\n",
    "Формула обучения для преобразованной матрицы:\n",
    "\n",
    "$$\n",
    "w' = ((XP)^T XP)^{-1} (XP)^T y\n",
    "$$\n",
    "\n",
    "Раскроем скобки по свойству транспонированных матриц:\n",
    "\n",
    "$$\n",
    "w' = (P^T X^T XP)^{-1} P^T X^T y\n",
    "$$\n",
    "\n",
    "Поскольку матрицы $P^T$ и $X^T XP$ квадратные, то мы можем раскрыть скобки по свойству обратных матриц. В результате несколько множителей сократятся:\n",
    "\n",
    "$$\n",
    "w' = (X^T XP)^{-1} (P^T)^{-1} P^T X^T y = (X^T XP)^{-1}X^T\n",
    "$$\n",
    "\n",
    "Поскольку матрицы $X^TX$ и $P$ квадратные, то мы можем раскрыть скобки по свойству обратных матриц:\n",
    "\n",
    "\n",
    "$$\n",
    "w' = P^{-1}(X^T X)^{-1}X^T\n",
    "$$\n",
    "\n",
    "Можно увидеть, что результат перемножения $(X^T X)^{-1}X^T$ - это на самом деле вектор $w$. Отсюда получаем следующую формулу: \n",
    "\n",
    "$$\n",
    "w' = P^{-1}w\n",
    "$$\n",
    "\n",
    "Подставим данное произведение в формулу предсказаний и получим следующее:\n",
    "\n",
    "$$\n",
    "a' = XPw' = XPP^{-1}w = Xw\n",
    "$$\n",
    "\n",
    "В результате мы получаем, что значения $a'$ и $a$ равны, значит, $a'=a$."
   ]
  },
  {
   "cell_type": "markdown",
   "metadata": {},
   "source": [
    "**Ответ:** \n",
    "\n",
    "Качество линейной регрессии не изменится, если мы домножим матрицу признаков на обратимую мтарицу."
   ]
  },
  {
   "cell_type": "markdown",
   "metadata": {},
   "source": [
    "**Обоснование:** "
   ]
  },
  {
   "cell_type": "markdown",
   "metadata": {},
   "source": [
    "Мы алгебраически доказали, что значения вектора предсказаний не изменятся, если мы домножим матрицу на обратимую матрицу."
   ]
  },
  {
   "cell_type": "markdown",
   "metadata": {},
   "source": [
    "**Вывод**\n",
    "\n",
    "В данном разделе мы доказали математически, что вектор предсказаний линейной регресси не изменился после умножения матрицы признаков на обратимую матрицу. Следовательно, и качество линейной регрессии не изменилось. Вектор весов, после умножения на обратимую матрицу, меняется, поэтому для преобразованный матрицы признаков модель нужно обучать заново."
   ]
  },
  {
   "cell_type": "markdown",
   "metadata": {},
   "source": [
    "## Алгоритм преобразования"
   ]
  },
  {
   "cell_type": "markdown",
   "metadata": {},
   "source": [
    "**Алгоритм**"
   ]
  },
  {
   "cell_type": "markdown",
   "metadata": {},
   "source": [
    "1. Разделим исходные данные на обучающую и тестовую выборку.\n",
    "2. Сгенерируем обратимую матрицу. Чтобы гарантировать обратимость, мы рекурсивно вызываем метод генерации матрицы и  проверяем её на обратимость. Функция не закончит своё выполнение, пока не будет создана обратимая матрица. Кроме того, матрица должна быть квадратной (одно из условий обратимости) и согласованной по размеру с исходной матрицей. Ширина исходной матрицы равна 4, следовательно создаваемая матрица должна быть размера 4х4. Можно еще подумать о том, что по размеру преобразованная матрица должна быть такой же, как и изначальная матрица признаков, но это уже гарантируется из предыдущих условий.\n",
    "3. Умножим матрицу признаков на обратимую матрицу, получим зашифрованную матрицу признаков.\n",
    "4. Обучим две модели линейной регрессии: на исходной матрице признаков и на преобразованной матрице признаков.\n",
    "5. Получим результаты работы моделей на тестовых данных.\n",
    "6. Сравним предсказания двух моделей с помощью метрики качества *R2*."
   ]
  },
  {
   "cell_type": "markdown",
   "metadata": {},
   "source": [
    "**Обоснование**"
   ]
  },
  {
   "cell_type": "markdown",
   "metadata": {},
   "source": [
    "Ранее мы доказали математически, что в теории предсказания линейной регресси, обученной за закодированных данных, не ухудшатся. Следуя данному алгоритму, мы сможем на практике в этом убедиться. Если модели, обученные на исходной и преобразованной матрице признаков, выдадут достаточно близкие значения метрики *R2*, то это покажет, что качество линейной регрессии действительно не изменилось."
   ]
  },
  {
   "cell_type": "markdown",
   "metadata": {},
   "source": [
    "## Проверка алгоритма"
   ]
  },
  {
   "cell_type": "markdown",
   "metadata": {},
   "source": [
    "Разделим данные на выборки."
   ]
  },
  {
   "cell_type": "code",
   "execution_count": 9,
   "metadata": {},
   "outputs": [
    {
     "name": "stdout",
     "output_type": "stream",
     "text": [
      "3635\n",
      "1212\n"
     ]
    }
   ],
   "source": [
    "features = data.drop('Страховые выплаты', axis=1)\n",
    "target = data['Страховые выплаты']\n",
    "\n",
    "features_train, features_test, target_train, target_test = train_test_split(\n",
    "    features, target, test_size=.25, random_state=12345)\n",
    "\n",
    "print(features_train.shape[0])\n",
    "print(features_test.shape[0])"
   ]
  },
  {
   "cell_type": "markdown",
   "metadata": {},
   "source": [
    "Создадим обратимую матрицу $P$. Воспользуемся рекурсией, которую завершим лишь тогда, когда сгенерированная матрица будет обратимой."
   ]
  },
  {
   "cell_type": "code",
   "execution_count": 12,
   "metadata": {},
   "outputs": [
    {
     "name": "stdout",
     "output_type": "stream",
     "text": [
      "Обратимая матрица: \n"
     ]
    },
    {
     "data": {
      "text/plain": [
       "array([[0.78968434, 0.33762709, 0.98799206, 0.78012894],\n",
       "       [0.00948368, 0.5020033 , 0.18430085, 0.40334129],\n",
       "       [0.77789445, 0.92162235, 0.07255782, 0.48897507],\n",
       "       [0.95430825, 0.12324095, 0.5392654 , 0.92489792]])"
      ]
     },
     "metadata": {},
     "output_type": "display_data"
    },
    {
     "name": "stdout",
     "output_type": "stream",
     "text": [
      "Обратная матрица: \n"
     ]
    },
    {
     "data": {
      "text/plain": [
       "array([[ 0.18892355, -1.84984684,  0.91662947,  0.16274868],\n",
       "       [ 0.36663444,  0.52067533,  0.79504365, -0.9566337 ],\n",
       "       [ 1.72040468, -0.28113425, -0.32225042, -1.1581516 ],\n",
       "       [-1.24687318,  2.00320655, -0.8638256 ,  1.71601114]])"
      ]
     },
     "metadata": {},
     "output_type": "display_data"
    }
   ],
   "source": [
    "MATRIX_SIZE = 4\n",
    "\n",
    "def func(dim):\n",
    "    transform_matrix = np.random.rand(dim, dim)\n",
    "    try: \n",
    "        inv = np.linalg.inv(transform_matrix)\n",
    "        return transform_matrix, inv\n",
    "    except:\n",
    "        func(dim) \n",
    "        \n",
    "p_matrix, inv_matrix = func(MATRIX_SIZE)\n",
    "print('Обратимая матрица: ')\n",
    "display(p_matrix)\n",
    "print('Обратная матрица: ')\n",
    "display(inv_matrix)"
   ]
  },
  {
   "cell_type": "markdown",
   "metadata": {},
   "source": [
    "Обратная матрица $P^{-1}$ для матрицы $P$ существует. Мы вывели её в ячейке выше."
   ]
  },
  {
   "cell_type": "markdown",
   "metadata": {},
   "source": [
    "Умножим признаки $X$ на обратимую матрицу $P$. Посмотрим, как изменились данные после преобразования."
   ]
  },
  {
   "cell_type": "code",
   "execution_count": 13,
   "metadata": {},
   "outputs": [
    {
     "data": {
      "text/html": [
       "<div>\n",
       "<style scoped>\n",
       "    .dataframe tbody tr th:only-of-type {\n",
       "        vertical-align: middle;\n",
       "    }\n",
       "\n",
       "    .dataframe tbody tr th {\n",
       "        vertical-align: top;\n",
       "    }\n",
       "\n",
       "    .dataframe thead th {\n",
       "        text-align: right;\n",
       "    }\n",
       "</style>\n",
       "<table border=\"1\" class=\"dataframe\">\n",
       "  <thead>\n",
       "    <tr style=\"text-align: right;\">\n",
       "      <th></th>\n",
       "      <th>Пол</th>\n",
       "      <th>Возраст</th>\n",
       "      <th>Зарплата</th>\n",
       "      <th>Члены семьи</th>\n",
       "    </tr>\n",
       "  </thead>\n",
       "  <tbody>\n",
       "    <tr>\n",
       "      <th>4599</th>\n",
       "      <td>0</td>\n",
       "      <td>28</td>\n",
       "      <td>54500</td>\n",
       "      <td>2</td>\n",
       "    </tr>\n",
       "    <tr>\n",
       "      <th>3882</th>\n",
       "      <td>1</td>\n",
       "      <td>38</td>\n",
       "      <td>50700</td>\n",
       "      <td>1</td>\n",
       "    </tr>\n",
       "    <tr>\n",
       "      <th>4705</th>\n",
       "      <td>0</td>\n",
       "      <td>24</td>\n",
       "      <td>28000</td>\n",
       "      <td>1</td>\n",
       "    </tr>\n",
       "    <tr>\n",
       "      <th>1400</th>\n",
       "      <td>0</td>\n",
       "      <td>47</td>\n",
       "      <td>38800</td>\n",
       "      <td>0</td>\n",
       "    </tr>\n",
       "    <tr>\n",
       "      <th>728</th>\n",
       "      <td>0</td>\n",
       "      <td>40</td>\n",
       "      <td>32500</td>\n",
       "      <td>1</td>\n",
       "    </tr>\n",
       "  </tbody>\n",
       "</table>\n",
       "</div>"
      ],
      "text/plain": [
       "      Пол  Возраст  Зарплата  Члены семьи\n",
       "4599    0       28     54500            2\n",
       "3882    1       38     50700            1\n",
       "4705    0       24     28000            1\n",
       "1400    0       47     38800            0\n",
       "728     0       40     32500            1"
      ]
     },
     "metadata": {},
     "output_type": "display_data"
    },
    {
     "data": {
      "text/html": [
       "<div>\n",
       "<style scoped>\n",
       "    .dataframe tbody tr th:only-of-type {\n",
       "        vertical-align: middle;\n",
       "    }\n",
       "\n",
       "    .dataframe tbody tr th {\n",
       "        vertical-align: top;\n",
       "    }\n",
       "\n",
       "    .dataframe thead th {\n",
       "        text-align: right;\n",
       "    }\n",
       "</style>\n",
       "<table border=\"1\" class=\"dataframe\">\n",
       "  <thead>\n",
       "    <tr style=\"text-align: right;\">\n",
       "      <th></th>\n",
       "      <th>Пол</th>\n",
       "      <th>Возраст</th>\n",
       "      <th>Зарплата</th>\n",
       "      <th>Члены семьи</th>\n",
       "    </tr>\n",
       "  </thead>\n",
       "  <tbody>\n",
       "    <tr>\n",
       "      <th>1335</th>\n",
       "      <td>1</td>\n",
       "      <td>23</td>\n",
       "      <td>47200</td>\n",
       "      <td>0</td>\n",
       "    </tr>\n",
       "    <tr>\n",
       "      <th>3875</th>\n",
       "      <td>1</td>\n",
       "      <td>32</td>\n",
       "      <td>65900</td>\n",
       "      <td>0</td>\n",
       "    </tr>\n",
       "    <tr>\n",
       "      <th>166</th>\n",
       "      <td>1</td>\n",
       "      <td>33</td>\n",
       "      <td>33900</td>\n",
       "      <td>2</td>\n",
       "    </tr>\n",
       "    <tr>\n",
       "      <th>3003</th>\n",
       "      <td>0</td>\n",
       "      <td>39</td>\n",
       "      <td>19300</td>\n",
       "      <td>2</td>\n",
       "    </tr>\n",
       "    <tr>\n",
       "      <th>424</th>\n",
       "      <td>0</td>\n",
       "      <td>46</td>\n",
       "      <td>27500</td>\n",
       "      <td>2</td>\n",
       "    </tr>\n",
       "  </tbody>\n",
       "</table>\n",
       "</div>"
      ],
      "text/plain": [
       "      Пол  Возраст  Зарплата  Члены семьи\n",
       "1335    1       23     47200            0\n",
       "3875    1       32     65900            0\n",
       "166     1       33     33900            2\n",
       "3003    0       39     19300            2\n",
       "424     0       46     27500            2"
      ]
     },
     "metadata": {},
     "output_type": "display_data"
    }
   ],
   "source": [
    "display(features_train.head(5))\n",
    "display(features_test.head(5))"
   ]
  },
  {
   "cell_type": "code",
   "execution_count": 14,
   "metadata": {},
   "outputs": [
    {
     "data": {
      "text/html": [
       "<div>\n",
       "<style scoped>\n",
       "    .dataframe tbody tr th:only-of-type {\n",
       "        vertical-align: middle;\n",
       "    }\n",
       "\n",
       "    .dataframe tbody tr th {\n",
       "        vertical-align: top;\n",
       "    }\n",
       "\n",
       "    .dataframe thead th {\n",
       "        text-align: right;\n",
       "    }\n",
       "</style>\n",
       "<table border=\"1\" class=\"dataframe\">\n",
       "  <thead>\n",
       "    <tr style=\"text-align: right;\">\n",
       "      <th></th>\n",
       "      <th>0</th>\n",
       "      <th>1</th>\n",
       "      <th>2</th>\n",
       "      <th>3</th>\n",
       "    </tr>\n",
       "  </thead>\n",
       "  <tbody>\n",
       "    <tr>\n",
       "      <th>4599</th>\n",
       "      <td>42397.421856</td>\n",
       "      <td>50242.720874</td>\n",
       "      <td>3960.640397</td>\n",
       "      <td>26662.284797</td>\n",
       "    </tr>\n",
       "    <tr>\n",
       "      <th>3882</th>\n",
       "      <td>39441.353147</td>\n",
       "      <td>46745.790348</td>\n",
       "      <td>3687.212399</td>\n",
       "      <td>24808.068166</td>\n",
       "    </tr>\n",
       "    <tr>\n",
       "      <th>4705</th>\n",
       "      <td>21782.226604</td>\n",
       "      <td>25817.597236</td>\n",
       "      <td>2036.581576</td>\n",
       "      <td>13701.907116</td>\n",
       "    </tr>\n",
       "    <tr>\n",
       "      <th>1400</th>\n",
       "      <td>30182.750515</td>\n",
       "      <td>35782.541495</td>\n",
       "      <td>2823.905736</td>\n",
       "      <td>18991.189849</td>\n",
       "    </tr>\n",
       "    <tr>\n",
       "      <th>728</th>\n",
       "      <td>25282.903383</td>\n",
       "      <td>29972.929882</td>\n",
       "      <td>2366.040600</td>\n",
       "      <td>15908.748402</td>\n",
       "    </tr>\n",
       "  </tbody>\n",
       "</table>\n",
       "</div>"
      ],
      "text/plain": [
       "                 0             1            2             3\n",
       "4599  42397.421856  50242.720874  3960.640397  26662.284797\n",
       "3882  39441.353147  46745.790348  3687.212399  24808.068166\n",
       "4705  21782.226604  25817.597236  2036.581576  13701.907116\n",
       "1400  30182.750515  35782.541495  2823.905736  18991.189849\n",
       "728   25282.903383  29972.929882  2366.040600  15908.748402"
      ]
     },
     "metadata": {},
     "output_type": "display_data"
    },
    {
     "data": {
      "text/html": [
       "<div>\n",
       "<style scoped>\n",
       "    .dataframe tbody tr th:only-of-type {\n",
       "        vertical-align: middle;\n",
       "    }\n",
       "\n",
       "    .dataframe tbody tr th {\n",
       "        vertical-align: top;\n",
       "    }\n",
       "\n",
       "    .dataframe thead th {\n",
       "        text-align: right;\n",
       "    }\n",
       "</style>\n",
       "<table border=\"1\" class=\"dataframe\">\n",
       "  <thead>\n",
       "    <tr style=\"text-align: right;\">\n",
       "      <th></th>\n",
       "      <th>0</th>\n",
       "      <th>1</th>\n",
       "      <th>2</th>\n",
       "      <th>3</th>\n",
       "    </tr>\n",
       "  </thead>\n",
       "  <tbody>\n",
       "    <tr>\n",
       "      <th>1335</th>\n",
       "      <td>36717.625997</td>\n",
       "      <td>43512.458818</td>\n",
       "      <td>3429.956234</td>\n",
       "      <td>23089.680395</td>\n",
       "    </tr>\n",
       "    <tr>\n",
       "      <th>3875</th>\n",
       "      <td>51264.337624</td>\n",
       "      <td>60751.314870</td>\n",
       "      <td>4788.446263</td>\n",
       "      <td>32237.144321</td>\n",
       "    </tr>\n",
       "    <tr>\n",
       "      <th>166</th>\n",
       "      <td>26373.633224</td>\n",
       "      <td>31260.148023</td>\n",
       "      <td>2467.858706</td>\n",
       "      <td>16592.195141</td>\n",
       "    </tr>\n",
       "    <tr>\n",
       "      <th>3003</th>\n",
       "      <td>15015.641426</td>\n",
       "      <td>17807.136045</td>\n",
       "      <td>1408.632279</td>\n",
       "      <td>9454.799003</td>\n",
       "    </tr>\n",
       "    <tr>\n",
       "      <th>424</th>\n",
       "      <td>21394.442327</td>\n",
       "      <td>25367.953372</td>\n",
       "      <td>2004.896547</td>\n",
       "      <td>13467.217986</td>\n",
       "    </tr>\n",
       "  </tbody>\n",
       "</table>\n",
       "</div>"
      ],
      "text/plain": [
       "                 0             1            2             3\n",
       "1335  36717.625997  43512.458818  3429.956234  23089.680395\n",
       "3875  51264.337624  60751.314870  4788.446263  32237.144321\n",
       "166   26373.633224  31260.148023  2467.858706  16592.195141\n",
       "3003  15015.641426  17807.136045  1408.632279   9454.799003\n",
       "424   21394.442327  25367.953372  2004.896547  13467.217986"
      ]
     },
     "metadata": {},
     "output_type": "display_data"
    }
   ],
   "source": [
    "coded_features_train = features_train @ p_matrix\n",
    "coded_features_test = features_test @ p_matrix\n",
    "display(coded_features_train.head(5))\n",
    "display(coded_features_test.head(5))"
   ]
  },
  {
   "cell_type": "markdown",
   "metadata": {},
   "source": [
    "Проверим, что мы можем однозначно декодировать данные с помощью обратной матрицы."
   ]
  },
  {
   "cell_type": "code",
   "execution_count": 15,
   "metadata": {},
   "outputs": [
    {
     "data": {
      "text/html": [
       "<div>\n",
       "<style scoped>\n",
       "    .dataframe tbody tr th:only-of-type {\n",
       "        vertical-align: middle;\n",
       "    }\n",
       "\n",
       "    .dataframe tbody tr th {\n",
       "        vertical-align: top;\n",
       "    }\n",
       "\n",
       "    .dataframe thead th {\n",
       "        text-align: right;\n",
       "    }\n",
       "</style>\n",
       "<table border=\"1\" class=\"dataframe\">\n",
       "  <thead>\n",
       "    <tr style=\"text-align: right;\">\n",
       "      <th></th>\n",
       "      <th>0</th>\n",
       "      <th>1</th>\n",
       "      <th>2</th>\n",
       "      <th>3</th>\n",
       "    </tr>\n",
       "  </thead>\n",
       "  <tbody>\n",
       "    <tr>\n",
       "      <th>4599</th>\n",
       "      <td>0.0</td>\n",
       "      <td>28.0</td>\n",
       "      <td>54500.0</td>\n",
       "      <td>2.0</td>\n",
       "    </tr>\n",
       "    <tr>\n",
       "      <th>3882</th>\n",
       "      <td>1.0</td>\n",
       "      <td>38.0</td>\n",
       "      <td>50700.0</td>\n",
       "      <td>1.0</td>\n",
       "    </tr>\n",
       "    <tr>\n",
       "      <th>4705</th>\n",
       "      <td>0.0</td>\n",
       "      <td>24.0</td>\n",
       "      <td>28000.0</td>\n",
       "      <td>1.0</td>\n",
       "    </tr>\n",
       "    <tr>\n",
       "      <th>1400</th>\n",
       "      <td>0.0</td>\n",
       "      <td>47.0</td>\n",
       "      <td>38800.0</td>\n",
       "      <td>0.0</td>\n",
       "    </tr>\n",
       "    <tr>\n",
       "      <th>728</th>\n",
       "      <td>-0.0</td>\n",
       "      <td>40.0</td>\n",
       "      <td>32500.0</td>\n",
       "      <td>1.0</td>\n",
       "    </tr>\n",
       "  </tbody>\n",
       "</table>\n",
       "</div>"
      ],
      "text/plain": [
       "        0     1        2    3\n",
       "4599  0.0  28.0  54500.0  2.0\n",
       "3882  1.0  38.0  50700.0  1.0\n",
       "4705  0.0  24.0  28000.0  1.0\n",
       "1400  0.0  47.0  38800.0  0.0\n",
       "728  -0.0  40.0  32500.0  1.0"
      ]
     },
     "metadata": {},
     "output_type": "display_data"
    },
    {
     "data": {
      "text/html": [
       "<div>\n",
       "<style scoped>\n",
       "    .dataframe tbody tr th:only-of-type {\n",
       "        vertical-align: middle;\n",
       "    }\n",
       "\n",
       "    .dataframe tbody tr th {\n",
       "        vertical-align: top;\n",
       "    }\n",
       "\n",
       "    .dataframe thead th {\n",
       "        text-align: right;\n",
       "    }\n",
       "</style>\n",
       "<table border=\"1\" class=\"dataframe\">\n",
       "  <thead>\n",
       "    <tr style=\"text-align: right;\">\n",
       "      <th></th>\n",
       "      <th>0</th>\n",
       "      <th>1</th>\n",
       "      <th>2</th>\n",
       "      <th>3</th>\n",
       "    </tr>\n",
       "  </thead>\n",
       "  <tbody>\n",
       "    <tr>\n",
       "      <th>1335</th>\n",
       "      <td>1.0</td>\n",
       "      <td>23.0</td>\n",
       "      <td>47200.0</td>\n",
       "      <td>-0.0</td>\n",
       "    </tr>\n",
       "    <tr>\n",
       "      <th>3875</th>\n",
       "      <td>1.0</td>\n",
       "      <td>32.0</td>\n",
       "      <td>65900.0</td>\n",
       "      <td>0.0</td>\n",
       "    </tr>\n",
       "    <tr>\n",
       "      <th>166</th>\n",
       "      <td>1.0</td>\n",
       "      <td>33.0</td>\n",
       "      <td>33900.0</td>\n",
       "      <td>2.0</td>\n",
       "    </tr>\n",
       "    <tr>\n",
       "      <th>3003</th>\n",
       "      <td>0.0</td>\n",
       "      <td>39.0</td>\n",
       "      <td>19300.0</td>\n",
       "      <td>2.0</td>\n",
       "    </tr>\n",
       "    <tr>\n",
       "      <th>424</th>\n",
       "      <td>0.0</td>\n",
       "      <td>46.0</td>\n",
       "      <td>27500.0</td>\n",
       "      <td>2.0</td>\n",
       "    </tr>\n",
       "  </tbody>\n",
       "</table>\n",
       "</div>"
      ],
      "text/plain": [
       "        0     1        2    3\n",
       "1335  1.0  23.0  47200.0 -0.0\n",
       "3875  1.0  32.0  65900.0  0.0\n",
       "166   1.0  33.0  33900.0  2.0\n",
       "3003  0.0  39.0  19300.0  2.0\n",
       "424   0.0  46.0  27500.0  2.0"
      ]
     },
     "metadata": {},
     "output_type": "display_data"
    }
   ],
   "source": [
    "display(np.round(coded_features_train @ np.linalg.inv(p_matrix)).head(5))\n",
    "display(np.round(coded_features_test @ np.linalg.inv(p_matrix)).head(5))"
   ]
  },
  {
   "cell_type": "markdown",
   "metadata": {},
   "source": [
    "В результате умножения преобразованных признаков на обратную матрицу $P^{-1}$ мы получили исходные данные. Все предварительные шаги выполнены корректно."
   ]
  },
  {
   "cell_type": "markdown",
   "metadata": {},
   "source": [
    "Обучим модель линейной регрессии на исходных данных."
   ]
  },
  {
   "cell_type": "code",
   "execution_count": 16,
   "metadata": {},
   "outputs": [
    {
     "name": "stdout",
     "output_type": "stream",
     "text": [
      "R2 на исходных данных: 0.42307727615837565\n"
     ]
    }
   ],
   "source": [
    "model = LinearRegression()\n",
    "model.fit(features_train, target_train)\n",
    "predictions = model.predict(features_test)\n",
    "r2_initial_data = r2_score(target_test, predictions)\n",
    "print('R2 на исходных данных:', r2_initial_data)"
   ]
  },
  {
   "cell_type": "markdown",
   "metadata": {},
   "source": [
    "Обучим модель линейной регресси на преобразованных данных."
   ]
  },
  {
   "cell_type": "code",
   "execution_count": 17,
   "metadata": {},
   "outputs": [
    {
     "name": "stdout",
     "output_type": "stream",
     "text": [
      "R2 на преобразованных данных: 0.42307727615716817\n"
     ]
    }
   ],
   "source": [
    "model = LinearRegression()\n",
    "model.fit(coded_features_train, target_train)\n",
    "predictions_coded = model.predict(coded_features_test)\n",
    "r2_coded_data = r2_score(target_test, predictions_coded)\n",
    "print('R2 на преобразованных данных:', r2_coded_data)"
   ]
  },
  {
   "cell_type": "code",
   "execution_count": 18,
   "metadata": {},
   "outputs": [
    {
     "data": {
      "text/plain": [
       "1.2074785615823203e-12"
      ]
     },
     "execution_count": 18,
     "metadata": {},
     "output_type": "execute_result"
    }
   ],
   "source": [
    "np.abs(r2_coded_data - r2_initial_data)"
   ]
  },
  {
   "cell_type": "markdown",
   "metadata": {},
   "source": [
    "Как мы можем видеть абсолютная разница между метриками *R2* модели на исходных данных и модели на проеобразованных данных крайне низка. Разница между результирующими метриками достигается лишь на 12-ом знаке после запятой, значения метрик практически равны."
   ]
  },
  {
   "cell_type": "markdown",
   "metadata": {},
   "source": [
    "**Вывод**\n",
    "\n",
    "В данном разделе мы на практике убедились в том, что качество линейной регресси после преобразования признаков не изменилось. Метрика *R2* на данных до кодирования практически не отличается от метрики *R2*, которую мы получили после кодирования."
   ]
  },
  {
   "cell_type": "markdown",
   "metadata": {},
   "source": [
    "## Общий вывод"
   ]
  },
  {
   "cell_type": "markdown",
   "metadata": {},
   "source": [
    "В ходе проекта мы предложили алгоритм для защиты клиентских данных. При этом качество модели на преобразованных данных не ухудшилось.\n",
    "\n",
    "Исследуя данные, мы:\n",
    "1. Выполнили обзор и подготовили датафрейм для анализа.\n",
    "2. Математически обосновали использование обратимой матрицы в качестве интсрумента для шифрования данных.\n",
    "3. Сформулировали алгоритм пребразования данных.\n",
    "4. Реализовали алгоритм шифрования данных и обучили две модели линейной регресии.\n",
    "5. Проанализировали значения метрики *R2* для модели, обученной на исходных и на преобразованных данных. Установили, что метрика практически не изменилась, а следвотельно, качество линейной регрессии не ухудшилось после преобразования матрицы признаков."
   ]
  }
 ],
 "metadata": {
  "ExecuteTimeLog": [
   {
    "duration": 1224,
    "start_time": "2023-07-03T17:04:37.909Z"
   },
   {
    "duration": 96,
    "start_time": "2023-07-03T17:05:34.849Z"
   },
   {
    "duration": 1098,
    "start_time": "2023-07-03T17:06:01.605Z"
   },
   {
    "duration": 5,
    "start_time": "2023-07-03T17:34:52.030Z"
   },
   {
    "duration": 54,
    "start_time": "2023-07-04T08:18:22.082Z"
   },
   {
    "duration": 1094,
    "start_time": "2023-07-04T08:18:28.073Z"
   },
   {
    "duration": 89,
    "start_time": "2023-07-04T08:18:29.169Z"
   },
   {
    "duration": 1098,
    "start_time": "2023-07-04T08:18:29.259Z"
   },
   {
    "duration": 20,
    "start_time": "2023-07-04T08:18:33.990Z"
   },
   {
    "duration": 161,
    "start_time": "2023-07-04T08:21:23.412Z"
   },
   {
    "duration": 151,
    "start_time": "2023-07-04T08:21:31.090Z"
   },
   {
    "duration": 194,
    "start_time": "2023-07-04T08:21:37.938Z"
   },
   {
    "duration": 15,
    "start_time": "2023-07-04T08:21:43.112Z"
   },
   {
    "duration": 69,
    "start_time": "2023-07-04T08:21:56.815Z"
   },
   {
    "duration": 14,
    "start_time": "2023-07-04T08:22:07.544Z"
   },
   {
    "duration": 14,
    "start_time": "2023-07-04T08:22:14.993Z"
   },
   {
    "duration": 179,
    "start_time": "2023-07-04T08:22:18.181Z"
   },
   {
    "duration": 13,
    "start_time": "2023-07-04T08:22:42.964Z"
   },
   {
    "duration": 14,
    "start_time": "2023-07-04T08:23:00.443Z"
   },
   {
    "duration": 15,
    "start_time": "2023-07-04T08:23:31.824Z"
   },
   {
    "duration": 14,
    "start_time": "2023-07-04T08:24:05.819Z"
   },
   {
    "duration": 14,
    "start_time": "2023-07-04T08:24:31.004Z"
   },
   {
    "duration": 12,
    "start_time": "2023-07-04T08:26:05.227Z"
   },
   {
    "duration": 1176,
    "start_time": "2023-07-05T13:33:51.955Z"
   },
   {
    "duration": 93,
    "start_time": "2023-07-05T13:33:53.133Z"
   },
   {
    "duration": 1168,
    "start_time": "2023-07-05T13:33:53.227Z"
   },
   {
    "duration": 18,
    "start_time": "2023-07-05T13:33:54.397Z"
   },
   {
    "duration": 15,
    "start_time": "2023-07-05T13:33:54.419Z"
   },
   {
    "duration": 24,
    "start_time": "2023-07-05T13:33:56.904Z"
   },
   {
    "duration": 13,
    "start_time": "2023-07-05T13:34:14.398Z"
   },
   {
    "duration": 7,
    "start_time": "2023-07-05T13:40:21.312Z"
   },
   {
    "duration": 8,
    "start_time": "2023-07-05T13:40:54.478Z"
   },
   {
    "duration": 9,
    "start_time": "2023-07-05T13:41:14.592Z"
   },
   {
    "duration": 8,
    "start_time": "2023-07-05T13:44:41.032Z"
   },
   {
    "duration": 4,
    "start_time": "2023-07-05T13:45:37.643Z"
   },
   {
    "duration": 42,
    "start_time": "2023-07-05T13:45:37.650Z"
   },
   {
    "duration": 791,
    "start_time": "2023-07-05T13:45:37.695Z"
   },
   {
    "duration": 7,
    "start_time": "2023-07-05T13:45:40.998Z"
   },
   {
    "duration": 11,
    "start_time": "2023-07-05T13:45:48.583Z"
   },
   {
    "duration": 9,
    "start_time": "2023-07-05T13:45:49.040Z"
   },
   {
    "duration": 7,
    "start_time": "2023-07-05T13:45:51.124Z"
   },
   {
    "duration": 5,
    "start_time": "2023-07-05T13:47:46.697Z"
   },
   {
    "duration": 4,
    "start_time": "2023-07-05T13:53:46.917Z"
   },
   {
    "duration": 3,
    "start_time": "2023-07-05T13:53:56.506Z"
   },
   {
    "duration": 56,
    "start_time": "2023-07-05T13:55:17.915Z"
   },
   {
    "duration": 58,
    "start_time": "2023-07-05T13:55:27.872Z"
   },
   {
    "duration": 5,
    "start_time": "2023-07-05T13:55:32.199Z"
   },
   {
    "duration": 137,
    "start_time": "2023-07-06T08:58:51.570Z"
   },
   {
    "duration": 1293,
    "start_time": "2023-07-06T08:58:57.534Z"
   },
   {
    "duration": 90,
    "start_time": "2023-07-06T08:58:58.833Z"
   },
   {
    "duration": 121,
    "start_time": "2023-07-06T08:58:58.925Z"
   },
   {
    "duration": 1263,
    "start_time": "2023-07-06T08:58:59.047Z"
   },
   {
    "duration": 17,
    "start_time": "2023-07-06T08:59:00.314Z"
   },
   {
    "duration": 75,
    "start_time": "2023-07-06T08:59:00.333Z"
   },
   {
    "duration": 58,
    "start_time": "2023-07-06T08:59:00.410Z"
   },
   {
    "duration": 34,
    "start_time": "2023-07-06T08:59:00.470Z"
   },
   {
    "duration": 135,
    "start_time": "2023-07-06T08:59:37.208Z"
   },
   {
    "duration": 15,
    "start_time": "2023-07-06T08:59:59.898Z"
   },
   {
    "duration": 12,
    "start_time": "2023-07-06T09:00:29.320Z"
   },
   {
    "duration": 5,
    "start_time": "2023-07-06T09:07:07.493Z"
   },
   {
    "duration": 4,
    "start_time": "2023-07-06T09:07:27.228Z"
   },
   {
    "duration": 5,
    "start_time": "2023-07-06T09:09:27.167Z"
   },
   {
    "duration": 6,
    "start_time": "2023-07-06T09:09:39.527Z"
   },
   {
    "duration": 5,
    "start_time": "2023-07-06T09:11:42.227Z"
   },
   {
    "duration": 5,
    "start_time": "2023-07-06T09:11:52.628Z"
   },
   {
    "duration": 6,
    "start_time": "2023-07-06T09:11:56.928Z"
   },
   {
    "duration": 11,
    "start_time": "2023-07-06T09:11:59.116Z"
   },
   {
    "duration": 11,
    "start_time": "2023-07-06T09:24:29.833Z"
   },
   {
    "duration": 122,
    "start_time": "2023-07-06T09:36:54.628Z"
   },
   {
    "duration": 23,
    "start_time": "2023-07-06T09:37:40.612Z"
   },
   {
    "duration": 4,
    "start_time": "2023-07-06T09:52:13.594Z"
   },
   {
    "duration": 12,
    "start_time": "2023-07-06T09:53:28.829Z"
   },
   {
    "duration": 11,
    "start_time": "2023-07-06T09:53:46.887Z"
   },
   {
    "duration": 15,
    "start_time": "2023-07-06T09:53:51.724Z"
   },
   {
    "duration": 9,
    "start_time": "2023-07-06T09:58:46.215Z"
   },
   {
    "duration": 12,
    "start_time": "2023-07-06T10:00:12.266Z"
   },
   {
    "duration": 11,
    "start_time": "2023-07-06T10:00:50.008Z"
   },
   {
    "duration": 13,
    "start_time": "2023-07-06T10:04:51.523Z"
   },
   {
    "duration": 22,
    "start_time": "2023-07-06T10:04:56.619Z"
   },
   {
    "duration": 5,
    "start_time": "2023-07-06T10:08:19.603Z"
   },
   {
    "duration": 11,
    "start_time": "2023-07-06T10:18:07.470Z"
   },
   {
    "duration": 33,
    "start_time": "2023-07-06T11:09:12.198Z"
   },
   {
    "duration": 107,
    "start_time": "2023-07-06T11:10:07.817Z"
   },
   {
    "duration": 2888,
    "start_time": "2023-07-06T11:58:52.432Z"
   },
   {
    "duration": 52,
    "start_time": "2023-07-06T11:58:55.322Z"
   },
   {
    "duration": 102,
    "start_time": "2023-07-06T11:58:55.375Z"
   },
   {
    "duration": 1211,
    "start_time": "2023-07-06T11:58:55.479Z"
   },
   {
    "duration": 8,
    "start_time": "2023-07-06T11:58:56.692Z"
   },
   {
    "duration": 16,
    "start_time": "2023-07-06T11:58:56.709Z"
   },
   {
    "duration": 6,
    "start_time": "2023-07-06T11:58:56.727Z"
   },
   {
    "duration": 7,
    "start_time": "2023-07-06T11:58:56.735Z"
   },
   {
    "duration": 13,
    "start_time": "2023-07-06T11:58:56.743Z"
   },
   {
    "duration": 10,
    "start_time": "2023-07-06T11:58:56.759Z"
   },
   {
    "duration": 39,
    "start_time": "2023-07-06T11:58:56.771Z"
   },
   {
    "duration": 210,
    "start_time": "2023-07-06T11:58:56.812Z"
   },
   {
    "duration": 34,
    "start_time": "2023-07-06T11:58:57.023Z"
   },
   {
    "duration": 60,
    "start_time": "2023-07-06T11:58:57.058Z"
   },
   {
    "duration": 91,
    "start_time": "2023-07-06T11:58:57.120Z"
   },
   {
    "duration": 114,
    "start_time": "2023-07-06T11:58:57.213Z"
   },
   {
    "duration": 7,
    "start_time": "2023-07-06T11:58:57.329Z"
   },
   {
    "duration": 14,
    "start_time": "2023-07-06T16:57:12.118Z"
   },
   {
    "duration": 8,
    "start_time": "2023-07-06T16:57:40.500Z"
   },
   {
    "duration": 18,
    "start_time": "2023-07-06T16:57:55.315Z"
   },
   {
    "duration": 1199,
    "start_time": "2023-07-06T16:59:32.228Z"
   },
   {
    "duration": 62,
    "start_time": "2023-07-06T16:59:33.429Z"
   },
   {
    "duration": 89,
    "start_time": "2023-07-06T16:59:33.493Z"
   },
   {
    "duration": 1019,
    "start_time": "2023-07-06T16:59:33.583Z"
   },
   {
    "duration": 17,
    "start_time": "2023-07-06T16:59:34.604Z"
   },
   {
    "duration": 11,
    "start_time": "2023-07-06T16:59:34.631Z"
   },
   {
    "duration": 6,
    "start_time": "2023-07-06T16:59:34.644Z"
   },
   {
    "duration": 7,
    "start_time": "2023-07-06T16:59:34.652Z"
   },
   {
    "duration": 7,
    "start_time": "2023-07-06T16:59:34.661Z"
   },
   {
    "duration": 5,
    "start_time": "2023-07-06T16:59:34.670Z"
   },
   {
    "duration": 41,
    "start_time": "2023-07-06T16:59:34.677Z"
   },
   {
    "duration": 27,
    "start_time": "2023-07-06T16:59:34.720Z"
   },
   {
    "duration": 80,
    "start_time": "2023-07-06T16:59:34.749Z"
   },
   {
    "duration": 99,
    "start_time": "2023-07-06T16:59:34.832Z"
   },
   {
    "duration": 23,
    "start_time": "2023-07-06T16:59:34.932Z"
   },
   {
    "duration": 19,
    "start_time": "2023-07-06T16:59:35.017Z"
   },
   {
    "duration": 83,
    "start_time": "2023-07-06T16:59:35.038Z"
   },
   {
    "duration": 11,
    "start_time": "2023-07-06T16:59:35.125Z"
   },
   {
    "duration": 104,
    "start_time": "2023-07-15T08:29:50.821Z"
   }
  ],
  "kernelspec": {
   "display_name": "Python 3 (ipykernel)",
   "language": "python",
   "name": "python3"
  },
  "language_info": {
   "codemirror_mode": {
    "name": "ipython",
    "version": 3
   },
   "file_extension": ".py",
   "mimetype": "text/x-python",
   "name": "python",
   "nbconvert_exporter": "python",
   "pygments_lexer": "ipython3",
   "version": "3.9.15"
  },
  "toc": {
   "base_numbering": 1,
   "nav_menu": {},
   "number_sections": true,
   "sideBar": true,
   "skip_h1_title": true,
   "title_cell": "Содержание",
   "title_sidebar": "Contents",
   "toc_cell": true,
   "toc_position": {
    "height": "calc(100% - 180px)",
    "left": "10px",
    "top": "150px",
    "width": "248.352px"
   },
   "toc_section_display": true,
   "toc_window_display": false
  }
 },
 "nbformat": 4,
 "nbformat_minor": 2
}
