{
 "cells": [
  {
   "cell_type": "markdown",
   "metadata": {
    "toc": true
   },
   "source": [
    "<h1>Содержание<span class=\"tocSkip\"></span></h1>\n",
    "<div class=\"toc\"><ul class=\"toc-item\"><li><span><a href=\"#Подготовка-данных\" data-toc-modified-id=\"Подготовка-данных-1\"><span class=\"toc-item-num\">1&nbsp;&nbsp;</span>Подготовка данных</a></span><ul class=\"toc-item\"><li><span><a href=\"#Обзор-данных\" data-toc-modified-id=\"Обзор-данных-1.1\"><span class=\"toc-item-num\">1.1&nbsp;&nbsp;</span>Обзор данных</a></span></li><li><span><a href=\"#Предобработка-данных\" data-toc-modified-id=\"Предобработка-данных-1.2\"><span class=\"toc-item-num\">1.2&nbsp;&nbsp;</span>Предобработка данных</a></span></li><li><span><a href=\"#Подготовка-признаков\" data-toc-modified-id=\"Подготовка-признаков-1.3\"><span class=\"toc-item-num\">1.3&nbsp;&nbsp;</span>Подготовка признаков</a></span></li></ul></li><li><span><a href=\"#Исследование-задачи\" data-toc-modified-id=\"Исследование-задачи-2\"><span class=\"toc-item-num\">2&nbsp;&nbsp;</span>Исследование задачи</a></span></li><li><span><a href=\"#Борьба-с-дисбалансом\" data-toc-modified-id=\"Борьба-с-дисбалансом-3\"><span class=\"toc-item-num\">3&nbsp;&nbsp;</span>Борьба с дисбалансом</a></span></li><li><span><a href=\"#Тестирование-модели\" data-toc-modified-id=\"Тестирование-модели-4\"><span class=\"toc-item-num\">4&nbsp;&nbsp;</span>Тестирование модели</a></span></li><li><span><a href=\"#Общий-вывод\" data-toc-modified-id=\"Общий-вывод-5\"><span class=\"toc-item-num\">5&nbsp;&nbsp;</span>Общий вывод</a></span></li></ul></div>"
   ]
  },
  {
   "cell_type": "markdown",
   "metadata": {},
   "source": [
    "# Отток клиентов"
   ]
  },
  {
   "cell_type": "markdown",
   "metadata": {},
   "source": [
    "Из «Бета-Банка» стали уходить клиенты. Каждый месяц. Немного, но заметно. Банковские маркетологи посчитали: сохранять текущих клиентов дешевле, чем привлекать новых.\n",
    "\n",
    "Нужно спрогнозировать, уйдёт клиент из банка в ближайшее время или нет. Нам предоставлены исторические данные о поведении клиентов и расторжении договоров с банком. \n",
    "\n",
    "Необходимо построить модель с предельно большим значением *F1*-меры. Чтобы сдать проект успешно, нужно довести метрику до 0.59. Важно не забыть проверить *F1*-меру на тестовой выборке самостоятельно.\n",
    "\n",
    "Дополнительно измеряйте *AUC-ROC*, сравнивайте её значение с *F1*-мерой.\n",
    "\n",
    "Источник данных: [https://www.kaggle.com/barelydedicated/bank-customer-churn-modeling](https://www.kaggle.com/barelydedicated/bank-customer-churn-modeling)"
   ]
  },
  {
   "cell_type": "markdown",
   "metadata": {},
   "source": [
    "**Описание данных**\n",
    "\n",
    "Признаки:\n",
    "- `RowNumber` — индекс строки в данных\n",
    "- `CustomerId` — уникальный идентификатор клиента\n",
    "- `Surname` — фамилия\n",
    "- `CreditScore` — кредитный рейтинг\n",
    "- `Geography` — страна проживания\n",
    "- `Gender` — пол\n",
    "- `Age` — возраст\n",
    "- `Tenure` — сколько лет человек является клиентом банка\n",
    "- `Balance` — баланс на счёте\n",
    "- `NumOfProducts` — количество продуктов банка, используемых клиентом\n",
    "- `HasCrCard` — наличие кредитной карты\n",
    "- `IsActiveMember` — активность клиента\n",
    "- `EstimatedSalary` — предполагаемая зарплата\n",
    "\n",
    "Целевой признак:\n",
    "- `Exited` — факт ухода клиента"
   ]
  },
  {
   "cell_type": "markdown",
   "metadata": {},
   "source": [
    "**Цель проекта**\n",
    "\n",
    "\n",
    "Решить задачу бинарной классификации. Построить модель машинного обучения, предсказывающую уйдет ли клиент из банка в ближайшее время или нет. Значение *F1*-меры должно быть не менее 0.59."
   ]
  },
  {
   "cell_type": "markdown",
   "metadata": {},
   "source": [
    "**Ход проекта**\n",
    "\n",
    "Данные о с информацией о клиентах получены из файла `Churn.csv`. О качестве данных ничего не известно. Поэтому перед проверкой зависимостей понадобится обзор данных. Затем, на этапе предобработки исправить самые критичные ошибки данных, если они есть. После нужно построить модель машинного обучения, выдующую необходимое значение *F1*-меры.\n",
    "\n",
    "Таким образом, решение пройдёт в пять этапов:\n",
    "\n",
    "1. Подготовка данных.\n",
    "2. Исследование задачи.\n",
    "3. Борьба с дисбалансом.\n",
    "4. Тестирование модели.\n",
    "5. Общий вывод."
   ]
  },
  {
   "cell_type": "markdown",
   "metadata": {},
   "source": [
    "## Подготовка данных"
   ]
  },
  {
   "cell_type": "markdown",
   "metadata": {},
   "source": [
    "### Обзор данных"
   ]
  },
  {
   "cell_type": "code",
   "execution_count": 1,
   "metadata": {},
   "outputs": [],
   "source": [
    "import warnings\n",
    "\n",
    "import pandas as pd\n",
    "import numpy as np\n",
    "import matplotlib.pyplot as plt\n",
    "import seaborn as sns\n",
    "\n",
    "from sklearn.preprocessing import StandardScaler\n",
    "from sklearn.preprocessing import OneHotEncoder\n",
    "from sklearn.model_selection import train_test_split\n",
    "from sklearn.linear_model import LogisticRegression\n",
    "from sklearn.ensemble import RandomForestClassifier\n",
    "from sklearn.metrics import accuracy_score, f1_score, roc_curve, roc_auc_score\n",
    "from sklearn.utils import shuffle"
   ]
  },
  {
   "cell_type": "code",
   "execution_count": 2,
   "metadata": {},
   "outputs": [],
   "source": [
    "warnings.filterwarnings('ignore')"
   ]
  },
  {
   "cell_type": "code",
   "execution_count": 3,
   "metadata": {},
   "outputs": [
    {
     "data": {
      "text/html": [
       "<div>\n",
       "<style scoped>\n",
       "    .dataframe tbody tr th:only-of-type {\n",
       "        vertical-align: middle;\n",
       "    }\n",
       "\n",
       "    .dataframe tbody tr th {\n",
       "        vertical-align: top;\n",
       "    }\n",
       "\n",
       "    .dataframe thead th {\n",
       "        text-align: right;\n",
       "    }\n",
       "</style>\n",
       "<table border=\"1\" class=\"dataframe\">\n",
       "  <thead>\n",
       "    <tr style=\"text-align: right;\">\n",
       "      <th></th>\n",
       "      <th>RowNumber</th>\n",
       "      <th>CustomerId</th>\n",
       "      <th>Surname</th>\n",
       "      <th>CreditScore</th>\n",
       "      <th>Geography</th>\n",
       "      <th>Gender</th>\n",
       "      <th>Age</th>\n",
       "      <th>Tenure</th>\n",
       "      <th>Balance</th>\n",
       "      <th>NumOfProducts</th>\n",
       "      <th>HasCrCard</th>\n",
       "      <th>IsActiveMember</th>\n",
       "      <th>EstimatedSalary</th>\n",
       "      <th>Exited</th>\n",
       "    </tr>\n",
       "  </thead>\n",
       "  <tbody>\n",
       "    <tr>\n",
       "      <th>0</th>\n",
       "      <td>1</td>\n",
       "      <td>15634602</td>\n",
       "      <td>Hargrave</td>\n",
       "      <td>619</td>\n",
       "      <td>France</td>\n",
       "      <td>Female</td>\n",
       "      <td>42</td>\n",
       "      <td>2.0</td>\n",
       "      <td>0.00</td>\n",
       "      <td>1</td>\n",
       "      <td>1</td>\n",
       "      <td>1</td>\n",
       "      <td>101348.88</td>\n",
       "      <td>1</td>\n",
       "    </tr>\n",
       "    <tr>\n",
       "      <th>1</th>\n",
       "      <td>2</td>\n",
       "      <td>15647311</td>\n",
       "      <td>Hill</td>\n",
       "      <td>608</td>\n",
       "      <td>Spain</td>\n",
       "      <td>Female</td>\n",
       "      <td>41</td>\n",
       "      <td>1.0</td>\n",
       "      <td>83807.86</td>\n",
       "      <td>1</td>\n",
       "      <td>0</td>\n",
       "      <td>1</td>\n",
       "      <td>112542.58</td>\n",
       "      <td>0</td>\n",
       "    </tr>\n",
       "    <tr>\n",
       "      <th>2</th>\n",
       "      <td>3</td>\n",
       "      <td>15619304</td>\n",
       "      <td>Onio</td>\n",
       "      <td>502</td>\n",
       "      <td>France</td>\n",
       "      <td>Female</td>\n",
       "      <td>42</td>\n",
       "      <td>8.0</td>\n",
       "      <td>159660.80</td>\n",
       "      <td>3</td>\n",
       "      <td>1</td>\n",
       "      <td>0</td>\n",
       "      <td>113931.57</td>\n",
       "      <td>1</td>\n",
       "    </tr>\n",
       "    <tr>\n",
       "      <th>3</th>\n",
       "      <td>4</td>\n",
       "      <td>15701354</td>\n",
       "      <td>Boni</td>\n",
       "      <td>699</td>\n",
       "      <td>France</td>\n",
       "      <td>Female</td>\n",
       "      <td>39</td>\n",
       "      <td>1.0</td>\n",
       "      <td>0.00</td>\n",
       "      <td>2</td>\n",
       "      <td>0</td>\n",
       "      <td>0</td>\n",
       "      <td>93826.63</td>\n",
       "      <td>0</td>\n",
       "    </tr>\n",
       "    <tr>\n",
       "      <th>4</th>\n",
       "      <td>5</td>\n",
       "      <td>15737888</td>\n",
       "      <td>Mitchell</td>\n",
       "      <td>850</td>\n",
       "      <td>Spain</td>\n",
       "      <td>Female</td>\n",
       "      <td>43</td>\n",
       "      <td>2.0</td>\n",
       "      <td>125510.82</td>\n",
       "      <td>1</td>\n",
       "      <td>1</td>\n",
       "      <td>1</td>\n",
       "      <td>79084.10</td>\n",
       "      <td>0</td>\n",
       "    </tr>\n",
       "    <tr>\n",
       "      <th>5</th>\n",
       "      <td>6</td>\n",
       "      <td>15574012</td>\n",
       "      <td>Chu</td>\n",
       "      <td>645</td>\n",
       "      <td>Spain</td>\n",
       "      <td>Male</td>\n",
       "      <td>44</td>\n",
       "      <td>8.0</td>\n",
       "      <td>113755.78</td>\n",
       "      <td>2</td>\n",
       "      <td>1</td>\n",
       "      <td>0</td>\n",
       "      <td>149756.71</td>\n",
       "      <td>1</td>\n",
       "    </tr>\n",
       "    <tr>\n",
       "      <th>6</th>\n",
       "      <td>7</td>\n",
       "      <td>15592531</td>\n",
       "      <td>Bartlett</td>\n",
       "      <td>822</td>\n",
       "      <td>France</td>\n",
       "      <td>Male</td>\n",
       "      <td>50</td>\n",
       "      <td>7.0</td>\n",
       "      <td>0.00</td>\n",
       "      <td>2</td>\n",
       "      <td>1</td>\n",
       "      <td>1</td>\n",
       "      <td>10062.80</td>\n",
       "      <td>0</td>\n",
       "    </tr>\n",
       "    <tr>\n",
       "      <th>7</th>\n",
       "      <td>8</td>\n",
       "      <td>15656148</td>\n",
       "      <td>Obinna</td>\n",
       "      <td>376</td>\n",
       "      <td>Germany</td>\n",
       "      <td>Female</td>\n",
       "      <td>29</td>\n",
       "      <td>4.0</td>\n",
       "      <td>115046.74</td>\n",
       "      <td>4</td>\n",
       "      <td>1</td>\n",
       "      <td>0</td>\n",
       "      <td>119346.88</td>\n",
       "      <td>1</td>\n",
       "    </tr>\n",
       "    <tr>\n",
       "      <th>8</th>\n",
       "      <td>9</td>\n",
       "      <td>15792365</td>\n",
       "      <td>He</td>\n",
       "      <td>501</td>\n",
       "      <td>France</td>\n",
       "      <td>Male</td>\n",
       "      <td>44</td>\n",
       "      <td>4.0</td>\n",
       "      <td>142051.07</td>\n",
       "      <td>2</td>\n",
       "      <td>0</td>\n",
       "      <td>1</td>\n",
       "      <td>74940.50</td>\n",
       "      <td>0</td>\n",
       "    </tr>\n",
       "    <tr>\n",
       "      <th>9</th>\n",
       "      <td>10</td>\n",
       "      <td>15592389</td>\n",
       "      <td>H?</td>\n",
       "      <td>684</td>\n",
       "      <td>France</td>\n",
       "      <td>Male</td>\n",
       "      <td>27</td>\n",
       "      <td>2.0</td>\n",
       "      <td>134603.88</td>\n",
       "      <td>1</td>\n",
       "      <td>1</td>\n",
       "      <td>1</td>\n",
       "      <td>71725.73</td>\n",
       "      <td>0</td>\n",
       "    </tr>\n",
       "  </tbody>\n",
       "</table>\n",
       "</div>"
      ],
      "text/plain": [
       "   RowNumber  CustomerId   Surname  CreditScore Geography  Gender  Age  \\\n",
       "0          1    15634602  Hargrave          619    France  Female   42   \n",
       "1          2    15647311      Hill          608     Spain  Female   41   \n",
       "2          3    15619304      Onio          502    France  Female   42   \n",
       "3          4    15701354      Boni          699    France  Female   39   \n",
       "4          5    15737888  Mitchell          850     Spain  Female   43   \n",
       "5          6    15574012       Chu          645     Spain    Male   44   \n",
       "6          7    15592531  Bartlett          822    France    Male   50   \n",
       "7          8    15656148    Obinna          376   Germany  Female   29   \n",
       "8          9    15792365        He          501    France    Male   44   \n",
       "9         10    15592389        H?          684    France    Male   27   \n",
       "\n",
       "   Tenure    Balance  NumOfProducts  HasCrCard  IsActiveMember  \\\n",
       "0     2.0       0.00              1          1               1   \n",
       "1     1.0   83807.86              1          0               1   \n",
       "2     8.0  159660.80              3          1               0   \n",
       "3     1.0       0.00              2          0               0   \n",
       "4     2.0  125510.82              1          1               1   \n",
       "5     8.0  113755.78              2          1               0   \n",
       "6     7.0       0.00              2          1               1   \n",
       "7     4.0  115046.74              4          1               0   \n",
       "8     4.0  142051.07              2          0               1   \n",
       "9     2.0  134603.88              1          1               1   \n",
       "\n",
       "   EstimatedSalary  Exited  \n",
       "0        101348.88       1  \n",
       "1        112542.58       0  \n",
       "2        113931.57       1  \n",
       "3         93826.63       0  \n",
       "4         79084.10       0  \n",
       "5        149756.71       1  \n",
       "6         10062.80       0  \n",
       "7        119346.88       1  \n",
       "8         74940.50       0  \n",
       "9         71725.73       0  "
      ]
     },
     "execution_count": 3,
     "metadata": {},
     "output_type": "execute_result"
    }
   ],
   "source": [
    "data = pd.read_csv('Churn.csv')\n",
    "data.head(10)"
   ]
  },
  {
   "cell_type": "code",
   "execution_count": 4,
   "metadata": {},
   "outputs": [
    {
     "name": "stdout",
     "output_type": "stream",
     "text": [
      "<class 'pandas.core.frame.DataFrame'>\n",
      "RangeIndex: 10000 entries, 0 to 9999\n",
      "Data columns (total 14 columns):\n",
      " #   Column           Non-Null Count  Dtype  \n",
      "---  ------           --------------  -----  \n",
      " 0   RowNumber        10000 non-null  int64  \n",
      " 1   CustomerId       10000 non-null  int64  \n",
      " 2   Surname          10000 non-null  object \n",
      " 3   CreditScore      10000 non-null  int64  \n",
      " 4   Geography        10000 non-null  object \n",
      " 5   Gender           10000 non-null  object \n",
      " 6   Age              10000 non-null  int64  \n",
      " 7   Tenure           9091 non-null   float64\n",
      " 8   Balance          10000 non-null  float64\n",
      " 9   NumOfProducts    10000 non-null  int64  \n",
      " 10  HasCrCard        10000 non-null  int64  \n",
      " 11  IsActiveMember   10000 non-null  int64  \n",
      " 12  EstimatedSalary  10000 non-null  float64\n",
      " 13  Exited           10000 non-null  int64  \n",
      "dtypes: float64(3), int64(8), object(3)\n",
      "memory usage: 1.1+ MB\n"
     ]
    }
   ],
   "source": [
    "data.info()"
   ]
  },
  {
   "cell_type": "code",
   "execution_count": 5,
   "metadata": {},
   "outputs": [
    {
     "data": {
      "image/png": "[encoded data removed]",
      "text/plain": [
       "<Figure size 1080x1080 with 12 Axes>"
      ]
     },
     "metadata": {
      "needs_background": "light"
     },
     "output_type": "display_data"
    }
   ],
   "source": [
    "data.hist(figsize=(15, 15));"
   ]
  },
  {
   "cell_type": "code",
   "execution_count": 6,
   "metadata": {},
   "outputs": [
    {
     "data": {
      "text/html": [
       "<div>\n",
       "<style scoped>\n",
       "    .dataframe tbody tr th:only-of-type {\n",
       "        vertical-align: middle;\n",
       "    }\n",
       "\n",
       "    .dataframe tbody tr th {\n",
       "        vertical-align: top;\n",
       "    }\n",
       "\n",
       "    .dataframe thead th {\n",
       "        text-align: right;\n",
       "    }\n",
       "</style>\n",
       "<table border=\"1\" class=\"dataframe\">\n",
       "  <thead>\n",
       "    <tr style=\"text-align: right;\">\n",
       "      <th></th>\n",
       "      <th>RowNumber</th>\n",
       "      <th>CustomerId</th>\n",
       "      <th>CreditScore</th>\n",
       "      <th>Age</th>\n",
       "      <th>Tenure</th>\n",
       "      <th>Balance</th>\n",
       "      <th>NumOfProducts</th>\n",
       "      <th>HasCrCard</th>\n",
       "      <th>IsActiveMember</th>\n",
       "      <th>EstimatedSalary</th>\n",
       "      <th>Exited</th>\n",
       "    </tr>\n",
       "  </thead>\n",
       "  <tbody>\n",
       "    <tr>\n",
       "      <th>count</th>\n",
       "      <td>10000.00000</td>\n",
       "      <td>1.000000e+04</td>\n",
       "      <td>10000.000000</td>\n",
       "      <td>10000.000000</td>\n",
       "      <td>9091.000000</td>\n",
       "      <td>10000.000000</td>\n",
       "      <td>10000.000000</td>\n",
       "      <td>10000.00000</td>\n",
       "      <td>10000.000000</td>\n",
       "      <td>10000.000000</td>\n",
       "      <td>10000.000000</td>\n",
       "    </tr>\n",
       "    <tr>\n",
       "      <th>mean</th>\n",
       "      <td>5000.50000</td>\n",
       "      <td>1.569094e+07</td>\n",
       "      <td>650.528800</td>\n",
       "      <td>38.921800</td>\n",
       "      <td>4.997690</td>\n",
       "      <td>76485.889288</td>\n",
       "      <td>1.530200</td>\n",
       "      <td>0.70550</td>\n",
       "      <td>0.515100</td>\n",
       "      <td>100090.239881</td>\n",
       "      <td>0.203700</td>\n",
       "    </tr>\n",
       "    <tr>\n",
       "      <th>std</th>\n",
       "      <td>2886.89568</td>\n",
       "      <td>7.193619e+04</td>\n",
       "      <td>96.653299</td>\n",
       "      <td>10.487806</td>\n",
       "      <td>2.894723</td>\n",
       "      <td>62397.405202</td>\n",
       "      <td>0.581654</td>\n",
       "      <td>0.45584</td>\n",
       "      <td>0.499797</td>\n",
       "      <td>57510.492818</td>\n",
       "      <td>0.402769</td>\n",
       "    </tr>\n",
       "    <tr>\n",
       "      <th>min</th>\n",
       "      <td>1.00000</td>\n",
       "      <td>1.556570e+07</td>\n",
       "      <td>350.000000</td>\n",
       "      <td>18.000000</td>\n",
       "      <td>0.000000</td>\n",
       "      <td>0.000000</td>\n",
       "      <td>1.000000</td>\n",
       "      <td>0.00000</td>\n",
       "      <td>0.000000</td>\n",
       "      <td>11.580000</td>\n",
       "      <td>0.000000</td>\n",
       "    </tr>\n",
       "    <tr>\n",
       "      <th>25%</th>\n",
       "      <td>2500.75000</td>\n",
       "      <td>1.562853e+07</td>\n",
       "      <td>584.000000</td>\n",
       "      <td>32.000000</td>\n",
       "      <td>2.000000</td>\n",
       "      <td>0.000000</td>\n",
       "      <td>1.000000</td>\n",
       "      <td>0.00000</td>\n",
       "      <td>0.000000</td>\n",
       "      <td>51002.110000</td>\n",
       "      <td>0.000000</td>\n",
       "    </tr>\n",
       "    <tr>\n",
       "      <th>50%</th>\n",
       "      <td>5000.50000</td>\n",
       "      <td>1.569074e+07</td>\n",
       "      <td>652.000000</td>\n",
       "      <td>37.000000</td>\n",
       "      <td>5.000000</td>\n",
       "      <td>97198.540000</td>\n",
       "      <td>1.000000</td>\n",
       "      <td>1.00000</td>\n",
       "      <td>1.000000</td>\n",
       "      <td>100193.915000</td>\n",
       "      <td>0.000000</td>\n",
       "    </tr>\n",
       "    <tr>\n",
       "      <th>75%</th>\n",
       "      <td>7500.25000</td>\n",
       "      <td>1.575323e+07</td>\n",
       "      <td>718.000000</td>\n",
       "      <td>44.000000</td>\n",
       "      <td>7.000000</td>\n",
       "      <td>127644.240000</td>\n",
       "      <td>2.000000</td>\n",
       "      <td>1.00000</td>\n",
       "      <td>1.000000</td>\n",
       "      <td>149388.247500</td>\n",
       "      <td>0.000000</td>\n",
       "    </tr>\n",
       "    <tr>\n",
       "      <th>max</th>\n",
       "      <td>10000.00000</td>\n",
       "      <td>1.581569e+07</td>\n",
       "      <td>850.000000</td>\n",
       "      <td>92.000000</td>\n",
       "      <td>10.000000</td>\n",
       "      <td>250898.090000</td>\n",
       "      <td>4.000000</td>\n",
       "      <td>1.00000</td>\n",
       "      <td>1.000000</td>\n",
       "      <td>199992.480000</td>\n",
       "      <td>1.000000</td>\n",
       "    </tr>\n",
       "  </tbody>\n",
       "</table>\n",
       "</div>"
      ],
      "text/plain": [
       "         RowNumber    CustomerId   CreditScore           Age       Tenure  \\\n",
       "count  10000.00000  1.000000e+04  10000.000000  10000.000000  9091.000000   \n",
       "mean    5000.50000  1.569094e+07    650.528800     38.921800     4.997690   \n",
       "std     2886.89568  7.193619e+04     96.653299     10.487806     2.894723   \n",
       "min        1.00000  1.556570e+07    350.000000     18.000000     0.000000   \n",
       "25%     2500.75000  1.562853e+07    584.000000     32.000000     2.000000   \n",
       "50%     5000.50000  1.569074e+07    652.000000     37.000000     5.000000   \n",
       "75%     7500.25000  1.575323e+07    718.000000     44.000000     7.000000   \n",
       "max    10000.00000  1.581569e+07    850.000000     92.000000    10.000000   \n",
       "\n",
       "             Balance  NumOfProducts    HasCrCard  IsActiveMember  \\\n",
       "count   10000.000000   10000.000000  10000.00000    10000.000000   \n",
       "mean    76485.889288       1.530200      0.70550        0.515100   \n",
       "std     62397.405202       0.581654      0.45584        0.499797   \n",
       "min         0.000000       1.000000      0.00000        0.000000   \n",
       "25%         0.000000       1.000000      0.00000        0.000000   \n",
       "50%     97198.540000       1.000000      1.00000        1.000000   \n",
       "75%    127644.240000       2.000000      1.00000        1.000000   \n",
       "max    250898.090000       4.000000      1.00000        1.000000   \n",
       "\n",
       "       EstimatedSalary        Exited  \n",
       "count     10000.000000  10000.000000  \n",
       "mean     100090.239881      0.203700  \n",
       "std       57510.492818      0.402769  \n",
       "min          11.580000      0.000000  \n",
       "25%       51002.110000      0.000000  \n",
       "50%      100193.915000      0.000000  \n",
       "75%      149388.247500      0.000000  \n",
       "max      199992.480000      1.000000  "
      ]
     },
     "execution_count": 6,
     "metadata": {},
     "output_type": "execute_result"
    }
   ],
   "source": [
    "data.describe()"
   ]
  },
  {
   "cell_type": "code",
   "execution_count": 7,
   "metadata": {
    "scrolled": true
   },
   "outputs": [
    {
     "data": {
      "text/html": [
       "<div>\n",
       "<style scoped>\n",
       "    .dataframe tbody tr th:only-of-type {\n",
       "        vertical-align: middle;\n",
       "    }\n",
       "\n",
       "    .dataframe tbody tr th {\n",
       "        vertical-align: top;\n",
       "    }\n",
       "\n",
       "    .dataframe thead th {\n",
       "        text-align: right;\n",
       "    }\n",
       "</style>\n",
       "<table border=\"1\" class=\"dataframe\">\n",
       "  <thead>\n",
       "    <tr style=\"text-align: right;\">\n",
       "      <th></th>\n",
       "      <th>Surname</th>\n",
       "      <th>Geography</th>\n",
       "      <th>Gender</th>\n",
       "    </tr>\n",
       "  </thead>\n",
       "  <tbody>\n",
       "    <tr>\n",
       "      <th>count</th>\n",
       "      <td>10000</td>\n",
       "      <td>10000</td>\n",
       "      <td>10000</td>\n",
       "    </tr>\n",
       "    <tr>\n",
       "      <th>unique</th>\n",
       "      <td>2932</td>\n",
       "      <td>3</td>\n",
       "      <td>2</td>\n",
       "    </tr>\n",
       "    <tr>\n",
       "      <th>top</th>\n",
       "      <td>Smith</td>\n",
       "      <td>France</td>\n",
       "      <td>Male</td>\n",
       "    </tr>\n",
       "    <tr>\n",
       "      <th>freq</th>\n",
       "      <td>32</td>\n",
       "      <td>5014</td>\n",
       "      <td>5457</td>\n",
       "    </tr>\n",
       "  </tbody>\n",
       "</table>\n",
       "</div>"
      ],
      "text/plain": [
       "       Surname Geography Gender\n",
       "count    10000     10000  10000\n",
       "unique    2932         3      2\n",
       "top      Smith    France   Male\n",
       "freq        32      5014   5457"
      ]
     },
     "execution_count": 7,
     "metadata": {},
     "output_type": "execute_result"
    }
   ],
   "source": [
    "data.describe(include=['object'])"
   ]
  },
  {
   "cell_type": "code",
   "execution_count": 8,
   "metadata": {},
   "outputs": [
    {
     "data": {
      "text/plain": [
       "0"
      ]
     },
     "execution_count": 8,
     "metadata": {},
     "output_type": "execute_result"
    }
   ],
   "source": [
    "data.duplicated().sum()"
   ]
  },
  {
   "cell_type": "markdown",
   "metadata": {},
   "source": [
    "В столбцах используются корректные типы данных, дубликатов нет, однако в одном из столбцов есть пропущенные данные. Прежде, чем приступать к построению модели, необходима предварительная обработка данных."
   ]
  },
  {
   "cell_type": "markdown",
   "metadata": {},
   "source": [
    "### Предобработка данных"
   ]
  },
  {
   "cell_type": "markdown",
   "metadata": {},
   "source": [
    "Для начала переведем названия стобцов в *snake_case*, поскольку в Python принято использовать данный формат."
   ]
  },
  {
   "cell_type": "code",
   "execution_count": 9,
   "metadata": {},
   "outputs": [
    {
     "data": {
      "text/plain": [
       "Index(['row_number', 'customer_id', 'surname', 'credit_score', 'geography',\n",
       "       'gender', 'age', 'tenure', 'balance', 'num_of_products', 'has_card',\n",
       "       'is_active', 'estimated_salary', 'exited'],\n",
       "      dtype='object')"
      ]
     },
     "execution_count": 9,
     "metadata": {},
     "output_type": "execute_result"
    }
   ],
   "source": [
    "data.columns = ['row_number', 'customer_id', 'surname', 'credit_score', 'geography',\n",
    "                'gender', 'age', 'tenure', 'balance', 'num_of_products', 'has_card',\n",
    "                'is_active', 'estimated_salary', 'exited']\n",
    "data.columns"
   ]
  },
  {
   "cell_type": "markdown",
   "metadata": {},
   "source": [
    "Посомтрим на пропуски в `tenure`."
   ]
  },
  {
   "cell_type": "code",
   "execution_count": 10,
   "metadata": {},
   "outputs": [
    {
     "data": {
      "text/html": [
       "<div>\n",
       "<style scoped>\n",
       "    .dataframe tbody tr th:only-of-type {\n",
       "        vertical-align: middle;\n",
       "    }\n",
       "\n",
       "    .dataframe tbody tr th {\n",
       "        vertical-align: top;\n",
       "    }\n",
       "\n",
       "    .dataframe thead th {\n",
       "        text-align: right;\n",
       "    }\n",
       "</style>\n",
       "<table border=\"1\" class=\"dataframe\">\n",
       "  <thead>\n",
       "    <tr style=\"text-align: right;\">\n",
       "      <th></th>\n",
       "      <th>row_number</th>\n",
       "      <th>customer_id</th>\n",
       "      <th>surname</th>\n",
       "      <th>credit_score</th>\n",
       "      <th>geography</th>\n",
       "      <th>gender</th>\n",
       "      <th>age</th>\n",
       "      <th>tenure</th>\n",
       "      <th>balance</th>\n",
       "      <th>num_of_products</th>\n",
       "      <th>has_card</th>\n",
       "      <th>is_active</th>\n",
       "      <th>estimated_salary</th>\n",
       "      <th>exited</th>\n",
       "    </tr>\n",
       "  </thead>\n",
       "  <tbody>\n",
       "    <tr>\n",
       "      <th>30</th>\n",
       "      <td>31</td>\n",
       "      <td>15589475</td>\n",
       "      <td>Azikiwe</td>\n",
       "      <td>591</td>\n",
       "      <td>Spain</td>\n",
       "      <td>Female</td>\n",
       "      <td>39</td>\n",
       "      <td>NaN</td>\n",
       "      <td>0.00</td>\n",
       "      <td>3</td>\n",
       "      <td>1</td>\n",
       "      <td>0</td>\n",
       "      <td>140469.38</td>\n",
       "      <td>1</td>\n",
       "    </tr>\n",
       "    <tr>\n",
       "      <th>48</th>\n",
       "      <td>49</td>\n",
       "      <td>15766205</td>\n",
       "      <td>Yin</td>\n",
       "      <td>550</td>\n",
       "      <td>Germany</td>\n",
       "      <td>Male</td>\n",
       "      <td>38</td>\n",
       "      <td>NaN</td>\n",
       "      <td>103391.38</td>\n",
       "      <td>1</td>\n",
       "      <td>0</td>\n",
       "      <td>1</td>\n",
       "      <td>90878.13</td>\n",
       "      <td>0</td>\n",
       "    </tr>\n",
       "    <tr>\n",
       "      <th>51</th>\n",
       "      <td>52</td>\n",
       "      <td>15768193</td>\n",
       "      <td>Trevisani</td>\n",
       "      <td>585</td>\n",
       "      <td>Germany</td>\n",
       "      <td>Male</td>\n",
       "      <td>36</td>\n",
       "      <td>NaN</td>\n",
       "      <td>146050.97</td>\n",
       "      <td>2</td>\n",
       "      <td>0</td>\n",
       "      <td>0</td>\n",
       "      <td>86424.57</td>\n",
       "      <td>0</td>\n",
       "    </tr>\n",
       "    <tr>\n",
       "      <th>53</th>\n",
       "      <td>54</td>\n",
       "      <td>15702298</td>\n",
       "      <td>Parkhill</td>\n",
       "      <td>655</td>\n",
       "      <td>Germany</td>\n",
       "      <td>Male</td>\n",
       "      <td>41</td>\n",
       "      <td>NaN</td>\n",
       "      <td>125561.97</td>\n",
       "      <td>1</td>\n",
       "      <td>0</td>\n",
       "      <td>0</td>\n",
       "      <td>164040.94</td>\n",
       "      <td>1</td>\n",
       "    </tr>\n",
       "    <tr>\n",
       "      <th>60</th>\n",
       "      <td>61</td>\n",
       "      <td>15651280</td>\n",
       "      <td>Hunter</td>\n",
       "      <td>742</td>\n",
       "      <td>Germany</td>\n",
       "      <td>Male</td>\n",
       "      <td>35</td>\n",
       "      <td>NaN</td>\n",
       "      <td>136857.00</td>\n",
       "      <td>1</td>\n",
       "      <td>0</td>\n",
       "      <td>0</td>\n",
       "      <td>84509.57</td>\n",
       "      <td>0</td>\n",
       "    </tr>\n",
       "    <tr>\n",
       "      <th>...</th>\n",
       "      <td>...</td>\n",
       "      <td>...</td>\n",
       "      <td>...</td>\n",
       "      <td>...</td>\n",
       "      <td>...</td>\n",
       "      <td>...</td>\n",
       "      <td>...</td>\n",
       "      <td>...</td>\n",
       "      <td>...</td>\n",
       "      <td>...</td>\n",
       "      <td>...</td>\n",
       "      <td>...</td>\n",
       "      <td>...</td>\n",
       "      <td>...</td>\n",
       "    </tr>\n",
       "    <tr>\n",
       "      <th>9944</th>\n",
       "      <td>9945</td>\n",
       "      <td>15703923</td>\n",
       "      <td>Cameron</td>\n",
       "      <td>744</td>\n",
       "      <td>Germany</td>\n",
       "      <td>Male</td>\n",
       "      <td>41</td>\n",
       "      <td>NaN</td>\n",
       "      <td>190409.34</td>\n",
       "      <td>2</td>\n",
       "      <td>1</td>\n",
       "      <td>1</td>\n",
       "      <td>138361.48</td>\n",
       "      <td>0</td>\n",
       "    </tr>\n",
       "    <tr>\n",
       "      <th>9956</th>\n",
       "      <td>9957</td>\n",
       "      <td>15707861</td>\n",
       "      <td>Nucci</td>\n",
       "      <td>520</td>\n",
       "      <td>France</td>\n",
       "      <td>Female</td>\n",
       "      <td>46</td>\n",
       "      <td>NaN</td>\n",
       "      <td>85216.61</td>\n",
       "      <td>1</td>\n",
       "      <td>1</td>\n",
       "      <td>0</td>\n",
       "      <td>117369.52</td>\n",
       "      <td>1</td>\n",
       "    </tr>\n",
       "    <tr>\n",
       "      <th>9964</th>\n",
       "      <td>9965</td>\n",
       "      <td>15642785</td>\n",
       "      <td>Douglas</td>\n",
       "      <td>479</td>\n",
       "      <td>France</td>\n",
       "      <td>Male</td>\n",
       "      <td>34</td>\n",
       "      <td>NaN</td>\n",
       "      <td>117593.48</td>\n",
       "      <td>2</td>\n",
       "      <td>0</td>\n",
       "      <td>0</td>\n",
       "      <td>113308.29</td>\n",
       "      <td>0</td>\n",
       "    </tr>\n",
       "    <tr>\n",
       "      <th>9985</th>\n",
       "      <td>9986</td>\n",
       "      <td>15586914</td>\n",
       "      <td>Nepean</td>\n",
       "      <td>659</td>\n",
       "      <td>France</td>\n",
       "      <td>Male</td>\n",
       "      <td>36</td>\n",
       "      <td>NaN</td>\n",
       "      <td>123841.49</td>\n",
       "      <td>2</td>\n",
       "      <td>1</td>\n",
       "      <td>0</td>\n",
       "      <td>96833.00</td>\n",
       "      <td>0</td>\n",
       "    </tr>\n",
       "    <tr>\n",
       "      <th>9999</th>\n",
       "      <td>10000</td>\n",
       "      <td>15628319</td>\n",
       "      <td>Walker</td>\n",
       "      <td>792</td>\n",
       "      <td>France</td>\n",
       "      <td>Female</td>\n",
       "      <td>28</td>\n",
       "      <td>NaN</td>\n",
       "      <td>130142.79</td>\n",
       "      <td>1</td>\n",
       "      <td>1</td>\n",
       "      <td>0</td>\n",
       "      <td>38190.78</td>\n",
       "      <td>0</td>\n",
       "    </tr>\n",
       "  </tbody>\n",
       "</table>\n",
       "<p>909 rows × 14 columns</p>\n",
       "</div>"
      ],
      "text/plain": [
       "      row_number  customer_id    surname  credit_score geography  gender  age  \\\n",
       "30            31     15589475    Azikiwe           591     Spain  Female   39   \n",
       "48            49     15766205        Yin           550   Germany    Male   38   \n",
       "51            52     15768193  Trevisani           585   Germany    Male   36   \n",
       "53            54     15702298   Parkhill           655   Germany    Male   41   \n",
       "60            61     15651280     Hunter           742   Germany    Male   35   \n",
       "...          ...          ...        ...           ...       ...     ...  ...   \n",
       "9944        9945     15703923    Cameron           744   Germany    Male   41   \n",
       "9956        9957     15707861      Nucci           520    France  Female   46   \n",
       "9964        9965     15642785    Douglas           479    France    Male   34   \n",
       "9985        9986     15586914     Nepean           659    France    Male   36   \n",
       "9999       10000     15628319     Walker           792    France  Female   28   \n",
       "\n",
       "      tenure    balance  num_of_products  has_card  is_active  \\\n",
       "30       NaN       0.00                3         1          0   \n",
       "48       NaN  103391.38                1         0          1   \n",
       "51       NaN  146050.97                2         0          0   \n",
       "53       NaN  125561.97                1         0          0   \n",
       "60       NaN  136857.00                1         0          0   \n",
       "...      ...        ...              ...       ...        ...   \n",
       "9944     NaN  190409.34                2         1          1   \n",
       "9956     NaN   85216.61                1         1          0   \n",
       "9964     NaN  117593.48                2         0          0   \n",
       "9985     NaN  123841.49                2         1          0   \n",
       "9999     NaN  130142.79                1         1          0   \n",
       "\n",
       "      estimated_salary  exited  \n",
       "30           140469.38       1  \n",
       "48            90878.13       0  \n",
       "51            86424.57       0  \n",
       "53           164040.94       1  \n",
       "60            84509.57       0  \n",
       "...                ...     ...  \n",
       "9944         138361.48       0  \n",
       "9956         117369.52       1  \n",
       "9964         113308.29       0  \n",
       "9985          96833.00       0  \n",
       "9999          38190.78       0  \n",
       "\n",
       "[909 rows x 14 columns]"
      ]
     },
     "execution_count": 10,
     "metadata": {},
     "output_type": "execute_result"
    }
   ],
   "source": [
    "data[data['tenure'].isna()]"
   ]
  },
  {
   "cell_type": "markdown",
   "metadata": {},
   "source": [
    "В данном столбце **909** пропусков, это слишком много, чтобы их просто исключить из выборки. Поскольку на основе других столбцов мы не можем заполнить данные пропуски, то заполним их медианным значением."
   ]
  },
  {
   "cell_type": "code",
   "execution_count": 11,
   "metadata": {},
   "outputs": [
    {
     "data": {
      "text/plain": [
       "0"
      ]
     },
     "execution_count": 11,
     "metadata": {},
     "output_type": "execute_result"
    }
   ],
   "source": [
    "data.loc[data['tenure'].isna(), 'tenure'] = data['tenure'].median()\n",
    "len(data[data['tenure'].isna()])"
   ]
  },
  {
   "cell_type": "markdown",
   "metadata": {},
   "source": [
    "Проблемы в данных устранены. Далее нужно подготовить признаки, чтобы алгоритмы машинного обучния смогли их корректно обработать."
   ]
  },
  {
   "cell_type": "markdown",
   "metadata": {},
   "source": [
    "### Подготовка признаков"
   ]
  },
  {
   "cell_type": "markdown",
   "metadata": {},
   "source": [
    "Для начала исключим из датафрейма `row_number` и `surname`, чтобы они не мешали модели обучаться. Это просто изыбыточные идентификационные данные, которые не могут влиять на факт ухода клиента."
   ]
  },
  {
   "cell_type": "code",
   "execution_count": 12,
   "metadata": {},
   "outputs": [
    {
     "data": {
      "text/plain": [
       "Index(['customer_id', 'credit_score', 'geography', 'gender', 'age', 'tenure',\n",
       "       'balance', 'num_of_products', 'has_card', 'is_active',\n",
       "       'estimated_salary', 'exited'],\n",
       "      dtype='object')"
      ]
     },
     "execution_count": 12,
     "metadata": {},
     "output_type": "execute_result"
    }
   ],
   "source": [
    "data = data.drop(['row_number', 'surname'], axis=1)\n",
    "data.columns"
   ]
  },
  {
   "cell_type": "markdown",
   "metadata": {},
   "source": [
    "Так же из таблицы можно удалить `customer_id`, если заменить индексы строк этим параметром. Проверим, этот идентификатор на уникальность."
   ]
  },
  {
   "cell_type": "code",
   "execution_count": 13,
   "metadata": {},
   "outputs": [
    {
     "data": {
      "text/plain": [
       "0"
      ]
     },
     "execution_count": 13,
     "metadata": {},
     "output_type": "execute_result"
    }
   ],
   "source": [
    "len(data[data.duplicated(subset='customer_id', keep=False)])"
   ]
  },
  {
   "cell_type": "markdown",
   "metadata": {},
   "source": [
    "В датафрейме нет дублирующих идентификаторов, заманим индексы таблицы на них."
   ]
  },
  {
   "cell_type": "code",
   "execution_count": 14,
   "metadata": {},
   "outputs": [
    {
     "data": {
      "text/html": [
       "<div>\n",
       "<style scoped>\n",
       "    .dataframe tbody tr th:only-of-type {\n",
       "        vertical-align: middle;\n",
       "    }\n",
       "\n",
       "    .dataframe tbody tr th {\n",
       "        vertical-align: top;\n",
       "    }\n",
       "\n",
       "    .dataframe thead th {\n",
       "        text-align: right;\n",
       "    }\n",
       "</style>\n",
       "<table border=\"1\" class=\"dataframe\">\n",
       "  <thead>\n",
       "    <tr style=\"text-align: right;\">\n",
       "      <th></th>\n",
       "      <th>credit_score</th>\n",
       "      <th>geography</th>\n",
       "      <th>gender</th>\n",
       "      <th>age</th>\n",
       "      <th>tenure</th>\n",
       "      <th>balance</th>\n",
       "      <th>num_of_products</th>\n",
       "      <th>has_card</th>\n",
       "      <th>is_active</th>\n",
       "      <th>estimated_salary</th>\n",
       "      <th>exited</th>\n",
       "    </tr>\n",
       "    <tr>\n",
       "      <th>customer_id</th>\n",
       "      <th></th>\n",
       "      <th></th>\n",
       "      <th></th>\n",
       "      <th></th>\n",
       "      <th></th>\n",
       "      <th></th>\n",
       "      <th></th>\n",
       "      <th></th>\n",
       "      <th></th>\n",
       "      <th></th>\n",
       "      <th></th>\n",
       "    </tr>\n",
       "  </thead>\n",
       "  <tbody>\n",
       "    <tr>\n",
       "      <th>15634602</th>\n",
       "      <td>619</td>\n",
       "      <td>France</td>\n",
       "      <td>Female</td>\n",
       "      <td>42</td>\n",
       "      <td>2.0</td>\n",
       "      <td>0.00</td>\n",
       "      <td>1</td>\n",
       "      <td>1</td>\n",
       "      <td>1</td>\n",
       "      <td>101348.88</td>\n",
       "      <td>1</td>\n",
       "    </tr>\n",
       "    <tr>\n",
       "      <th>15647311</th>\n",
       "      <td>608</td>\n",
       "      <td>Spain</td>\n",
       "      <td>Female</td>\n",
       "      <td>41</td>\n",
       "      <td>1.0</td>\n",
       "      <td>83807.86</td>\n",
       "      <td>1</td>\n",
       "      <td>0</td>\n",
       "      <td>1</td>\n",
       "      <td>112542.58</td>\n",
       "      <td>0</td>\n",
       "    </tr>\n",
       "    <tr>\n",
       "      <th>15619304</th>\n",
       "      <td>502</td>\n",
       "      <td>France</td>\n",
       "      <td>Female</td>\n",
       "      <td>42</td>\n",
       "      <td>8.0</td>\n",
       "      <td>159660.80</td>\n",
       "      <td>3</td>\n",
       "      <td>1</td>\n",
       "      <td>0</td>\n",
       "      <td>113931.57</td>\n",
       "      <td>1</td>\n",
       "    </tr>\n",
       "    <tr>\n",
       "      <th>15701354</th>\n",
       "      <td>699</td>\n",
       "      <td>France</td>\n",
       "      <td>Female</td>\n",
       "      <td>39</td>\n",
       "      <td>1.0</td>\n",
       "      <td>0.00</td>\n",
       "      <td>2</td>\n",
       "      <td>0</td>\n",
       "      <td>0</td>\n",
       "      <td>93826.63</td>\n",
       "      <td>0</td>\n",
       "    </tr>\n",
       "    <tr>\n",
       "      <th>15737888</th>\n",
       "      <td>850</td>\n",
       "      <td>Spain</td>\n",
       "      <td>Female</td>\n",
       "      <td>43</td>\n",
       "      <td>2.0</td>\n",
       "      <td>125510.82</td>\n",
       "      <td>1</td>\n",
       "      <td>1</td>\n",
       "      <td>1</td>\n",
       "      <td>79084.10</td>\n",
       "      <td>0</td>\n",
       "    </tr>\n",
       "  </tbody>\n",
       "</table>\n",
       "</div>"
      ],
      "text/plain": [
       "             credit_score geography  gender  age  tenure    balance  \\\n",
       "customer_id                                                           \n",
       "15634602              619    France  Female   42     2.0       0.00   \n",
       "15647311              608     Spain  Female   41     1.0   83807.86   \n",
       "15619304              502    France  Female   42     8.0  159660.80   \n",
       "15701354              699    France  Female   39     1.0       0.00   \n",
       "15737888              850     Spain  Female   43     2.0  125510.82   \n",
       "\n",
       "             num_of_products  has_card  is_active  estimated_salary  exited  \n",
       "customer_id                                                                  \n",
       "15634602                   1         1          1         101348.88       1  \n",
       "15647311                   1         0          1         112542.58       0  \n",
       "15619304                   3         1          0         113931.57       1  \n",
       "15701354                   2         0          0          93826.63       0  \n",
       "15737888                   1         1          1          79084.10       0  "
      ]
     },
     "execution_count": 14,
     "metadata": {},
     "output_type": "execute_result"
    }
   ],
   "source": [
    "data.index = data['customer_id']\n",
    "data = data.drop('customer_id', axis=1)\n",
    "data.head()"
   ]
  },
  {
   "cell_type": "markdown",
   "metadata": {},
   "source": [
    "Разделим датафрейм на обучающую, валидационную и тестовую выборки."
   ]
  },
  {
   "cell_type": "code",
   "execution_count": 17,
   "metadata": {},
   "outputs": [
    {
     "name": "stdout",
     "output_type": "stream",
     "text": [
      "(10000, 11)\n",
      "(10000, 10)\n",
      "(10000,)\n"
     ]
    }
   ],
   "source": [
    "features = data.drop('exited', axis=1)\n",
    "target = data['exited']\n",
    "print(data.shape)\n",
    "print(features.shape)\n",
    "print(target.shape)"
   ]
  },
  {
   "cell_type": "code",
   "execution_count": 18,
   "metadata": {},
   "outputs": [
    {
     "name": "stdout",
     "output_type": "stream",
     "text": [
      "Размер тренировчной выборки: (6000, 10)\n",
      "Размер валидационной выборки: (2000, 10)\n",
      "Размер тестовой выборки: (2000, 10)\n"
     ]
    }
   ],
   "source": [
    "features_train, features_valid_test, target_train, target_valid_test = train_test_split(\n",
    "    features, target, test_size=0.4, random_state=12345)\n",
    "\n",
    "features_valid, features_test, target_valid, target_test = train_test_split(\n",
    "    features_valid_test, target_valid_test, test_size=0.5, random_state=12345)\n",
    "\n",
    "print('Размер тренировчной выборки:', features_train.shape)\n",
    "print('Размер валидационной выборки:', features_valid.shape)\n",
    "print('Размер тестовой выборки:', features_test.shape)"
   ]
  },
  {
   "cell_type": "markdown",
   "metadata": {},
   "source": [
    "Выполним кодирование категориальных признаков техникой прямого кодирования."
   ]
  },
  {
   "cell_type": "markdown",
   "metadata": {},
   "source": [
    "Обучим трансформер OneHotEncoder на тренировочных данных."
   ]
  },
  {
   "cell_type": "code",
   "execution_count": 19,
   "metadata": {},
   "outputs": [
    {
     "data": {
      "text/plain": [
       "[array(['France', 'Germany', 'Spain'], dtype=object),\n",
       " array(['Female', 'Male'], dtype=object)]"
      ]
     },
     "execution_count": 19,
     "metadata": {},
     "output_type": "execute_result"
    }
   ],
   "source": [
    "categorial = ['geography', 'gender']\n",
    "enc = OneHotEncoder(drop='first')\n",
    "enc.fit(features_train[categorial])\n",
    "enc.categories_"
   ]
  },
  {
   "cell_type": "markdown",
   "metadata": {},
   "source": [
    "Проверим новые названия столбцов для закодированных признаков."
   ]
  },
  {
   "cell_type": "code",
   "execution_count": 20,
   "metadata": {},
   "outputs": [
    {
     "data": {
      "text/plain": [
       "array(['x0_Germany', 'x0_Spain', 'x1_Male'], dtype=object)"
      ]
     },
     "execution_count": 20,
     "metadata": {},
     "output_type": "execute_result"
    }
   ],
   "source": [
    "features_labels = enc.get_feature_names()\n",
    "features_labels"
   ]
  },
  {
   "cell_type": "markdown",
   "metadata": {},
   "source": [
    "Применим метод transform к тренировочным данным, чтобы получить значения закодированных признаков. Создадим датафрейм из закодированных признаков."
   ]
  },
  {
   "cell_type": "code",
   "execution_count": 21,
   "metadata": {},
   "outputs": [
    {
     "data": {
      "text/html": [
       "<div>\n",
       "<style scoped>\n",
       "    .dataframe tbody tr th:only-of-type {\n",
       "        vertical-align: middle;\n",
       "    }\n",
       "\n",
       "    .dataframe tbody tr th {\n",
       "        vertical-align: top;\n",
       "    }\n",
       "\n",
       "    .dataframe thead th {\n",
       "        text-align: right;\n",
       "    }\n",
       "</style>\n",
       "<table border=\"1\" class=\"dataframe\">\n",
       "  <thead>\n",
       "    <tr style=\"text-align: right;\">\n",
       "      <th></th>\n",
       "      <th>x0_Germany</th>\n",
       "      <th>x0_Spain</th>\n",
       "      <th>x1_Male</th>\n",
       "    </tr>\n",
       "    <tr>\n",
       "      <th>customer_id</th>\n",
       "      <th></th>\n",
       "      <th></th>\n",
       "      <th></th>\n",
       "    </tr>\n",
       "  </thead>\n",
       "  <tbody>\n",
       "    <tr>\n",
       "      <th>15671987</th>\n",
       "      <td>0.0</td>\n",
       "      <td>1.0</td>\n",
       "      <td>1.0</td>\n",
       "    </tr>\n",
       "    <tr>\n",
       "      <th>15815628</th>\n",
       "      <td>0.0</td>\n",
       "      <td>0.0</td>\n",
       "      <td>0.0</td>\n",
       "    </tr>\n",
       "    <tr>\n",
       "      <th>15799494</th>\n",
       "      <td>1.0</td>\n",
       "      <td>0.0</td>\n",
       "      <td>1.0</td>\n",
       "    </tr>\n",
       "    <tr>\n",
       "      <th>15711288</th>\n",
       "      <td>0.0</td>\n",
       "      <td>0.0</td>\n",
       "      <td>1.0</td>\n",
       "    </tr>\n",
       "    <tr>\n",
       "      <th>15699492</th>\n",
       "      <td>1.0</td>\n",
       "      <td>0.0</td>\n",
       "      <td>0.0</td>\n",
       "    </tr>\n",
       "  </tbody>\n",
       "</table>\n",
       "</div>"
      ],
      "text/plain": [
       "             x0_Germany  x0_Spain  x1_Male\n",
       "customer_id                               \n",
       "15671987            0.0       1.0      1.0\n",
       "15815628            0.0       0.0      0.0\n",
       "15799494            1.0       0.0      1.0\n",
       "15711288            0.0       0.0      1.0\n",
       "15699492            1.0       0.0      0.0"
      ]
     },
     "execution_count": 21,
     "metadata": {},
     "output_type": "execute_result"
    }
   ],
   "source": [
    "features_array_train = enc.transform(features_train[categorial]).toarray()\n",
    "enc_features_train = pd.DataFrame(data=features_array_train, columns=features_labels, index=features_train.index)\n",
    "enc_features_train.head()"
   ]
  },
  {
   "cell_type": "markdown",
   "metadata": {},
   "source": [
    "Получим результирующий датафрейм для обучения, объединив его с закодированными признаками и исключив из него незакодированные данные."
   ]
  },
  {
   "cell_type": "code",
   "execution_count": 22,
   "metadata": {},
   "outputs": [
    {
     "data": {
      "text/html": [
       "<div>\n",
       "<style scoped>\n",
       "    .dataframe tbody tr th:only-of-type {\n",
       "        vertical-align: middle;\n",
       "    }\n",
       "\n",
       "    .dataframe tbody tr th {\n",
       "        vertical-align: top;\n",
       "    }\n",
       "\n",
       "    .dataframe thead th {\n",
       "        text-align: right;\n",
       "    }\n",
       "</style>\n",
       "<table border=\"1\" class=\"dataframe\">\n",
       "  <thead>\n",
       "    <tr style=\"text-align: right;\">\n",
       "      <th></th>\n",
       "      <th>credit_score</th>\n",
       "      <th>age</th>\n",
       "      <th>tenure</th>\n",
       "      <th>balance</th>\n",
       "      <th>num_of_products</th>\n",
       "      <th>has_card</th>\n",
       "      <th>is_active</th>\n",
       "      <th>estimated_salary</th>\n",
       "      <th>x0_Germany</th>\n",
       "      <th>x0_Spain</th>\n",
       "      <th>x1_Male</th>\n",
       "    </tr>\n",
       "    <tr>\n",
       "      <th>customer_id</th>\n",
       "      <th></th>\n",
       "      <th></th>\n",
       "      <th></th>\n",
       "      <th></th>\n",
       "      <th></th>\n",
       "      <th></th>\n",
       "      <th></th>\n",
       "      <th></th>\n",
       "      <th></th>\n",
       "      <th></th>\n",
       "      <th></th>\n",
       "    </tr>\n",
       "  </thead>\n",
       "  <tbody>\n",
       "    <tr>\n",
       "      <th>15671987</th>\n",
       "      <td>567</td>\n",
       "      <td>35</td>\n",
       "      <td>8.0</td>\n",
       "      <td>153137.74</td>\n",
       "      <td>1</td>\n",
       "      <td>1</td>\n",
       "      <td>0</td>\n",
       "      <td>88659.07</td>\n",
       "      <td>0.0</td>\n",
       "      <td>1.0</td>\n",
       "      <td>1.0</td>\n",
       "    </tr>\n",
       "    <tr>\n",
       "      <th>15815628</th>\n",
       "      <td>711</td>\n",
       "      <td>37</td>\n",
       "      <td>8.0</td>\n",
       "      <td>113899.92</td>\n",
       "      <td>1</td>\n",
       "      <td>0</td>\n",
       "      <td>0</td>\n",
       "      <td>80215.20</td>\n",
       "      <td>0.0</td>\n",
       "      <td>0.0</td>\n",
       "      <td>0.0</td>\n",
       "    </tr>\n",
       "    <tr>\n",
       "      <th>15799494</th>\n",
       "      <td>850</td>\n",
       "      <td>44</td>\n",
       "      <td>3.0</td>\n",
       "      <td>140393.65</td>\n",
       "      <td>2</td>\n",
       "      <td>0</td>\n",
       "      <td>1</td>\n",
       "      <td>186285.52</td>\n",
       "      <td>1.0</td>\n",
       "      <td>0.0</td>\n",
       "      <td>1.0</td>\n",
       "    </tr>\n",
       "    <tr>\n",
       "      <th>15711288</th>\n",
       "      <td>512</td>\n",
       "      <td>24</td>\n",
       "      <td>6.0</td>\n",
       "      <td>0.00</td>\n",
       "      <td>2</td>\n",
       "      <td>1</td>\n",
       "      <td>0</td>\n",
       "      <td>37654.31</td>\n",
       "      <td>0.0</td>\n",
       "      <td>0.0</td>\n",
       "      <td>1.0</td>\n",
       "    </tr>\n",
       "    <tr>\n",
       "      <th>15699492</th>\n",
       "      <td>665</td>\n",
       "      <td>27</td>\n",
       "      <td>2.0</td>\n",
       "      <td>147435.96</td>\n",
       "      <td>1</td>\n",
       "      <td>0</td>\n",
       "      <td>0</td>\n",
       "      <td>187508.06</td>\n",
       "      <td>1.0</td>\n",
       "      <td>0.0</td>\n",
       "      <td>0.0</td>\n",
       "    </tr>\n",
       "  </tbody>\n",
       "</table>\n",
       "</div>"
      ],
      "text/plain": [
       "             credit_score  age  tenure    balance  num_of_products  has_card  \\\n",
       "customer_id                                                                    \n",
       "15671987              567   35     8.0  153137.74                1         1   \n",
       "15815628              711   37     8.0  113899.92                1         0   \n",
       "15799494              850   44     3.0  140393.65                2         0   \n",
       "15711288              512   24     6.0       0.00                2         1   \n",
       "15699492              665   27     2.0  147435.96                1         0   \n",
       "\n",
       "             is_active  estimated_salary  x0_Germany  x0_Spain  x1_Male  \n",
       "customer_id                                                              \n",
       "15671987             0          88659.07         0.0       1.0      1.0  \n",
       "15815628             0          80215.20         0.0       0.0      0.0  \n",
       "15799494             1         186285.52         1.0       0.0      1.0  \n",
       "15711288             0          37654.31         0.0       0.0      1.0  \n",
       "15699492             0         187508.06         1.0       0.0      0.0  "
      ]
     },
     "execution_count": 22,
     "metadata": {},
     "output_type": "execute_result"
    }
   ],
   "source": [
    "features_train = pd.concat([features_train, enc_features_train], axis=1)\n",
    "features_train = features_train.drop(categorial, axis=1, errors='ignore')\n",
    "features_train.head()"
   ]
  },
  {
   "cell_type": "markdown",
   "metadata": {},
   "source": [
    "Применим метод transform к валидационным данным, чтобы получить значения закодированных признаков. Сформируем промежуточный валидационный датафрейм."
   ]
  },
  {
   "cell_type": "code",
   "execution_count": 23,
   "metadata": {},
   "outputs": [
    {
     "data": {
      "text/html": [
       "<div>\n",
       "<style scoped>\n",
       "    .dataframe tbody tr th:only-of-type {\n",
       "        vertical-align: middle;\n",
       "    }\n",
       "\n",
       "    .dataframe tbody tr th {\n",
       "        vertical-align: top;\n",
       "    }\n",
       "\n",
       "    .dataframe thead th {\n",
       "        text-align: right;\n",
       "    }\n",
       "</style>\n",
       "<table border=\"1\" class=\"dataframe\">\n",
       "  <thead>\n",
       "    <tr style=\"text-align: right;\">\n",
       "      <th></th>\n",
       "      <th>credit_score</th>\n",
       "      <th>age</th>\n",
       "      <th>tenure</th>\n",
       "      <th>balance</th>\n",
       "      <th>num_of_products</th>\n",
       "      <th>has_card</th>\n",
       "      <th>is_active</th>\n",
       "      <th>estimated_salary</th>\n",
       "      <th>x0_Germany</th>\n",
       "      <th>x0_Spain</th>\n",
       "      <th>x1_Male</th>\n",
       "    </tr>\n",
       "    <tr>\n",
       "      <th>customer_id</th>\n",
       "      <th></th>\n",
       "      <th></th>\n",
       "      <th></th>\n",
       "      <th></th>\n",
       "      <th></th>\n",
       "      <th></th>\n",
       "      <th></th>\n",
       "      <th></th>\n",
       "      <th></th>\n",
       "      <th></th>\n",
       "      <th></th>\n",
       "    </tr>\n",
       "  </thead>\n",
       "  <tbody>\n",
       "    <tr>\n",
       "      <th>15780805</th>\n",
       "      <td>585</td>\n",
       "      <td>35</td>\n",
       "      <td>2.0</td>\n",
       "      <td>0.00</td>\n",
       "      <td>2</td>\n",
       "      <td>1</td>\n",
       "      <td>0</td>\n",
       "      <td>98621.04</td>\n",
       "      <td>0.0</td>\n",
       "      <td>0.0</td>\n",
       "      <td>0.0</td>\n",
       "    </tr>\n",
       "    <tr>\n",
       "      <th>15649853</th>\n",
       "      <td>625</td>\n",
       "      <td>45</td>\n",
       "      <td>3.0</td>\n",
       "      <td>0.00</td>\n",
       "      <td>1</td>\n",
       "      <td>1</td>\n",
       "      <td>1</td>\n",
       "      <td>184474.15</td>\n",
       "      <td>0.0</td>\n",
       "      <td>0.0</td>\n",
       "      <td>0.0</td>\n",
       "    </tr>\n",
       "    <tr>\n",
       "      <th>15714970</th>\n",
       "      <td>667</td>\n",
       "      <td>32</td>\n",
       "      <td>0.0</td>\n",
       "      <td>103846.65</td>\n",
       "      <td>1</td>\n",
       "      <td>1</td>\n",
       "      <td>0</td>\n",
       "      <td>20560.69</td>\n",
       "      <td>1.0</td>\n",
       "      <td>0.0</td>\n",
       "      <td>1.0</td>\n",
       "    </tr>\n",
       "    <tr>\n",
       "      <th>15593178</th>\n",
       "      <td>568</td>\n",
       "      <td>36</td>\n",
       "      <td>10.0</td>\n",
       "      <td>153610.61</td>\n",
       "      <td>1</td>\n",
       "      <td>1</td>\n",
       "      <td>1</td>\n",
       "      <td>54083.80</td>\n",
       "      <td>0.0</td>\n",
       "      <td>1.0</td>\n",
       "      <td>0.0</td>\n",
       "    </tr>\n",
       "    <tr>\n",
       "      <th>15736399</th>\n",
       "      <td>606</td>\n",
       "      <td>42</td>\n",
       "      <td>10.0</td>\n",
       "      <td>0.00</td>\n",
       "      <td>2</td>\n",
       "      <td>1</td>\n",
       "      <td>0</td>\n",
       "      <td>177938.52</td>\n",
       "      <td>0.0</td>\n",
       "      <td>1.0</td>\n",
       "      <td>1.0</td>\n",
       "    </tr>\n",
       "  </tbody>\n",
       "</table>\n",
       "</div>"
      ],
      "text/plain": [
       "             credit_score  age  tenure    balance  num_of_products  has_card  \\\n",
       "customer_id                                                                    \n",
       "15780805              585   35     2.0       0.00                2         1   \n",
       "15649853              625   45     3.0       0.00                1         1   \n",
       "15714970              667   32     0.0  103846.65                1         1   \n",
       "15593178              568   36    10.0  153610.61                1         1   \n",
       "15736399              606   42    10.0       0.00                2         1   \n",
       "\n",
       "             is_active  estimated_salary  x0_Germany  x0_Spain  x1_Male  \n",
       "customer_id                                                              \n",
       "15780805             0          98621.04         0.0       0.0      0.0  \n",
       "15649853             1         184474.15         0.0       0.0      0.0  \n",
       "15714970             0          20560.69         1.0       0.0      1.0  \n",
       "15593178             1          54083.80         0.0       1.0      0.0  \n",
       "15736399             0         177938.52         0.0       1.0      1.0  "
      ]
     },
     "execution_count": 23,
     "metadata": {},
     "output_type": "execute_result"
    }
   ],
   "source": [
    "features_array_valid = enc.transform(features_valid[categorial]).toarray()\n",
    "enc_features_valid = pd.DataFrame(data=features_array_valid, columns=features_labels, index=features_valid.index)\n",
    "features_valid = pd.concat([features_valid, enc_features_valid], axis=1)\n",
    "features_valid = features_valid.drop(categorial, axis=1, errors='ignore')\n",
    "features_valid.head()"
   ]
  },
  {
   "cell_type": "markdown",
   "metadata": {},
   "source": [
    "Проведем аналогичную работу для тестовой выборки."
   ]
  },
  {
   "cell_type": "code",
   "execution_count": 24,
   "metadata": {},
   "outputs": [
    {
     "data": {
      "text/html": [
       "<div>\n",
       "<style scoped>\n",
       "    .dataframe tbody tr th:only-of-type {\n",
       "        vertical-align: middle;\n",
       "    }\n",
       "\n",
       "    .dataframe tbody tr th {\n",
       "        vertical-align: top;\n",
       "    }\n",
       "\n",
       "    .dataframe thead th {\n",
       "        text-align: right;\n",
       "    }\n",
       "</style>\n",
       "<table border=\"1\" class=\"dataframe\">\n",
       "  <thead>\n",
       "    <tr style=\"text-align: right;\">\n",
       "      <th></th>\n",
       "      <th>credit_score</th>\n",
       "      <th>age</th>\n",
       "      <th>tenure</th>\n",
       "      <th>balance</th>\n",
       "      <th>num_of_products</th>\n",
       "      <th>has_card</th>\n",
       "      <th>is_active</th>\n",
       "      <th>estimated_salary</th>\n",
       "      <th>x0_Germany</th>\n",
       "      <th>x0_Spain</th>\n",
       "      <th>x1_Male</th>\n",
       "    </tr>\n",
       "    <tr>\n",
       "      <th>customer_id</th>\n",
       "      <th></th>\n",
       "      <th></th>\n",
       "      <th></th>\n",
       "      <th></th>\n",
       "      <th></th>\n",
       "      <th></th>\n",
       "      <th></th>\n",
       "      <th></th>\n",
       "      <th></th>\n",
       "      <th></th>\n",
       "      <th></th>\n",
       "    </tr>\n",
       "  </thead>\n",
       "  <tbody>\n",
       "    <tr>\n",
       "      <th>15753591</th>\n",
       "      <td>438</td>\n",
       "      <td>38</td>\n",
       "      <td>2.0</td>\n",
       "      <td>0.00</td>\n",
       "      <td>2</td>\n",
       "      <td>1</td>\n",
       "      <td>0</td>\n",
       "      <td>136859.55</td>\n",
       "      <td>0.0</td>\n",
       "      <td>0.0</td>\n",
       "      <td>1.0</td>\n",
       "    </tr>\n",
       "    <tr>\n",
       "      <th>15606158</th>\n",
       "      <td>644</td>\n",
       "      <td>39</td>\n",
       "      <td>9.0</td>\n",
       "      <td>0.00</td>\n",
       "      <td>1</td>\n",
       "      <td>1</td>\n",
       "      <td>0</td>\n",
       "      <td>3740.93</td>\n",
       "      <td>0.0</td>\n",
       "      <td>0.0</td>\n",
       "      <td>0.0</td>\n",
       "    </tr>\n",
       "    <tr>\n",
       "      <th>15765257</th>\n",
       "      <td>564</td>\n",
       "      <td>31</td>\n",
       "      <td>5.0</td>\n",
       "      <td>121461.87</td>\n",
       "      <td>1</td>\n",
       "      <td>1</td>\n",
       "      <td>1</td>\n",
       "      <td>20432.09</td>\n",
       "      <td>0.0</td>\n",
       "      <td>1.0</td>\n",
       "      <td>1.0</td>\n",
       "    </tr>\n",
       "    <tr>\n",
       "      <th>15731246</th>\n",
       "      <td>628</td>\n",
       "      <td>40</td>\n",
       "      <td>10.0</td>\n",
       "      <td>0.00</td>\n",
       "      <td>2</td>\n",
       "      <td>1</td>\n",
       "      <td>0</td>\n",
       "      <td>103832.58</td>\n",
       "      <td>0.0</td>\n",
       "      <td>1.0</td>\n",
       "      <td>1.0</td>\n",
       "    </tr>\n",
       "    <tr>\n",
       "      <th>15713599</th>\n",
       "      <td>728</td>\n",
       "      <td>30</td>\n",
       "      <td>10.0</td>\n",
       "      <td>114835.43</td>\n",
       "      <td>1</td>\n",
       "      <td>0</td>\n",
       "      <td>1</td>\n",
       "      <td>37662.49</td>\n",
       "      <td>0.0</td>\n",
       "      <td>0.0</td>\n",
       "      <td>1.0</td>\n",
       "    </tr>\n",
       "  </tbody>\n",
       "</table>\n",
       "</div>"
      ],
      "text/plain": [
       "             credit_score  age  tenure    balance  num_of_products  has_card  \\\n",
       "customer_id                                                                    \n",
       "15753591              438   38     2.0       0.00                2         1   \n",
       "15606158              644   39     9.0       0.00                1         1   \n",
       "15765257              564   31     5.0  121461.87                1         1   \n",
       "15731246              628   40    10.0       0.00                2         1   \n",
       "15713599              728   30    10.0  114835.43                1         0   \n",
       "\n",
       "             is_active  estimated_salary  x0_Germany  x0_Spain  x1_Male  \n",
       "customer_id                                                              \n",
       "15753591             0         136859.55         0.0       0.0      1.0  \n",
       "15606158             0           3740.93         0.0       0.0      0.0  \n",
       "15765257             1          20432.09         0.0       1.0      1.0  \n",
       "15731246             0         103832.58         0.0       1.0      1.0  \n",
       "15713599             1          37662.49         0.0       0.0      1.0  "
      ]
     },
     "execution_count": 24,
     "metadata": {},
     "output_type": "execute_result"
    }
   ],
   "source": [
    "features_array_test = enc.transform(features_test[categorial]).toarray()\n",
    "enc_features_test = pd.DataFrame(data=features_array_test, columns=features_labels, index=features_test.index)\n",
    "features_test = pd.concat([features_test, enc_features_test], axis=1)\n",
    "features_test = features_test.drop(categorial, axis=1, errors='ignore')\n",
    "features_test.head()"
   ]
  },
  {
   "cell_type": "markdown",
   "metadata": {},
   "source": [
    "Масштабируем количественные признаки с помощью стандартизации."
   ]
  },
  {
   "cell_type": "markdown",
   "metadata": {},
   "source": [
    "Обучим трансформер StandardScaler на тренировочных данных."
   ]
  },
  {
   "cell_type": "code",
   "execution_count": 25,
   "metadata": {},
   "outputs": [
    {
     "data": {
      "text/plain": [
       "array([9.62944480e+01, 1.05370341e+01, 2.74729362e+00, 6.21139214e+04,\n",
       "       5.80817216e-01, 4.54758513e-01, 4.99279453e-01, 5.77397775e+04])"
      ]
     },
     "execution_count": 25,
     "metadata": {},
     "output_type": "execute_result"
    }
   ],
   "source": [
    "numeric = ['credit_score', 'age', 'tenure', 'balance', 'num_of_products', \n",
    "           'has_card', 'is_active', 'estimated_salary']\n",
    "scaler = StandardScaler()\n",
    "scaler.fit(features_train[numeric])\n",
    "scaler.scale_"
   ]
  },
  {
   "cell_type": "markdown",
   "metadata": {},
   "source": [
    "Применим метод transform к тренировочным данным, чтобы получить значения стандаритизированных признаков."
   ]
  },
  {
   "cell_type": "code",
   "execution_count": 26,
   "metadata": {},
   "outputs": [
    {
     "data": {
      "text/html": [
       "<div>\n",
       "<style scoped>\n",
       "    .dataframe tbody tr th:only-of-type {\n",
       "        vertical-align: middle;\n",
       "    }\n",
       "\n",
       "    .dataframe tbody tr th {\n",
       "        vertical-align: top;\n",
       "    }\n",
       "\n",
       "    .dataframe thead th {\n",
       "        text-align: right;\n",
       "    }\n",
       "</style>\n",
       "<table border=\"1\" class=\"dataframe\">\n",
       "  <thead>\n",
       "    <tr style=\"text-align: right;\">\n",
       "      <th></th>\n",
       "      <th>credit_score</th>\n",
       "      <th>age</th>\n",
       "      <th>tenure</th>\n",
       "      <th>balance</th>\n",
       "      <th>num_of_products</th>\n",
       "      <th>has_card</th>\n",
       "      <th>is_active</th>\n",
       "      <th>estimated_salary</th>\n",
       "      <th>x0_Germany</th>\n",
       "      <th>x0_Spain</th>\n",
       "      <th>x1_Male</th>\n",
       "    </tr>\n",
       "    <tr>\n",
       "      <th>customer_id</th>\n",
       "      <th></th>\n",
       "      <th></th>\n",
       "      <th></th>\n",
       "      <th></th>\n",
       "      <th></th>\n",
       "      <th></th>\n",
       "      <th></th>\n",
       "      <th></th>\n",
       "      <th></th>\n",
       "      <th></th>\n",
       "      <th></th>\n",
       "    </tr>\n",
       "  </thead>\n",
       "  <tbody>\n",
       "    <tr>\n",
       "      <th>15671987</th>\n",
       "      <td>-0.886751</td>\n",
       "      <td>-0.373192</td>\n",
       "      <td>1.082277</td>\n",
       "      <td>1.232271</td>\n",
       "      <td>-0.891560</td>\n",
       "      <td>0.642466</td>\n",
       "      <td>-1.055187</td>\n",
       "      <td>-0.187705</td>\n",
       "      <td>0.0</td>\n",
       "      <td>1.0</td>\n",
       "      <td>1.0</td>\n",
       "    </tr>\n",
       "    <tr>\n",
       "      <th>15815628</th>\n",
       "      <td>0.608663</td>\n",
       "      <td>-0.183385</td>\n",
       "      <td>1.082277</td>\n",
       "      <td>0.600563</td>\n",
       "      <td>-0.891560</td>\n",
       "      <td>-1.556504</td>\n",
       "      <td>-1.055187</td>\n",
       "      <td>-0.333945</td>\n",
       "      <td>0.0</td>\n",
       "      <td>0.0</td>\n",
       "      <td>0.0</td>\n",
       "    </tr>\n",
       "    <tr>\n",
       "      <th>15799494</th>\n",
       "      <td>2.052152</td>\n",
       "      <td>0.480939</td>\n",
       "      <td>-0.737696</td>\n",
       "      <td>1.027098</td>\n",
       "      <td>0.830152</td>\n",
       "      <td>-1.556504</td>\n",
       "      <td>0.947699</td>\n",
       "      <td>1.503095</td>\n",
       "      <td>1.0</td>\n",
       "      <td>0.0</td>\n",
       "      <td>1.0</td>\n",
       "    </tr>\n",
       "    <tr>\n",
       "      <th>15711288</th>\n",
       "      <td>-1.457915</td>\n",
       "      <td>-1.417129</td>\n",
       "      <td>0.354288</td>\n",
       "      <td>-1.233163</td>\n",
       "      <td>0.830152</td>\n",
       "      <td>0.642466</td>\n",
       "      <td>-1.055187</td>\n",
       "      <td>-1.071061</td>\n",
       "      <td>0.0</td>\n",
       "      <td>0.0</td>\n",
       "      <td>1.0</td>\n",
       "    </tr>\n",
       "    <tr>\n",
       "      <th>15699492</th>\n",
       "      <td>0.130961</td>\n",
       "      <td>-1.132419</td>\n",
       "      <td>-1.101690</td>\n",
       "      <td>1.140475</td>\n",
       "      <td>-0.891560</td>\n",
       "      <td>-1.556504</td>\n",
       "      <td>-1.055187</td>\n",
       "      <td>1.524268</td>\n",
       "      <td>1.0</td>\n",
       "      <td>0.0</td>\n",
       "      <td>0.0</td>\n",
       "    </tr>\n",
       "  </tbody>\n",
       "</table>\n",
       "</div>"
      ],
      "text/plain": [
       "             credit_score       age    tenure   balance  num_of_products  \\\n",
       "customer_id                                                                \n",
       "15671987        -0.886751 -0.373192  1.082277  1.232271        -0.891560   \n",
       "15815628         0.608663 -0.183385  1.082277  0.600563        -0.891560   \n",
       "15799494         2.052152  0.480939 -0.737696  1.027098         0.830152   \n",
       "15711288        -1.457915 -1.417129  0.354288 -1.233163         0.830152   \n",
       "15699492         0.130961 -1.132419 -1.101690  1.140475        -0.891560   \n",
       "\n",
       "             has_card  is_active  estimated_salary  x0_Germany  x0_Spain  \\\n",
       "customer_id                                                                \n",
       "15671987     0.642466  -1.055187         -0.187705         0.0       1.0   \n",
       "15815628    -1.556504  -1.055187         -0.333945         0.0       0.0   \n",
       "15799494    -1.556504   0.947699          1.503095         1.0       0.0   \n",
       "15711288     0.642466  -1.055187         -1.071061         0.0       0.0   \n",
       "15699492    -1.556504  -1.055187          1.524268         1.0       0.0   \n",
       "\n",
       "             x1_Male  \n",
       "customer_id           \n",
       "15671987         1.0  \n",
       "15815628         0.0  \n",
       "15799494         1.0  \n",
       "15711288         1.0  \n",
       "15699492         0.0  "
      ]
     },
     "execution_count": 26,
     "metadata": {},
     "output_type": "execute_result"
    }
   ],
   "source": [
    "features_train[numeric] = scaler.transform(features_train[numeric])\n",
    "features_train.head()"
   ]
  },
  {
   "cell_type": "markdown",
   "metadata": {},
   "source": [
    "Применим метод transform к валидационным данным, чтобы получить значения закодированных признаков. Сформируем итоговый валидационный датафрейм."
   ]
  },
  {
   "cell_type": "code",
   "execution_count": 27,
   "metadata": {},
   "outputs": [
    {
     "data": {
      "text/html": [
       "<div>\n",
       "<style scoped>\n",
       "    .dataframe tbody tr th:only-of-type {\n",
       "        vertical-align: middle;\n",
       "    }\n",
       "\n",
       "    .dataframe tbody tr th {\n",
       "        vertical-align: top;\n",
       "    }\n",
       "\n",
       "    .dataframe thead th {\n",
       "        text-align: right;\n",
       "    }\n",
       "</style>\n",
       "<table border=\"1\" class=\"dataframe\">\n",
       "  <thead>\n",
       "    <tr style=\"text-align: right;\">\n",
       "      <th></th>\n",
       "      <th>credit_score</th>\n",
       "      <th>age</th>\n",
       "      <th>tenure</th>\n",
       "      <th>balance</th>\n",
       "      <th>num_of_products</th>\n",
       "      <th>has_card</th>\n",
       "      <th>is_active</th>\n",
       "      <th>estimated_salary</th>\n",
       "      <th>x0_Germany</th>\n",
       "      <th>x0_Spain</th>\n",
       "      <th>x1_Male</th>\n",
       "    </tr>\n",
       "    <tr>\n",
       "      <th>customer_id</th>\n",
       "      <th></th>\n",
       "      <th></th>\n",
       "      <th></th>\n",
       "      <th></th>\n",
       "      <th></th>\n",
       "      <th></th>\n",
       "      <th></th>\n",
       "      <th></th>\n",
       "      <th></th>\n",
       "      <th></th>\n",
       "      <th></th>\n",
       "    </tr>\n",
       "  </thead>\n",
       "  <tbody>\n",
       "    <tr>\n",
       "      <th>15780805</th>\n",
       "      <td>-0.699824</td>\n",
       "      <td>-0.373192</td>\n",
       "      <td>-1.101690</td>\n",
       "      <td>-1.233163</td>\n",
       "      <td>0.830152</td>\n",
       "      <td>0.642466</td>\n",
       "      <td>-1.055187</td>\n",
       "      <td>-0.015173</td>\n",
       "      <td>0.0</td>\n",
       "      <td>0.0</td>\n",
       "      <td>0.0</td>\n",
       "    </tr>\n",
       "    <tr>\n",
       "      <th>15649853</th>\n",
       "      <td>-0.284431</td>\n",
       "      <td>0.575842</td>\n",
       "      <td>-0.737696</td>\n",
       "      <td>-1.233163</td>\n",
       "      <td>-0.891560</td>\n",
       "      <td>0.642466</td>\n",
       "      <td>0.947699</td>\n",
       "      <td>1.471724</td>\n",
       "      <td>0.0</td>\n",
       "      <td>0.0</td>\n",
       "      <td>0.0</td>\n",
       "    </tr>\n",
       "    <tr>\n",
       "      <th>15714970</th>\n",
       "      <td>0.151731</td>\n",
       "      <td>-0.657902</td>\n",
       "      <td>-1.829679</td>\n",
       "      <td>0.438711</td>\n",
       "      <td>-0.891560</td>\n",
       "      <td>0.642466</td>\n",
       "      <td>-1.055187</td>\n",
       "      <td>-1.367107</td>\n",
       "      <td>1.0</td>\n",
       "      <td>0.0</td>\n",
       "      <td>1.0</td>\n",
       "    </tr>\n",
       "    <tr>\n",
       "      <th>15593178</th>\n",
       "      <td>-0.876366</td>\n",
       "      <td>-0.278288</td>\n",
       "      <td>1.810266</td>\n",
       "      <td>1.239884</td>\n",
       "      <td>-0.891560</td>\n",
       "      <td>0.642466</td>\n",
       "      <td>0.947699</td>\n",
       "      <td>-0.786517</td>\n",
       "      <td>0.0</td>\n",
       "      <td>1.0</td>\n",
       "      <td>0.0</td>\n",
       "    </tr>\n",
       "    <tr>\n",
       "      <th>15736399</th>\n",
       "      <td>-0.481743</td>\n",
       "      <td>0.291132</td>\n",
       "      <td>1.810266</td>\n",
       "      <td>-1.233163</td>\n",
       "      <td>0.830152</td>\n",
       "      <td>0.642466</td>\n",
       "      <td>-1.055187</td>\n",
       "      <td>1.358533</td>\n",
       "      <td>0.0</td>\n",
       "      <td>1.0</td>\n",
       "      <td>1.0</td>\n",
       "    </tr>\n",
       "  </tbody>\n",
       "</table>\n",
       "</div>"
      ],
      "text/plain": [
       "             credit_score       age    tenure   balance  num_of_products  \\\n",
       "customer_id                                                                \n",
       "15780805        -0.699824 -0.373192 -1.101690 -1.233163         0.830152   \n",
       "15649853        -0.284431  0.575842 -0.737696 -1.233163        -0.891560   \n",
       "15714970         0.151731 -0.657902 -1.829679  0.438711        -0.891560   \n",
       "15593178        -0.876366 -0.278288  1.810266  1.239884        -0.891560   \n",
       "15736399        -0.481743  0.291132  1.810266 -1.233163         0.830152   \n",
       "\n",
       "             has_card  is_active  estimated_salary  x0_Germany  x0_Spain  \\\n",
       "customer_id                                                                \n",
       "15780805     0.642466  -1.055187         -0.015173         0.0       0.0   \n",
       "15649853     0.642466   0.947699          1.471724         0.0       0.0   \n",
       "15714970     0.642466  -1.055187         -1.367107         1.0       0.0   \n",
       "15593178     0.642466   0.947699         -0.786517         0.0       1.0   \n",
       "15736399     0.642466  -1.055187          1.358533         0.0       1.0   \n",
       "\n",
       "             x1_Male  \n",
       "customer_id           \n",
       "15780805         0.0  \n",
       "15649853         0.0  \n",
       "15714970         1.0  \n",
       "15593178         0.0  \n",
       "15736399         1.0  "
      ]
     },
     "execution_count": 27,
     "metadata": {},
     "output_type": "execute_result"
    }
   ],
   "source": [
    "features_valid[numeric] = scaler.transform(features_valid[numeric])\n",
    "features_valid.head()"
   ]
  },
  {
   "cell_type": "markdown",
   "metadata": {},
   "source": [
    "Проведем аналогичную работу для тестовой выборки."
   ]
  },
  {
   "cell_type": "code",
   "execution_count": 28,
   "metadata": {},
   "outputs": [
    {
     "data": {
      "text/html": [
       "<div>\n",
       "<style scoped>\n",
       "    .dataframe tbody tr th:only-of-type {\n",
       "        vertical-align: middle;\n",
       "    }\n",
       "\n",
       "    .dataframe tbody tr th {\n",
       "        vertical-align: top;\n",
       "    }\n",
       "\n",
       "    .dataframe thead th {\n",
       "        text-align: right;\n",
       "    }\n",
       "</style>\n",
       "<table border=\"1\" class=\"dataframe\">\n",
       "  <thead>\n",
       "    <tr style=\"text-align: right;\">\n",
       "      <th></th>\n",
       "      <th>credit_score</th>\n",
       "      <th>age</th>\n",
       "      <th>tenure</th>\n",
       "      <th>balance</th>\n",
       "      <th>num_of_products</th>\n",
       "      <th>has_card</th>\n",
       "      <th>is_active</th>\n",
       "      <th>estimated_salary</th>\n",
       "      <th>x0_Germany</th>\n",
       "      <th>x0_Spain</th>\n",
       "      <th>x1_Male</th>\n",
       "    </tr>\n",
       "    <tr>\n",
       "      <th>customer_id</th>\n",
       "      <th></th>\n",
       "      <th></th>\n",
       "      <th></th>\n",
       "      <th></th>\n",
       "      <th></th>\n",
       "      <th></th>\n",
       "      <th></th>\n",
       "      <th></th>\n",
       "      <th></th>\n",
       "      <th></th>\n",
       "      <th></th>\n",
       "    </tr>\n",
       "  </thead>\n",
       "  <tbody>\n",
       "    <tr>\n",
       "      <th>15753591</th>\n",
       "      <td>-2.226392</td>\n",
       "      <td>-0.088482</td>\n",
       "      <td>-1.101690</td>\n",
       "      <td>-1.233163</td>\n",
       "      <td>0.830152</td>\n",
       "      <td>0.642466</td>\n",
       "      <td>-1.055187</td>\n",
       "      <td>0.647083</td>\n",
       "      <td>0.0</td>\n",
       "      <td>0.0</td>\n",
       "      <td>1.0</td>\n",
       "    </tr>\n",
       "    <tr>\n",
       "      <th>15606158</th>\n",
       "      <td>-0.087120</td>\n",
       "      <td>0.006422</td>\n",
       "      <td>1.446272</td>\n",
       "      <td>-1.233163</td>\n",
       "      <td>-0.891560</td>\n",
       "      <td>0.642466</td>\n",
       "      <td>-1.055187</td>\n",
       "      <td>-1.658410</td>\n",
       "      <td>0.0</td>\n",
       "      <td>0.0</td>\n",
       "      <td>0.0</td>\n",
       "    </tr>\n",
       "    <tr>\n",
       "      <th>15765257</th>\n",
       "      <td>-0.917905</td>\n",
       "      <td>-0.752805</td>\n",
       "      <td>-0.009707</td>\n",
       "      <td>0.722307</td>\n",
       "      <td>-0.891560</td>\n",
       "      <td>0.642466</td>\n",
       "      <td>0.947699</td>\n",
       "      <td>-1.369334</td>\n",
       "      <td>0.0</td>\n",
       "      <td>1.0</td>\n",
       "      <td>1.0</td>\n",
       "    </tr>\n",
       "    <tr>\n",
       "      <th>15731246</th>\n",
       "      <td>-0.253277</td>\n",
       "      <td>0.101325</td>\n",
       "      <td>1.810266</td>\n",
       "      <td>-1.233163</td>\n",
       "      <td>0.830152</td>\n",
       "      <td>0.642466</td>\n",
       "      <td>-1.055187</td>\n",
       "      <td>0.075086</td>\n",
       "      <td>0.0</td>\n",
       "      <td>1.0</td>\n",
       "      <td>1.0</td>\n",
       "    </tr>\n",
       "    <tr>\n",
       "      <th>15713599</th>\n",
       "      <td>0.785204</td>\n",
       "      <td>-0.847708</td>\n",
       "      <td>1.810266</td>\n",
       "      <td>0.615625</td>\n",
       "      <td>-0.891560</td>\n",
       "      <td>-1.556504</td>\n",
       "      <td>0.947699</td>\n",
       "      <td>-1.070919</td>\n",
       "      <td>0.0</td>\n",
       "      <td>0.0</td>\n",
       "      <td>1.0</td>\n",
       "    </tr>\n",
       "  </tbody>\n",
       "</table>\n",
       "</div>"
      ],
      "text/plain": [
       "             credit_score       age    tenure   balance  num_of_products  \\\n",
       "customer_id                                                                \n",
       "15753591        -2.226392 -0.088482 -1.101690 -1.233163         0.830152   \n",
       "15606158        -0.087120  0.006422  1.446272 -1.233163        -0.891560   \n",
       "15765257        -0.917905 -0.752805 -0.009707  0.722307        -0.891560   \n",
       "15731246        -0.253277  0.101325  1.810266 -1.233163         0.830152   \n",
       "15713599         0.785204 -0.847708  1.810266  0.615625        -0.891560   \n",
       "\n",
       "             has_card  is_active  estimated_salary  x0_Germany  x0_Spain  \\\n",
       "customer_id                                                                \n",
       "15753591     0.642466  -1.055187          0.647083         0.0       0.0   \n",
       "15606158     0.642466  -1.055187         -1.658410         0.0       0.0   \n",
       "15765257     0.642466   0.947699         -1.369334         0.0       1.0   \n",
       "15731246     0.642466  -1.055187          0.075086         0.0       1.0   \n",
       "15713599    -1.556504   0.947699         -1.070919         0.0       0.0   \n",
       "\n",
       "             x1_Male  \n",
       "customer_id           \n",
       "15753591         1.0  \n",
       "15606158         0.0  \n",
       "15765257         1.0  \n",
       "15731246         1.0  \n",
       "15713599         1.0  "
      ]
     },
     "execution_count": 28,
     "metadata": {},
     "output_type": "execute_result"
    }
   ],
   "source": [
    "features_test[numeric] = scaler.transform(features_test[numeric])\n",
    "features_test.head()"
   ]
  },
  {
   "cell_type": "markdown",
   "metadata": {},
   "source": [
    "**Вывод**\n",
    "\n",
    "В каждой строке таблицы — данные о поведении клиентов и расторжении договоров с банком. Исходные данные уже были неплохого качества, однако нуждались в некоторой предобработке и подготовке. Мы подготовили данные, и теперь можно приступать к построению модели."
   ]
  },
  {
   "cell_type": "code",
   "execution_count": 29,
   "metadata": {},
   "outputs": [
    {
     "data": {
      "text/html": [
       "<div>\n",
       "<style scoped>\n",
       "    .dataframe tbody tr th:only-of-type {\n",
       "        vertical-align: middle;\n",
       "    }\n",
       "\n",
       "    .dataframe tbody tr th {\n",
       "        vertical-align: top;\n",
       "    }\n",
       "\n",
       "    .dataframe thead th {\n",
       "        text-align: right;\n",
       "    }\n",
       "</style>\n",
       "<table border=\"1\" class=\"dataframe\">\n",
       "  <thead>\n",
       "    <tr style=\"text-align: right;\">\n",
       "      <th></th>\n",
       "      <th>credit_score</th>\n",
       "      <th>age</th>\n",
       "      <th>tenure</th>\n",
       "      <th>balance</th>\n",
       "      <th>num_of_products</th>\n",
       "      <th>has_card</th>\n",
       "      <th>is_active</th>\n",
       "      <th>estimated_salary</th>\n",
       "      <th>exited</th>\n",
       "    </tr>\n",
       "  </thead>\n",
       "  <tbody>\n",
       "    <tr>\n",
       "      <th>count</th>\n",
       "      <td>10000.000000</td>\n",
       "      <td>10000.000000</td>\n",
       "      <td>10000.00000</td>\n",
       "      <td>10000.000000</td>\n",
       "      <td>10000.000000</td>\n",
       "      <td>10000.00000</td>\n",
       "      <td>10000.000000</td>\n",
       "      <td>10000.000000</td>\n",
       "      <td>10000.000000</td>\n",
       "    </tr>\n",
       "    <tr>\n",
       "      <th>mean</th>\n",
       "      <td>650.528800</td>\n",
       "      <td>38.921800</td>\n",
       "      <td>4.99790</td>\n",
       "      <td>76485.889288</td>\n",
       "      <td>1.530200</td>\n",
       "      <td>0.70550</td>\n",
       "      <td>0.515100</td>\n",
       "      <td>100090.239881</td>\n",
       "      <td>0.203700</td>\n",
       "    </tr>\n",
       "    <tr>\n",
       "      <th>std</th>\n",
       "      <td>96.653299</td>\n",
       "      <td>10.487806</td>\n",
       "      <td>2.76001</td>\n",
       "      <td>62397.405202</td>\n",
       "      <td>0.581654</td>\n",
       "      <td>0.45584</td>\n",
       "      <td>0.499797</td>\n",
       "      <td>57510.492818</td>\n",
       "      <td>0.402769</td>\n",
       "    </tr>\n",
       "    <tr>\n",
       "      <th>min</th>\n",
       "      <td>350.000000</td>\n",
       "      <td>18.000000</td>\n",
       "      <td>0.00000</td>\n",
       "      <td>0.000000</td>\n",
       "      <td>1.000000</td>\n",
       "      <td>0.00000</td>\n",
       "      <td>0.000000</td>\n",
       "      <td>11.580000</td>\n",
       "      <td>0.000000</td>\n",
       "    </tr>\n",
       "    <tr>\n",
       "      <th>25%</th>\n",
       "      <td>584.000000</td>\n",
       "      <td>32.000000</td>\n",
       "      <td>3.00000</td>\n",
       "      <td>0.000000</td>\n",
       "      <td>1.000000</td>\n",
       "      <td>0.00000</td>\n",
       "      <td>0.000000</td>\n",
       "      <td>51002.110000</td>\n",
       "      <td>0.000000</td>\n",
       "    </tr>\n",
       "    <tr>\n",
       "      <th>50%</th>\n",
       "      <td>652.000000</td>\n",
       "      <td>37.000000</td>\n",
       "      <td>5.00000</td>\n",
       "      <td>97198.540000</td>\n",
       "      <td>1.000000</td>\n",
       "      <td>1.00000</td>\n",
       "      <td>1.000000</td>\n",
       "      <td>100193.915000</td>\n",
       "      <td>0.000000</td>\n",
       "    </tr>\n",
       "    <tr>\n",
       "      <th>75%</th>\n",
       "      <td>718.000000</td>\n",
       "      <td>44.000000</td>\n",
       "      <td>7.00000</td>\n",
       "      <td>127644.240000</td>\n",
       "      <td>2.000000</td>\n",
       "      <td>1.00000</td>\n",
       "      <td>1.000000</td>\n",
       "      <td>149388.247500</td>\n",
       "      <td>0.000000</td>\n",
       "    </tr>\n",
       "    <tr>\n",
       "      <th>max</th>\n",
       "      <td>850.000000</td>\n",
       "      <td>92.000000</td>\n",
       "      <td>10.00000</td>\n",
       "      <td>250898.090000</td>\n",
       "      <td>4.000000</td>\n",
       "      <td>1.00000</td>\n",
       "      <td>1.000000</td>\n",
       "      <td>199992.480000</td>\n",
       "      <td>1.000000</td>\n",
       "    </tr>\n",
       "  </tbody>\n",
       "</table>\n",
       "</div>"
      ],
      "text/plain": [
       "       credit_score           age       tenure        balance  \\\n",
       "count  10000.000000  10000.000000  10000.00000   10000.000000   \n",
       "mean     650.528800     38.921800      4.99790   76485.889288   \n",
       "std       96.653299     10.487806      2.76001   62397.405202   \n",
       "min      350.000000     18.000000      0.00000       0.000000   \n",
       "25%      584.000000     32.000000      3.00000       0.000000   \n",
       "50%      652.000000     37.000000      5.00000   97198.540000   \n",
       "75%      718.000000     44.000000      7.00000  127644.240000   \n",
       "max      850.000000     92.000000     10.00000  250898.090000   \n",
       "\n",
       "       num_of_products     has_card     is_active  estimated_salary  \\\n",
       "count     10000.000000  10000.00000  10000.000000      10000.000000   \n",
       "mean          1.530200      0.70550      0.515100     100090.239881   \n",
       "std           0.581654      0.45584      0.499797      57510.492818   \n",
       "min           1.000000      0.00000      0.000000         11.580000   \n",
       "25%           1.000000      0.00000      0.000000      51002.110000   \n",
       "50%           1.000000      1.00000      1.000000     100193.915000   \n",
       "75%           2.000000      1.00000      1.000000     149388.247500   \n",
       "max           4.000000      1.00000      1.000000     199992.480000   \n",
       "\n",
       "             exited  \n",
       "count  10000.000000  \n",
       "mean       0.203700  \n",
       "std        0.402769  \n",
       "min        0.000000  \n",
       "25%        0.000000  \n",
       "50%        0.000000  \n",
       "75%        0.000000  \n",
       "max        1.000000  "
      ]
     },
     "execution_count": 29,
     "metadata": {},
     "output_type": "execute_result"
    }
   ],
   "source": [
    "data.describe()"
   ]
  },
  {
   "cell_type": "markdown",
   "metadata": {},
   "source": [
    "## Исследование задачи"
   ]
  },
  {
   "cell_type": "markdown",
   "metadata": {},
   "source": [
    "Обучим модель логистической регрессии."
   ]
  },
  {
   "cell_type": "code",
   "execution_count": 476,
   "metadata": {},
   "outputs": [
    {
     "name": "stdout",
     "output_type": "stream",
     "text": [
      "F1-мера логистической регрессии: 0.33108108108108103\n",
      "ROC-AUC логистической регрессии: 0.7587588238496482\n"
     ]
    }
   ],
   "source": [
    "model_lr = LogisticRegression(solver='liblinear', random_state=12345)\n",
    "model_lr.fit(features_train, target_train)\n",
    "predicted_valid = model_lr.predict(features_valid)\n",
    "f1_valid = f1_score(predicted_valid, target_valid)\n",
    "\n",
    "probabilities_valid = model_lr.predict_proba(features_valid)\n",
    "probabilities_one_valid = probabilities_valid[:, 1]\n",
    "roc_auc =  roc_auc_score(target_valid, probabilities_one_valid)\n",
    "\n",
    "print('F1-мера логистической регрессии:', f1_valid)\n",
    "print('ROC-AUC логистической регрессии:', roc_auc)"
   ]
  },
  {
   "cell_type": "markdown",
   "metadata": {},
   "source": [
    "Значение *F1*-меры равняется **0.331**. Это слишком низкий показатель, попробуем добиться большего от логистическое регрессии, меняя пороговое значение."
   ]
  },
  {
   "cell_type": "code",
   "execution_count": 457,
   "metadata": {},
   "outputs": [
    {
     "name": "stdout",
     "output_type": "stream",
     "text": [
      "Порог = 0.00 | F1-мера = 0.346\n",
      "Порог = 0.02 | F1-мера = 0.348\n",
      "Порог = 0.04 | F1-мера = 0.368\n",
      "Порог = 0.06 | F1-мера = 0.391\n",
      "Порог = 0.08 | F1-мера = 0.405\n",
      "Порог = 0.10 | F1-мера = 0.423\n",
      "Порог = 0.12 | F1-мера = 0.444\n",
      "Порог = 0.14 | F1-мера = 0.465\n",
      "Порог = 0.16 | F1-мера = 0.468\n",
      "Порог = 0.18 | F1-мера = 0.484\n",
      "Порог = 0.20 | F1-мера = 0.478\n",
      "Порог = 0.22 | F1-мера = 0.484\n",
      "Порог = 0.24 | F1-мера = 0.498\n",
      "Порог = 0.26 | F1-мера = 0.502\n",
      "Порог = 0.28 | F1-мера = 0.488\n",
      "Порог = 0.30 | F1-мера = 0.484\n",
      "Порог = 0.32 | F1-мера = 0.472\n",
      "Порог = 0.34 | F1-мера = 0.461\n",
      "Порог = 0.36 | F1-мера = 0.445\n",
      "Порог = 0.38 | F1-мера = 0.424\n"
     ]
    }
   ],
   "source": [
    "probabilities_valid = model_lr.predict_proba(features_valid)\n",
    "probabilities_one_valid = probabilities_valid[:, 1]\n",
    "\n",
    "for threshold in np.arange(0, 0.4, 0.02):\n",
    "    predicted_valid = probabilities_one_valid > threshold \n",
    "    f1_valid = f1_score(predicted_valid, target_valid) \n",
    "\n",
    "    print('Порог = {:.2f} | F1-мера = {:.3f}'.format(\n",
    "        threshold, f1_valid))"
   ]
  },
  {
   "cell_type": "markdown",
   "metadata": {},
   "source": [
    "Перебирая пороговые значения, удалось выяснить, что оптимальным порогом будет значение **0.26**. При нём значение F1-меры достигает **0.502**. Уже гораздо лучше. Проверим, каких показателей нам получится добиться используя случайный лес."
   ]
  },
  {
   "cell_type": "markdown",
   "metadata": {},
   "source": [
    "Обучим модель случайного леса."
   ]
  },
  {
   "cell_type": "code",
   "execution_count": 478,
   "metadata": {},
   "outputs": [
    {
     "name": "stdout",
     "output_type": "stream",
     "text": [
      "F1-мера случайного леса: 0.5769805680119582\n",
      "ROC-AUC случайного леса: 0.840733672475638\n"
     ]
    }
   ],
   "source": [
    "model_forest = RandomForestClassifier(random_state=12345)\n",
    "model_forest.fit(features_train, target_train)\n",
    "predicted_valid = model_forest.predict(features_valid)\n",
    "f1_valid = f1_score(predicted_valid, target_valid)\n",
    "\n",
    "probabilities_valid = model_forest.predict_proba(features_valid)\n",
    "probabilities_one_valid = probabilities_valid[:, 1]\n",
    "roc_auc =  roc_auc_score(target_valid, probabilities_one_valid)\n",
    "\n",
    "print('F1-мера случайного леса:', f1_valid)\n",
    "print('ROC-AUC случайного леса:', roc_auc)"
   ]
  },
  {
   "cell_type": "markdown",
   "metadata": {},
   "source": [
    "Не оптимальный случайный лес уже показывает более высокое значение *F1*-меры: **0.577**. Кроме того, метрика *ROC-AUC* выросла до **0.841**. Попробуем улучшить модель с помощью перебора гиперпараметров."
   ]
  },
  {
   "cell_type": "code",
   "execution_count": 479,
   "metadata": {},
   "outputs": [
    {
     "name": "stdout",
     "output_type": "stream",
     "text": [
      "F1-мера лучшей модели: 0.5901162790697674\n",
      "Максимальная глубина: 23\n",
      "Количество деревьев: 31\n",
      "ROC-AUC лучшей модели: 0.8334288557274119\n"
     ]
    }
   ],
   "source": [
    "best_model_forest = None\n",
    "best_result_forest = 0\n",
    "best_depth_forest = 0\n",
    "best_est = 0\n",
    "for est in range(1, 100, 10):\n",
    "    for depth in range(1, 40, 2): \n",
    "        model_forest = RandomForestClassifier(random_state=12345, n_estimators = est, max_depth = depth)\n",
    "        model_forest.fit(features_train, target_train)\n",
    "        predictions = model_forest.predict(features_valid)\n",
    "        result = f1_score(target_valid, predictions)\n",
    "        if result > best_result_forest:\n",
    "            best_result_forest = result\n",
    "            best_model_forest = model_forest\n",
    "            best_depth_forest = depth\n",
    "            best_est = est\n",
    "\n",
    "probabilities_valid = best_model_forest.predict_proba(features_valid)\n",
    "probabilities_one_valid = probabilities_valid[:, 1]\n",
    "roc_auc =  roc_auc_score(target_valid, probabilities_one_valid)\n",
    "\n",
    "print('F1-мера лучшей модели:', best_result_forest)\n",
    "print('Максимальная глубина:', best_depth_forest)\n",
    "print('Количество деревьев:', best_est)\n",
    "print('ROC-AUC лучшей модели:', roc_auc)"
   ]
  },
  {
   "cell_type": "markdown",
   "metadata": {},
   "source": [
    "Перебирая гиперпараметры, удалось установить, что оптимальными являются следующие значения. Максимальная глубина дерева — **23**, количество деревьев — **31**. При данных гиперпараметрах значение *F1*-меры становится **0.590**. Однако значение *ROC-AUC* уменьшилось до **0.833**."
   ]
  },
  {
   "cell_type": "markdown",
   "metadata": {},
   "source": [
    "**Вывод**\n",
    "\n",
    "Исследовав различные модели машинного обучения, удалось поулчить следующие результаты. Максимальный показатель метрики *F1*, которого мы смогли добиться, обучая модель логистической регрессии, равняется **0.502**. Обучая случайны лес, удалось достичь более высокого показателя *F1*-меры:  **0.590**. Поробуем улучшить значение данной метрики, поработав с балансом классов."
   ]
  },
  {
   "cell_type": "markdown",
   "metadata": {},
   "source": [
    "## Борьба с дисбалансом"
   ]
  },
  {
   "cell_type": "markdown",
   "metadata": {},
   "source": [
    "Посомтрим, сколько объектов каждого класса в целевом признаке."
   ]
  },
  {
   "cell_type": "code",
   "execution_count": 460,
   "metadata": {},
   "outputs": [
    {
     "data": {
      "text/plain": [
       "0    4804\n",
       "1    1196\n",
       "Name: exited, dtype: int64"
      ]
     },
     "execution_count": 460,
     "metadata": {},
     "output_type": "execute_result"
    }
   ],
   "source": [
    "target_train.value_counts()"
   ]
  },
  {
   "cell_type": "code",
   "execution_count": 461,
   "metadata": {},
   "outputs": [
    {
     "data": {
      "image/png": "[encoded data removed]",
      "text/plain": [
       "<Figure size 432x288 with 1 Axes>"
      ]
     },
     "metadata": {
      "needs_background": "light"
     },
     "output_type": "display_data"
    }
   ],
   "source": [
    "target_train.value_counts().plot(kind='bar', grid=False);"
   ]
  },
  {
   "cell_type": "markdown",
   "metadata": {},
   "source": [
    "Объектов класса \"0\" практически в 4 раза больше, чем объектов класса \"1\". Сбалансируем классы, увеличив количество объектов положительного класса."
   ]
  },
  {
   "cell_type": "code",
   "execution_count": 462,
   "metadata": {},
   "outputs": [
    {
     "data": {
      "text/plain": [
       "0    4804\n",
       "1    4784\n",
       "Name: exited, dtype: int64"
      ]
     },
     "execution_count": 462,
     "metadata": {},
     "output_type": "execute_result"
    }
   ],
   "source": [
    "def upsample(features, target, repeat):\n",
    "    features_zeros = features[target == 0]\n",
    "    features_ones = features[target == 1]\n",
    "    target_zeros = target[target == 0]\n",
    "    target_ones = target[target == 1]\n",
    "    \n",
    "    features_upsampled = pd.concat([features_zeros] + [features_ones] * repeat)\n",
    "    target_upsampled = pd.concat([target_zeros] + [target_ones] * repeat)\n",
    "    \n",
    "    features_upsampled, target_upsampled = shuffle(\n",
    "        features_upsampled, target_upsampled, random_state=12345)\n",
    "    \n",
    "    return features_upsampled, target_upsampled\n",
    "\n",
    "features_upsampled, target_upsampled = upsample(features_train, target_train, 4)\n",
    "target_upsampled.value_counts()"
   ]
  },
  {
   "cell_type": "code",
   "execution_count": 463,
   "metadata": {},
   "outputs": [
    {
     "data": {
      "image/png": "[encoded data removed]",
      "text/plain": [
       "<Figure size 432x288 with 1 Axes>"
      ]
     },
     "metadata": {
      "needs_background": "light"
     },
     "output_type": "display_data"
    }
   ],
   "source": [
    "target_upsampled.value_counts().plot(kind='bar', grid=False);"
   ]
  },
  {
   "cell_type": "markdown",
   "metadata": {},
   "source": [
    "Теперь в каждом классе примерно одинаковое количество объектов. Проверим значение *F1*-меры логистической регресии после балансировки классов."
   ]
  },
  {
   "cell_type": "code",
   "execution_count": 480,
   "metadata": {},
   "outputs": [
    {
     "name": "stdout",
     "output_type": "stream",
     "text": [
      "F1-мера логистической регрессии: 0.4888507718696398\n",
      "ROC-AUC логистической регрессии: 0.76357526963023\n"
     ]
    }
   ],
   "source": [
    "model_lr = LogisticRegression(solver='liblinear', random_state=12345)\n",
    "model_lr.fit(features_upsampled, target_upsampled)\n",
    "predicted_valid = model_lr.predict(features_valid)\n",
    "f1_valid = f1_score(predicted_valid, target_valid)\n",
    "\n",
    "probabilities_valid = model_lr.predict_proba(features_valid)\n",
    "probabilities_one_valid = probabilities_valid[:, 1]\n",
    "roc_auc =  roc_auc_score(target_valid, probabilities_one_valid)\n",
    "\n",
    "print('F1-мера логистической регрессии:', f1_valid)\n",
    "print('ROC-AUC логистической регрессии:', roc_auc)"
   ]
  },
  {
   "cell_type": "markdown",
   "metadata": {},
   "source": [
    "Значения все еще значительно меньше, чем у случайного леса. Построим модель случайного леса с оптимальными гиперпараметрами."
   ]
  },
  {
   "cell_type": "code",
   "execution_count": 482,
   "metadata": {},
   "outputs": [
    {
     "name": "stdout",
     "output_type": "stream",
     "text": [
      "F1-мера лучшей модели: 0.6291179596174282\n",
      "Максимальная глубина: 9\n",
      "Количество деревьев: 71\n",
      "ROC-AUC лучшей модели: 0.85292374137274\n"
     ]
    }
   ],
   "source": [
    "best_model_forest = None\n",
    "best_result_forest = 0\n",
    "best_depth_forest = 0\n",
    "best_est = 0\n",
    "for est in range(1, 100, 10):\n",
    "    for depth in range(1, 40, 2): \n",
    "        model_forest = RandomForestClassifier(random_state=12345, n_estimators = est, max_depth = depth)\n",
    "        model_forest.fit(features_upsampled, target_upsampled)\n",
    "        predictions = model_forest.predict(features_valid)\n",
    "        result = f1_score(target_valid, predictions)\n",
    "        if result > best_result_forest:\n",
    "            best_result_forest = result\n",
    "            best_model_forest = model_forest\n",
    "            best_depth_forest = depth\n",
    "            best_est = est\n",
    "            \n",
    "probabilities_valid = best_model_forest.predict_proba(features_valid)\n",
    "probabilities_one_valid = probabilities_valid[:, 1]\n",
    "roc_auc =  roc_auc_score(target_valid, probabilities_one_valid)\n",
    "\n",
    "print('F1-мера лучшей модели:', best_result_forest)\n",
    "print('Максимальная глубина:', best_depth_forest)\n",
    "print('Количество деревьев:', best_est)\n",
    "print('ROC-AUC лучшей модели:', roc_auc)"
   ]
  },
  {
   "cell_type": "markdown",
   "metadata": {},
   "source": [
    "Перебирая гиперпараметры, удалось установить, что самыми оптимальными являются следующие значения. Максимальная глубина дерева — **71**, количество деревьев — **9**. При данных гиперпараметрах значение *F1*-меры становится **0.629**. Значение *ROC-AUC* также выросло и состовляет **0.853**."
   ]
  },
  {
   "cell_type": "markdown",
   "metadata": {},
   "source": [
    "Проверим, улучшатся ли значения *F1*-меры, если мы мы будем решать проблему дисбаланса классов, уменьшая количество объектов отрицательного класса."
   ]
  },
  {
   "cell_type": "code",
   "execution_count": 466,
   "metadata": {},
   "outputs": [
    {
     "data": {
      "text/plain": [
       "0    1201\n",
       "1    1196\n",
       "Name: exited, dtype: int64"
      ]
     },
     "execution_count": 466,
     "metadata": {},
     "output_type": "execute_result"
    }
   ],
   "source": [
    "def downsample(features, target, fraction):\n",
    "    features_zeros = features[target == 0]\n",
    "    features_ones = features[target == 1]\n",
    "    target_zeros = target[target == 0]\n",
    "    target_ones = target[target == 1]\n",
    "    \n",
    "    features_downsampled = pd.concat(\n",
    "        [features_zeros.sample(frac=fraction, random_state=12345)] + [features_ones])\n",
    "    target_downsampled = pd.concat(\n",
    "        [target_zeros.sample(frac=fraction, random_state=12345)] + [target_ones])\n",
    "    \n",
    "    features_downsampled, target_downsampled = shuffle(\n",
    "        features_downsampled, target_downsampled, random_state=12345)\n",
    "    \n",
    "    return features_downsampled, target_downsampled\n",
    "\n",
    "features_downsampled, target_downsampled = downsample(features_train, target_train, 0.25)\n",
    "target_downsampled.value_counts()"
   ]
  },
  {
   "cell_type": "code",
   "execution_count": 467,
   "metadata": {},
   "outputs": [
    {
     "data": {
      "image/png": "[encoded data removed]",
      "text/plain": [
       "<Figure size 432x288 with 1 Axes>"
      ]
     },
     "metadata": {
      "needs_background": "light"
     },
     "output_type": "display_data"
    }
   ],
   "source": [
    "target_downsampled.value_counts().plot(kind='bar', grid=False);"
   ]
  },
  {
   "cell_type": "markdown",
   "metadata": {},
   "source": [
    "Теперь в каждом классе примерно одинаковое количество объектов. Проверим значение F1-меры логистической регресии после балансировки классов."
   ]
  },
  {
   "cell_type": "code",
   "execution_count": 481,
   "metadata": {},
   "outputs": [
    {
     "name": "stdout",
     "output_type": "stream",
     "text": [
      "F1-мера логистической регрессии: 0.48406546080964685\n",
      "ROC-AUC логистической регрессии: 0.7621356286936165\n"
     ]
    }
   ],
   "source": [
    "model_lr = LogisticRegression(solver='liblinear', random_state=12345)\n",
    "model_lr.fit(features_downsampled, target_downsampled)\n",
    "predicted_valid = model_lr.predict(features_valid)\n",
    "f1_valid = f1_score(predicted_valid, target_valid)\n",
    "\n",
    "probabilities_valid = model_lr.predict_proba(features_valid)\n",
    "probabilities_one_valid = probabilities_valid[:, 1]\n",
    "roc_auc =  roc_auc_score(target_valid, probabilities_one_valid)\n",
    "\n",
    "print('F1-мера логистической регрессии:', f1_valid)\n",
    "print('ROC-AUC логистической регрессии:', roc_auc)"
   ]
  },
  {
   "cell_type": "markdown",
   "metadata": {},
   "source": [
    "Значение *F1*-меры и *ROC-AUC* практически не изменилось от применения другого способа балансировки классов. Построим модель случайного леса с оптимальными гиперпараметрами."
   ]
  },
  {
   "cell_type": "code",
   "execution_count": 483,
   "metadata": {},
   "outputs": [
    {
     "name": "stdout",
     "output_type": "stream",
     "text": [
      "F1-мера лучшей модели: 0.6017357762777242\n",
      "Максимальная глубина: 5\n",
      "Количество деревьев: 36\n",
      "ROC-AUC лучшей модели: 0.8445339011244926\n"
     ]
    }
   ],
   "source": [
    "best_model_forest = None\n",
    "best_result_forest = 0\n",
    "best_depth_forest = 0\n",
    "best_est = 0\n",
    "for est in range(1, 50, 5):\n",
    "    for depth in range(1, 40, 2):\n",
    "        model_forest = RandomForestClassifier(random_state=12345, n_estimators = est, max_depth = depth)\n",
    "        model_forest.fit(features_downsampled, target_downsampled)\n",
    "        predictions = model_forest.predict(features_valid)\n",
    "        result = f1_score(target_valid, predictions)\n",
    "        if result > best_result_forest:\n",
    "            best_result_forest = result\n",
    "            best_model_forest = model_forest\n",
    "            best_depth_forest = depth\n",
    "            best_est = est\n",
    "            \n",
    "probabilities_valid = best_model_forest.predict_proba(features_valid)\n",
    "probabilities_one_valid = probabilities_valid[:, 1]\n",
    "roc_auc =  roc_auc_score(target_valid, probabilities_one_valid)\n",
    "\n",
    "print('F1-мера лучшей модели:', best_result_forest)\n",
    "print('Максимальная глубина:', best_depth_forest)\n",
    "print('Количество деревьев:', best_est)\n",
    "print('ROC-AUC лучшей модели:', roc_auc)"
   ]
  },
  {
   "cell_type": "markdown",
   "metadata": {},
   "source": [
    "Максимальное значение *F1*-мера, которого удалось добиться равняется **0.602**. Данный способ борьбы с дисбалансом показал более худшее значение *F1*-меры, чем предыдущий. Все-таки для данной задачи лучше устранить дисбаланс с помощью *upsampling*."
   ]
  },
  {
   "cell_type": "markdown",
   "metadata": {},
   "source": [
    "**Вывод**\n",
    "\n",
    "В данном разделе мы применили несколько способов борьбы с дисбаланом классов в целевом признаке: *upsampling* и *downsampling*. Для каждого из способов мы обучили несколько моделей, проанализировали значение метрики *F1* на валидационных данных и выяснили, какая модель показывает наилучшие результаты. Лучшей оказалось модель случайного леса, которой на вход передали признаки, сбалансированные техникой *upsampling*, и со следующими гиперпараметрами. Максимальная глубина дерева — **71**, количество деревьев — **9**. При данных гиперпараметрах значение *F1*-меры становится **0.629**, а значение *ROC-AUC* выросло до **0.853**.  Именно эту модель будем использовать в дальнейшем для проверки на тестовых данных."
   ]
  },
  {
   "cell_type": "markdown",
   "metadata": {},
   "source": [
    "## Тестирование модели"
   ]
  },
  {
   "cell_type": "markdown",
   "metadata": {},
   "source": [
    "Заново обучим финальную модель и выполним проверку на тестовых данных."
   ]
  },
  {
   "cell_type": "code",
   "execution_count": 470,
   "metadata": {},
   "outputs": [
    {
     "name": "stdout",
     "output_type": "stream",
     "text": [
      "F1-мера финальной модели: 0.6064382139148494\n",
      "Accuracy финальной модели: 0.8105\n"
     ]
    }
   ],
   "source": [
    "final_model = RandomForestClassifier(random_state=12345, n_estimators = 71, max_depth = 9)\n",
    "final_model.fit(features_upsampled, target_upsampled)\n",
    "predicted_test = final_model.predict(features_test)\n",
    "f1_test = f1_score(predicted_test, target_test)\n",
    "accuracy = accuracy_score(predicted_test, target_test)\n",
    "\n",
    "print('F1-мера финальной модели:', f1_test)\n",
    "print('Accuracy финальной модели:', accuracy)"
   ]
  },
  {
   "cell_type": "markdown",
   "metadata": {},
   "source": [
    "Значение *F1*-меры равняется **0.61**, мы достигли необходимого показателя данной метрики. *Accuracy* нашей модели равняется **0.81**, то есть наша модель верно предсказывает уход клиента из банка в 81% случаев. Из-за того, что в нашей выборке 75% клиентов остаётся с банком, мы можем просто каждого клиента классифицировать значением 0 (т.е. про каждого нового клиента говорить, что он останется с банком), и такая модель будет верно предсказывать поведение клиента в примерно 75% случаев. Такая модель и правда не слишком адекватна. Но наша модель выдаёт верные предсказания чаще, чем в 75% случаев, а значит она совершеннее самой элементарной модели, и наша работа была проделана не зря.\n",
    "\n",
    "Построим *ROC*-кривую и выясним значение *ROC-AUC*, чтобы понять, как сильно наша модель отличается от случайной."
   ]
  },
  {
   "cell_type": "code",
   "execution_count": 471,
   "metadata": {},
   "outputs": [
    {
     "data": {
      "image/png": "[encoded data removed]",
      "text/plain": [
       "<Figure size 432x288 with 1 Axes>"
      ]
     },
     "metadata": {
      "needs_background": "light"
     },
     "output_type": "display_data"
    }
   ],
   "source": [
    "probabilities_test = final_model.predict_proba(features_test)\n",
    "probabilities_one_test = probabilities_test[:, 1]\n",
    "\n",
    "fpr, tpr, thresholds = roc_curve(target_test, probabilities_one_test) \n",
    "\n",
    "plt.figure()\n",
    "plt.plot(fpr, tpr)\n",
    "plt.plot([0, 1], [0, 1], linestyle='--')\n",
    "plt.xlim([0.0, 1.0])\n",
    "plt.ylim([0.0, 1.0])\n",
    "plt.xlabel(\"False Positive Rate\")\n",
    "plt.ylabel(\"True Positive Rate\")\n",
    "plt.title(\"ROC-кривая\")\n",
    "plt.show()"
   ]
  },
  {
   "cell_type": "code",
   "execution_count": 473,
   "metadata": {},
   "outputs": [
    {
     "data": {
      "text/plain": [
       "0.8533709305306332"
      ]
     },
     "execution_count": 473,
     "metadata": {},
     "output_type": "execute_result"
    }
   ],
   "source": [
    "auc_roc =  roc_auc_score(target_test, probabilities_one_test)\n",
    "auc_roc"
   ]
  },
  {
   "cell_type": "markdown",
   "metadata": {},
   "source": [
    "Судя по графику и значению *ROC-AUC* в **0.85**, наша модель совершает предсказания гораздо лучше случайной модели. Для случайной модели значение данной метрики равняется **0.5**."
   ]
  },
  {
   "cell_type": "markdown",
   "metadata": {},
   "source": [
    "## Общий вывод"
   ]
  },
  {
   "cell_type": "markdown",
   "metadata": {},
   "source": [
    "В ходе исследования мы провели работу для прогнозирования, уйдёт ли клиент из банка в ближайшее время или нет. \n",
    "\n",
    "Исследуя данные, мы:\n",
    "1. Обработали и подготовили датафрейм для применения методов машинного обучения.\n",
    "2. Посторили такие модели машинного обучения, как случайный лес, логистическая регрессия без учёта дисбаланса.\n",
    "3. Обучили модели случайного леса и логистической регрессии, уже устранив дисбаланс классов, и подобрали гиперпараметры для достижения предельно большого значения *F1*-меры. Наилучшей на валидационной выборке оказалось модель случайного леса, которой на вход передали признаки, сбалансированные техникой *upsampling*, и со следующими гиперпараметрами. Максимальная глубина дерева — **71**, количество деревьев — **9**. При данных гиперпараметрах значение *F1*-меры становится **0.63**, а значение *ROC-AUC* равняется **0.853**. Данную модель выбрали в качестве итоговой.\n",
    "4. Повторно обучили итоговую модель, проверили её на тестовых данных. В результате получили следующие итоговые значения метрик: *F1*-мера — **0.61**, *accuracy* —  **0.81**, *AUC-ROC* — **0.85**. Полученные значения демонстрируют, что мы успешно справились с задачей и преодолели необходимый порог по метрике *F1* в **0.59**."
   ]
  }
 ],
 "metadata": {
  "ExecuteTimeLog": [
   {
    "duration": 368,
    "start_time": "2023-05-20T03:00:20.291Z"
   },
   {
    "duration": 101,
    "start_time": "2023-05-20T03:00:50.699Z"
   },
   {
    "duration": 49,
    "start_time": "2023-05-20T12:09:30.242Z"
   },
   {
    "duration": 409,
    "start_time": "2023-05-20T12:09:52.298Z"
   },
   {
    "duration": 3,
    "start_time": "2023-05-20T12:09:53.950Z"
   },
   {
    "duration": 37,
    "start_time": "2023-05-20T12:10:05.562Z"
   },
   {
    "duration": 114,
    "start_time": "2023-05-20T12:10:07.984Z"
   },
   {
    "duration": 12,
    "start_time": "2023-05-20T12:10:10.377Z"
   },
   {
    "duration": 1636,
    "start_time": "2023-05-20T12:13:58.622Z"
   },
   {
    "duration": 36,
    "start_time": "2023-05-20T12:15:56.822Z"
   },
   {
    "duration": 11,
    "start_time": "2023-05-20T12:17:03.273Z"
   },
   {
    "duration": 20,
    "start_time": "2023-05-20T13:18:40.342Z"
   },
   {
    "duration": 6,
    "start_time": "2023-05-20T13:18:43.034Z"
   },
   {
    "duration": 8,
    "start_time": "2023-05-20T13:19:39.630Z"
   },
   {
    "duration": 20,
    "start_time": "2023-05-20T13:20:02.255Z"
   },
   {
    "duration": 20,
    "start_time": "2023-05-20T14:50:53.654Z"
   },
   {
    "duration": 20,
    "start_time": "2023-05-20T14:54:39.479Z"
   },
   {
    "duration": 8,
    "start_time": "2023-05-20T14:57:18.369Z"
   },
   {
    "duration": 4,
    "start_time": "2023-05-20T14:57:21.891Z"
   },
   {
    "duration": 3,
    "start_time": "2023-05-20T15:00:29.780Z"
   },
   {
    "duration": 5,
    "start_time": "2023-05-20T15:00:51.066Z"
   },
   {
    "duration": 18,
    "start_time": "2023-05-20T15:01:46.853Z"
   },
   {
    "duration": 5,
    "start_time": "2023-05-20T15:07:38.875Z"
   },
   {
    "duration": 1505,
    "start_time": "2023-05-20T16:13:56.896Z"
   },
   {
    "duration": 12,
    "start_time": "2023-05-20T16:14:13.509Z"
   },
   {
    "duration": 5,
    "start_time": "2023-05-20T16:14:39.989Z"
   },
   {
    "duration": 13,
    "start_time": "2023-05-20T16:14:46.107Z"
   },
   {
    "duration": 7,
    "start_time": "2023-05-20T16:22:20.220Z"
   },
   {
    "duration": 84,
    "start_time": "2023-05-21T15:09:22.494Z"
   },
   {
    "duration": 485,
    "start_time": "2023-05-21T15:09:26.892Z"
   },
   {
    "duration": 3,
    "start_time": "2023-05-21T15:09:27.380Z"
   },
   {
    "duration": 159,
    "start_time": "2023-05-21T15:09:27.384Z"
   },
   {
    "duration": 15,
    "start_time": "2023-05-21T15:09:27.544Z"
   },
   {
    "duration": 2372,
    "start_time": "2023-05-21T15:09:27.562Z"
   },
   {
    "duration": 85,
    "start_time": "2023-05-21T15:09:29.936Z"
   },
   {
    "duration": 20,
    "start_time": "2023-05-21T15:09:30.023Z"
   },
   {
    "duration": 38,
    "start_time": "2023-05-21T15:09:30.046Z"
   },
   {
    "duration": 83,
    "start_time": "2023-05-21T15:09:30.086Z"
   },
   {
    "duration": 9,
    "start_time": "2023-05-21T15:09:32.848Z"
   },
   {
    "duration": 44,
    "start_time": "2023-05-22T04:31:20.320Z"
   },
   {
    "duration": 435,
    "start_time": "2023-05-22T04:31:25.119Z"
   },
   {
    "duration": 3,
    "start_time": "2023-05-22T04:31:25.556Z"
   },
   {
    "duration": 120,
    "start_time": "2023-05-22T04:31:25.560Z"
   },
   {
    "duration": 16,
    "start_time": "2023-05-22T04:31:25.682Z"
   },
   {
    "duration": 1751,
    "start_time": "2023-05-22T04:31:25.700Z"
   },
   {
    "duration": 39,
    "start_time": "2023-05-22T04:31:27.452Z"
   },
   {
    "duration": 11,
    "start_time": "2023-05-22T04:31:27.493Z"
   },
   {
    "duration": 5,
    "start_time": "2023-05-22T04:31:27.525Z"
   },
   {
    "duration": 33,
    "start_time": "2023-05-22T04:31:27.532Z"
   },
   {
    "duration": 18,
    "start_time": "2023-05-22T04:31:27.567Z"
   },
   {
    "duration": 6,
    "start_time": "2023-05-22T04:31:28.663Z"
   },
   {
    "duration": 8,
    "start_time": "2023-05-22T04:39:21.015Z"
   },
   {
    "duration": 9,
    "start_time": "2023-05-22T04:39:32.226Z"
   },
   {
    "duration": 6,
    "start_time": "2023-05-22T04:39:40.933Z"
   },
   {
    "duration": 8,
    "start_time": "2023-05-22T04:39:53.624Z"
   },
   {
    "duration": 8,
    "start_time": "2023-05-22T04:40:01.665Z"
   },
   {
    "duration": 8,
    "start_time": "2023-05-22T04:40:05.933Z"
   },
   {
    "duration": 80,
    "start_time": "2023-05-22T04:40:10.390Z"
   },
   {
    "duration": 6,
    "start_time": "2023-05-22T04:40:13.067Z"
   },
   {
    "duration": 90,
    "start_time": "2023-05-22T05:01:05.936Z"
   },
   {
    "duration": 4,
    "start_time": "2023-05-22T05:01:45.168Z"
   },
   {
    "duration": 28,
    "start_time": "2023-05-22T05:01:50.041Z"
   },
   {
    "duration": 22,
    "start_time": "2023-05-22T05:02:02.071Z"
   },
   {
    "duration": 1274,
    "start_time": "2023-05-22T05:02:09.394Z"
   },
   {
    "duration": 1368,
    "start_time": "2023-05-22T05:02:14.294Z"
   },
   {
    "duration": 3,
    "start_time": "2023-05-22T05:02:51.759Z"
   },
   {
    "duration": 28,
    "start_time": "2023-05-22T05:02:51.765Z"
   },
   {
    "duration": 65,
    "start_time": "2023-05-22T05:02:51.795Z"
   },
   {
    "duration": 14,
    "start_time": "2023-05-22T05:02:51.862Z"
   },
   {
    "duration": 1578,
    "start_time": "2023-05-22T05:02:51.879Z"
   },
   {
    "duration": 70,
    "start_time": "2023-05-22T05:02:53.459Z"
   },
   {
    "duration": 19,
    "start_time": "2023-05-22T05:02:53.531Z"
   },
   {
    "duration": 23,
    "start_time": "2023-05-22T05:02:53.553Z"
   },
   {
    "duration": 54,
    "start_time": "2023-05-22T05:02:53.578Z"
   },
   {
    "duration": 17,
    "start_time": "2023-05-22T05:02:53.634Z"
   },
   {
    "duration": 14,
    "start_time": "2023-05-22T05:02:53.653Z"
   },
   {
    "duration": 16,
    "start_time": "2023-05-22T05:02:53.669Z"
   },
   {
    "duration": 15,
    "start_time": "2023-05-22T05:02:57.258Z"
   },
   {
    "duration": 6,
    "start_time": "2023-05-22T05:07:57.221Z"
   },
   {
    "duration": 5,
    "start_time": "2023-05-22T05:08:02.080Z"
   },
   {
    "duration": 25,
    "start_time": "2023-05-22T05:12:59.445Z"
   },
   {
    "duration": 25,
    "start_time": "2023-05-22T05:15:08.885Z"
   },
   {
    "duration": 17,
    "start_time": "2023-05-22T05:15:13.214Z"
   },
   {
    "duration": 752,
    "start_time": "2023-05-22T05:52:42.742Z"
   },
   {
    "duration": 15,
    "start_time": "2023-05-22T05:52:51.585Z"
   },
   {
    "duration": 51,
    "start_time": "2023-05-22T06:00:33.499Z"
   },
   {
    "duration": 3,
    "start_time": "2023-05-22T06:00:40.742Z"
   },
   {
    "duration": 16,
    "start_time": "2023-05-22T06:00:49.746Z"
   },
   {
    "duration": 40,
    "start_time": "2023-05-22T06:01:30.348Z"
   },
   {
    "duration": 34,
    "start_time": "2023-05-22T06:01:43.745Z"
   },
   {
    "duration": 20,
    "start_time": "2023-05-22T06:14:54.922Z"
   },
   {
    "duration": 8,
    "start_time": "2023-05-22T06:15:51.671Z"
   },
   {
    "duration": 6,
    "start_time": "2023-05-22T06:16:13.879Z"
   },
   {
    "duration": 1092,
    "start_time": "2023-05-22T10:19:22.240Z"
   },
   {
    "duration": 9,
    "start_time": "2023-05-22T10:32:39.477Z"
   },
   {
    "duration": 4,
    "start_time": "2023-05-22T10:32:52.135Z"
   },
   {
    "duration": 14,
    "start_time": "2023-05-22T10:32:52.142Z"
   },
   {
    "duration": 230,
    "start_time": "2023-05-22T10:32:52.158Z"
   },
   {
    "duration": 16,
    "start_time": "2023-05-22T10:32:52.390Z"
   },
   {
    "duration": 2724,
    "start_time": "2023-05-22T10:32:52.409Z"
   },
   {
    "duration": 75,
    "start_time": "2023-05-22T10:32:55.136Z"
   },
   {
    "duration": 14,
    "start_time": "2023-05-22T10:32:55.213Z"
   },
   {
    "duration": 8,
    "start_time": "2023-05-22T10:32:55.229Z"
   },
   {
    "duration": 50,
    "start_time": "2023-05-22T10:32:55.238Z"
   },
   {
    "duration": 10,
    "start_time": "2023-05-22T10:32:55.295Z"
   },
   {
    "duration": 7,
    "start_time": "2023-05-22T10:32:55.307Z"
   },
   {
    "duration": 12,
    "start_time": "2023-05-22T10:32:55.316Z"
   },
   {
    "duration": 15,
    "start_time": "2023-05-22T10:32:55.330Z"
   },
   {
    "duration": 65,
    "start_time": "2023-05-22T10:32:55.348Z"
   },
   {
    "duration": 38,
    "start_time": "2023-05-22T10:32:55.415Z"
   },
   {
    "duration": 6,
    "start_time": "2023-05-22T10:32:55.455Z"
   },
   {
    "duration": 30,
    "start_time": "2023-05-22T10:32:55.463Z"
   },
   {
    "duration": 30,
    "start_time": "2023-05-22T10:33:10.875Z"
   },
   {
    "duration": 178,
    "start_time": "2023-05-22T10:42:22.501Z"
   },
   {
    "duration": 73,
    "start_time": "2023-05-22T10:42:45.122Z"
   },
   {
    "duration": 183,
    "start_time": "2023-05-22T10:43:02.600Z"
   },
   {
    "duration": 149,
    "start_time": "2023-05-22T10:43:07.166Z"
   },
   {
    "duration": 139,
    "start_time": "2023-05-22T10:55:22.487Z"
   },
   {
    "duration": 4,
    "start_time": "2023-05-22T10:55:31.491Z"
   },
   {
    "duration": 4,
    "start_time": "2023-05-22T10:55:45.654Z"
   },
   {
    "duration": 756,
    "start_time": "2023-05-22T10:56:02.214Z"
   },
   {
    "duration": 6522,
    "start_time": "2023-05-22T11:00:33.603Z"
   },
   {
    "duration": 15797,
    "start_time": "2023-05-22T11:01:02.910Z"
   },
   {
    "duration": 48105,
    "start_time": "2023-05-22T11:02:13.189Z"
   },
   {
    "duration": 12245,
    "start_time": "2023-05-22T11:03:47.640Z"
   },
   {
    "duration": 50783,
    "start_time": "2023-05-22T11:04:07.690Z"
   },
   {
    "duration": 71,
    "start_time": "2023-05-22T11:19:57.716Z"
   },
   {
    "duration": 136,
    "start_time": "2023-05-22T14:23:23.308Z"
   },
   {
    "duration": 160,
    "start_time": "2023-05-22T14:24:49.946Z"
   },
   {
    "duration": 139,
    "start_time": "2023-05-22T14:26:08.252Z"
   },
   {
    "duration": 146,
    "start_time": "2023-05-22T14:26:12.746Z"
   },
   {
    "duration": 150,
    "start_time": "2023-05-22T14:26:16.575Z"
   },
   {
    "duration": 139,
    "start_time": "2023-05-22T14:27:10.857Z"
   },
   {
    "duration": 126,
    "start_time": "2023-05-22T14:27:13.263Z"
   },
   {
    "duration": 5,
    "start_time": "2023-05-22T14:27:33.179Z"
   },
   {
    "duration": 4,
    "start_time": "2023-05-22T14:40:25.601Z"
   },
   {
    "duration": 6,
    "start_time": "2023-05-22T14:52:23.952Z"
   },
   {
    "duration": 20,
    "start_time": "2023-05-22T14:52:50.491Z"
   },
   {
    "duration": 10,
    "start_time": "2023-05-22T14:52:53.999Z"
   },
   {
    "duration": 5,
    "start_time": "2023-05-22T14:52:56.416Z"
   },
   {
    "duration": 3,
    "start_time": "2023-05-22T14:53:10.454Z"
   },
   {
    "duration": 4,
    "start_time": "2023-05-22T14:53:13.784Z"
   },
   {
    "duration": 145,
    "start_time": "2023-05-22T14:53:16.753Z"
   },
   {
    "duration": 10,
    "start_time": "2023-05-22T15:02:26.971Z"
   },
   {
    "duration": 15,
    "start_time": "2023-05-22T15:02:34.989Z"
   },
   {
    "duration": 218,
    "start_time": "2023-05-22T15:02:44.203Z"
   },
   {
    "duration": 108,
    "start_time": "2023-05-22T15:02:53.005Z"
   },
   {
    "duration": 106,
    "start_time": "2023-05-22T15:02:58.948Z"
   },
   {
    "duration": 5,
    "start_time": "2023-05-22T15:03:00.993Z"
   },
   {
    "duration": 16,
    "start_time": "2023-05-22T15:14:40.053Z"
   },
   {
    "duration": 74,
    "start_time": "2023-05-22T15:15:15.804Z"
   },
   {
    "duration": 65,
    "start_time": "2023-05-22T15:16:29.075Z"
   },
   {
    "duration": 97,
    "start_time": "2023-05-22T15:16:45.181Z"
   },
   {
    "duration": 30,
    "start_time": "2023-05-22T15:18:49.487Z"
   },
   {
    "duration": 184,
    "start_time": "2023-05-22T15:18:54.303Z"
   },
   {
    "duration": 201,
    "start_time": "2023-05-22T15:19:50.830Z"
   },
   {
    "duration": 19,
    "start_time": "2023-05-22T15:20:46.989Z"
   },
   {
    "duration": 141,
    "start_time": "2023-05-22T15:20:48.951Z"
   },
   {
    "duration": 689,
    "start_time": "2023-05-22T15:21:03.760Z"
   },
   {
    "duration": 46295,
    "start_time": "2023-05-22T15:21:31.800Z"
   },
   {
    "duration": 61277,
    "start_time": "2023-05-22T15:22:37.625Z"
   },
   {
    "duration": 1009,
    "start_time": "2023-05-22T15:30:10.616Z"
   },
   {
    "duration": 89,
    "start_time": "2023-05-22T15:30:18.069Z"
   },
   {
    "duration": 908,
    "start_time": "2023-05-22T15:30:23.661Z"
   },
   {
    "duration": 886,
    "start_time": "2023-05-22T15:30:38.305Z"
   },
   {
    "duration": 21,
    "start_time": "2023-05-22T16:32:45.143Z"
   },
   {
    "duration": 29,
    "start_time": "2023-05-22T16:33:17.013Z"
   },
   {
    "duration": 27,
    "start_time": "2023-05-22T16:33:37.273Z"
   },
   {
    "duration": 22,
    "start_time": "2023-05-22T16:33:47.314Z"
   },
   {
    "duration": 16,
    "start_time": "2023-05-22T16:34:01.142Z"
   },
   {
    "duration": 29,
    "start_time": "2023-05-22T16:34:13.685Z"
   },
   {
    "duration": 26,
    "start_time": "2023-05-22T16:34:18.281Z"
   },
   {
    "duration": 237,
    "start_time": "2023-05-22T16:36:08.190Z"
   },
   {
    "duration": 109,
    "start_time": "2023-05-22T16:39:08.090Z"
   },
   {
    "duration": 13,
    "start_time": "2023-05-22T16:39:28.848Z"
   },
   {
    "duration": 125,
    "start_time": "2023-05-22T16:39:32.792Z"
   },
   {
    "duration": 127,
    "start_time": "2023-05-22T16:39:49.916Z"
   },
   {
    "duration": 83056,
    "start_time": "2023-05-22T16:39:54.057Z"
   },
   {
    "duration": 107,
    "start_time": "2023-05-22T16:57:10.252Z"
   },
   {
    "duration": 90,
    "start_time": "2023-05-22T16:57:13.001Z"
   },
   {
    "duration": 96,
    "start_time": "2023-05-22T16:57:15.003Z"
   },
   {
    "duration": 91,
    "start_time": "2023-05-22T16:57:18.024Z"
   },
   {
    "duration": 6,
    "start_time": "2023-05-22T16:57:34.172Z"
   },
   {
    "duration": 98,
    "start_time": "2023-05-22T16:58:00.187Z"
   },
   {
    "duration": 7,
    "start_time": "2023-05-22T16:58:14.303Z"
   },
   {
    "duration": 61558,
    "start_time": "2023-05-22T16:59:46.201Z"
   },
   {
    "duration": 15,
    "start_time": "2023-05-22T17:01:36.223Z"
   },
   {
    "duration": 107394,
    "start_time": "2023-05-22T17:01:44.898Z"
   },
   {
    "duration": 84,
    "start_time": "2023-05-22T17:05:52.794Z"
   },
   {
    "duration": 648,
    "start_time": "2023-05-22T17:06:07.999Z"
   },
   {
    "duration": 20,
    "start_time": "2023-05-22T17:06:14.895Z"
   },
   {
    "duration": 16,
    "start_time": "2023-05-22T17:09:36.244Z"
   },
   {
    "duration": 18,
    "start_time": "2023-05-22T17:09:52.204Z"
   },
   {
    "duration": 14,
    "start_time": "2023-05-22T17:10:04.645Z"
   },
   {
    "duration": 130,
    "start_time": "2023-05-22T17:10:17.551Z"
   },
   {
    "duration": 100,
    "start_time": "2023-05-22T17:10:24.898Z"
   },
   {
    "duration": 14,
    "start_time": "2023-05-22T17:11:54.151Z"
   },
   {
    "duration": 46380,
    "start_time": "2023-05-22T17:14:02.582Z"
   },
   {
    "duration": 689,
    "start_time": "2023-05-22T17:40:43.141Z"
   },
   {
    "duration": 262,
    "start_time": "2023-05-22T17:42:51.129Z"
   },
   {
    "duration": 290,
    "start_time": "2023-05-22T17:43:18.872Z"
   },
   {
    "duration": 137,
    "start_time": "2023-05-22T17:44:48.749Z"
   },
   {
    "duration": 204,
    "start_time": "2023-05-22T17:45:01.798Z"
   },
   {
    "duration": 278,
    "start_time": "2023-05-22T17:45:18.994Z"
   },
   {
    "duration": 280,
    "start_time": "2023-05-22T17:45:31.627Z"
   },
   {
    "duration": 14665,
    "start_time": "2023-05-22T17:46:05.126Z"
   },
   {
    "duration": 21184,
    "start_time": "2023-05-22T17:46:55.978Z"
   },
   {
    "duration": 148432,
    "start_time": "2023-05-22T17:47:49.670Z"
   },
   {
    "duration": 977,
    "start_time": "2023-05-22T18:04:25.885Z"
   },
   {
    "duration": 521,
    "start_time": "2023-05-22T18:04:59.865Z"
   },
   {
    "duration": 75628,
    "start_time": "2023-05-22T18:05:50.859Z"
   },
   {
    "duration": 55443,
    "start_time": "2023-05-22T18:07:14.138Z"
   },
   {
    "duration": 549,
    "start_time": "2023-05-22T18:08:10.564Z"
   },
   {
    "duration": 74641,
    "start_time": "2023-05-22T18:10:14.073Z"
   },
   {
    "duration": 40578,
    "start_time": "2023-05-22T18:11:28.717Z"
   },
   {
    "duration": 30069,
    "start_time": "2023-05-22T18:14:26.317Z"
   },
   {
    "duration": 16571,
    "start_time": "2023-05-22T18:15:17.654Z"
   },
   {
    "duration": 42308,
    "start_time": "2023-05-22T18:16:50.176Z"
   },
   {
    "duration": 56687,
    "start_time": "2023-05-22T18:17:56.270Z"
   },
   {
    "duration": 1589,
    "start_time": "2023-05-23T03:18:44.467Z"
   },
   {
    "duration": 105,
    "start_time": "2023-05-23T03:23:32.512Z"
   },
   {
    "duration": 3,
    "start_time": "2023-05-23T03:23:42.926Z"
   },
   {
    "duration": 6,
    "start_time": "2023-05-23T03:23:42.931Z"
   },
   {
    "duration": 99,
    "start_time": "2023-05-23T03:23:42.938Z"
   },
   {
    "duration": 12,
    "start_time": "2023-05-23T03:23:43.038Z"
   },
   {
    "duration": 1305,
    "start_time": "2023-05-23T03:23:43.052Z"
   },
   {
    "duration": 45,
    "start_time": "2023-05-23T03:23:44.359Z"
   },
   {
    "duration": 9,
    "start_time": "2023-05-23T03:23:44.405Z"
   },
   {
    "duration": 7,
    "start_time": "2023-05-23T03:23:44.415Z"
   },
   {
    "duration": 38,
    "start_time": "2023-05-23T03:23:44.423Z"
   },
   {
    "duration": 7,
    "start_time": "2023-05-23T03:23:44.462Z"
   },
   {
    "duration": 8,
    "start_time": "2023-05-23T03:23:44.470Z"
   },
   {
    "duration": 19,
    "start_time": "2023-05-23T03:23:44.479Z"
   },
   {
    "duration": 19,
    "start_time": "2023-05-23T03:23:44.500Z"
   },
   {
    "duration": 39,
    "start_time": "2023-05-23T03:23:44.522Z"
   },
   {
    "duration": 37,
    "start_time": "2023-05-23T03:23:44.563Z"
   },
   {
    "duration": 8,
    "start_time": "2023-05-23T03:23:44.602Z"
   },
   {
    "duration": 17,
    "start_time": "2023-05-23T03:23:44.612Z"
   },
   {
    "duration": 68,
    "start_time": "2023-05-23T03:23:44.631Z"
   },
   {
    "duration": 308,
    "start_time": "2023-05-23T03:23:44.701Z"
   },
   {
    "duration": 651,
    "start_time": "2023-05-23T03:23:45.011Z"
   },
   {
    "duration": 51910,
    "start_time": "2023-05-23T03:23:45.663Z"
   },
   {
    "duration": 5,
    "start_time": "2023-05-23T03:24:37.574Z"
   },
   {
    "duration": 97,
    "start_time": "2023-05-23T03:24:37.580Z"
   },
   {
    "duration": 16,
    "start_time": "2023-05-23T03:24:37.679Z"
   },
   {
    "duration": 81,
    "start_time": "2023-05-23T03:24:37.697Z"
   },
   {
    "duration": 40,
    "start_time": "2023-05-23T03:24:37.780Z"
   },
   {
    "duration": 70393,
    "start_time": "2023-05-23T03:24:37.895Z"
   },
   {
    "duration": 17,
    "start_time": "2023-05-23T03:25:48.290Z"
   },
   {
    "duration": 115,
    "start_time": "2023-05-23T03:25:48.308Z"
   },
   {
    "duration": 73,
    "start_time": "2023-05-23T03:25:48.425Z"
   },
   {
    "duration": 15495,
    "start_time": "2023-05-23T03:25:48.501Z"
   },
   {
    "duration": 482,
    "start_time": "2023-05-23T03:29:30.228Z"
   },
   {
    "duration": 467,
    "start_time": "2023-05-23T03:30:05.724Z"
   },
   {
    "duration": 12,
    "start_time": "2023-05-23T03:33:02.101Z"
   },
   {
    "duration": 148,
    "start_time": "2023-05-23T03:33:53.459Z"
   },
   {
    "duration": 149,
    "start_time": "2023-05-23T03:34:54.107Z"
   },
   {
    "duration": 150,
    "start_time": "2023-05-23T03:34:59.039Z"
   },
   {
    "duration": 144,
    "start_time": "2023-05-23T03:35:21.465Z"
   },
   {
    "duration": 128,
    "start_time": "2023-05-23T03:35:27.956Z"
   },
   {
    "duration": 4,
    "start_time": "2023-05-23T03:35:59.043Z"
   },
   {
    "duration": 6,
    "start_time": "2023-05-23T03:36:06.505Z"
   },
   {
    "duration": 1881,
    "start_time": "2023-05-23T06:12:54.116Z"
   },
   {
    "duration": 3,
    "start_time": "2023-05-23T06:12:56.000Z"
   },
   {
    "duration": 141,
    "start_time": "2023-05-23T06:12:56.004Z"
   },
   {
    "duration": 13,
    "start_time": "2023-05-23T06:12:56.147Z"
   },
   {
    "duration": 1325,
    "start_time": "2023-05-23T06:12:56.162Z"
   },
   {
    "duration": 57,
    "start_time": "2023-05-23T06:12:57.489Z"
   },
   {
    "duration": 11,
    "start_time": "2023-05-23T06:12:57.548Z"
   },
   {
    "duration": 35,
    "start_time": "2023-05-23T06:12:57.561Z"
   },
   {
    "duration": 89,
    "start_time": "2023-05-23T06:12:57.597Z"
   },
   {
    "duration": 22,
    "start_time": "2023-05-23T06:12:57.687Z"
   },
   {
    "duration": 13,
    "start_time": "2023-05-23T06:12:57.711Z"
   },
   {
    "duration": 34,
    "start_time": "2023-05-23T06:12:57.726Z"
   },
   {
    "duration": 32,
    "start_time": "2023-05-23T06:12:57.761Z"
   },
   {
    "duration": 33,
    "start_time": "2023-05-23T06:12:57.797Z"
   },
   {
    "duration": 41,
    "start_time": "2023-05-23T06:12:57.832Z"
   },
   {
    "duration": 20,
    "start_time": "2023-05-23T06:12:57.875Z"
   },
   {
    "duration": 63,
    "start_time": "2023-05-23T06:12:57.897Z"
   },
   {
    "duration": 164,
    "start_time": "2023-05-23T06:12:57.962Z"
   },
   {
    "duration": 219,
    "start_time": "2023-05-23T06:12:58.128Z"
   },
   {
    "duration": 1407,
    "start_time": "2023-05-23T06:12:58.349Z"
   },
   {
    "duration": 53712,
    "start_time": "2023-05-23T06:12:59.758Z"
   },
   {
    "duration": 5,
    "start_time": "2023-05-23T06:13:53.471Z"
   },
   {
    "duration": 102,
    "start_time": "2023-05-23T06:13:53.478Z"
   },
   {
    "duration": 12,
    "start_time": "2023-05-23T06:13:53.582Z"
   },
   {
    "duration": 96,
    "start_time": "2023-05-23T06:13:53.596Z"
   },
   {
    "duration": 42,
    "start_time": "2023-05-23T06:13:53.694Z"
   },
   {
    "duration": 77586,
    "start_time": "2023-05-23T06:13:53.739Z"
   },
   {
    "duration": 13,
    "start_time": "2023-05-23T06:15:11.327Z"
   },
   {
    "duration": 162,
    "start_time": "2023-05-23T06:15:11.342Z"
   },
   {
    "duration": 28,
    "start_time": "2023-05-23T06:15:11.506Z"
   },
   {
    "duration": 16875,
    "start_time": "2023-05-23T06:15:11.537Z"
   },
   {
    "duration": 519,
    "start_time": "2023-05-23T06:15:28.414Z"
   },
   {
    "duration": 159,
    "start_time": "2023-05-23T06:15:28.935Z"
   },
   {
    "duration": 7,
    "start_time": "2023-05-23T06:15:29.096Z"
   },
   {
    "duration": 2275,
    "start_time": "2023-05-23T06:19:43.122Z"
   },
   {
    "duration": 3,
    "start_time": "2023-05-23T06:19:45.399Z"
   },
   {
    "duration": 239,
    "start_time": "2023-05-23T06:19:45.403Z"
   },
   {
    "duration": 51,
    "start_time": "2023-05-23T06:19:45.643Z"
   },
   {
    "duration": 1369,
    "start_time": "2023-05-23T06:19:45.696Z"
   },
   {
    "duration": 38,
    "start_time": "2023-05-23T06:19:47.066Z"
   },
   {
    "duration": 22,
    "start_time": "2023-05-23T06:19:47.105Z"
   },
   {
    "duration": 4,
    "start_time": "2023-05-23T06:19:47.129Z"
   },
   {
    "duration": 26,
    "start_time": "2023-05-23T06:19:47.135Z"
   },
   {
    "duration": 6,
    "start_time": "2023-05-23T06:19:47.163Z"
   },
   {
    "duration": 4,
    "start_time": "2023-05-23T06:19:47.171Z"
   },
   {
    "duration": 9,
    "start_time": "2023-05-23T06:19:47.177Z"
   },
   {
    "duration": 41,
    "start_time": "2023-05-23T06:19:47.187Z"
   },
   {
    "duration": 18,
    "start_time": "2023-05-23T06:19:47.231Z"
   },
   {
    "duration": 34,
    "start_time": "2023-05-23T06:19:47.251Z"
   },
   {
    "duration": 6,
    "start_time": "2023-05-23T06:19:47.287Z"
   },
   {
    "duration": 37,
    "start_time": "2023-05-23T06:19:47.295Z"
   },
   {
    "duration": 93,
    "start_time": "2023-05-23T06:19:47.333Z"
   },
   {
    "duration": 226,
    "start_time": "2023-05-23T06:19:47.428Z"
   },
   {
    "duration": 695,
    "start_time": "2023-05-23T06:19:47.655Z"
   },
   {
    "duration": 55868,
    "start_time": "2023-05-23T06:19:48.352Z"
   },
   {
    "duration": 5,
    "start_time": "2023-05-23T06:20:44.222Z"
   },
   {
    "duration": 120,
    "start_time": "2023-05-23T06:20:44.229Z"
   },
   {
    "duration": 13,
    "start_time": "2023-05-23T06:20:44.351Z"
   },
   {
    "duration": 130,
    "start_time": "2023-05-23T06:20:44.366Z"
   },
   {
    "duration": 41,
    "start_time": "2023-05-23T06:20:44.498Z"
   },
   {
    "duration": 77812,
    "start_time": "2023-05-23T06:20:44.541Z"
   },
   {
    "duration": 12,
    "start_time": "2023-05-23T06:22:02.355Z"
   },
   {
    "duration": 145,
    "start_time": "2023-05-23T06:22:02.369Z"
   },
   {
    "duration": 115,
    "start_time": "2023-05-23T06:22:02.515Z"
   },
   {
    "duration": 17094,
    "start_time": "2023-05-23T06:22:02.634Z"
   },
   {
    "duration": 520,
    "start_time": "2023-05-23T06:22:19.729Z"
   },
   {
    "duration": 152,
    "start_time": "2023-05-23T06:22:20.251Z"
   },
   {
    "duration": 7,
    "start_time": "2023-05-23T06:22:20.405Z"
   },
   {
    "duration": 95,
    "start_time": "2023-05-23T13:32:44.209Z"
   },
   {
    "duration": 53,
    "start_time": "2023-05-24T17:05:58.777Z"
   },
   {
    "duration": 1930,
    "start_time": "2023-05-24T17:06:02.964Z"
   },
   {
    "duration": 3,
    "start_time": "2023-05-24T17:06:04.897Z"
   },
   {
    "duration": 102,
    "start_time": "2023-05-24T17:06:11.751Z"
   },
   {
    "duration": 68,
    "start_time": "2023-05-24T17:06:15.753Z"
   },
   {
    "duration": 46,
    "start_time": "2023-05-25T07:07:37.522Z"
   },
   {
    "duration": 1589,
    "start_time": "2023-05-25T07:07:48.256Z"
   },
   {
    "duration": 3,
    "start_time": "2023-05-25T07:07:49.848Z"
   },
   {
    "duration": 179,
    "start_time": "2023-05-25T07:07:49.858Z"
   },
   {
    "duration": 16,
    "start_time": "2023-05-25T07:07:50.039Z"
   },
   {
    "duration": 1500,
    "start_time": "2023-05-25T07:07:50.057Z"
   },
   {
    "duration": 42,
    "start_time": "2023-05-25T07:07:51.559Z"
   },
   {
    "duration": 25,
    "start_time": "2023-05-25T07:08:03.991Z"
   },
   {
    "duration": 4,
    "start_time": "2023-05-25T07:26:03.112Z"
   },
   {
    "duration": 22,
    "start_time": "2023-05-25T07:26:03.118Z"
   },
   {
    "duration": 56,
    "start_time": "2023-05-25T07:26:03.141Z"
   },
   {
    "duration": 12,
    "start_time": "2023-05-25T07:26:03.200Z"
   },
   {
    "duration": 1484,
    "start_time": "2023-05-25T07:26:03.214Z"
   },
   {
    "duration": 40,
    "start_time": "2023-05-25T07:26:04.700Z"
   },
   {
    "duration": 29,
    "start_time": "2023-05-25T07:26:04.741Z"
   },
   {
    "duration": 22,
    "start_time": "2023-05-25T07:26:04.772Z"
   },
   {
    "duration": 4,
    "start_time": "2023-05-25T07:26:04.796Z"
   },
   {
    "duration": 43,
    "start_time": "2023-05-25T07:26:04.802Z"
   },
   {
    "duration": 7,
    "start_time": "2023-05-25T07:26:04.847Z"
   },
   {
    "duration": 9,
    "start_time": "2023-05-25T07:26:04.855Z"
   },
   {
    "duration": 16,
    "start_time": "2023-05-25T07:26:04.866Z"
   },
   {
    "duration": 17,
    "start_time": "2023-05-25T07:26:04.884Z"
   },
   {
    "duration": 2,
    "start_time": "2023-05-25T07:29:03.592Z"
   },
   {
    "duration": 81,
    "start_time": "2023-05-25T07:29:09.693Z"
   },
   {
    "duration": 12,
    "start_time": "2023-05-25T07:29:17.596Z"
   },
   {
    "duration": 4,
    "start_time": "2023-05-25T07:29:32.594Z"
   },
   {
    "duration": 25,
    "start_time": "2023-05-25T07:29:32.601Z"
   },
   {
    "duration": 73,
    "start_time": "2023-05-25T07:29:32.628Z"
   },
   {
    "duration": 12,
    "start_time": "2023-05-25T07:29:32.703Z"
   },
   {
    "duration": 1521,
    "start_time": "2023-05-25T07:29:32.717Z"
   },
   {
    "duration": 46,
    "start_time": "2023-05-25T07:29:34.240Z"
   },
   {
    "duration": 18,
    "start_time": "2023-05-25T07:29:34.288Z"
   },
   {
    "duration": 11,
    "start_time": "2023-05-25T07:29:34.307Z"
   },
   {
    "duration": 6,
    "start_time": "2023-05-25T07:29:34.320Z"
   },
   {
    "duration": 44,
    "start_time": "2023-05-25T07:29:34.329Z"
   },
   {
    "duration": 6,
    "start_time": "2023-05-25T07:29:34.374Z"
   },
   {
    "duration": 17,
    "start_time": "2023-05-25T07:29:34.382Z"
   },
   {
    "duration": 27,
    "start_time": "2023-05-25T07:29:34.400Z"
   },
   {
    "duration": 20,
    "start_time": "2023-05-25T07:29:34.429Z"
   },
   {
    "duration": 17,
    "start_time": "2023-05-25T07:29:34.450Z"
   },
   {
    "duration": 34,
    "start_time": "2023-05-25T07:29:34.468Z"
   },
   {
    "duration": 16,
    "start_time": "2023-05-25T07:29:34.504Z"
   },
   {
    "duration": 11,
    "start_time": "2023-05-25T07:29:34.522Z"
   },
   {
    "duration": 28,
    "start_time": "2023-05-25T07:29:34.535Z"
   },
   {
    "duration": 0,
    "start_time": "2023-05-25T07:29:34.565Z"
   },
   {
    "duration": 0,
    "start_time": "2023-05-25T07:29:34.566Z"
   },
   {
    "duration": 0,
    "start_time": "2023-05-25T07:29:34.567Z"
   },
   {
    "duration": 0,
    "start_time": "2023-05-25T07:29:34.568Z"
   },
   {
    "duration": 0,
    "start_time": "2023-05-25T07:29:34.569Z"
   },
   {
    "duration": 0,
    "start_time": "2023-05-25T07:29:34.570Z"
   },
   {
    "duration": 0,
    "start_time": "2023-05-25T07:29:34.571Z"
   },
   {
    "duration": 0,
    "start_time": "2023-05-25T07:29:34.571Z"
   },
   {
    "duration": 0,
    "start_time": "2023-05-25T07:29:34.572Z"
   },
   {
    "duration": 0,
    "start_time": "2023-05-25T07:29:34.573Z"
   },
   {
    "duration": 0,
    "start_time": "2023-05-25T07:29:34.574Z"
   },
   {
    "duration": 0,
    "start_time": "2023-05-25T07:29:34.575Z"
   },
   {
    "duration": 0,
    "start_time": "2023-05-25T07:29:34.575Z"
   },
   {
    "duration": 0,
    "start_time": "2023-05-25T07:29:34.576Z"
   },
   {
    "duration": 0,
    "start_time": "2023-05-25T07:29:34.577Z"
   },
   {
    "duration": 1,
    "start_time": "2023-05-25T07:29:34.578Z"
   },
   {
    "duration": 42,
    "start_time": "2023-05-25T07:30:58.252Z"
   },
   {
    "duration": 18,
    "start_time": "2023-05-25T07:31:02.742Z"
   },
   {
    "duration": 18,
    "start_time": "2023-05-25T07:31:04.178Z"
   },
   {
    "duration": 17,
    "start_time": "2023-05-25T07:31:05.433Z"
   },
   {
    "duration": 37,
    "start_time": "2023-05-25T07:31:11.034Z"
   },
   {
    "duration": 32,
    "start_time": "2023-05-25T07:31:18.479Z"
   },
   {
    "duration": 4,
    "start_time": "2023-05-25T07:31:33.042Z"
   },
   {
    "duration": 15,
    "start_time": "2023-05-25T07:31:33.048Z"
   },
   {
    "duration": 70,
    "start_time": "2023-05-25T07:31:33.064Z"
   },
   {
    "duration": 13,
    "start_time": "2023-05-25T07:31:33.135Z"
   },
   {
    "duration": 1365,
    "start_time": "2023-05-25T07:31:33.150Z"
   },
   {
    "duration": 47,
    "start_time": "2023-05-25T07:31:34.516Z"
   },
   {
    "duration": 16,
    "start_time": "2023-05-25T07:31:34.565Z"
   },
   {
    "duration": 12,
    "start_time": "2023-05-25T07:31:34.582Z"
   },
   {
    "duration": 4,
    "start_time": "2023-05-25T07:31:34.596Z"
   },
   {
    "duration": 25,
    "start_time": "2023-05-25T07:31:34.602Z"
   },
   {
    "duration": 30,
    "start_time": "2023-05-25T07:31:34.630Z"
   },
   {
    "duration": 26,
    "start_time": "2023-05-25T07:31:34.662Z"
   },
   {
    "duration": 27,
    "start_time": "2023-05-25T07:31:34.690Z"
   },
   {
    "duration": 31,
    "start_time": "2023-05-25T07:31:34.719Z"
   },
   {
    "duration": 17,
    "start_time": "2023-05-25T07:31:44.718Z"
   },
   {
    "duration": 31,
    "start_time": "2023-05-25T07:32:12.940Z"
   },
   {
    "duration": 21,
    "start_time": "2023-05-25T07:32:28.223Z"
   },
   {
    "duration": 21,
    "start_time": "2023-05-25T07:33:45.748Z"
   },
   {
    "duration": 4,
    "start_time": "2023-05-25T07:38:16.404Z"
   },
   {
    "duration": 4,
    "start_time": "2023-05-25T07:38:24.990Z"
   },
   {
    "duration": 3,
    "start_time": "2023-05-25T07:38:50.206Z"
   },
   {
    "duration": 33,
    "start_time": "2023-05-25T07:42:57.754Z"
   },
   {
    "duration": 0,
    "start_time": "2023-05-25T07:42:57.789Z"
   },
   {
    "duration": 0,
    "start_time": "2023-05-25T07:42:57.791Z"
   },
   {
    "duration": 0,
    "start_time": "2023-05-25T07:42:57.792Z"
   },
   {
    "duration": 0,
    "start_time": "2023-05-25T07:42:57.792Z"
   },
   {
    "duration": 0,
    "start_time": "2023-05-25T07:42:57.793Z"
   },
   {
    "duration": 0,
    "start_time": "2023-05-25T07:42:57.795Z"
   },
   {
    "duration": 0,
    "start_time": "2023-05-25T07:42:57.796Z"
   },
   {
    "duration": 0,
    "start_time": "2023-05-25T07:42:57.797Z"
   },
   {
    "duration": 0,
    "start_time": "2023-05-25T07:42:57.798Z"
   },
   {
    "duration": 0,
    "start_time": "2023-05-25T07:42:57.800Z"
   },
   {
    "duration": 0,
    "start_time": "2023-05-25T07:42:57.801Z"
   },
   {
    "duration": 0,
    "start_time": "2023-05-25T07:42:57.802Z"
   },
   {
    "duration": 0,
    "start_time": "2023-05-25T07:42:57.803Z"
   },
   {
    "duration": 0,
    "start_time": "2023-05-25T07:42:57.804Z"
   },
   {
    "duration": 0,
    "start_time": "2023-05-25T07:42:57.805Z"
   },
   {
    "duration": 0,
    "start_time": "2023-05-25T07:42:57.857Z"
   },
   {
    "duration": 0,
    "start_time": "2023-05-25T07:42:57.858Z"
   },
   {
    "duration": 0,
    "start_time": "2023-05-25T07:42:57.859Z"
   },
   {
    "duration": 13,
    "start_time": "2023-05-25T07:42:57.862Z"
   },
   {
    "duration": 0,
    "start_time": "2023-05-25T07:42:57.876Z"
   },
   {
    "duration": 4,
    "start_time": "2023-05-25T07:45:11.972Z"
   },
   {
    "duration": 3,
    "start_time": "2023-05-25T07:45:16.641Z"
   },
   {
    "duration": 3,
    "start_time": "2023-05-25T07:45:20.976Z"
   },
   {
    "duration": 19,
    "start_time": "2023-05-25T07:46:47.276Z"
   },
   {
    "duration": 20,
    "start_time": "2023-05-25T07:46:54.497Z"
   },
   {
    "duration": 14,
    "start_time": "2023-05-25T07:47:10.649Z"
   },
   {
    "duration": 2,
    "start_time": "2023-05-25T07:47:12.400Z"
   },
   {
    "duration": 4,
    "start_time": "2023-05-25T07:47:15.109Z"
   },
   {
    "duration": 19,
    "start_time": "2023-05-25T07:47:16.704Z"
   },
   {
    "duration": 4,
    "start_time": "2023-05-25T07:47:18.208Z"
   },
   {
    "duration": 4,
    "start_time": "2023-05-25T07:47:57.901Z"
   },
   {
    "duration": 32,
    "start_time": "2023-05-25T07:47:57.907Z"
   },
   {
    "duration": 56,
    "start_time": "2023-05-25T07:47:57.941Z"
   },
   {
    "duration": 13,
    "start_time": "2023-05-25T07:47:57.999Z"
   },
   {
    "duration": 1474,
    "start_time": "2023-05-25T07:47:58.015Z"
   },
   {
    "duration": 40,
    "start_time": "2023-05-25T07:47:59.491Z"
   },
   {
    "duration": 35,
    "start_time": "2023-05-25T07:47:59.532Z"
   },
   {
    "duration": 11,
    "start_time": "2023-05-25T07:47:59.569Z"
   },
   {
    "duration": 5,
    "start_time": "2023-05-25T07:47:59.581Z"
   },
   {
    "duration": 24,
    "start_time": "2023-05-25T07:47:59.588Z"
   },
   {
    "duration": 7,
    "start_time": "2023-05-25T07:47:59.613Z"
   },
   {
    "duration": 6,
    "start_time": "2023-05-25T07:47:59.622Z"
   },
   {
    "duration": 7,
    "start_time": "2023-05-25T07:47:59.657Z"
   },
   {
    "duration": 13,
    "start_time": "2023-05-25T07:48:01.464Z"
   },
   {
    "duration": 3,
    "start_time": "2023-05-25T07:50:13.838Z"
   },
   {
    "duration": 11,
    "start_time": "2023-05-25T07:51:31.219Z"
   },
   {
    "duration": 12,
    "start_time": "2023-05-25T07:51:33.273Z"
   },
   {
    "duration": 38,
    "start_time": "2023-05-25T07:52:35.364Z"
   },
   {
    "duration": 15,
    "start_time": "2023-05-25T07:52:41.097Z"
   },
   {
    "duration": 17,
    "start_time": "2023-05-25T07:53:14.668Z"
   },
   {
    "duration": 3,
    "start_time": "2023-05-25T07:53:14.776Z"
   },
   {
    "duration": 19,
    "start_time": "2023-05-25T07:53:14.852Z"
   },
   {
    "duration": 22,
    "start_time": "2023-05-25T08:14:21.105Z"
   },
   {
    "duration": 16,
    "start_time": "2023-05-25T08:14:39.839Z"
   },
   {
    "duration": 4,
    "start_time": "2023-05-25T08:15:10.934Z"
   },
   {
    "duration": 8,
    "start_time": "2023-05-25T08:15:10.940Z"
   },
   {
    "duration": 60,
    "start_time": "2023-05-25T08:15:10.950Z"
   },
   {
    "duration": 14,
    "start_time": "2023-05-25T08:15:11.012Z"
   },
   {
    "duration": 1371,
    "start_time": "2023-05-25T08:15:11.028Z"
   },
   {
    "duration": 39,
    "start_time": "2023-05-25T08:15:12.401Z"
   },
   {
    "duration": 29,
    "start_time": "2023-05-25T08:15:12.442Z"
   },
   {
    "duration": 10,
    "start_time": "2023-05-25T08:15:12.473Z"
   },
   {
    "duration": 5,
    "start_time": "2023-05-25T08:15:12.484Z"
   },
   {
    "duration": 20,
    "start_time": "2023-05-25T08:15:12.491Z"
   },
   {
    "duration": 6,
    "start_time": "2023-05-25T08:15:12.513Z"
   },
   {
    "duration": 38,
    "start_time": "2023-05-25T08:15:12.520Z"
   },
   {
    "duration": 7,
    "start_time": "2023-05-25T08:15:12.559Z"
   },
   {
    "duration": 21,
    "start_time": "2023-05-25T08:15:12.567Z"
   },
   {
    "duration": 23,
    "start_time": "2023-05-25T08:15:12.590Z"
   },
   {
    "duration": 11,
    "start_time": "2023-05-25T08:15:12.614Z"
   },
   {
    "duration": 180,
    "start_time": "2023-05-25T08:15:12.627Z"
   },
   {
    "duration": 6,
    "start_time": "2023-05-25T08:15:12.808Z"
   },
   {
    "duration": 3,
    "start_time": "2023-05-25T08:15:19.269Z"
   },
   {
    "duration": 6,
    "start_time": "2023-05-25T08:15:19.274Z"
   },
   {
    "duration": 51,
    "start_time": "2023-05-25T08:15:19.282Z"
   },
   {
    "duration": 13,
    "start_time": "2023-05-25T08:15:19.335Z"
   },
   {
    "duration": 1311,
    "start_time": "2023-05-25T08:15:19.350Z"
   },
   {
    "duration": 47,
    "start_time": "2023-05-25T08:15:20.663Z"
   },
   {
    "duration": 22,
    "start_time": "2023-05-25T08:15:20.713Z"
   },
   {
    "duration": 11,
    "start_time": "2023-05-25T08:15:20.757Z"
   },
   {
    "duration": 7,
    "start_time": "2023-05-25T08:15:20.770Z"
   },
   {
    "duration": 47,
    "start_time": "2023-05-25T08:15:20.780Z"
   },
   {
    "duration": 6,
    "start_time": "2023-05-25T08:15:20.829Z"
   },
   {
    "duration": 10,
    "start_time": "2023-05-25T08:15:20.836Z"
   },
   {
    "duration": 18,
    "start_time": "2023-05-25T08:15:20.847Z"
   },
   {
    "duration": 24,
    "start_time": "2023-05-25T08:15:20.867Z"
   },
   {
    "duration": 41,
    "start_time": "2023-05-25T08:15:20.894Z"
   },
   {
    "duration": 18,
    "start_time": "2023-05-25T08:15:20.937Z"
   },
   {
    "duration": 52,
    "start_time": "2023-05-25T08:15:20.957Z"
   },
   {
    "duration": 7,
    "start_time": "2023-05-25T08:15:21.011Z"
   },
   {
    "duration": 64,
    "start_time": "2023-05-25T08:15:21.019Z"
   },
   {
    "duration": 24,
    "start_time": "2023-05-25T08:15:21.085Z"
   },
   {
    "duration": 267,
    "start_time": "2023-05-25T08:15:21.111Z"
   },
   {
    "duration": 708,
    "start_time": "2023-05-25T08:15:21.380Z"
   },
   {
    "duration": 56731,
    "start_time": "2023-05-25T08:15:22.089Z"
   },
   {
    "duration": 5,
    "start_time": "2023-05-25T08:16:18.821Z"
   },
   {
    "duration": 106,
    "start_time": "2023-05-25T08:16:18.828Z"
   },
   {
    "duration": 12,
    "start_time": "2023-05-25T08:16:18.935Z"
   },
   {
    "duration": 95,
    "start_time": "2023-05-25T08:16:18.948Z"
   },
   {
    "duration": 26,
    "start_time": "2023-05-25T08:16:19.056Z"
   },
   {
    "duration": 77445,
    "start_time": "2023-05-25T08:16:19.083Z"
   },
   {
    "duration": 13,
    "start_time": "2023-05-25T08:17:36.529Z"
   },
   {
    "duration": 105,
    "start_time": "2023-05-25T08:17:36.543Z"
   },
   {
    "duration": 14,
    "start_time": "2023-05-25T08:17:36.656Z"
   },
   {
    "duration": 15979,
    "start_time": "2023-05-25T08:17:36.672Z"
   },
   {
    "duration": 482,
    "start_time": "2023-05-25T08:17:52.656Z"
   },
   {
    "duration": 144,
    "start_time": "2023-05-25T08:17:53.140Z"
   },
   {
    "duration": 7,
    "start_time": "2023-05-25T08:17:53.286Z"
   },
   {
    "duration": 4,
    "start_time": "2023-05-25T09:23:01.040Z"
   },
   {
    "duration": 87,
    "start_time": "2023-05-25T09:23:01.046Z"
   },
   {
    "duration": 121,
    "start_time": "2023-05-25T09:23:01.135Z"
   },
   {
    "duration": 13,
    "start_time": "2023-05-25T09:23:01.259Z"
   },
   {
    "duration": 1453,
    "start_time": "2023-05-25T09:23:01.274Z"
   },
   {
    "duration": 56,
    "start_time": "2023-05-25T09:23:02.729Z"
   },
   {
    "duration": 22,
    "start_time": "2023-05-25T09:23:02.786Z"
   },
   {
    "duration": 14,
    "start_time": "2023-05-25T09:23:02.809Z"
   },
   {
    "duration": 6,
    "start_time": "2023-05-25T09:23:02.824Z"
   },
   {
    "duration": 45,
    "start_time": "2023-05-25T09:23:02.832Z"
   },
   {
    "duration": 7,
    "start_time": "2023-05-25T09:23:02.878Z"
   },
   {
    "duration": 8,
    "start_time": "2023-05-25T09:23:02.887Z"
   },
   {
    "duration": 8,
    "start_time": "2023-05-25T09:23:02.897Z"
   },
   {
    "duration": 13,
    "start_time": "2023-05-25T09:23:04.617Z"
   },
   {
    "duration": 6,
    "start_time": "2023-05-25T09:23:14.491Z"
   },
   {
    "duration": 12,
    "start_time": "2023-05-25T09:23:16.231Z"
   },
   {
    "duration": 11,
    "start_time": "2023-05-25T09:23:29.296Z"
   },
   {
    "duration": 16,
    "start_time": "2023-05-25T09:23:34.108Z"
   },
   {
    "duration": 12,
    "start_time": "2023-05-25T09:35:09.157Z"
   },
   {
    "duration": 11,
    "start_time": "2023-05-25T09:35:57.073Z"
   },
   {
    "duration": 8,
    "start_time": "2023-05-25T09:36:03.657Z"
   },
   {
    "duration": 3,
    "start_time": "2023-05-25T09:57:05.232Z"
   },
   {
    "duration": 6,
    "start_time": "2023-05-25T09:57:07.929Z"
   },
   {
    "duration": 6,
    "start_time": "2023-05-25T09:59:40.129Z"
   },
   {
    "duration": 8,
    "start_time": "2023-05-25T10:00:05.429Z"
   },
   {
    "duration": 7,
    "start_time": "2023-05-25T10:00:13.536Z"
   },
   {
    "duration": 10,
    "start_time": "2023-05-25T10:00:16.002Z"
   },
   {
    "duration": 6,
    "start_time": "2023-05-25T10:00:26.824Z"
   },
   {
    "duration": 6,
    "start_time": "2023-05-25T10:00:33.045Z"
   },
   {
    "duration": 10,
    "start_time": "2023-05-25T10:00:33.874Z"
   },
   {
    "duration": 4,
    "start_time": "2023-05-25T10:02:58.840Z"
   },
   {
    "duration": 5,
    "start_time": "2023-05-25T10:03:03.570Z"
   },
   {
    "duration": 5,
    "start_time": "2023-05-25T10:03:34.407Z"
   },
   {
    "duration": 4,
    "start_time": "2023-05-25T10:03:35.212Z"
   },
   {
    "duration": 4,
    "start_time": "2023-05-25T10:03:42.002Z"
   },
   {
    "duration": 5,
    "start_time": "2023-05-25T10:03:43.803Z"
   },
   {
    "duration": 4,
    "start_time": "2023-05-25T10:03:44.317Z"
   },
   {
    "duration": 4,
    "start_time": "2023-05-25T10:06:16.531Z"
   },
   {
    "duration": 4,
    "start_time": "2023-05-25T10:06:18.132Z"
   },
   {
    "duration": 10,
    "start_time": "2023-05-25T10:06:19.258Z"
   },
   {
    "duration": 41,
    "start_time": "2023-05-25T10:07:11.811Z"
   },
   {
    "duration": 5,
    "start_time": "2023-05-25T10:07:16.116Z"
   },
   {
    "duration": 12,
    "start_time": "2023-05-25T10:07:17.711Z"
   },
   {
    "duration": 4,
    "start_time": "2023-05-25T10:07:19.406Z"
   },
   {
    "duration": 10,
    "start_time": "2023-05-25T10:16:31.656Z"
   },
   {
    "duration": 5,
    "start_time": "2023-05-25T10:16:43.778Z"
   },
   {
    "duration": 4,
    "start_time": "2023-05-25T10:18:44.546Z"
   },
   {
    "duration": 18,
    "start_time": "2023-05-25T10:23:56.585Z"
   },
   {
    "duration": 16,
    "start_time": "2023-05-25T10:24:02.164Z"
   },
   {
    "duration": 19,
    "start_time": "2023-05-25T10:24:07.816Z"
   },
   {
    "duration": 31,
    "start_time": "2023-05-25T10:25:49.052Z"
   },
   {
    "duration": 9,
    "start_time": "2023-05-25T10:32:52.195Z"
   },
   {
    "duration": 14,
    "start_time": "2023-05-25T10:37:07.149Z"
   },
   {
    "duration": 15,
    "start_time": "2023-05-25T10:37:12.897Z"
   },
   {
    "duration": 6,
    "start_time": "2023-05-25T10:37:27.825Z"
   },
   {
    "duration": 16,
    "start_time": "2023-05-25T10:37:31.199Z"
   },
   {
    "duration": 20,
    "start_time": "2023-05-25T10:37:48.833Z"
   },
   {
    "duration": 15,
    "start_time": "2023-05-25T10:39:04.268Z"
   },
   {
    "duration": 17,
    "start_time": "2023-05-25T10:39:14.713Z"
   },
   {
    "duration": 6,
    "start_time": "2023-05-25T10:39:18.381Z"
   },
   {
    "duration": 6,
    "start_time": "2023-05-25T10:39:18.390Z"
   },
   {
    "duration": 168,
    "start_time": "2023-05-25T10:39:18.399Z"
   },
   {
    "duration": 16,
    "start_time": "2023-05-25T10:39:18.569Z"
   },
   {
    "duration": 1501,
    "start_time": "2023-05-25T10:39:18.587Z"
   },
   {
    "duration": 70,
    "start_time": "2023-05-25T10:39:20.091Z"
   },
   {
    "duration": 26,
    "start_time": "2023-05-25T10:39:20.163Z"
   },
   {
    "duration": 17,
    "start_time": "2023-05-25T10:39:20.191Z"
   },
   {
    "duration": 5,
    "start_time": "2023-05-25T10:39:20.210Z"
   },
   {
    "duration": 58,
    "start_time": "2023-05-25T10:39:20.218Z"
   },
   {
    "duration": 7,
    "start_time": "2023-05-25T10:39:20.278Z"
   },
   {
    "duration": 8,
    "start_time": "2023-05-25T10:39:20.287Z"
   },
   {
    "duration": 14,
    "start_time": "2023-05-25T10:39:20.297Z"
   },
   {
    "duration": 17,
    "start_time": "2023-05-25T10:39:20.313Z"
   },
   {
    "duration": 3,
    "start_time": "2023-05-25T10:39:20.358Z"
   },
   {
    "duration": 11,
    "start_time": "2023-05-25T10:39:20.363Z"
   },
   {
    "duration": 15,
    "start_time": "2023-05-25T10:39:20.376Z"
   },
   {
    "duration": 11,
    "start_time": "2023-05-25T10:39:20.393Z"
   },
   {
    "duration": 8,
    "start_time": "2023-05-25T10:39:20.407Z"
   },
   {
    "duration": 22,
    "start_time": "2023-05-25T10:39:20.417Z"
   },
   {
    "duration": 32,
    "start_time": "2023-05-25T10:39:23.079Z"
   },
   {
    "duration": 25,
    "start_time": "2023-05-25T10:41:00.112Z"
   },
   {
    "duration": 31,
    "start_time": "2023-05-25T10:45:49.575Z"
   },
   {
    "duration": 35,
    "start_time": "2023-05-25T10:45:56.194Z"
   },
   {
    "duration": 5,
    "start_time": "2023-05-25T10:46:03.833Z"
   },
   {
    "duration": 14,
    "start_time": "2023-05-25T10:46:03.840Z"
   },
   {
    "duration": 51,
    "start_time": "2023-05-25T10:46:03.856Z"
   },
   {
    "duration": 13,
    "start_time": "2023-05-25T10:46:03.909Z"
   },
   {
    "duration": 1576,
    "start_time": "2023-05-25T10:46:03.924Z"
   },
   {
    "duration": 45,
    "start_time": "2023-05-25T10:46:05.502Z"
   },
   {
    "duration": 24,
    "start_time": "2023-05-25T10:46:05.558Z"
   },
   {
    "duration": 14,
    "start_time": "2023-05-25T10:46:05.585Z"
   },
   {
    "duration": 16,
    "start_time": "2023-05-25T10:46:05.601Z"
   },
   {
    "duration": 43,
    "start_time": "2023-05-25T10:46:05.621Z"
   },
   {
    "duration": 26,
    "start_time": "2023-05-25T10:46:05.666Z"
   },
   {
    "duration": 6,
    "start_time": "2023-05-25T10:46:05.694Z"
   },
   {
    "duration": 26,
    "start_time": "2023-05-25T10:46:05.701Z"
   },
   {
    "duration": 37,
    "start_time": "2023-05-25T10:46:05.729Z"
   },
   {
    "duration": 19,
    "start_time": "2023-05-25T10:46:05.767Z"
   },
   {
    "duration": 16,
    "start_time": "2023-05-25T10:46:05.788Z"
   },
   {
    "duration": 13,
    "start_time": "2023-05-25T10:46:05.806Z"
   },
   {
    "duration": 16,
    "start_time": "2023-05-25T10:46:05.821Z"
   },
   {
    "duration": 22,
    "start_time": "2023-05-25T10:46:05.839Z"
   },
   {
    "duration": 96,
    "start_time": "2023-05-25T10:46:05.863Z"
   },
   {
    "duration": 26,
    "start_time": "2023-05-25T10:46:12.060Z"
   },
   {
    "duration": 26,
    "start_time": "2023-05-25T10:46:15.783Z"
   },
   {
    "duration": 34,
    "start_time": "2023-05-25T10:46:20.104Z"
   },
   {
    "duration": 6,
    "start_time": "2023-05-25T10:46:24.016Z"
   },
   {
    "duration": 6,
    "start_time": "2023-05-25T10:46:24.025Z"
   },
   {
    "duration": 57,
    "start_time": "2023-05-25T10:46:24.033Z"
   },
   {
    "duration": 21,
    "start_time": "2023-05-25T10:46:24.092Z"
   },
   {
    "duration": 1691,
    "start_time": "2023-05-25T10:46:24.116Z"
   },
   {
    "duration": 66,
    "start_time": "2023-05-25T10:46:25.808Z"
   },
   {
    "duration": 29,
    "start_time": "2023-05-25T10:46:25.876Z"
   },
   {
    "duration": 13,
    "start_time": "2023-05-25T10:46:25.907Z"
   },
   {
    "duration": 6,
    "start_time": "2023-05-25T10:46:25.922Z"
   },
   {
    "duration": 56,
    "start_time": "2023-05-25T10:46:25.929Z"
   },
   {
    "duration": 8,
    "start_time": "2023-05-25T10:46:25.987Z"
   },
   {
    "duration": 6,
    "start_time": "2023-05-25T10:46:25.997Z"
   },
   {
    "duration": 9,
    "start_time": "2023-05-25T10:46:26.004Z"
   },
   {
    "duration": 47,
    "start_time": "2023-05-25T10:46:26.015Z"
   },
   {
    "duration": 5,
    "start_time": "2023-05-25T10:46:26.064Z"
   },
   {
    "duration": 5,
    "start_time": "2023-05-25T10:46:26.071Z"
   },
   {
    "duration": 10,
    "start_time": "2023-05-25T10:46:26.078Z"
   },
   {
    "duration": 11,
    "start_time": "2023-05-25T10:46:26.090Z"
   },
   {
    "duration": 8,
    "start_time": "2023-05-25T10:46:26.104Z"
   },
   {
    "duration": 49,
    "start_time": "2023-05-25T10:46:26.114Z"
   },
   {
    "duration": 25,
    "start_time": "2023-05-25T10:46:28.642Z"
   },
   {
    "duration": 37,
    "start_time": "2023-05-25T10:46:30.584Z"
   },
   {
    "duration": 14,
    "start_time": "2023-05-25T10:50:17.525Z"
   },
   {
    "duration": 34,
    "start_time": "2023-05-25T10:52:44.260Z"
   },
   {
    "duration": 31,
    "start_time": "2023-05-25T10:52:50.219Z"
   },
   {
    "duration": 4,
    "start_time": "2023-05-25T10:52:59.648Z"
   },
   {
    "duration": 10,
    "start_time": "2023-05-25T10:52:59.654Z"
   },
   {
    "duration": 53,
    "start_time": "2023-05-25T10:52:59.666Z"
   },
   {
    "duration": 12,
    "start_time": "2023-05-25T10:52:59.721Z"
   },
   {
    "duration": 1647,
    "start_time": "2023-05-25T10:52:59.735Z"
   },
   {
    "duration": 43,
    "start_time": "2023-05-25T10:53:01.384Z"
   },
   {
    "duration": 58,
    "start_time": "2023-05-25T10:53:01.429Z"
   },
   {
    "duration": 83,
    "start_time": "2023-05-25T10:53:01.489Z"
   },
   {
    "duration": 79,
    "start_time": "2023-05-25T10:53:01.574Z"
   },
   {
    "duration": 115,
    "start_time": "2023-05-25T10:53:01.656Z"
   },
   {
    "duration": 70,
    "start_time": "2023-05-25T10:53:01.773Z"
   },
   {
    "duration": 74,
    "start_time": "2023-05-25T10:53:01.845Z"
   },
   {
    "duration": 119,
    "start_time": "2023-05-25T10:53:01.920Z"
   },
   {
    "duration": 118,
    "start_time": "2023-05-25T10:53:02.041Z"
   },
   {
    "duration": 60,
    "start_time": "2023-05-25T10:53:02.162Z"
   },
   {
    "duration": 54,
    "start_time": "2023-05-25T10:53:02.225Z"
   },
   {
    "duration": 53,
    "start_time": "2023-05-25T10:53:02.282Z"
   },
   {
    "duration": 59,
    "start_time": "2023-05-25T10:53:02.337Z"
   },
   {
    "duration": 42,
    "start_time": "2023-05-25T10:53:02.398Z"
   },
   {
    "duration": 66,
    "start_time": "2023-05-25T10:53:02.442Z"
   },
   {
    "duration": 22,
    "start_time": "2023-05-25T10:53:09.231Z"
   },
   {
    "duration": 30,
    "start_time": "2023-05-25T10:53:12.244Z"
   },
   {
    "duration": 31,
    "start_time": "2023-05-25T10:54:33.535Z"
   },
   {
    "duration": 4,
    "start_time": "2023-05-25T10:54:36.816Z"
   },
   {
    "duration": 18,
    "start_time": "2023-05-25T10:54:36.823Z"
   },
   {
    "duration": 65,
    "start_time": "2023-05-25T10:54:36.843Z"
   },
   {
    "duration": 19,
    "start_time": "2023-05-25T10:54:36.911Z"
   },
   {
    "duration": 1491,
    "start_time": "2023-05-25T10:54:36.932Z"
   },
   {
    "duration": 42,
    "start_time": "2023-05-25T10:54:38.424Z"
   },
   {
    "duration": 17,
    "start_time": "2023-05-25T10:54:38.468Z"
   },
   {
    "duration": 21,
    "start_time": "2023-05-25T10:54:38.487Z"
   },
   {
    "duration": 5,
    "start_time": "2023-05-25T10:54:38.510Z"
   },
   {
    "duration": 48,
    "start_time": "2023-05-25T10:54:38.517Z"
   },
   {
    "duration": 7,
    "start_time": "2023-05-25T10:54:38.567Z"
   },
   {
    "duration": 24,
    "start_time": "2023-05-25T10:54:38.576Z"
   },
   {
    "duration": 22,
    "start_time": "2023-05-25T10:54:38.602Z"
   },
   {
    "duration": 33,
    "start_time": "2023-05-25T10:54:38.625Z"
   },
   {
    "duration": 25,
    "start_time": "2023-05-25T10:54:38.660Z"
   },
   {
    "duration": 16,
    "start_time": "2023-05-25T10:54:38.686Z"
   },
   {
    "duration": 10,
    "start_time": "2023-05-25T10:54:38.704Z"
   },
   {
    "duration": 20,
    "start_time": "2023-05-25T10:54:38.716Z"
   },
   {
    "duration": 32,
    "start_time": "2023-05-25T10:54:38.738Z"
   },
   {
    "duration": 52,
    "start_time": "2023-05-25T10:54:38.772Z"
   },
   {
    "duration": 21,
    "start_time": "2023-05-25T10:54:43.660Z"
   },
   {
    "duration": 17,
    "start_time": "2023-05-25T10:54:53.426Z"
   },
   {
    "duration": 23,
    "start_time": "2023-05-25T10:54:57.835Z"
   },
   {
    "duration": 4,
    "start_time": "2023-05-25T10:55:47.996Z"
   },
   {
    "duration": 10,
    "start_time": "2023-05-25T10:55:48.002Z"
   },
   {
    "duration": 55,
    "start_time": "2023-05-25T10:55:48.013Z"
   },
   {
    "duration": 14,
    "start_time": "2023-05-25T10:55:48.070Z"
   },
   {
    "duration": 1499,
    "start_time": "2023-05-25T10:55:48.086Z"
   },
   {
    "duration": 42,
    "start_time": "2023-05-25T10:55:49.587Z"
   },
   {
    "duration": 36,
    "start_time": "2023-05-25T10:55:49.630Z"
   },
   {
    "duration": 10,
    "start_time": "2023-05-25T10:55:49.668Z"
   },
   {
    "duration": 5,
    "start_time": "2023-05-25T10:55:49.679Z"
   },
   {
    "duration": 18,
    "start_time": "2023-05-25T10:55:49.686Z"
   },
   {
    "duration": 6,
    "start_time": "2023-05-25T10:55:49.706Z"
   },
   {
    "duration": 6,
    "start_time": "2023-05-25T10:55:49.713Z"
   },
   {
    "duration": 38,
    "start_time": "2023-05-25T10:55:49.720Z"
   },
   {
    "duration": 13,
    "start_time": "2023-05-25T10:55:49.759Z"
   },
   {
    "duration": 1,
    "start_time": "2023-05-25T10:55:49.774Z"
   },
   {
    "duration": 5,
    "start_time": "2023-05-25T10:55:49.777Z"
   },
   {
    "duration": 17,
    "start_time": "2023-05-25T10:55:49.783Z"
   },
   {
    "duration": 16,
    "start_time": "2023-05-25T10:55:49.801Z"
   },
   {
    "duration": 12,
    "start_time": "2023-05-25T10:55:49.818Z"
   },
   {
    "duration": 27,
    "start_time": "2023-05-25T10:55:49.831Z"
   },
   {
    "duration": 19,
    "start_time": "2023-05-25T10:55:52.042Z"
   },
   {
    "duration": 4,
    "start_time": "2023-05-25T10:56:04.180Z"
   },
   {
    "duration": 20,
    "start_time": "2023-05-25T10:56:04.186Z"
   },
   {
    "duration": 52,
    "start_time": "2023-05-25T10:56:04.208Z"
   },
   {
    "duration": 13,
    "start_time": "2023-05-25T10:56:04.263Z"
   },
   {
    "duration": 1440,
    "start_time": "2023-05-25T10:56:04.278Z"
   },
   {
    "duration": 54,
    "start_time": "2023-05-25T10:56:05.720Z"
   },
   {
    "duration": 18,
    "start_time": "2023-05-25T10:56:05.775Z"
   },
   {
    "duration": 30,
    "start_time": "2023-05-25T10:56:05.795Z"
   },
   {
    "duration": 5,
    "start_time": "2023-05-25T10:56:05.827Z"
   },
   {
    "duration": 63,
    "start_time": "2023-05-25T10:56:05.834Z"
   },
   {
    "duration": 7,
    "start_time": "2023-05-25T10:56:05.899Z"
   },
   {
    "duration": 31,
    "start_time": "2023-05-25T10:56:05.907Z"
   },
   {
    "duration": 22,
    "start_time": "2023-05-25T10:56:05.939Z"
   },
   {
    "duration": 27,
    "start_time": "2023-05-25T10:56:05.963Z"
   },
   {
    "duration": 10,
    "start_time": "2023-05-25T10:56:05.991Z"
   },
   {
    "duration": 6,
    "start_time": "2023-05-25T10:56:06.003Z"
   },
   {
    "duration": 10,
    "start_time": "2023-05-25T10:56:06.011Z"
   },
   {
    "duration": 12,
    "start_time": "2023-05-25T10:56:06.022Z"
   },
   {
    "duration": 7,
    "start_time": "2023-05-25T10:56:06.035Z"
   },
   {
    "duration": 23,
    "start_time": "2023-05-25T10:56:06.043Z"
   },
   {
    "duration": 11,
    "start_time": "2023-05-25T10:56:07.906Z"
   },
   {
    "duration": 17,
    "start_time": "2023-05-25T10:56:13.078Z"
   },
   {
    "duration": 3,
    "start_time": "2023-05-25T11:19:24.338Z"
   },
   {
    "duration": 4,
    "start_time": "2023-05-25T11:19:30.234Z"
   },
   {
    "duration": 13,
    "start_time": "2023-05-25T11:19:44.951Z"
   },
   {
    "duration": 20,
    "start_time": "2023-05-25T11:19:48.676Z"
   },
   {
    "duration": 20,
    "start_time": "2023-05-25T11:22:50.062Z"
   },
   {
    "duration": 13,
    "start_time": "2023-05-25T11:23:22.845Z"
   },
   {
    "duration": 25,
    "start_time": "2023-05-25T11:23:34.920Z"
   },
   {
    "duration": 4,
    "start_time": "2023-05-25T11:23:42.100Z"
   },
   {
    "duration": 8,
    "start_time": "2023-05-25T11:23:42.106Z"
   },
   {
    "duration": 55,
    "start_time": "2023-05-25T11:23:42.116Z"
   },
   {
    "duration": 12,
    "start_time": "2023-05-25T11:23:42.173Z"
   },
   {
    "duration": 1554,
    "start_time": "2023-05-25T11:23:42.187Z"
   },
   {
    "duration": 51,
    "start_time": "2023-05-25T11:23:43.742Z"
   },
   {
    "duration": 20,
    "start_time": "2023-05-25T11:23:43.794Z"
   },
   {
    "duration": 11,
    "start_time": "2023-05-25T11:23:43.816Z"
   },
   {
    "duration": 6,
    "start_time": "2023-05-25T11:23:43.857Z"
   },
   {
    "duration": 45,
    "start_time": "2023-05-25T11:23:43.864Z"
   },
   {
    "duration": 13,
    "start_time": "2023-05-25T11:23:43.911Z"
   },
   {
    "duration": 11,
    "start_time": "2023-05-25T11:23:43.926Z"
   },
   {
    "duration": 20,
    "start_time": "2023-05-25T11:23:43.939Z"
   },
   {
    "duration": 35,
    "start_time": "2023-05-25T11:23:43.961Z"
   },
   {
    "duration": 45,
    "start_time": "2023-05-25T11:23:43.999Z"
   },
   {
    "duration": 29,
    "start_time": "2023-05-25T11:23:44.046Z"
   },
   {
    "duration": 22,
    "start_time": "2023-05-25T11:23:44.078Z"
   },
   {
    "duration": 16,
    "start_time": "2023-05-25T11:23:44.103Z"
   },
   {
    "duration": 9,
    "start_time": "2023-05-25T11:23:44.121Z"
   },
   {
    "duration": 16,
    "start_time": "2023-05-25T11:23:44.132Z"
   },
   {
    "duration": 26,
    "start_time": "2023-05-25T11:23:44.149Z"
   },
   {
    "duration": 22,
    "start_time": "2023-05-25T11:23:44.177Z"
   },
   {
    "duration": 24,
    "start_time": "2023-05-25T11:23:44.201Z"
   },
   {
    "duration": 27,
    "start_time": "2023-05-25T11:24:01.859Z"
   },
   {
    "duration": 13,
    "start_time": "2023-05-25T11:25:17.547Z"
   },
   {
    "duration": 13,
    "start_time": "2023-05-25T11:25:19.154Z"
   },
   {
    "duration": 14,
    "start_time": "2023-05-25T11:29:52.169Z"
   },
   {
    "duration": 14,
    "start_time": "2023-05-25T11:30:31.988Z"
   },
   {
    "duration": 15,
    "start_time": "2023-05-25T11:30:34.685Z"
   },
   {
    "duration": 9,
    "start_time": "2023-05-25T11:32:24.378Z"
   },
   {
    "duration": 26,
    "start_time": "2023-05-25T11:33:56.078Z"
   },
   {
    "duration": 22,
    "start_time": "2023-05-25T11:35:14.504Z"
   },
   {
    "duration": 18,
    "start_time": "2023-05-25T11:35:19.197Z"
   },
   {
    "duration": 18,
    "start_time": "2023-05-25T11:35:21.708Z"
   },
   {
    "duration": 21,
    "start_time": "2023-05-25T11:35:23.949Z"
   },
   {
    "duration": 21,
    "start_time": "2023-05-25T11:35:25.352Z"
   },
   {
    "duration": 19,
    "start_time": "2023-05-25T11:35:27.924Z"
   },
   {
    "duration": 19,
    "start_time": "2023-05-25T11:35:29.416Z"
   },
   {
    "duration": 21,
    "start_time": "2023-05-25T11:36:10.666Z"
   },
   {
    "duration": 4,
    "start_time": "2023-05-25T11:36:19.600Z"
   },
   {
    "duration": 10,
    "start_time": "2023-05-25T11:36:19.606Z"
   },
   {
    "duration": 76,
    "start_time": "2023-05-25T11:36:19.618Z"
   },
   {
    "duration": 12,
    "start_time": "2023-05-25T11:36:19.695Z"
   },
   {
    "duration": 1332,
    "start_time": "2023-05-25T11:36:19.709Z"
   },
   {
    "duration": 49,
    "start_time": "2023-05-25T11:36:21.043Z"
   },
   {
    "duration": 19,
    "start_time": "2023-05-25T11:36:21.093Z"
   },
   {
    "duration": 13,
    "start_time": "2023-05-25T11:36:21.114Z"
   },
   {
    "duration": 34,
    "start_time": "2023-05-25T11:36:21.129Z"
   },
   {
    "duration": 31,
    "start_time": "2023-05-25T11:36:21.166Z"
   },
   {
    "duration": 9,
    "start_time": "2023-05-25T11:36:21.199Z"
   },
   {
    "duration": 17,
    "start_time": "2023-05-25T11:36:21.210Z"
   },
   {
    "duration": 30,
    "start_time": "2023-05-25T11:36:21.229Z"
   },
   {
    "duration": 19,
    "start_time": "2023-05-25T11:36:21.261Z"
   },
   {
    "duration": 4,
    "start_time": "2023-05-25T11:36:21.282Z"
   },
   {
    "duration": 32,
    "start_time": "2023-05-25T11:36:21.288Z"
   },
   {
    "duration": 17,
    "start_time": "2023-05-25T11:36:21.322Z"
   },
   {
    "duration": 15,
    "start_time": "2023-05-25T11:36:21.340Z"
   },
   {
    "duration": 6,
    "start_time": "2023-05-25T11:36:21.356Z"
   },
   {
    "duration": 26,
    "start_time": "2023-05-25T11:36:21.364Z"
   },
   {
    "duration": 16,
    "start_time": "2023-05-25T11:36:21.391Z"
   },
   {
    "duration": 16,
    "start_time": "2023-05-25T11:36:21.409Z"
   },
   {
    "duration": 18,
    "start_time": "2023-05-25T11:36:21.427Z"
   },
   {
    "duration": 27,
    "start_time": "2023-05-25T11:36:21.446Z"
   },
   {
    "duration": 9,
    "start_time": "2023-05-25T11:36:21.475Z"
   },
   {
    "duration": 23,
    "start_time": "2023-05-25T11:36:21.486Z"
   },
   {
    "duration": 47,
    "start_time": "2023-05-25T11:36:21.511Z"
   },
   {
    "duration": 23,
    "start_time": "2023-05-25T11:36:29.878Z"
   },
   {
    "duration": 55,
    "start_time": "2023-05-25T11:36:55.402Z"
   },
   {
    "duration": 223,
    "start_time": "2023-05-25T11:36:55.459Z"
   },
   {
    "duration": 777,
    "start_time": "2023-05-25T11:36:55.684Z"
   },
   {
    "duration": 57988,
    "start_time": "2023-05-25T11:36:56.463Z"
   },
   {
    "duration": 6,
    "start_time": "2023-05-25T11:37:54.456Z"
   },
   {
    "duration": 130,
    "start_time": "2023-05-25T11:37:54.464Z"
   },
   {
    "duration": 16,
    "start_time": "2023-05-25T11:37:54.597Z"
   },
   {
    "duration": 126,
    "start_time": "2023-05-25T11:37:54.616Z"
   },
   {
    "duration": 36,
    "start_time": "2023-05-25T11:37:54.744Z"
   },
   {
    "duration": 79328,
    "start_time": "2023-05-25T11:37:54.783Z"
   },
   {
    "duration": 17,
    "start_time": "2023-05-25T11:39:14.113Z"
   },
   {
    "duration": 127,
    "start_time": "2023-05-25T11:39:14.132Z"
   },
   {
    "duration": 16,
    "start_time": "2023-05-25T11:39:14.262Z"
   },
   {
    "duration": 16867,
    "start_time": "2023-05-25T11:39:14.282Z"
   },
   {
    "duration": 548,
    "start_time": "2023-05-25T11:39:31.150Z"
   },
   {
    "duration": 183,
    "start_time": "2023-05-25T11:39:31.700Z"
   },
   {
    "duration": 8,
    "start_time": "2023-05-25T11:39:31.884Z"
   },
   {
    "duration": 6,
    "start_time": "2023-05-25T11:44:13.478Z"
   },
   {
    "duration": 94,
    "start_time": "2023-05-25T11:48:29.463Z"
   },
   {
    "duration": 29,
    "start_time": "2023-05-25T11:48:49.289Z"
   },
   {
    "duration": 27,
    "start_time": "2023-05-25T11:50:25.079Z"
   },
   {
    "duration": 741,
    "start_time": "2023-05-25T11:50:33.083Z"
   },
   {
    "duration": 790,
    "start_time": "2023-05-25T11:53:46.302Z"
   },
   {
    "duration": 61535,
    "start_time": "2023-05-25T11:54:06.282Z"
   },
   {
    "duration": 67,
    "start_time": "2023-05-25T11:55:27.690Z"
   },
   {
    "duration": 24,
    "start_time": "2023-05-25T11:57:47.716Z"
   },
   {
    "duration": 80291,
    "start_time": "2023-05-25T11:59:11.751Z"
   },
   {
    "duration": 16454,
    "start_time": "2023-05-25T12:00:32.044Z"
   },
   {
    "duration": 209,
    "start_time": "2023-05-26T05:12:23.383Z"
   },
   {
    "duration": 1663,
    "start_time": "2023-05-28T16:14:51.593Z"
   },
   {
    "duration": 3,
    "start_time": "2023-05-28T16:14:53.258Z"
   },
   {
    "duration": 123,
    "start_time": "2023-05-28T16:14:53.263Z"
   },
   {
    "duration": 25,
    "start_time": "2023-05-28T16:14:53.389Z"
   },
   {
    "duration": 1523,
    "start_time": "2023-05-28T16:14:53.417Z"
   },
   {
    "duration": 43,
    "start_time": "2023-05-28T16:14:54.942Z"
   },
   {
    "duration": 20,
    "start_time": "2023-05-28T16:14:54.987Z"
   },
   {
    "duration": 38,
    "start_time": "2023-05-28T16:14:55.008Z"
   },
   {
    "duration": 5,
    "start_time": "2023-05-28T16:14:55.048Z"
   },
   {
    "duration": 36,
    "start_time": "2023-05-28T16:14:55.056Z"
   },
   {
    "duration": 8,
    "start_time": "2023-05-28T16:14:55.093Z"
   },
   {
    "duration": 40,
    "start_time": "2023-05-28T16:14:55.102Z"
   },
   {
    "duration": 22,
    "start_time": "2023-05-28T16:14:55.144Z"
   },
   {
    "duration": 22,
    "start_time": "2023-05-28T16:14:55.167Z"
   },
   {
    "duration": 17,
    "start_time": "2023-05-28T16:14:55.191Z"
   },
   {
    "duration": 11,
    "start_time": "2023-05-28T16:14:55.209Z"
   },
   {
    "duration": 11,
    "start_time": "2023-05-28T16:14:55.222Z"
   },
   {
    "duration": 31,
    "start_time": "2023-05-28T16:14:55.234Z"
   },
   {
    "duration": 23,
    "start_time": "2023-05-28T16:14:55.267Z"
   },
   {
    "duration": 21,
    "start_time": "2023-05-28T16:14:55.292Z"
   },
   {
    "duration": 26,
    "start_time": "2023-05-28T16:14:55.314Z"
   },
   {
    "duration": 18,
    "start_time": "2023-05-28T16:14:55.341Z"
   },
   {
    "duration": 20,
    "start_time": "2023-05-28T16:14:55.360Z"
   },
   {
    "duration": 24,
    "start_time": "2023-05-28T16:14:55.382Z"
   },
   {
    "duration": 18,
    "start_time": "2023-05-28T16:14:55.407Z"
   },
   {
    "duration": 48,
    "start_time": "2023-05-28T16:14:55.427Z"
   },
   {
    "duration": 24,
    "start_time": "2023-05-28T16:14:55.477Z"
   },
   {
    "duration": 46,
    "start_time": "2023-05-28T16:14:55.505Z"
   },
   {
    "duration": 36,
    "start_time": "2023-05-28T16:14:57.333Z"
   }
  ],
  "kernelspec": {
   "display_name": "Python 3 (ipykernel)",
   "language": "python",
   "name": "python3"
  },
  "language_info": {
   "codemirror_mode": {
    "name": "ipython",
    "version": 3
   },
   "file_extension": ".py",
   "mimetype": "text/x-python",
   "name": "python",
   "nbconvert_exporter": "python",
   "pygments_lexer": "ipython3",
   "version": "3.9.15"
  },
  "toc": {
   "base_numbering": 1,
   "nav_menu": {},
   "number_sections": true,
   "sideBar": true,
   "skip_h1_title": true,
   "title_cell": "Содержание",
   "title_sidebar": "Contents",
   "toc_cell": true,
   "toc_position": {
    "height": "calc(100% - 180px)",
    "left": "10px",
    "top": "150px",
    "width": "248.352px"
   },
   "toc_section_display": true,
   "toc_window_display": false
  }
 },
 "nbformat": 4,
 "nbformat_minor": 2
}
